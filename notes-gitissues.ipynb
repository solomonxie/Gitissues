{
 "cells": [
  {
   "cell_type": "code",
   "execution_count": null,
   "metadata": {
    "collapsed": true
   },
   "outputs": [],
   "source": []
  },
  {
   "cell_type": "code",
   "execution_count": null,
   "metadata": {
    "collapsed": true
   },
   "outputs": [],
   "source": []
  },
  {
   "cell_type": "code",
   "execution_count": null,
   "metadata": {
    "collapsed": true
   },
   "outputs": [],
   "source": []
  },
  {
   "cell_type": "markdown",
   "metadata": {},
   "source": [
    "# 测试读取外部json并转化为Object对象"
   ]
  },
  {
   "cell_type": "code",
   "execution_count": 1,
   "metadata": {
    "collapsed": true
   },
   "outputs": [],
   "source": [
    "#!/usr/bin/env python\n",
    "# -*- coding: utf-8 -*-\n",
    "\n",
    "import requests, json\n",
    "\n",
    "url = 'https://api.github.com/repos/solomonxie/gitissues/issues'\n",
    "\n",
    "r = requests.get( url )\n",
    "\n",
    "issues = json.loads(r.content)\n"
   ]
  },
  {
   "cell_type": "code",
   "execution_count": 2,
   "metadata": {
    "collapsed": true
   },
   "outputs": [
    {
     "data": {
      "text/plain": [
       "[{u'assignee': None,\n",
       "  u'assignees': [],\n",
       "  u'author_association': u'OWNER',\n",
       "  u'body': u'# Using variables inside Postman and Collection Runner\\r\\nPosted on 20 Feb, 2014Author abhinav\\r\\nVariables are among the most powerful features in Postman. Using variables in your Postman requests, eliminates the need to duplicate requests, which can save a lot of time!\\r\\n\\r\\n',\n",
       "  u'closed_at': None,\n",
       "  u'comments': 3,\n",
       "  u'comments_url': u'https://api.github.com/repos/solomonxie/gitissues/issues/3/comments',\n",
       "  u'created_at': u'2018-02-06T09:31:28Z',\n",
       "  u'events_url': u'https://api.github.com/repos/solomonxie/gitissues/issues/3/events',\n",
       "  u'html_url': u'https://github.com/solomonxie/gitissues/issues/3',\n",
       "  u'id': 294688108,\n",
       "  u'labels': [],\n",
       "  u'labels_url': u'https://api.github.com/repos/solomonxie/gitissues/issues/3/labels{/name}',\n",
       "  u'locked': False,\n",
       "  u'milestone': None,\n",
       "  u'number': 3,\n",
       "  u'repository_url': u'https://api.github.com/repos/solomonxie/gitissues',\n",
       "  u'state': u'open',\n",
       "  u'title': u'testing issue 2',\n",
       "  u'updated_at': u'2018-02-06T09:32:23Z',\n",
       "  u'url': u'https://api.github.com/repos/solomonxie/gitissues/issues/3',\n",
       "  u'user': {u'avatar_url': u'https://avatars2.githubusercontent.com/u/14041622?v=4',\n",
       "   u'events_url': u'https://api.github.com/users/solomonxie/events{/privacy}',\n",
       "   u'followers_url': u'https://api.github.com/users/solomonxie/followers',\n",
       "   u'following_url': u'https://api.github.com/users/solomonxie/following{/other_user}',\n",
       "   u'gists_url': u'https://api.github.com/users/solomonxie/gists{/gist_id}',\n",
       "   u'gravatar_id': u'',\n",
       "   u'html_url': u'https://github.com/solomonxie',\n",
       "   u'id': 14041622,\n",
       "   u'login': u'solomonxie',\n",
       "   u'organizations_url': u'https://api.github.com/users/solomonxie/orgs',\n",
       "   u'received_events_url': u'https://api.github.com/users/solomonxie/received_events',\n",
       "   u'repos_url': u'https://api.github.com/users/solomonxie/repos',\n",
       "   u'site_admin': False,\n",
       "   u'starred_url': u'https://api.github.com/users/solomonxie/starred{/owner}{/repo}',\n",
       "   u'subscriptions_url': u'https://api.github.com/users/solomonxie/subscriptions',\n",
       "   u'type': u'User',\n",
       "   u'url': u'https://api.github.com/users/solomonxie'}},\n",
       " {u'assignee': None,\n",
       "  u'assignees': [],\n",
       "  u'author_association': u'OWNER',\n",
       "  u'body': u'# 10 tips for working with Postman variables\\r\\n\\r\\n\\r\\nVariables are a fundamental concept in programming, and in Postman, they can be your best friend. Instead of painstakingly updating individual values, use variables to cascade changes effortlessly through the rest of your code. If you\\u2019re not already using variables in Postman, get ready to have your mind blown.\\r\\n\\r\\n![image](https://user-images.githubusercontent.com/14041622/35851588-70ef05f6-0b63-11e8-9b9e-ffc0b3db7af5.png)\\r\\n',\n",
       "  u'closed_at': None,\n",
       "  u'comments': 2,\n",
       "  u'comments_url': u'https://api.github.com/repos/solomonxie/gitissues/issues/2/comments',\n",
       "  u'created_at': u'2018-02-06T09:30:46Z',\n",
       "  u'events_url': u'https://api.github.com/repos/solomonxie/gitissues/issues/2/events',\n",
       "  u'html_url': u'https://github.com/solomonxie/gitissues/issues/2',\n",
       "  u'id': 294687892,\n",
       "  u'labels': [],\n",
       "  u'labels_url': u'https://api.github.com/repos/solomonxie/gitissues/issues/2/labels{/name}',\n",
       "  u'locked': False,\n",
       "  u'milestone': None,\n",
       "  u'number': 2,\n",
       "  u'repository_url': u'https://api.github.com/repos/solomonxie/gitissues',\n",
       "  u'state': u'open',\n",
       "  u'title': u'testing issue 1',\n",
       "  u'updated_at': u'2018-02-06T09:31:07Z',\n",
       "  u'url': u'https://api.github.com/repos/solomonxie/gitissues/issues/2',\n",
       "  u'user': {u'avatar_url': u'https://avatars2.githubusercontent.com/u/14041622?v=4',\n",
       "   u'events_url': u'https://api.github.com/users/solomonxie/events{/privacy}',\n",
       "   u'followers_url': u'https://api.github.com/users/solomonxie/followers',\n",
       "   u'following_url': u'https://api.github.com/users/solomonxie/following{/other_user}',\n",
       "   u'gists_url': u'https://api.github.com/users/solomonxie/gists{/gist_id}',\n",
       "   u'gravatar_id': u'',\n",
       "   u'html_url': u'https://github.com/solomonxie',\n",
       "   u'id': 14041622,\n",
       "   u'login': u'solomonxie',\n",
       "   u'organizations_url': u'https://api.github.com/users/solomonxie/orgs',\n",
       "   u'received_events_url': u'https://api.github.com/users/solomonxie/received_events',\n",
       "   u'repos_url': u'https://api.github.com/users/solomonxie/repos',\n",
       "   u'site_admin': False,\n",
       "   u'starred_url': u'https://api.github.com/users/solomonxie/starred{/owner}{/repo}',\n",
       "   u'subscriptions_url': u'https://api.github.com/users/solomonxie/subscriptions',\n",
       "   u'type': u'User',\n",
       "   u'url': u'https://api.github.com/users/solomonxie'}},\n",
       " {u'assignee': None,\n",
       "  u'assignees': [],\n",
       "  u'author_association': u'OWNER',\n",
       "  u'body': u'- [x] \\u5229\\u7528insomia\\u6216postman\\u6d4b\\u8bd5github api\\u53ef\\u884c\\u6027\\r\\n- [ ] \\u8bbe\\u8ba1issues\\u548crepo\\u7684\\u6620\\u5c04\\u65b9\\u6848\\r\\n- [ ] \\u8bbe\\u8ba1python\\u4f2a\\u4ee3\\u7801\\uff1a\\u6293\\u53d6issues\\u7684json\\u6570\\u636e\\u4fdd\\u5b58\\u4e3a\\u672c\\u5730md',\n",
       "  u'closed_at': None,\n",
       "  u'comments': 1,\n",
       "  u'comments_url': u'https://api.github.com/repos/solomonxie/gitissues/issues/1/comments',\n",
       "  u'created_at': u'2018-02-06T07:47:56Z',\n",
       "  u'events_url': u'https://api.github.com/repos/solomonxie/gitissues/issues/1/events',\n",
       "  u'html_url': u'https://github.com/solomonxie/gitissues/issues/1',\n",
       "  u'id': 294661555,\n",
       "  u'labels': [],\n",
       "  u'labels_url': u'https://api.github.com/repos/solomonxie/gitissues/issues/1/labels{/name}',\n",
       "  u'locked': False,\n",
       "  u'milestone': None,\n",
       "  u'number': 1,\n",
       "  u'repository_url': u'https://api.github.com/repos/solomonxie/gitissues',\n",
       "  u'state': u'open',\n",
       "  u'title': u'TO-DO List',\n",
       "  u'updated_at': u'2018-02-06T13:42:43Z',\n",
       "  u'url': u'https://api.github.com/repos/solomonxie/gitissues/issues/1',\n",
       "  u'user': {u'avatar_url': u'https://avatars2.githubusercontent.com/u/14041622?v=4',\n",
       "   u'events_url': u'https://api.github.com/users/solomonxie/events{/privacy}',\n",
       "   u'followers_url': u'https://api.github.com/users/solomonxie/followers',\n",
       "   u'following_url': u'https://api.github.com/users/solomonxie/following{/other_user}',\n",
       "   u'gists_url': u'https://api.github.com/users/solomonxie/gists{/gist_id}',\n",
       "   u'gravatar_id': u'',\n",
       "   u'html_url': u'https://github.com/solomonxie',\n",
       "   u'id': 14041622,\n",
       "   u'login': u'solomonxie',\n",
       "   u'organizations_url': u'https://api.github.com/users/solomonxie/orgs',\n",
       "   u'received_events_url': u'https://api.github.com/users/solomonxie/received_events',\n",
       "   u'repos_url': u'https://api.github.com/users/solomonxie/repos',\n",
       "   u'site_admin': False,\n",
       "   u'starred_url': u'https://api.github.com/users/solomonxie/starred{/owner}{/repo}',\n",
       "   u'subscriptions_url': u'https://api.github.com/users/solomonxie/subscriptions',\n",
       "   u'type': u'User',\n",
       "   u'url': u'https://api.github.com/users/solomonxie'}}]"
      ]
     },
     "execution_count": 2,
     "metadata": {},
     "output_type": "execute_result"
    }
   ],
   "source": [
    "issues"
   ]
  },
  {
   "cell_type": "code",
   "execution_count": null,
   "metadata": {
    "collapsed": true
   },
   "outputs": [],
   "source": []
  },
  {
   "cell_type": "code",
   "execution_count": null,
   "metadata": {
    "collapsed": true
   },
   "outputs": [],
   "source": []
  },
  {
   "cell_type": "code",
   "execution_count": null,
   "metadata": {
    "collapsed": true
   },
   "outputs": [],
   "source": []
  },
  {
   "cell_type": "code",
   "execution_count": null,
   "metadata": {
    "collapsed": true
   },
   "outputs": [],
   "source": []
  },
  {
   "cell_type": "markdown",
   "metadata": {
    "collapsed": true
   },
   "source": [
    "# 测试从外部读取json并转化为Object后里面内容的编码"
   ]
  },
  {
   "cell_type": "code",
   "execution_count": 20,
   "metadata": {
    "collapsed": true,
    "scrolled": true
   },
   "outputs": [],
   "source": [
    "r_ = requests.get('https://api.github.com/repos/solomonxie/solomonxie.github.io/issues/42/comments')"
   ]
  },
  {
   "cell_type": "code",
   "execution_count": 30,
   "metadata": {
    "collapsed": true
   },
   "outputs": [],
   "source": [
    "comments = json.loads(r_.content)\n",
    "\n",
    "cm = comments[1]['body']"
   ]
  },
  {
   "cell_type": "code",
   "execution_count": 39,
   "metadata": {
    "scrolled": true
   },
   "outputs": [
    {
     "name": "stdout",
     "output_type": "stream",
     "text": [
      "<type 'unicode'> <type 'str'>\n"
     ]
    },
    {
     "data": {
      "text/plain": [
       "(u'# \\u5148\\u7559\\u4e00\\u4e2a\\u7a7a\\u4f4d\\u4ecb\\u7ecdAPI\\u8c03\\u8bd5\\u5ba2\\u6237\\u7aefInsomnia\\u548cPostman\\n\\n\\n',\n",
       " unicode)"
      ]
     },
     "execution_count": 39,
     "metadata": {},
     "output_type": "execute_result"
    }
   ],
   "source": [
    "print type(cm), type('\\n\\n\\n')\n",
    "cm+'\\n\\n\\n', type(cm+'\\n\\n\\n')"
   ]
  },
  {
   "cell_type": "code",
   "execution_count": 31,
   "metadata": {},
   "outputs": [
    {
     "data": {
      "text/plain": [
       "'# \\xe5\\x85\\x88\\xe7\\x95\\x99\\xe4\\xb8\\x80\\xe4\\xb8\\xaa\\xe7\\xa9\\xba\\xe4\\xbd\\x8d\\xe4\\xbb\\x8b\\xe7\\xbb\\x8dAPI\\xe8\\xb0\\x83\\xe8\\xaf\\x95\\xe5\\xae\\xa2\\xe6\\x88\\xb7\\xe7\\xab\\xafInsomnia\\xe5\\x92\\x8cPostman'"
      ]
     },
     "execution_count": 31,
     "metadata": {},
     "output_type": "execute_result"
    }
   ],
   "source": [
    "cm.encode('utf-8')"
   ]
  },
  {
   "cell_type": "code",
   "execution_count": null,
   "metadata": {
    "collapsed": true
   },
   "outputs": [],
   "source": []
  },
  {
   "cell_type": "markdown",
   "metadata": {
    "collapsed": true
   },
   "source": [
    "# 测试不同类型的字符串list列表join()后出来是什么格式的字符串"
   ]
  },
  {
   "cell_type": "code",
   "execution_count": 55,
   "metadata": {},
   "outputs": [
    {
     "data": {
      "text/plain": [
       "('\\xe4\\xbd\\xa0\\xe5\\xa5\\xbd\\n\\xe4\\xb8\\x96\\xe7\\x95\\x8c', str)"
      ]
     },
     "execution_count": 55,
     "metadata": {},
     "output_type": "execute_result"
    }
   ],
   "source": [
    "s1 = '\\n'.join( ['你好','世界'] )\n",
    "s1, type(s1)"
   ]
  },
  {
   "cell_type": "code",
   "execution_count": 54,
   "metadata": {},
   "outputs": [
    {
     "data": {
      "text/plain": [
       "(u'\\u4f60\\u597d\\n\\u4e16\\u754c', unicode)"
      ]
     },
     "execution_count": 54,
     "metadata": {},
     "output_type": "execute_result"
    }
   ],
   "source": [
    "s2 = '\\n'.join( [u'你好',u'世界'] )\n",
    "s2, type(s2)"
   ]
  },
  {
   "cell_type": "code",
   "execution_count": 56,
   "metadata": {},
   "outputs": [
    {
     "ename": "UnicodeDecodeError",
     "evalue": "'ascii' codec can't decode byte 0xe4 in position 0: ordinal not in range(128)",
     "output_type": "error",
     "traceback": [
      "\u001b[0;31m---------------------------------------------------------------------------\u001b[0m",
      "\u001b[0;31mUnicodeDecodeError\u001b[0m                        Traceback (most recent call last)",
      "\u001b[0;32m<ipython-input-56-9d1b546cb410>\u001b[0m in \u001b[0;36m<module>\u001b[0;34m()\u001b[0m\n\u001b[0;32m----> 1\u001b[0;31m \u001b[0ms3\u001b[0m \u001b[0;34m=\u001b[0m \u001b[0;34m'\\n'\u001b[0m\u001b[0;34m.\u001b[0m\u001b[0mjoin\u001b[0m\u001b[0;34m(\u001b[0m \u001b[0;34m[\u001b[0m\u001b[0;34mu'你好'\u001b[0m\u001b[0;34m,\u001b[0m\u001b[0;34m'世界'\u001b[0m\u001b[0;34m]\u001b[0m \u001b[0;34m)\u001b[0m\u001b[0;34m\u001b[0m\u001b[0m\n\u001b[0m\u001b[1;32m      2\u001b[0m \u001b[0ms3\u001b[0m\u001b[0;34m,\u001b[0m \u001b[0mtype\u001b[0m\u001b[0;34m(\u001b[0m\u001b[0ms3\u001b[0m\u001b[0;34m)\u001b[0m\u001b[0;34m\u001b[0m\u001b[0m\n",
      "\u001b[0;31mUnicodeDecodeError\u001b[0m: 'ascii' codec can't decode byte 0xe4 in position 0: ordinal not in range(128)"
     ]
    }
   ],
   "source": [
    "s3 = '\\n'.join( [u'你好','世界'] )\n",
    "s3, type(s3)"
   ]
  },
  {
   "cell_type": "code",
   "execution_count": null,
   "metadata": {
    "collapsed": true
   },
   "outputs": [],
   "source": []
  },
  {
   "cell_type": "code",
   "execution_count": null,
   "metadata": {
    "collapsed": true
   },
   "outputs": [],
   "source": []
  },
  {
   "cell_type": "code",
   "execution_count": null,
   "metadata": {
    "collapsed": true
   },
   "outputs": [],
   "source": []
  },
  {
   "cell_type": "markdown",
   "metadata": {
    "collapsed": true
   },
   "source": [
    "# 测试os.mkdir能不能覆盖已有文件夹"
   ]
  },
  {
   "cell_type": "code",
   "execution_count": 69,
   "metadata": {},
   "outputs": [
    {
     "ename": "OSError",
     "evalue": "[Errno 17] File exists: './test/doc/src'",
     "output_type": "error",
     "traceback": [
      "\u001b[0;31m---------------------------------------------------------------------------\u001b[0m",
      "\u001b[0;31mOSError\u001b[0m                                   Traceback (most recent call last)",
      "\u001b[0;32m<ipython-input-69-44d698a1458c>\u001b[0m in \u001b[0;36m<module>\u001b[0;34m()\u001b[0m\n\u001b[1;32m      2\u001b[0m \u001b[0mfolder\u001b[0m \u001b[0;34m=\u001b[0m \u001b[0;34m'./test/doc/src'\u001b[0m\u001b[0;34m\u001b[0m\u001b[0m\n\u001b[1;32m      3\u001b[0m \u001b[0;34m\u001b[0m\u001b[0m\n\u001b[0;32m----> 4\u001b[0;31m \u001b[0mos\u001b[0m\u001b[0;34m.\u001b[0m\u001b[0mmkdir\u001b[0m\u001b[0;34m(\u001b[0m\u001b[0mfolder\u001b[0m\u001b[0;34m)\u001b[0m\u001b[0;34m\u001b[0m\u001b[0m\n\u001b[0m\u001b[1;32m      5\u001b[0m \u001b[0;34m\u001b[0m\u001b[0m\n\u001b[1;32m      6\u001b[0m \u001b[0;32mwith\u001b[0m \u001b[0mopen\u001b[0m\u001b[0;34m(\u001b[0m\u001b[0;34m'%s/test.txt'\u001b[0m\u001b[0;34m%\u001b[0m\u001b[0mfolder\u001b[0m\u001b[0;34m,\u001b[0m \u001b[0;34m'w'\u001b[0m\u001b[0;34m)\u001b[0m \u001b[0;32mas\u001b[0m \u001b[0mf\u001b[0m\u001b[0;34m:\u001b[0m\u001b[0;34m\u001b[0m\u001b[0m\n",
      "\u001b[0;31mOSError\u001b[0m: [Errno 17] File exists: './test/doc/src'"
     ]
    }
   ],
   "source": [
    "import os\n",
    "folder = './test/doc/src'\n",
    "\n",
    "os.mkdir(folder)\n",
    "\n",
    "with open('%s/test.txt'%folder, 'w') as f:\n",
    "    f.write('你好')"
   ]
  },
  {
   "cell_type": "code",
   "execution_count": null,
   "metadata": {
    "collapsed": true
   },
   "outputs": [],
   "source": []
  },
  {
   "cell_type": "code",
   "execution_count": null,
   "metadata": {
    "collapsed": true
   },
   "outputs": [],
   "source": []
  },
  {
   "cell_type": "code",
   "execution_count": null,
   "metadata": {
    "collapsed": true
   },
   "outputs": [],
   "source": []
  },
  {
   "cell_type": "code",
   "execution_count": null,
   "metadata": {
    "collapsed": true
   },
   "outputs": [],
   "source": []
  },
  {
   "cell_type": "markdown",
   "metadata": {
    "collapsed": true
   },
   "source": [
    "# 测试shutil打包的路径设置问题"
   ]
  },
  {
   "cell_type": "code",
   "execution_count": 137,
   "metadata": {},
   "outputs": [
    {
     "data": {
      "text/plain": [
       "'/Volumes/SD/Downloads/output.zip'"
      ]
     },
     "execution_count": 137,
     "metadata": {},
     "output_type": "execute_result"
    }
   ],
   "source": [
    "import shutil\n",
    "shutil.make_archive(\n",
    "        base_name= '/Volumes/SD/Downloads/gitissues2018',\n",
    "        format   = 'zip',\n",
    "        root_dir = '/Volumes/SD/Workspace/autobackup/solomonxie',\n",
    "        base_dir = 'gitissues')"
   ]
  },
  {
   "cell_type": "code",
   "execution_count": null,
   "metadata": {
    "collapsed": true
   },
   "outputs": [],
   "source": []
  },
  {
   "cell_type": "code",
   "execution_count": null,
   "metadata": {
    "collapsed": true
   },
   "outputs": [],
   "source": []
  },
  {
   "cell_type": "code",
   "execution_count": null,
   "metadata": {
    "collapsed": true
   },
   "outputs": [],
   "source": []
  },
  {
   "cell_type": "markdown",
   "metadata": {
    "collapsed": true
   },
   "source": [
    "# 测试date和time的使用"
   ]
  },
  {
   "cell_type": "code",
   "execution_count": 124,
   "metadata": {},
   "outputs": [
    {
     "ename": "ValueError",
     "evalue": "unsupported format character 'H' (0x48) at index 1",
     "output_type": "error",
     "traceback": [
      "\u001b[0;31m---------------------------------------------------------------------------\u001b[0m",
      "\u001b[0;31mValueError\u001b[0m                                Traceback (most recent call last)",
      "\u001b[0;32m<ipython-input-124-b37c81cdcf00>\u001b[0m in \u001b[0;36m<module>\u001b[0;34m()\u001b[0m\n\u001b[1;32m      1\u001b[0m \u001b[0;32mfrom\u001b[0m \u001b[0mdatetime\u001b[0m \u001b[0;32mimport\u001b[0m \u001b[0mdate\u001b[0m\u001b[0;34m\u001b[0m\u001b[0m\n\u001b[1;32m      2\u001b[0m \u001b[0;31m# str( date.today() )\u001b[0m\u001b[0;34m\u001b[0m\u001b[0;34m\u001b[0m\u001b[0m\n\u001b[0;32m----> 3\u001b[0;31m \u001b[0;34m'%H'\u001b[0m\u001b[0;34m%\u001b[0m\u001b[0;34m(\u001b[0m\u001b[0mdate\u001b[0m\u001b[0;34m.\u001b[0m\u001b[0mtoday\u001b[0m\u001b[0;34m(\u001b[0m\u001b[0;34m)\u001b[0m\u001b[0;34m)\u001b[0m\u001b[0;34m\u001b[0m\u001b[0m\n\u001b[0m",
      "\u001b[0;31mValueError\u001b[0m: unsupported format character 'H' (0x48) at index 1"
     ]
    }
   ],
   "source": [
    "from datetime import date\n",
    "# str( date.today() )\n",
    "'%H'%(date.today())"
   ]
  },
  {
   "cell_type": "code",
   "execution_count": 96,
   "metadata": {},
   "outputs": [
    {
     "data": {
      "text/plain": [
       "'1518093158.81'"
      ]
     },
     "execution_count": 96,
     "metadata": {},
     "output_type": "execute_result"
    }
   ],
   "source": [
    "import time\n",
    "str( time.time() )"
   ]
  },
  {
   "cell_type": "code",
   "execution_count": null,
   "metadata": {
    "collapsed": true
   },
   "outputs": [],
   "source": []
  },
  {
   "cell_type": "code",
   "execution_count": null,
   "metadata": {
    "collapsed": true
   },
   "outputs": [],
   "source": []
  },
  {
   "cell_type": "markdown",
   "metadata": {
    "collapsed": true
   },
   "source": [
    "## 导入json文件转化为Object对象"
   ]
  },
  {
   "cell_type": "code",
   "execution_count": 6,
   "metadata": {},
   "outputs": [
    {
     "data": {
      "text/plain": [
       "u'solomonxie'"
      ]
     },
     "execution_count": 6,
     "metadata": {},
     "output_type": "execute_result"
    }
   ],
   "source": [
    "import json\n",
    "with open('config.json', 'r') as f:\n",
    "    config = json.loads( f.read() )\n",
    "    \n",
    "config['username']"
   ]
  },
  {
   "cell_type": "code",
   "execution_count": null,
   "metadata": {
    "collapsed": true
   },
   "outputs": [],
   "source": []
  },
  {
   "cell_type": "code",
   "execution_count": null,
   "metadata": {
    "collapsed": true
   },
   "outputs": [],
   "source": []
  },
  {
   "cell_type": "markdown",
   "metadata": {},
   "source": [
    "# 证明即使是从外部文件获取的字符串，%s的格式化也能使用"
   ]
  },
  {
   "cell_type": "code",
   "execution_count": 9,
   "metadata": {},
   "outputs": [
    {
     "name": "stdout",
     "output_type": "stream",
     "text": [
      "https://api.github.com/repos/solomonxie/gitissues/issues\n",
      "https://api.github.com/repos/solomonxie/gitissues/issues\n"
     ]
    }
   ],
   "source": [
    "url = 'https://api.github.com/repos/%s/%s/issues'\n",
    "\n",
    "print url%('solomonxie', 'gitissues')\n",
    "print url%(config['username'], config['repos'][0])"
   ]
  },
  {
   "cell_type": "code",
   "execution_count": null,
   "metadata": {
    "collapsed": true
   },
   "outputs": [],
   "source": []
  },
  {
   "cell_type": "code",
   "execution_count": null,
   "metadata": {
    "collapsed": true
   },
   "outputs": [],
   "source": []
  },
  {
   "cell_type": "code",
   "execution_count": null,
   "metadata": {
    "collapsed": true
   },
   "outputs": [],
   "source": []
  },
  {
   "cell_type": "markdown",
   "metadata": {
    "collapsed": true
   },
   "source": [
    "# Python 操作Git"
   ]
  },
  {
   "cell_type": "code",
   "execution_count": 2,
   "metadata": {},
   "outputs": [
    {
     "ename": "ImportError",
     "evalue": "No module named git",
     "output_type": "error",
     "traceback": [
      "\u001b[0;31m---------------------------------------------------------------------------\u001b[0m",
      "\u001b[0;31mImportError\u001b[0m                               Traceback (most recent call last)",
      "\u001b[0;32m<ipython-input-2-68a8bc045a4f>\u001b[0m in \u001b[0;36m<module>\u001b[0;34m()\u001b[0m\n\u001b[1;32m      1\u001b[0m \u001b[0;31m# 结论 ipython经常性无法导入外来包 即使已经安装好了且在别的地方可以正确导入\u001b[0m\u001b[0;34m\u001b[0m\u001b[0;34m\u001b[0m\u001b[0m\n\u001b[0;32m----> 2\u001b[0;31m \u001b[0;32mimport\u001b[0m \u001b[0mgit\u001b[0m\u001b[0;34m\u001b[0m\u001b[0m\n\u001b[0m",
      "\u001b[0;31mImportError\u001b[0m: No module named git"
     ]
    }
   ],
   "source": [
    "# 结论 ipython经常性无法导入外来包 即使已经安装好了且在别的地方可以正确导入\n",
    "import git"
   ]
  },
  {
   "cell_type": "code",
   "execution_count": 32,
   "metadata": {},
   "outputs": [
    {
     "data": {
      "text/plain": [
       "256"
      ]
     },
     "execution_count": 32,
     "metadata": {},
     "output_type": "execute_result"
    }
   ],
   "source": [
    "# 直接用系统命令行执行\n",
    "import os\n",
    "\n",
    "cwd = os.getcwd() # get a path to a git repo, such as: here.\n",
    "\n",
    "# 在别的目录执行git命令，需要加参数`-C <路径>`\n",
    "os.system('git -C %s <> status'%cwd)"
   ]
  },
  {
   "cell_type": "code",
   "execution_count": null,
   "metadata": {
    "collapsed": true
   },
   "outputs": [],
   "source": []
  },
  {
   "cell_type": "code",
   "execution_count": null,
   "metadata": {
    "collapsed": true
   },
   "outputs": [],
   "source": []
  },
  {
   "cell_type": "code",
   "execution_count": null,
   "metadata": {
    "collapsed": true
   },
   "outputs": [],
   "source": []
  },
  {
   "cell_type": "code",
   "execution_count": null,
   "metadata": {
    "collapsed": true
   },
   "outputs": [],
   "source": []
  },
  {
   "cell_type": "markdown",
   "metadata": {
    "collapsed": true
   },
   "source": [
    "# Python `requests`检查访问状态"
   ]
  },
  {
   "cell_type": "code",
   "execution_count": 3,
   "metadata": {},
   "outputs": [
    {
     "data": {
      "text/plain": [
       "200"
      ]
     },
     "execution_count": 3,
     "metadata": {},
     "output_type": "execute_result"
    }
   ],
   "source": [
    "import requests\n",
    "\n",
    "r = requests.get('http://www.baidu.com')\n",
    "\n",
    "r.status_code"
   ]
  },
  {
   "cell_type": "code",
   "execution_count": null,
   "metadata": {
    "collapsed": true
   },
   "outputs": [],
   "source": []
  },
  {
   "cell_type": "code",
   "execution_count": null,
   "metadata": {
    "collapsed": true
   },
   "outputs": [],
   "source": []
  },
  {
   "cell_type": "markdown",
   "metadata": {},
   "source": [
    "# Python `requests` 自带返回json数据的中文编码测试"
   ]
  },
  {
   "cell_type": "code",
   "execution_count": 9,
   "metadata": {},
   "outputs": [
    {
     "name": "stdout",
     "output_type": "stream",
     "text": [
      "<type 'unicode'>\n",
      "<type 'unicode'>\n"
     ]
    }
   ],
   "source": [
    "import requests, json\n",
    "\n",
    "r = requests.get('https://api.github.com/repos/solomonxie/starter-practice/issues')\n",
    "\n",
    "print type(r.json()[0]['title'])\n",
    "print type(json.loads(r.content)[0]['title'])\n",
    "\n",
    "# 事实证明结果是一样的，所以还是用requests自带的划算"
   ]
  },
  {
   "cell_type": "code",
   "execution_count": null,
   "metadata": {
    "collapsed": true
   },
   "outputs": [],
   "source": []
  },
  {
   "cell_type": "code",
   "execution_count": null,
   "metadata": {
    "collapsed": true
   },
   "outputs": [],
   "source": []
  },
  {
   "cell_type": "markdown",
   "metadata": {},
   "source": [
    "# Jupyter Notebook 无法加载新安装module的问题"
   ]
  },
  {
   "cell_type": "code",
   "execution_count": 5,
   "metadata": {},
   "outputs": [
    {
     "data": {
      "text/plain": [
       "'/Users/solomonxie/anaconda2/bin/python'"
      ]
     },
     "execution_count": 5,
     "metadata": {},
     "output_type": "execute_result"
    }
   ],
   "source": [
    "import sys\n",
    "\n",
    "sys.executable"
   ]
  },
  {
   "cell_type": "code",
   "execution_count": 4,
   "metadata": {},
   "outputs": [
    {
     "data": {
      "text/plain": [
       "'/Users/solomonxie/Library/Jupyter'"
      ]
     },
     "execution_count": 4,
     "metadata": {},
     "output_type": "execute_result"
    }
   ],
   "source": [
    "from jupyter_core.paths import jupyter_data_dir\n",
    "\n",
    "jupyter_data_dir()"
   ]
  },
  {
   "cell_type": "code",
   "execution_count": 15,
   "metadata": {},
   "outputs": [
    {
     "name": "stdout",
     "output_type": "stream",
     "text": [
      "Available kernels:\r\n",
      "  python2    /Users/solomonxie/anaconda2/share/jupyter/kernels/python2\r\n"
     ]
    }
   ],
   "source": [
    "!jupyter kernelspec list"
   ]
  },
  {
   "cell_type": "code",
   "execution_count": 17,
   "metadata": {
    "collapsed": true
   },
   "outputs": [
    {
     "name": "stdout",
     "output_type": "stream",
     "text": [
      "Fetching package metadata ...........\n",
      "Solving package specifications: .\n",
      "\n",
      "Package plan for installation in environment /Users/solomonxie/anaconda2:\n",
      "\n",
      "The following NEW packages will be INSTALLED:\n",
      "\n",
      "    git:      2.16.1-h74bb3f6_0    \n",
      "    libcurl:  7.58.0-hf30b1f0_0    \n",
      "    perl:     5.26.0-h5b8ca18_0    \n",
      "\n",
      "The following packages will be UPDATED:\n",
      "\n",
      "    anaconda: 5.0.1-py27he797f56_1  --> custom-py27h2cfa9e9_0\n",
      "    conda:    4.3.30-py27h407ed3a_0 --> 4.4.9-py27_0         \n",
      "    expat:    2.2.4-h8f26bf8_1      --> 2.2.5-hb8e80ba_0     \n",
      "    openssl:  1.0.2l-h57f3a61_2     --> 1.0.2n-hdbc3d79_0    \n",
      "    pycosat:  0.6.2-py27h085d4cc_0  --> 0.6.3-py27h6c51c7e_0 \n",
      "\n",
      "perl-5.26.0-h5 100% |################################| Time: 0:00:59 262.35 kB/s       | ETA:  0:00:28 263.15 kB/s\n",
      "openssl-1.0.2n 100% |################################| Time: 0:00:11 307.90 kB/s       | Time: 0:00:02 281.87 kB/s.2n  46% |##############                  | Time: 0:00:04 360.76 kB/sme: 0:00:07 341.81 kB/s############################   | Time: 0:00:10 312.07 kB/s\n",
      "expat-2.2.5-hb 100% |################################| Time: 0:00:00 199.87 kB/s\n",
      "libcurl-7.58.0 100% |################################| Time: 0:00:01 263.43 kB/s\n",
      "git-2.16.1-h74 100% |################################| Time: 0:00:49 251.25 kB/s       | Time: 0:00:03 263.97 kB/sh74  13% |####                            | Time: 0:00:06 245.27 kB/sme: 0:00:10 244.71 kB/s#######                        | Time: 0:00:13 245.37 kB/s 255.04 kB/s                    | Time: 0:00:20 244.09 kB/ss         | Time: 0:00:26 247.07 kB/s1-h74  59% |###################             | Time: 0:00:29 248.97 kB/sTime: 0:00:33 247.80 kB/s|#######################         | Time: 0:00:36 246.27 kB/s.56 kB/s40 246.18 kB/s#################     | Time: 0:00:43 245.71 kB/st-2.16.1-h74  88% |############################    | Time: 0:00:44 245.94 kB/sB/s########## | Time: 0:00:49 250.90 kB/s\n",
      "anaconda-custo 100% |################################| Time: 0:00:00   1.50 MB/s\n",
      "pycosat-0.6.3- 100% |################################| Time: 0:00:00 419.81 kB/s\n",
      "conda-4.4.9-py 100% |################################| Time: 0:00:02 330.64 kB/s##     | Time: 0:00:02 336.46 kB/s\n"
     ]
    }
   ],
   "source": [
    "!conda install --yes git"
   ]
  },
  {
   "cell_type": "code",
   "execution_count": 1,
   "metadata": {},
   "outputs": [
    {
     "ename": "ImportError",
     "evalue": "No module named git",
     "output_type": "error",
     "traceback": [
      "\u001b[0;31m---------------------------------------------------------------------------\u001b[0m",
      "\u001b[0;31mImportError\u001b[0m                               Traceback (most recent call last)",
      "\u001b[0;32m<ipython-input-1-6e2aff111637>\u001b[0m in \u001b[0;36m<module>\u001b[0;34m()\u001b[0m\n\u001b[0;32m----> 1\u001b[0;31m \u001b[0;32mimport\u001b[0m \u001b[0mgit\u001b[0m\u001b[0;34m\u001b[0m\u001b[0m\n\u001b[0m",
      "\u001b[0;31mImportError\u001b[0m: No module named git"
     ]
    }
   ],
   "source": [
    "import git"
   ]
  },
  {
   "cell_type": "code",
   "execution_count": null,
   "metadata": {
    "collapsed": true
   },
   "outputs": [],
   "source": []
  },
  {
   "cell_type": "code",
   "execution_count": null,
   "metadata": {
    "collapsed": true
   },
   "outputs": [],
   "source": []
  },
  {
   "cell_type": "code",
   "execution_count": null,
   "metadata": {
    "collapsed": true
   },
   "outputs": [],
   "source": []
  },
  {
   "cell_type": "markdown",
   "metadata": {},
   "source": [
    "# 通过对比每条issue的更新日期来比对是否有变化"
   ]
  },
  {
   "cell_type": "code",
   "execution_count": 33,
   "metadata": {
    "collapsed": true
   },
   "outputs": [],
   "source": [
    "import json\n",
    "\n",
    "with open('./tests/issues-new.json', 'r') as f:\n",
    "    issues1 = json.loads(f.read())\n",
    "with open('./tests/issues-old-same.json', 'r') as f:\n",
    "    issues2 = json.loads(f.read())\n",
    "with open('./tests/issues-old-different.json', 'r') as f:\n",
    "    issues3 = json.loads(f.read())\n",
    "\n",
    "updates1 = [iss['updated_at'] for iss in issues1]\n",
    "updates2 = [iss['updated_at'] for iss in issues2]\n",
    "updates3 = [iss['updated_at'] for iss in issues3]"
   ]
  },
  {
   "cell_type": "code",
   "execution_count": 37,
   "metadata": {},
   "outputs": [
    {
     "name": "stdout",
     "output_type": "stream",
     "text": [
      "False\n",
      "False\n"
     ]
    }
   ],
   "source": [
    "# new vs. old one with same content\n",
    "st = set(updates1+updates2)\n",
    "\n",
    "for u in updates1:\n",
    "    if u not in updates2:\n",
    "        print 'Failure: [%s]'%u\n",
    "        \n",
    "print updates1 is updates2\n",
    "print issues1 is issues2"
   ]
  },
  {
   "cell_type": "code",
   "execution_count": 39,
   "metadata": {},
   "outputs": [
    {
     "name": "stdout",
     "output_type": "stream",
     "text": [
      "Failure: [2018-02-12T12:44:26Z]\n",
      "False\n",
      "False\n"
     ]
    }
   ],
   "source": [
    "# new vs. old one with different content\n",
    "st2 = set(updates1+updates3)\n",
    "\n",
    "for u in updates1:\n",
    "    if u not in updates3:\n",
    "        print 'Failure: [%s]'%u\n",
    "        \n",
    "print updates1 is updates3\n",
    "print issues1 is issues3"
   ]
  },
  {
   "cell_type": "code",
   "execution_count": 42,
   "metadata": {},
   "outputs": [
    {
     "name": "stdout",
     "output_type": "stream",
     "text": [
      "set([])\n",
      "set([u'2018-02-12T12:44:26Z'])\n"
     ]
    }
   ],
   "source": [
    "# operation between sets of strings\n",
    "ud1 = set(updates1)\n",
    "ud2 = set(updates2)\n",
    "ud3 = set(updates3)\n",
    "\n",
    "print ud1 - ud2\n",
    "print ud1 - ud3"
   ]
  },
  {
   "cell_type": "code",
   "execution_count": 46,
   "metadata": {},
   "outputs": [
    {
     "ename": "TypeError",
     "evalue": "unhashable type: 'dict'",
     "output_type": "error",
     "traceback": [
      "\u001b[0;31m---------------------------------------------------------------------------\u001b[0m",
      "\u001b[0;31mTypeError\u001b[0m                                 Traceback (most recent call last)",
      "\u001b[0;32m<ipython-input-46-a160eae6cd93>\u001b[0m in \u001b[0;36m<module>\u001b[0;34m()\u001b[0m\n\u001b[0;32m----> 1\u001b[0;31m \u001b[0miss1\u001b[0m \u001b[0;34m=\u001b[0m \u001b[0mset\u001b[0m\u001b[0;34m(\u001b[0m\u001b[0missues1\u001b[0m\u001b[0;34m+\u001b[0m\u001b[0missues2\u001b[0m\u001b[0;34m)\u001b[0m\u001b[0;34m\u001b[0m\u001b[0m\n\u001b[0m",
      "\u001b[0;31mTypeError\u001b[0m: unhashable type: 'dict'"
     ]
    }
   ],
   "source": [
    "iss1 = set(issues1+issues2)"
   ]
  },
  {
   "cell_type": "code",
   "execution_count": null,
   "metadata": {
    "collapsed": true
   },
   "outputs": [],
   "source": []
  },
  {
   "cell_type": "code",
   "execution_count": null,
   "metadata": {
    "collapsed": true
   },
   "outputs": [],
   "source": []
  },
  {
   "cell_type": "code",
   "execution_count": null,
   "metadata": {
    "collapsed": true
   },
   "outputs": [],
   "source": []
  },
  {
   "cell_type": "markdown",
   "metadata": {},
   "source": [
    "# Set集的对比和运算"
   ]
  },
  {
   "cell_type": "code",
   "execution_count": 75,
   "metadata": {},
   "outputs": [
    {
     "name": "stdout",
     "output_type": "stream",
     "text": [
      "set([3.1, 6, 7])\n",
      "set([3, 4])\n",
      "These need to be retrieved from internet: set([3.1, 6, 7])\n",
      "These need to be deleted from local: set([3, 4])\n"
     ]
    }
   ],
   "source": [
    "# I want to get all changes in the NEW, which should be [3.1, 4, 6, 7]\n",
    "old = [1,2,3,4,5]           # 5 articles in total\n",
    "new = [1,2,3.1,5,6,7,3.1]   # updated no.3, deleted no.4, anded no.6 and no.7\n",
    "\n",
    "olds = set(old)\n",
    "news = set(new)\n",
    "\n",
    "print news - olds   # `only` get all added items\n",
    "print olds - news   # `only` get all deleted items\n",
    "\n",
    "print 'These need to be retrieved from internet: %s'%str(news-olds)\n",
    "print 'These need to be deleted from local: %s'%str(olds-news)"
   ]
  },
  {
   "cell_type": "code",
   "execution_count": null,
   "metadata": {
    "collapsed": true
   },
   "outputs": [],
   "source": []
  },
  {
   "cell_type": "code",
   "execution_count": null,
   "metadata": {
    "collapsed": true
   },
   "outputs": [],
   "source": []
  },
  {
   "cell_type": "code",
   "execution_count": null,
   "metadata": {
    "collapsed": true
   },
   "outputs": [],
   "source": []
  },
  {
   "cell_type": "markdown",
   "metadata": {},
   "source": [
    "## JSON对象的对比和运算"
   ]
  },
  {
   "cell_type": "code",
   "execution_count": 55,
   "metadata": {},
   "outputs": [
    {
     "data": {
      "text/plain": [
       "[{'d': '5', 'e': '6', 'f': '7', 'g': '8'}]"
      ]
     },
     "execution_count": 55,
     "metadata": {},
     "output_type": "execute_result"
    }
   ],
   "source": [
    "j1 = {\"a\":\"1\",\"b\":\"2\",\"c\":\"3\",\"d\":\"4\"}\n",
    "j2 = {\"d\":\"5\",\"e\":\"6\",\"f\":\"7\",\"g\":\"8\"}\n",
    "arr = [j1,j2]\n",
    "\n",
    "arr.remove(j1)\n",
    "arr"
   ]
  },
  {
   "cell_type": "code",
   "execution_count": null,
   "metadata": {
    "collapsed": true
   },
   "outputs": [],
   "source": []
  },
  {
   "cell_type": "code",
   "execution_count": null,
   "metadata": {
    "collapsed": true
   },
   "outputs": [],
   "source": []
  },
  {
   "cell_type": "code",
   "execution_count": null,
   "metadata": {
    "collapsed": true
   },
   "outputs": [],
   "source": []
  },
  {
   "cell_type": "code",
   "execution_count": null,
   "metadata": {
    "collapsed": true
   },
   "outputs": [],
   "source": []
  },
  {
   "cell_type": "markdown",
   "metadata": {
    "collapsed": true
   },
   "source": [
    "# try...catch.. 异常捕获"
   ]
  },
  {
   "cell_type": "code",
   "execution_count": 26,
   "metadata": {},
   "outputs": [
    {
     "ename": "NameError",
     "evalue": "name 'hello' is not defined",
     "output_type": "error",
     "traceback": [
      "\u001b[0;31m---------------------------------------------------------------------------\u001b[0m",
      "\u001b[0;31mNameError\u001b[0m                                 Traceback (most recent call last)",
      "\u001b[0;32m<ipython-input-26-002abb0b550d>\u001b[0m in \u001b[0;36m<module>\u001b[0;34m()\u001b[0m\n\u001b[0;32m----> 1\u001b[0;31m \u001b[0mhello\u001b[0m\u001b[0;34m(\u001b[0m\u001b[0;34m'hi'\u001b[0m\u001b[0;34m)\u001b[0m\u001b[0;34m\u001b[0m\u001b[0m\n\u001b[0m",
      "\u001b[0;31mNameError\u001b[0m: name 'hello' is not defined"
     ]
    }
   ],
   "source": [
    "hello('hi')"
   ]
  },
  {
   "cell_type": "code",
   "execution_count": 25,
   "metadata": {
    "scrolled": true
   },
   "outputs": [
    {
     "name": "stdout",
     "output_type": "stream",
     "text": [
      "something wrong.\n"
     ]
    }
   ],
   "source": [
    "try:\n",
    "    hello('hi')    # there's no such thing as hello()\n",
    "except:\n",
    "    print 'something wrong.'"
   ]
  },
  {
   "cell_type": "code",
   "execution_count": 24,
   "metadata": {},
   "outputs": [
    {
     "name": "stdout",
     "output_type": "stream",
     "text": [
      "name 'hello' is not defined\n"
     ]
    }
   ],
   "source": [
    "try:\n",
    "    hello('hi')    # there's no function as hello()\n",
    "except Exception as e:\n",
    "    print e"
   ]
  },
  {
   "cell_type": "code",
   "execution_count": 20,
   "metadata": {},
   "outputs": [
    {
     "name": "stdout",
     "output_type": "stream",
     "text": [
      "something wrong.\n"
     ]
    }
   ],
   "source": [
    "try:\n",
    "    hello('hi')\n",
    "except:\n",
    "    pass          # does anything run after \"pass\"? yes\n",
    "    print 'something wrong.'"
   ]
  },
  {
   "cell_type": "code",
   "execution_count": 18,
   "metadata": {},
   "outputs": [
    {
     "name": "stdout",
     "output_type": "stream",
     "text": [
      "10 0\n"
     ]
    }
   ],
   "source": [
    "i=0\n",
    "j=0\n",
    "while i < 10: \n",
    "    try:\n",
    "        i+=1\n",
    "        hello('hi')\n",
    "        j+=1\n",
    "    except:\n",
    "        continue    # continue loop works\n",
    "\n",
    "print i, j"
   ]
  },
  {
   "cell_type": "code",
   "execution_count": null,
   "metadata": {
    "collapsed": true
   },
   "outputs": [],
   "source": []
  },
  {
   "cell_type": "code",
   "execution_count": null,
   "metadata": {
    "collapsed": true
   },
   "outputs": [],
   "source": []
  },
  {
   "cell_type": "code",
   "execution_count": null,
   "metadata": {
    "collapsed": true
   },
   "outputs": [],
   "source": []
  },
  {
   "cell_type": "code",
   "execution_count": null,
   "metadata": {
    "collapsed": true
   },
   "outputs": [],
   "source": []
  },
  {
   "cell_type": "code",
   "execution_count": null,
   "metadata": {
    "collapsed": true
   },
   "outputs": [],
   "source": []
  },
  {
   "cell_type": "code",
   "execution_count": null,
   "metadata": {
    "collapsed": true
   },
   "outputs": [],
   "source": []
  },
  {
   "cell_type": "code",
   "execution_count": null,
   "metadata": {
    "collapsed": true
   },
   "outputs": [],
   "source": []
  },
  {
   "cell_type": "code",
   "execution_count": null,
   "metadata": {
    "collapsed": true
   },
   "outputs": [],
   "source": []
  },
  {
   "cell_type": "code",
   "execution_count": null,
   "metadata": {
    "collapsed": true
   },
   "outputs": [],
   "source": []
  },
  {
   "cell_type": "code",
   "execution_count": null,
   "metadata": {
    "collapsed": true
   },
   "outputs": [],
   "source": []
  }
 ],
 "metadata": {
  "kernelspec": {
   "display_name": "Python 2",
   "language": "python",
   "name": "python2"
  },
  "language_info": {
   "codemirror_mode": {
    "name": "ipython",
    "version": 2
   },
   "file_extension": ".py",
   "mimetype": "text/x-python",
   "name": "python",
   "nbconvert_exporter": "python",
   "pygments_lexer": "ipython2",
   "version": "2.7.14"
  }
 },
 "nbformat": 4,
 "nbformat_minor": 2
}
