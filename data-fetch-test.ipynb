{
 "cells": [
  {
   "cell_type": "code",
   "execution_count": 1,
   "metadata": {
    "collapsed": true
   },
   "outputs": [],
   "source": [
    "#!/usr/bin/env python\n",
    "# -*- coding: utf-8 -*-\n",
    "\n",
    "import requests, json\n",
    "\n",
    "url = 'https://api.github.com/repos/solomonxie/gitissues/issues'\n",
    "\n",
    "r = requests.get( url )\n",
    "\n",
    "issues = json.loads(r.content)\n"
   ]
  },
  {
   "cell_type": "code",
   "execution_count": 2,
   "metadata": {
    "collapsed": true
   },
   "outputs": [
    {
     "data": {
      "text/plain": [
       "[{u'assignee': None,\n",
       "  u'assignees': [],\n",
       "  u'author_association': u'OWNER',\n",
       "  u'body': u'# Using variables inside Postman and Collection Runner\\r\\nPosted on 20 Feb, 2014Author abhinav\\r\\nVariables are among the most powerful features in Postman. Using variables in your Postman requests, eliminates the need to duplicate requests, which can save a lot of time!\\r\\n\\r\\n',\n",
       "  u'closed_at': None,\n",
       "  u'comments': 3,\n",
       "  u'comments_url': u'https://api.github.com/repos/solomonxie/gitissues/issues/3/comments',\n",
       "  u'created_at': u'2018-02-06T09:31:28Z',\n",
       "  u'events_url': u'https://api.github.com/repos/solomonxie/gitissues/issues/3/events',\n",
       "  u'html_url': u'https://github.com/solomonxie/gitissues/issues/3',\n",
       "  u'id': 294688108,\n",
       "  u'labels': [],\n",
       "  u'labels_url': u'https://api.github.com/repos/solomonxie/gitissues/issues/3/labels{/name}',\n",
       "  u'locked': False,\n",
       "  u'milestone': None,\n",
       "  u'number': 3,\n",
       "  u'repository_url': u'https://api.github.com/repos/solomonxie/gitissues',\n",
       "  u'state': u'open',\n",
       "  u'title': u'testing issue 2',\n",
       "  u'updated_at': u'2018-02-06T09:32:23Z',\n",
       "  u'url': u'https://api.github.com/repos/solomonxie/gitissues/issues/3',\n",
       "  u'user': {u'avatar_url': u'https://avatars2.githubusercontent.com/u/14041622?v=4',\n",
       "   u'events_url': u'https://api.github.com/users/solomonxie/events{/privacy}',\n",
       "   u'followers_url': u'https://api.github.com/users/solomonxie/followers',\n",
       "   u'following_url': u'https://api.github.com/users/solomonxie/following{/other_user}',\n",
       "   u'gists_url': u'https://api.github.com/users/solomonxie/gists{/gist_id}',\n",
       "   u'gravatar_id': u'',\n",
       "   u'html_url': u'https://github.com/solomonxie',\n",
       "   u'id': 14041622,\n",
       "   u'login': u'solomonxie',\n",
       "   u'organizations_url': u'https://api.github.com/users/solomonxie/orgs',\n",
       "   u'received_events_url': u'https://api.github.com/users/solomonxie/received_events',\n",
       "   u'repos_url': u'https://api.github.com/users/solomonxie/repos',\n",
       "   u'site_admin': False,\n",
       "   u'starred_url': u'https://api.github.com/users/solomonxie/starred{/owner}{/repo}',\n",
       "   u'subscriptions_url': u'https://api.github.com/users/solomonxie/subscriptions',\n",
       "   u'type': u'User',\n",
       "   u'url': u'https://api.github.com/users/solomonxie'}},\n",
       " {u'assignee': None,\n",
       "  u'assignees': [],\n",
       "  u'author_association': u'OWNER',\n",
       "  u'body': u'# 10 tips for working with Postman variables\\r\\n\\r\\n\\r\\nVariables are a fundamental concept in programming, and in Postman, they can be your best friend. Instead of painstakingly updating individual values, use variables to cascade changes effortlessly through the rest of your code. If you\\u2019re not already using variables in Postman, get ready to have your mind blown.\\r\\n\\r\\n![image](https://user-images.githubusercontent.com/14041622/35851588-70ef05f6-0b63-11e8-9b9e-ffc0b3db7af5.png)\\r\\n',\n",
       "  u'closed_at': None,\n",
       "  u'comments': 2,\n",
       "  u'comments_url': u'https://api.github.com/repos/solomonxie/gitissues/issues/2/comments',\n",
       "  u'created_at': u'2018-02-06T09:30:46Z',\n",
       "  u'events_url': u'https://api.github.com/repos/solomonxie/gitissues/issues/2/events',\n",
       "  u'html_url': u'https://github.com/solomonxie/gitissues/issues/2',\n",
       "  u'id': 294687892,\n",
       "  u'labels': [],\n",
       "  u'labels_url': u'https://api.github.com/repos/solomonxie/gitissues/issues/2/labels{/name}',\n",
       "  u'locked': False,\n",
       "  u'milestone': None,\n",
       "  u'number': 2,\n",
       "  u'repository_url': u'https://api.github.com/repos/solomonxie/gitissues',\n",
       "  u'state': u'open',\n",
       "  u'title': u'testing issue 1',\n",
       "  u'updated_at': u'2018-02-06T09:31:07Z',\n",
       "  u'url': u'https://api.github.com/repos/solomonxie/gitissues/issues/2',\n",
       "  u'user': {u'avatar_url': u'https://avatars2.githubusercontent.com/u/14041622?v=4',\n",
       "   u'events_url': u'https://api.github.com/users/solomonxie/events{/privacy}',\n",
       "   u'followers_url': u'https://api.github.com/users/solomonxie/followers',\n",
       "   u'following_url': u'https://api.github.com/users/solomonxie/following{/other_user}',\n",
       "   u'gists_url': u'https://api.github.com/users/solomonxie/gists{/gist_id}',\n",
       "   u'gravatar_id': u'',\n",
       "   u'html_url': u'https://github.com/solomonxie',\n",
       "   u'id': 14041622,\n",
       "   u'login': u'solomonxie',\n",
       "   u'organizations_url': u'https://api.github.com/users/solomonxie/orgs',\n",
       "   u'received_events_url': u'https://api.github.com/users/solomonxie/received_events',\n",
       "   u'repos_url': u'https://api.github.com/users/solomonxie/repos',\n",
       "   u'site_admin': False,\n",
       "   u'starred_url': u'https://api.github.com/users/solomonxie/starred{/owner}{/repo}',\n",
       "   u'subscriptions_url': u'https://api.github.com/users/solomonxie/subscriptions',\n",
       "   u'type': u'User',\n",
       "   u'url': u'https://api.github.com/users/solomonxie'}},\n",
       " {u'assignee': None,\n",
       "  u'assignees': [],\n",
       "  u'author_association': u'OWNER',\n",
       "  u'body': u'- [x] \\u5229\\u7528insomia\\u6216postman\\u6d4b\\u8bd5github api\\u53ef\\u884c\\u6027\\r\\n- [ ] \\u8bbe\\u8ba1issues\\u548crepo\\u7684\\u6620\\u5c04\\u65b9\\u6848\\r\\n- [ ] \\u8bbe\\u8ba1python\\u4f2a\\u4ee3\\u7801\\uff1a\\u6293\\u53d6issues\\u7684json\\u6570\\u636e\\u4fdd\\u5b58\\u4e3a\\u672c\\u5730md',\n",
       "  u'closed_at': None,\n",
       "  u'comments': 1,\n",
       "  u'comments_url': u'https://api.github.com/repos/solomonxie/gitissues/issues/1/comments',\n",
       "  u'created_at': u'2018-02-06T07:47:56Z',\n",
       "  u'events_url': u'https://api.github.com/repos/solomonxie/gitissues/issues/1/events',\n",
       "  u'html_url': u'https://github.com/solomonxie/gitissues/issues/1',\n",
       "  u'id': 294661555,\n",
       "  u'labels': [],\n",
       "  u'labels_url': u'https://api.github.com/repos/solomonxie/gitissues/issues/1/labels{/name}',\n",
       "  u'locked': False,\n",
       "  u'milestone': None,\n",
       "  u'number': 1,\n",
       "  u'repository_url': u'https://api.github.com/repos/solomonxie/gitissues',\n",
       "  u'state': u'open',\n",
       "  u'title': u'TO-DO List',\n",
       "  u'updated_at': u'2018-02-06T13:42:43Z',\n",
       "  u'url': u'https://api.github.com/repos/solomonxie/gitissues/issues/1',\n",
       "  u'user': {u'avatar_url': u'https://avatars2.githubusercontent.com/u/14041622?v=4',\n",
       "   u'events_url': u'https://api.github.com/users/solomonxie/events{/privacy}',\n",
       "   u'followers_url': u'https://api.github.com/users/solomonxie/followers',\n",
       "   u'following_url': u'https://api.github.com/users/solomonxie/following{/other_user}',\n",
       "   u'gists_url': u'https://api.github.com/users/solomonxie/gists{/gist_id}',\n",
       "   u'gravatar_id': u'',\n",
       "   u'html_url': u'https://github.com/solomonxie',\n",
       "   u'id': 14041622,\n",
       "   u'login': u'solomonxie',\n",
       "   u'organizations_url': u'https://api.github.com/users/solomonxie/orgs',\n",
       "   u'received_events_url': u'https://api.github.com/users/solomonxie/received_events',\n",
       "   u'repos_url': u'https://api.github.com/users/solomonxie/repos',\n",
       "   u'site_admin': False,\n",
       "   u'starred_url': u'https://api.github.com/users/solomonxie/starred{/owner}{/repo}',\n",
       "   u'subscriptions_url': u'https://api.github.com/users/solomonxie/subscriptions',\n",
       "   u'type': u'User',\n",
       "   u'url': u'https://api.github.com/users/solomonxie'}}]"
      ]
     },
     "execution_count": 2,
     "metadata": {},
     "output_type": "execute_result"
    }
   ],
   "source": [
    "issues"
   ]
  },
  {
   "cell_type": "code",
   "execution_count": null,
   "metadata": {
    "collapsed": true
   },
   "outputs": [],
   "source": []
  },
  {
   "cell_type": "code",
   "execution_count": null,
   "metadata": {
    "collapsed": true
   },
   "outputs": [],
   "source": []
  },
  {
   "cell_type": "code",
   "execution_count": null,
   "metadata": {
    "collapsed": true
   },
   "outputs": [],
   "source": []
  },
  {
   "cell_type": "code",
   "execution_count": 20,
   "metadata": {
    "collapsed": true,
    "scrolled": true
   },
   "outputs": [],
   "source": [
    "r_ = requests.get('https://api.github.com/repos/solomonxie/solomonxie.github.io/issues/42/comments')"
   ]
  },
  {
   "cell_type": "code",
   "execution_count": 30,
   "metadata": {
    "collapsed": true
   },
   "outputs": [],
   "source": [
    "comments = json.loads(r_.content)\n",
    "\n",
    "cm = comments[1]['body']"
   ]
  },
  {
   "cell_type": "code",
   "execution_count": 39,
   "metadata": {
    "scrolled": true
   },
   "outputs": [
    {
     "name": "stdout",
     "output_type": "stream",
     "text": [
      "<type 'unicode'> <type 'str'>\n"
     ]
    },
    {
     "data": {
      "text/plain": [
       "(u'# \\u5148\\u7559\\u4e00\\u4e2a\\u7a7a\\u4f4d\\u4ecb\\u7ecdAPI\\u8c03\\u8bd5\\u5ba2\\u6237\\u7aefInsomnia\\u548cPostman\\n\\n\\n',\n",
       " unicode)"
      ]
     },
     "execution_count": 39,
     "metadata": {},
     "output_type": "execute_result"
    }
   ],
   "source": [
    "print type(cm), type('\\n\\n\\n')\n",
    "cm+'\\n\\n\\n', type(cm+'\\n\\n\\n')"
   ]
  },
  {
   "cell_type": "code",
   "execution_count": 31,
   "metadata": {},
   "outputs": [
    {
     "data": {
      "text/plain": [
       "'# \\xe5\\x85\\x88\\xe7\\x95\\x99\\xe4\\xb8\\x80\\xe4\\xb8\\xaa\\xe7\\xa9\\xba\\xe4\\xbd\\x8d\\xe4\\xbb\\x8b\\xe7\\xbb\\x8dAPI\\xe8\\xb0\\x83\\xe8\\xaf\\x95\\xe5\\xae\\xa2\\xe6\\x88\\xb7\\xe7\\xab\\xafInsomnia\\xe5\\x92\\x8cPostman'"
      ]
     },
     "execution_count": 31,
     "metadata": {},
     "output_type": "execute_result"
    }
   ],
   "source": [
    "cm.encode('utf-8')"
   ]
  },
  {
   "cell_type": "code",
   "execution_count": null,
   "metadata": {
    "collapsed": true
   },
   "outputs": [],
   "source": []
  },
  {
   "cell_type": "code",
   "execution_count": null,
   "metadata": {
    "collapsed": true
   },
   "outputs": [],
   "source": []
  },
  {
   "cell_type": "code",
   "execution_count": 55,
   "metadata": {},
   "outputs": [
    {
     "data": {
      "text/plain": [
       "('\\xe4\\xbd\\xa0\\xe5\\xa5\\xbd\\n\\xe4\\xb8\\x96\\xe7\\x95\\x8c', str)"
      ]
     },
     "execution_count": 55,
     "metadata": {},
     "output_type": "execute_result"
    }
   ],
   "source": [
    "s1 = '\\n'.join( ['你好','世界'] )\n",
    "s1, type(s1)"
   ]
  },
  {
   "cell_type": "code",
   "execution_count": 54,
   "metadata": {},
   "outputs": [
    {
     "data": {
      "text/plain": [
       "(u'\\u4f60\\u597d\\n\\u4e16\\u754c', unicode)"
      ]
     },
     "execution_count": 54,
     "metadata": {},
     "output_type": "execute_result"
    }
   ],
   "source": [
    "s2 = '\\n'.join( [u'你好',u'世界'] )\n",
    "s2, type(s2)"
   ]
  },
  {
   "cell_type": "code",
   "execution_count": 56,
   "metadata": {},
   "outputs": [
    {
     "ename": "UnicodeDecodeError",
     "evalue": "'ascii' codec can't decode byte 0xe4 in position 0: ordinal not in range(128)",
     "output_type": "error",
     "traceback": [
      "\u001b[0;31m---------------------------------------------------------------------------\u001b[0m",
      "\u001b[0;31mUnicodeDecodeError\u001b[0m                        Traceback (most recent call last)",
      "\u001b[0;32m<ipython-input-56-9d1b546cb410>\u001b[0m in \u001b[0;36m<module>\u001b[0;34m()\u001b[0m\n\u001b[0;32m----> 1\u001b[0;31m \u001b[0ms3\u001b[0m \u001b[0;34m=\u001b[0m \u001b[0;34m'\\n'\u001b[0m\u001b[0;34m.\u001b[0m\u001b[0mjoin\u001b[0m\u001b[0;34m(\u001b[0m \u001b[0;34m[\u001b[0m\u001b[0;34mu'你好'\u001b[0m\u001b[0;34m,\u001b[0m\u001b[0;34m'世界'\u001b[0m\u001b[0;34m]\u001b[0m \u001b[0;34m)\u001b[0m\u001b[0;34m\u001b[0m\u001b[0m\n\u001b[0m\u001b[1;32m      2\u001b[0m \u001b[0ms3\u001b[0m\u001b[0;34m,\u001b[0m \u001b[0mtype\u001b[0m\u001b[0;34m(\u001b[0m\u001b[0ms3\u001b[0m\u001b[0;34m)\u001b[0m\u001b[0;34m\u001b[0m\u001b[0m\n",
      "\u001b[0;31mUnicodeDecodeError\u001b[0m: 'ascii' codec can't decode byte 0xe4 in position 0: ordinal not in range(128)"
     ]
    }
   ],
   "source": [
    "s3 = '\\n'.join( [u'你好','世界'] )\n",
    "s3, type(s3)"
   ]
  },
  {
   "cell_type": "code",
   "execution_count": null,
   "metadata": {
    "collapsed": true
   },
   "outputs": [],
   "source": []
  },
  {
   "cell_type": "code",
   "execution_count": null,
   "metadata": {
    "collapsed": true
   },
   "outputs": [],
   "source": []
  },
  {
   "cell_type": "code",
   "execution_count": 69,
   "metadata": {},
   "outputs": [
    {
     "ename": "OSError",
     "evalue": "[Errno 17] File exists: './test/doc/src'",
     "output_type": "error",
     "traceback": [
      "\u001b[0;31m---------------------------------------------------------------------------\u001b[0m",
      "\u001b[0;31mOSError\u001b[0m                                   Traceback (most recent call last)",
      "\u001b[0;32m<ipython-input-69-44d698a1458c>\u001b[0m in \u001b[0;36m<module>\u001b[0;34m()\u001b[0m\n\u001b[1;32m      2\u001b[0m \u001b[0mfolder\u001b[0m \u001b[0;34m=\u001b[0m \u001b[0;34m'./test/doc/src'\u001b[0m\u001b[0;34m\u001b[0m\u001b[0m\n\u001b[1;32m      3\u001b[0m \u001b[0;34m\u001b[0m\u001b[0m\n\u001b[0;32m----> 4\u001b[0;31m \u001b[0mos\u001b[0m\u001b[0;34m.\u001b[0m\u001b[0mmkdir\u001b[0m\u001b[0;34m(\u001b[0m\u001b[0mfolder\u001b[0m\u001b[0;34m)\u001b[0m\u001b[0;34m\u001b[0m\u001b[0m\n\u001b[0m\u001b[1;32m      5\u001b[0m \u001b[0;34m\u001b[0m\u001b[0m\n\u001b[1;32m      6\u001b[0m \u001b[0;32mwith\u001b[0m \u001b[0mopen\u001b[0m\u001b[0;34m(\u001b[0m\u001b[0;34m'%s/test.txt'\u001b[0m\u001b[0;34m%\u001b[0m\u001b[0mfolder\u001b[0m\u001b[0;34m,\u001b[0m \u001b[0;34m'w'\u001b[0m\u001b[0;34m)\u001b[0m \u001b[0;32mas\u001b[0m \u001b[0mf\u001b[0m\u001b[0;34m:\u001b[0m\u001b[0;34m\u001b[0m\u001b[0m\n",
      "\u001b[0;31mOSError\u001b[0m: [Errno 17] File exists: './test/doc/src'"
     ]
    }
   ],
   "source": [
    "import os\n",
    "folder = './test/doc/src'\n",
    "\n",
    "os.mkdir(folder)\n",
    "\n",
    "with open('%s/test.txt'%folder, 'w') as f:\n",
    "    f.write('你好')"
   ]
  },
  {
   "cell_type": "code",
   "execution_count": null,
   "metadata": {
    "collapsed": true
   },
   "outputs": [],
   "source": []
  }
 ],
 "metadata": {
  "kernelspec": {
   "display_name": "Python 2",
   "language": "python",
   "name": "python2"
  },
  "language_info": {
   "codemirror_mode": {
    "name": "ipython",
    "version": 2
   },
   "file_extension": ".py",
   "mimetype": "text/x-python",
   "name": "python",
   "nbconvert_exporter": "python",
   "pygments_lexer": "ipython2",
   "version": "2.7.14"
  }
 },
 "nbformat": 4,
 "nbformat_minor": 2
}
