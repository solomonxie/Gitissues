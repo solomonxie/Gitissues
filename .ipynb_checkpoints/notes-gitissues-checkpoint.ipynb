{
 "cells": [
  {
   "cell_type": "code",
   "execution_count": null,
   "metadata": {
    "collapsed": true
   },
   "outputs": [],
   "source": []
  },
  {
   "cell_type": "code",
   "execution_count": null,
   "metadata": {
    "collapsed": true
   },
   "outputs": [],
   "source": []
  },
  {
   "cell_type": "code",
   "execution_count": null,
   "metadata": {
    "collapsed": true
   },
   "outputs": [],
   "source": []
  },
  {
   "cell_type": "markdown",
   "metadata": {},
   "source": [
    "# 测试读取外部json并转化为Object对象"
   ]
  },
  {
   "cell_type": "code",
   "execution_count": 1,
   "metadata": {
    "collapsed": true
   },
   "outputs": [],
   "source": [
    "#!/usr/bin/env python\n",
    "# -*- coding: utf-8 -*-\n",
    "\n",
    "import requests, json\n",
    "\n",
    "url = 'https://api.github.com/repos/solomonxie/gitissues/issues'\n",
    "\n",
    "r = requests.get( url )\n",
    "\n",
    "issues = json.loads(r.content)\n"
   ]
  },
  {
   "cell_type": "code",
   "execution_count": 2,
   "metadata": {
    "collapsed": true
   },
   "outputs": [
    {
     "data": {
      "text/plain": [
       "[{u'assignee': None,\n",
       "  u'assignees': [],\n",
       "  u'author_association': u'OWNER',\n",
       "  u'body': u'# Using variables inside Postman and Collection Runner\\r\\nPosted on 20 Feb, 2014Author abhinav\\r\\nVariables are among the most powerful features in Postman. Using variables in your Postman requests, eliminates the need to duplicate requests, which can save a lot of time!\\r\\n\\r\\n',\n",
       "  u'closed_at': None,\n",
       "  u'comments': 3,\n",
       "  u'comments_url': u'https://api.github.com/repos/solomonxie/gitissues/issues/3/comments',\n",
       "  u'created_at': u'2018-02-06T09:31:28Z',\n",
       "  u'events_url': u'https://api.github.com/repos/solomonxie/gitissues/issues/3/events',\n",
       "  u'html_url': u'https://github.com/solomonxie/gitissues/issues/3',\n",
       "  u'id': 294688108,\n",
       "  u'labels': [],\n",
       "  u'labels_url': u'https://api.github.com/repos/solomonxie/gitissues/issues/3/labels{/name}',\n",
       "  u'locked': False,\n",
       "  u'milestone': None,\n",
       "  u'number': 3,\n",
       "  u'repository_url': u'https://api.github.com/repos/solomonxie/gitissues',\n",
       "  u'state': u'open',\n",
       "  u'title': u'testing issue 2',\n",
       "  u'updated_at': u'2018-02-06T09:32:23Z',\n",
       "  u'url': u'https://api.github.com/repos/solomonxie/gitissues/issues/3',\n",
       "  u'user': {u'avatar_url': u'https://avatars2.githubusercontent.com/u/14041622?v=4',\n",
       "   u'events_url': u'https://api.github.com/users/solomonxie/events{/privacy}',\n",
       "   u'followers_url': u'https://api.github.com/users/solomonxie/followers',\n",
       "   u'following_url': u'https://api.github.com/users/solomonxie/following{/other_user}',\n",
       "   u'gists_url': u'https://api.github.com/users/solomonxie/gists{/gist_id}',\n",
       "   u'gravatar_id': u'',\n",
       "   u'html_url': u'https://github.com/solomonxie',\n",
       "   u'id': 14041622,\n",
       "   u'login': u'solomonxie',\n",
       "   u'organizations_url': u'https://api.github.com/users/solomonxie/orgs',\n",
       "   u'received_events_url': u'https://api.github.com/users/solomonxie/received_events',\n",
       "   u'repos_url': u'https://api.github.com/users/solomonxie/repos',\n",
       "   u'site_admin': False,\n",
       "   u'starred_url': u'https://api.github.com/users/solomonxie/starred{/owner}{/repo}',\n",
       "   u'subscriptions_url': u'https://api.github.com/users/solomonxie/subscriptions',\n",
       "   u'type': u'User',\n",
       "   u'url': u'https://api.github.com/users/solomonxie'}},\n",
       " {u'assignee': None,\n",
       "  u'assignees': [],\n",
       "  u'author_association': u'OWNER',\n",
       "  u'body': u'# 10 tips for working with Postman variables\\r\\n\\r\\n\\r\\nVariables are a fundamental concept in programming, and in Postman, they can be your best friend. Instead of painstakingly updating individual values, use variables to cascade changes effortlessly through the rest of your code. If you\\u2019re not already using variables in Postman, get ready to have your mind blown.\\r\\n\\r\\n![image](https://user-images.githubusercontent.com/14041622/35851588-70ef05f6-0b63-11e8-9b9e-ffc0b3db7af5.png)\\r\\n',\n",
       "  u'closed_at': None,\n",
       "  u'comments': 2,\n",
       "  u'comments_url': u'https://api.github.com/repos/solomonxie/gitissues/issues/2/comments',\n",
       "  u'created_at': u'2018-02-06T09:30:46Z',\n",
       "  u'events_url': u'https://api.github.com/repos/solomonxie/gitissues/issues/2/events',\n",
       "  u'html_url': u'https://github.com/solomonxie/gitissues/issues/2',\n",
       "  u'id': 294687892,\n",
       "  u'labels': [],\n",
       "  u'labels_url': u'https://api.github.com/repos/solomonxie/gitissues/issues/2/labels{/name}',\n",
       "  u'locked': False,\n",
       "  u'milestone': None,\n",
       "  u'number': 2,\n",
       "  u'repository_url': u'https://api.github.com/repos/solomonxie/gitissues',\n",
       "  u'state': u'open',\n",
       "  u'title': u'testing issue 1',\n",
       "  u'updated_at': u'2018-02-06T09:31:07Z',\n",
       "  u'url': u'https://api.github.com/repos/solomonxie/gitissues/issues/2',\n",
       "  u'user': {u'avatar_url': u'https://avatars2.githubusercontent.com/u/14041622?v=4',\n",
       "   u'events_url': u'https://api.github.com/users/solomonxie/events{/privacy}',\n",
       "   u'followers_url': u'https://api.github.com/users/solomonxie/followers',\n",
       "   u'following_url': u'https://api.github.com/users/solomonxie/following{/other_user}',\n",
       "   u'gists_url': u'https://api.github.com/users/solomonxie/gists{/gist_id}',\n",
       "   u'gravatar_id': u'',\n",
       "   u'html_url': u'https://github.com/solomonxie',\n",
       "   u'id': 14041622,\n",
       "   u'login': u'solomonxie',\n",
       "   u'organizations_url': u'https://api.github.com/users/solomonxie/orgs',\n",
       "   u'received_events_url': u'https://api.github.com/users/solomonxie/received_events',\n",
       "   u'repos_url': u'https://api.github.com/users/solomonxie/repos',\n",
       "   u'site_admin': False,\n",
       "   u'starred_url': u'https://api.github.com/users/solomonxie/starred{/owner}{/repo}',\n",
       "   u'subscriptions_url': u'https://api.github.com/users/solomonxie/subscriptions',\n",
       "   u'type': u'User',\n",
       "   u'url': u'https://api.github.com/users/solomonxie'}},\n",
       " {u'assignee': None,\n",
       "  u'assignees': [],\n",
       "  u'author_association': u'OWNER',\n",
       "  u'body': u'- [x] \\u5229\\u7528insomia\\u6216postman\\u6d4b\\u8bd5github api\\u53ef\\u884c\\u6027\\r\\n- [ ] \\u8bbe\\u8ba1issues\\u548crepo\\u7684\\u6620\\u5c04\\u65b9\\u6848\\r\\n- [ ] \\u8bbe\\u8ba1python\\u4f2a\\u4ee3\\u7801\\uff1a\\u6293\\u53d6issues\\u7684json\\u6570\\u636e\\u4fdd\\u5b58\\u4e3a\\u672c\\u5730md',\n",
       "  u'closed_at': None,\n",
       "  u'comments': 1,\n",
       "  u'comments_url': u'https://api.github.com/repos/solomonxie/gitissues/issues/1/comments',\n",
       "  u'created_at': u'2018-02-06T07:47:56Z',\n",
       "  u'events_url': u'https://api.github.com/repos/solomonxie/gitissues/issues/1/events',\n",
       "  u'html_url': u'https://github.com/solomonxie/gitissues/issues/1',\n",
       "  u'id': 294661555,\n",
       "  u'labels': [],\n",
       "  u'labels_url': u'https://api.github.com/repos/solomonxie/gitissues/issues/1/labels{/name}',\n",
       "  u'locked': False,\n",
       "  u'milestone': None,\n",
       "  u'number': 1,\n",
       "  u'repository_url': u'https://api.github.com/repos/solomonxie/gitissues',\n",
       "  u'state': u'open',\n",
       "  u'title': u'TO-DO List',\n",
       "  u'updated_at': u'2018-02-06T13:42:43Z',\n",
       "  u'url': u'https://api.github.com/repos/solomonxie/gitissues/issues/1',\n",
       "  u'user': {u'avatar_url': u'https://avatars2.githubusercontent.com/u/14041622?v=4',\n",
       "   u'events_url': u'https://api.github.com/users/solomonxie/events{/privacy}',\n",
       "   u'followers_url': u'https://api.github.com/users/solomonxie/followers',\n",
       "   u'following_url': u'https://api.github.com/users/solomonxie/following{/other_user}',\n",
       "   u'gists_url': u'https://api.github.com/users/solomonxie/gists{/gist_id}',\n",
       "   u'gravatar_id': u'',\n",
       "   u'html_url': u'https://github.com/solomonxie',\n",
       "   u'id': 14041622,\n",
       "   u'login': u'solomonxie',\n",
       "   u'organizations_url': u'https://api.github.com/users/solomonxie/orgs',\n",
       "   u'received_events_url': u'https://api.github.com/users/solomonxie/received_events',\n",
       "   u'repos_url': u'https://api.github.com/users/solomonxie/repos',\n",
       "   u'site_admin': False,\n",
       "   u'starred_url': u'https://api.github.com/users/solomonxie/starred{/owner}{/repo}',\n",
       "   u'subscriptions_url': u'https://api.github.com/users/solomonxie/subscriptions',\n",
       "   u'type': u'User',\n",
       "   u'url': u'https://api.github.com/users/solomonxie'}}]"
      ]
     },
     "execution_count": 2,
     "metadata": {},
     "output_type": "execute_result"
    }
   ],
   "source": [
    "issues"
   ]
  },
  {
   "cell_type": "code",
   "execution_count": null,
   "metadata": {
    "collapsed": true
   },
   "outputs": [],
   "source": []
  },
  {
   "cell_type": "code",
   "execution_count": null,
   "metadata": {
    "collapsed": true
   },
   "outputs": [],
   "source": []
  },
  {
   "cell_type": "code",
   "execution_count": null,
   "metadata": {
    "collapsed": true
   },
   "outputs": [],
   "source": []
  },
  {
   "cell_type": "code",
   "execution_count": null,
   "metadata": {
    "collapsed": true
   },
   "outputs": [],
   "source": []
  },
  {
   "cell_type": "markdown",
   "metadata": {
    "collapsed": true
   },
   "source": [
    "# 测试从外部读取json并转化为Object后里面内容的编码"
   ]
  },
  {
   "cell_type": "code",
   "execution_count": 20,
   "metadata": {
    "collapsed": true,
    "scrolled": true
   },
   "outputs": [],
   "source": [
    "r_ = requests.get('https://api.github.com/repos/solomonxie/solomonxie.github.io/issues/42/comments')"
   ]
  },
  {
   "cell_type": "code",
   "execution_count": 30,
   "metadata": {
    "collapsed": true
   },
   "outputs": [],
   "source": [
    "comments = json.loads(r_.content)\n",
    "\n",
    "cm = comments[1]['body']"
   ]
  },
  {
   "cell_type": "code",
   "execution_count": 39,
   "metadata": {
    "scrolled": true
   },
   "outputs": [
    {
     "name": "stdout",
     "output_type": "stream",
     "text": [
      "<type 'unicode'> <type 'str'>\n"
     ]
    },
    {
     "data": {
      "text/plain": [
       "(u'# \\u5148\\u7559\\u4e00\\u4e2a\\u7a7a\\u4f4d\\u4ecb\\u7ecdAPI\\u8c03\\u8bd5\\u5ba2\\u6237\\u7aefInsomnia\\u548cPostman\\n\\n\\n',\n",
       " unicode)"
      ]
     },
     "execution_count": 39,
     "metadata": {},
     "output_type": "execute_result"
    }
   ],
   "source": [
    "print type(cm), type('\\n\\n\\n')\n",
    "cm+'\\n\\n\\n', type(cm+'\\n\\n\\n')"
   ]
  },
  {
   "cell_type": "code",
   "execution_count": 31,
   "metadata": {},
   "outputs": [
    {
     "data": {
      "text/plain": [
       "'# \\xe5\\x85\\x88\\xe7\\x95\\x99\\xe4\\xb8\\x80\\xe4\\xb8\\xaa\\xe7\\xa9\\xba\\xe4\\xbd\\x8d\\xe4\\xbb\\x8b\\xe7\\xbb\\x8dAPI\\xe8\\xb0\\x83\\xe8\\xaf\\x95\\xe5\\xae\\xa2\\xe6\\x88\\xb7\\xe7\\xab\\xafInsomnia\\xe5\\x92\\x8cPostman'"
      ]
     },
     "execution_count": 31,
     "metadata": {},
     "output_type": "execute_result"
    }
   ],
   "source": [
    "cm.encode('utf-8')"
   ]
  },
  {
   "cell_type": "code",
   "execution_count": null,
   "metadata": {
    "collapsed": true
   },
   "outputs": [],
   "source": []
  },
  {
   "cell_type": "markdown",
   "metadata": {},
   "source": [
    "# 测试将JSON List转化为字符串并保存到本地文件"
   ]
  },
  {
   "cell_type": "code",
   "execution_count": 13,
   "metadata": {
    "collapsed": true
   },
   "outputs": [
    {
     "name": "stdout",
     "output_type": "stream",
     "text": [
      "[{u'labels': [{u'color': u'c5def5', u'default': False, u'url': u'https://api.github.com/repos/solomonxie/solomonxie.github.io/labels/Network', u'id': 817021069, u'name': u'Network'}, {u'color': u'c5def5', u'default': False, u'url': u'https://api.github.com/repos/solomonxie/solomonxie.github.io/labels/Top-notes', u'id': 831921770, u'name': u'Top-notes'}], u'updated_at': u'2019-02-09T05:47:24Z', u'assignee': None, u'repository_url': u'https://api.github.com/repos/solomonxie/solomonxie.github.io', u'closed_at': None, u'id': 294332309, u'title': u'API \\u6570\\u636e\\u64cd\\u4f5c\\u5b9e\\u8df5', u'comments': 5, u'state': u'open', u'body': u'## \\u76ee\\u524d\\u662f\\u64cd\\u4f5cGithub API\\u83b7\\u53d6\\u81ea\\u5df1\\u7684repo\\u548cissues\\u6570\\u636e\\uff0c\\u7136\\u540e\\u8fd8\\u4f1a\\u7814\\u7a76bitbucket\\u7b49\\u5404\\u79cd\\u5404\\u6837\\u7684\\u7f51\\u7ad9API', u'author_association': u'OWNER', u'labels_url': u'https://api.github.com/repos/solomonxie/solomonxie.github.io/issues/42/labels{/name}', u'events_url': u'https://api.github.com/repos/solomonxie/solomonxie.github.io/issues/42/events', u'comments_url': u'https://api.github.com/repos/solomonxie/solomonxie.github.io/issues/42/comments', u'html_url': u'https://github.com/solomonxie/solomonxie.github.io/issues/42', u'number': 42, u'user': {u'following_url': u'https://api.github.com/users/solomonxie/following{/other_user}', u'gists_url': u'https://api.github.com/users/solomonxie/gists{/gist_id}', u'organizations_url': u'https://api.github.com/users/solomonxie/orgs', u'url': u'https://api.github.com/users/solomonxie', u'events_url': u'https://api.github.com/users/solomonxie/events{/privacy}', u'html_url': u'https://github.com/solomonxie', u'subscriptions_url': u'https://api.github.com/users/solomonxie/subscriptions', u'avatar_url': u'https://avatars2.githubusercontent.com/u/14041622?v=4', u'repos_url': u'https://api.github.com/users/solomonxie/repos', u'received_events_url': u'https://api.github.com/users/solomonxie/received_events', u'gravatar_id': u'', u'starred_url': u'https://api.github.com/users/solomonxie/starred{/owner}{/repo}', u'site_admin': False, u'login': u'solomonxie', u'type': u'User', u'id': 14041622, u'followers_url': u'https://api.github.com/users/solomonxie/followers'}, u'milestone': {u'description': u'Most recently or most frequently notes', u'creator': {u'following_url': u'https://api.github.com/users/solomonxie/following{/other_user}', u'gists_url': u'https://api.github.com/users/solomonxie/gists{/gist_id}', u'organizations_url': u'https://api.github.com/users/solomonxie/orgs', u'url': u'https://api.github.com/users/solomonxie', u'events_url': u'https://api.github.com/users/solomonxie/events{/privacy}', u'html_url': u'https://github.com/solomonxie', u'subscriptions_url': u'https://api.github.com/users/solomonxie/subscriptions', u'avatar_url': u'https://avatars2.githubusercontent.com/u/14041622?v=4', u'repos_url': u'https://api.github.com/users/solomonxie/repos', u'received_events_url': u'https://api.github.com/users/solomonxie/received_events', u'gravatar_id': u'', u'starred_url': u'https://api.github.com/users/solomonxie/starred{/owner}{/repo}', u'site_admin': False, u'login': u'solomonxie', u'type': u'User', u'id': 14041622, u'followers_url': u'https://api.github.com/users/solomonxie/followers'}, u'updated_at': u'2018-02-09T05:48:38Z', u'labels_url': u'https://api.github.com/repos/solomonxie/solomonxie.github.io/milestones/2/labels', u'created_at': u'2018-01-22T12:38:50Z', u'title': u'TOP NOTES', u'html_url': u'https://github.com/solomonxie/solomonxie.github.io/milestone/2', u'number': 2, u'open_issues': 18, u'state': u'open', u'url': u'https://api.github.com/repos/solomonxie/solomonxie.github.io/milestones/2', u'closed_issues': 0, u'due_on': None, u'closed_at': None, u'id': 3053599}, u'locked': False, u'url': u'https://api.github.com/repos/solomonxie/solomonxie.github.io/issues/42', u'created_at': u'2018-02-05T09:55:01Z', u'assignees': []}, {u'labels': [{u'color': u'bfd4f2', u'default': False, u'url': u'https://api.github.com/repos/solomonxie/solomonxie.github.io/labels/Blog', u'id': 270968623, u'name': u'Blog'}, {u'color': u'c5def5', u'default': False, u'url': u'https://api.github.com/repos/solomonxie/solomonxie.github.io/labels/Top-notes', u'id': 831921770, u'name': u'Top-notes'}], u'updated_at': u'2018-02-09T05:47:50Z', u'assignee': None, u'repository_url': u'https://api.github.com/repos/solomonxie/solomonxie.github.io', u'closed_at': None, u'id': 293913142, u'title': u'Tweets', u'comments': 8, u'state': u'open', u'body': u'> Better to have a place like here to say something randomly, with no restrictions and no worries.', u'author_association': u'OWNER', u'labels_url': u'https://api.github.com/repos/solomonxie/solomonxie.github.io/issues/39/labels{/name}', u'events_url': u'https://api.github.com/repos/solomonxie/solomonxie.github.io/issues/39/events', u'comments_url': u'https://api.github.com/repos/solomonxie/solomonxie.github.io/issues/39/comments', u'html_url': u'https://github.com/solomonxie/solomonxie.github.io/issues/39', u'number': 39, u'user': {u'following_url': u'https://api.github.com/users/solomonxie/following{/other_user}', u'gists_url': u'https://api.github.com/users/solomonxie/gists{/gist_id}', u'organizations_url': u'https://api.github.com/users/solomonxie/orgs', u'url': u'https://api.github.com/users/solomonxie', u'events_url': u'https://api.github.com/users/solomonxie/events{/privacy}', u'html_url': u'https://github.com/solomonxie', u'subscriptions_url': u'https://api.github.com/users/solomonxie/subscriptions', u'avatar_url': u'https://avatars2.githubusercontent.com/u/14041622?v=4', u'repos_url': u'https://api.github.com/users/solomonxie/repos', u'received_events_url': u'https://api.github.com/users/solomonxie/received_events', u'gravatar_id': u'', u'starred_url': u'https://api.github.com/users/solomonxie/starred{/owner}{/repo}', u'site_admin': False, u'login': u'solomonxie', u'type': u'User', u'id': 14041622, u'followers_url': u'https://api.github.com/users/solomonxie/followers'}, u'milestone': {u'description': u'Most recently or most frequently notes', u'creator': {u'following_url': u'https://api.github.com/users/solomonxie/following{/other_user}', u'gists_url': u'https://api.github.com/users/solomonxie/gists{/gist_id}', u'organizations_url': u'https://api.github.com/users/solomonxie/orgs', u'url': u'https://api.github.com/users/solomonxie', u'events_url': u'https://api.github.com/users/solomonxie/events{/privacy}', u'html_url': u'https://github.com/solomonxie', u'subscriptions_url': u'https://api.github.com/users/solomonxie/subscriptions', u'avatar_url': u'https://avatars2.githubusercontent.com/u/14041622?v=4', u'repos_url': u'https://api.github.com/users/solomonxie/repos', u'received_events_url': u'https://api.github.com/users/solomonxie/received_events', u'gravatar_id': u'', u'starred_url': u'https://api.github.com/users/solomonxie/starred{/owner}{/repo}', u'site_admin': False, u'login': u'solomonxie', u'type': u'User', u'id': 14041622, u'followers_url': u'https://api.github.com/users/solomonxie/followers'}, u'updated_at': u'2018-02-09T05:48:38Z', u'labels_url': u'https://api.github.com/repos/solomonxie/solomonxie.github.io/milestones/2/labels', u'created_at': u'2018-01-22T12:38:50Z', u'title': u'TOP NOTES', u'html_url': u'https://github.com/solomonxie/solomonxie.github.io/milestone/2', u'number': 2, u'open_issues': 18, u'state': u'open', u'url': u'https://api.github.com/repos/solomonxie/solomonxie.github.io/milestones/2', u'closed_issues': 0, u'due_on': None, u'closed_at': None, u'id': 3053599}, u'locked': False, u'url': u'https://api.github.com/repos/solomonxie/solomonxie.github.io/issues/39', u'created_at': u'2018-02-02T14:51:53Z', u'assignees': []}, {u'labels': [{u'color': u'1d76db', u'default': False, u'url': u'https://api.github.com/repos/solomonxie/solomonxie.github.io/labels/AI', u'id': 823984781, u'name': u'AI'}, {u'color': u'bfd4f2', u'default': False, u'url': u'https://api.github.com/repos/solomonxie/solomonxie.github.io/labels/Blog', u'id': 270968623, u'name': u'Blog'}, {u'color': u'c5def5', u'default': False, u'url': u'https://api.github.com/repos/solomonxie/solomonxie.github.io/labels/Top-notes', u'id': 831921770, u'name': u'Top-notes'}], u'updated_at': u'2018-02-09T05:47:55Z', u'assignee': None, u'repository_url': u'https://api.github.com/repos/solomonxie/solomonxie.github.io', u'closed_at': None, u'id': 293621467, u'title': u'Machine Learning note and diary', u'comments': 7, u'state': u'open', u'body': u'> By having a wild thought on start a career on Artificial intelligence, started today to do a tiny research on how to study AI. It turns out it consist of a shit black hole of knowledges, which means I have to study all of those things, not mention even some basic terms are causing a headache to me, such like Machine Learning, Deep Learning, Data Mining, Big Data, Classification etc etc. Thus I tend to write down some notes and random thoughts here helping me to organise it better. Saying, a tiny pen is better than a great brain.', u'author_association': u'OWNER', u'labels_url': u'https://api.github.com/repos/solomonxie/solomonxie.github.io/issues/38/labels{/name}', u'events_url': u'https://api.github.com/repos/solomonxie/solomonxie.github.io/issues/38/events', u'comments_url': u'https://api.github.com/repos/solomonxie/solomonxie.github.io/issues/38/comments', u'html_url': u'https://github.com/solomonxie/solomonxie.github.io/issues/38', u'number': 38, u'user': {u'following_url': u'https://api.github.com/users/solomonxie/following{/other_user}', u'gists_url': u'https://api.github.com/users/solomonxie/gists{/gist_id}', u'organizations_url': u'https://api.github.com/users/solomonxie/orgs', u'url': u'https://api.github.com/users/solomonxie', u'events_url': u'https://api.github.com/users/solomonxie/events{/privacy}', u'html_url': u'https://github.com/solomonxie', u'subscriptions_url': u'https://api.github.com/users/solomonxie/subscriptions', u'avatar_url': u'https://avatars2.githubusercontent.com/u/14041622?v=4', u'repos_url': u'https://api.github.com/users/solomonxie/repos', u'received_events_url': u'https://api.github.com/users/solomonxie/received_events', u'gravatar_id': u'', u'starred_url': u'https://api.github.com/users/solomonxie/starred{/owner}{/repo}', u'site_admin': False, u'login': u'solomonxie', u'type': u'User', u'id': 14041622, u'followers_url': u'https://api.github.com/users/solomonxie/followers'}, u'milestone': {u'description': u'Most recently or most frequently notes', u'creator': {u'following_url': u'https://api.github.com/users/solomonxie/following{/other_user}', u'gists_url': u'https://api.github.com/users/solomonxie/gists{/gist_id}', u'organizations_url': u'https://api.github.com/users/solomonxie/orgs', u'url': u'https://api.github.com/users/solomonxie', u'events_url': u'https://api.github.com/users/solomonxie/events{/privacy}', u'html_url': u'https://github.com/solomonxie', u'subscriptions_url': u'https://api.github.com/users/solomonxie/subscriptions', u'avatar_url': u'https://avatars2.githubusercontent.com/u/14041622?v=4', u'repos_url': u'https://api.github.com/users/solomonxie/repos', u'received_events_url': u'https://api.github.com/users/solomonxie/received_events', u'gravatar_id': u'', u'starred_url': u'https://api.github.com/users/solomonxie/starred{/owner}{/repo}', u'site_admin': False, u'login': u'solomonxie', u'type': u'User', u'id': 14041622, u'followers_url': u'https://api.github.com/users/solomonxie/followers'}, u'updated_at': u'2018-02-09T05:48:38Z', u'labels_url': u'https://api.github.com/repos/solomonxie/solomonxie.github.io/milestones/2/labels', u'created_at': u'2018-01-22T12:38:50Z', u'title': u'TOP NOTES', u'html_url': u'https://github.com/solomonxie/solomonxie.github.io/milestone/2', u'number': 2, u'open_issues': 18, u'state': u'open', u'url': u'https://api.github.com/repos/solomonxie/solomonxie.github.io/milestones/2', u'closed_issues': 0, u'due_on': None, u'closed_at': None, u'id': 3053599}, u'locked': False, u'url': u'https://api.github.com/repos/solomonxie/solomonxie.github.io/issues/38', u'created_at': u'2018-02-01T17:38:42Z', u'assignees': []}, {u'labels': [{u'color': u'c2e0c6', u'default': False, u'url': u'https://api.github.com/repos/solomonxie/solomonxie.github.io/labels/Javascript', u'id': 831923598, u'name': u'Javascript'}, {u'color': u'c5def5', u'default': False, u'url': u'https://api.github.com/repos/solomonxie/solomonxie.github.io/labels/Top-notes', u'id': 831921770, u'name': u'Top-notes'}], u'updated_at': u'2018-02-09T05:48:01Z', u'assignee': None, u'repository_url': u'https://api.github.com/repos/solomonxie/solomonxie.github.io', u'closed_at': None, u'id': 292336125, u'title': u'Javascript \\u7f16\\u7801\\u7ec6\\u8282\\u6280\\u5de7', u'comments': 1, u'state': u'open', u'body': u'> \\u8bb0\\u5f55Javascript\\u7684\\u57fa\\u672c\\u8bed\\u6cd5\\u548c\\u5e38\\u7528\\u6280\\u5de7\\uff0c\\u4ee5\\u53ca\\u6269\\u5c55\\u5e93\\u7b49\\u7b49\\u3002', u'author_association': u'OWNER', u'labels_url': u'https://api.github.com/repos/solomonxie/solomonxie.github.io/issues/37/labels{/name}', u'events_url': u'https://api.github.com/repos/solomonxie/solomonxie.github.io/issues/37/events', u'comments_url': u'https://api.github.com/repos/solomonxie/solomonxie.github.io/issues/37/comments', u'html_url': u'https://github.com/solomonxie/solomonxie.github.io/issues/37', u'number': 37, u'user': {u'following_url': u'https://api.github.com/users/solomonxie/following{/other_user}', u'gists_url': u'https://api.github.com/users/solomonxie/gists{/gist_id}', u'organizations_url': u'https://api.github.com/users/solomonxie/orgs', u'url': u'https://api.github.com/users/solomonxie', u'events_url': u'https://api.github.com/users/solomonxie/events{/privacy}', u'html_url': u'https://github.com/solomonxie', u'subscriptions_url': u'https://api.github.com/users/solomonxie/subscriptions', u'avatar_url': u'https://avatars2.githubusercontent.com/u/14041622?v=4', u'repos_url': u'https://api.github.com/users/solomonxie/repos', u'received_events_url': u'https://api.github.com/users/solomonxie/received_events', u'gravatar_id': u'', u'starred_url': u'https://api.github.com/users/solomonxie/starred{/owner}{/repo}', u'site_admin': False, u'login': u'solomonxie', u'type': u'User', u'id': 14041622, u'followers_url': u'https://api.github.com/users/solomonxie/followers'}, u'milestone': {u'description': u'Most recently or most frequently notes', u'creator': {u'following_url': u'https://api.github.com/users/solomonxie/following{/other_user}', u'gists_url': u'https://api.github.com/users/solomonxie/gists{/gist_id}', u'organizations_url': u'https://api.github.com/users/solomonxie/orgs', u'url': u'https://api.github.com/users/solomonxie', u'events_url': u'https://api.github.com/users/solomonxie/events{/privacy}', u'html_url': u'https://github.com/solomonxie', u'subscriptions_url': u'https://api.github.com/users/solomonxie/subscriptions', u'avatar_url': u'https://avatars2.githubusercontent.com/u/14041622?v=4', u'repos_url': u'https://api.github.com/users/solomonxie/repos', u'received_events_url': u'https://api.github.com/users/solomonxie/received_events', u'gravatar_id': u'', u'starred_url': u'https://api.github.com/users/solomonxie/starred{/owner}{/repo}', u'site_admin': False, u'login': u'solomonxie', u'type': u'User', u'id': 14041622, u'followers_url': u'https://api.github.com/users/solomonxie/followers'}, u'updated_at': u'2018-02-09T05:48:38Z', u'labels_url': u'https://api.github.com/repos/solomonxie/solomonxie.github.io/milestones/2/labels', u'created_at': u'2018-01-22T12:38:50Z', u'title': u'TOP NOTES', u'html_url': u'https://github.com/solomonxie/solomonxie.github.io/milestone/2', u'number': 2, u'open_issues': 18, u'state': u'open', u'url': u'https://api.github.com/repos/solomonxie/solomonxie.github.io/milestones/2', u'closed_issues': 0, u'due_on': None, u'closed_at': None, u'id': 3053599}, u'locked': False, u'url': u'https://api.github.com/repos/solomonxie/solomonxie.github.io/issues/37', u'created_at': u'2018-01-29T09:26:22Z', u'assignees': []}, {u'labels': [{u'color': u'bcd9f4', u'default': False, u'url': u'https://api.github.com/repos/solomonxie/solomonxie.github.io/labels/Web%20Dev', u'id': 817033078, u'name': u'Web Dev'}], u'updated_at': u'2018-02-09T05:48:05Z', u'assignee': None, u'repository_url': u'https://api.github.com/repos/solomonxie/solomonxie.github.io', u'closed_at': None, u'id': 292332416, u'title': u'CSS \\u5916\\u89c2\\u7ecf\\u9a8c', u'comments': 2, u'state': u'open', u'body': u'> \\u4e3b\\u8981\\u8bb0\\u5f55\\u70b9css\\u7684\\u8bed\\u6cd5\\u548c\\u6280\\u5de7', u'author_association': u'OWNER', u'labels_url': u'https://api.github.com/repos/solomonxie/solomonxie.github.io/issues/36/labels{/name}', u'events_url': u'https://api.github.com/repos/solomonxie/solomonxie.github.io/issues/36/events', u'comments_url': u'https://api.github.com/repos/solomonxie/solomonxie.github.io/issues/36/comments', u'html_url': u'https://github.com/solomonxie/solomonxie.github.io/issues/36', u'number': 36, u'user': {u'following_url': u'https://api.github.com/users/solomonxie/following{/other_user}', u'gists_url': u'https://api.github.com/users/solomonxie/gists{/gist_id}', u'organizations_url': u'https://api.github.com/users/solomonxie/orgs', u'url': u'https://api.github.com/users/solomonxie', u'events_url': u'https://api.github.com/users/solomonxie/events{/privacy}', u'html_url': u'https://github.com/solomonxie', u'subscriptions_url': u'https://api.github.com/users/solomonxie/subscriptions', u'avatar_url': u'https://avatars2.githubusercontent.com/u/14041622?v=4', u'repos_url': u'https://api.github.com/users/solomonxie/repos', u'received_events_url': u'https://api.github.com/users/solomonxie/received_events', u'gravatar_id': u'', u'starred_url': u'https://api.github.com/users/solomonxie/starred{/owner}{/repo}', u'site_admin': False, u'login': u'solomonxie', u'type': u'User', u'id': 14041622, u'followers_url': u'https://api.github.com/users/solomonxie/followers'}, u'milestone': {u'description': u'Most recently or most frequently notes', u'creator': {u'following_url': u'https://api.github.com/users/solomonxie/following{/other_user}', u'gists_url': u'https://api.github.com/users/solomonxie/gists{/gist_id}', u'organizations_url': u'https://api.github.com/users/solomonxie/orgs', u'url': u'https://api.github.com/users/solomonxie', u'events_url': u'https://api.github.com/users/solomonxie/events{/privacy}', u'html_url': u'https://github.com/solomonxie', u'subscriptions_url': u'https://api.github.com/users/solomonxie/subscriptions', u'avatar_url': u'https://avatars2.githubusercontent.com/u/14041622?v=4', u'repos_url': u'https://api.github.com/users/solomonxie/repos', u'received_events_url': u'https://api.github.com/users/solomonxie/received_events', u'gravatar_id': u'', u'starred_url': u'https://api.github.com/users/solomonxie/starred{/owner}{/repo}', u'site_admin': False, u'login': u'solomonxie', u'type': u'User', u'id': 14041622, u'followers_url': u'https://api.github.com/users/solomonxie/followers'}, u'updated_at': u'2018-02-09T05:48:38Z', u'labels_url': u'https://api.github.com/repos/solomonxie/solomonxie.github.io/milestones/2/labels', u'created_at': u'2018-01-22T12:38:50Z', u'title': u'TOP NOTES', u'html_url': u'https://github.com/solomonxie/solomonxie.github.io/milestone/2', u'number': 2, u'open_issues': 18, u'state': u'open', u'url': u'https://api.github.com/repos/solomonxie/solomonxie.github.io/milestones/2', u'closed_issues': 0, u'due_on': None, u'closed_at': None, u'id': 3053599}, u'locked': False, u'url': u'https://api.github.com/repos/solomonxie/solomonxie.github.io/issues/36', u'created_at': u'2018-01-29T09:13:12Z', u'assignees': []}, {u'labels': [{u'color': u'c2e0c6', u'default': False, u'url': u'https://api.github.com/repos/solomonxie/solomonxie.github.io/labels/Cisco', u'id': 817021639, u'name': u'Cisco'}, {u'color': u'c5def5', u'default': False, u'url': u'https://api.github.com/repos/solomonxie/solomonxie.github.io/labels/Network', u'id': 817021069, u'name': u'Network'}, {u'color': u'c5def5', u'default': False, u'url': u'https://api.github.com/repos/solomonxie/solomonxie.github.io/labels/Top-notes', u'id': 831921770, u'name': u'Top-notes'}], u'updated_at': u'2018-02-09T13:55:46Z', u'assignee': None, u'repository_url': u'https://api.github.com/repos/solomonxie/solomonxie.github.io', u'closed_at': None, u'id': 291797179, u'title': u'Network Engineering and Troubleshooting', u'comments': 8, u'state': u'open', u'body': u'> \\u65e5\\u5e38\\u7684\\u7f51\\u7edc\\u95ee\\u9898\\u5c42\\u51fa\\u4e0d\\u7a77\\uff0c\\u5b9e\\u5728\\u592a\\u591a\\u6709\\u70b9\\u8bb0\\u5fc6\\u4e0d\\u591f\\u7528\\uff0c\\u5728\\u8fd9\\u91cc\\u5f00\\u4e00\\u7bc7\\u518d\\u597d\\u4e0d\\u8fc7\\uff0c\\u968f\\u65f6\\u67e5\\u9605\\u3002\\r\\n\\u53e6\\u5916\\uff0c\\u57fa\\u7840\\u7684\\u7f51\\u7edc\\u5b66\\u4e60\\u4e5f\\u4e00\\u8d77\\u653e\\u5728\\u8fd9\\u5427', u'author_association': u'OWNER', u'labels_url': u'https://api.github.com/repos/solomonxie/solomonxie.github.io/issues/35/labels{/name}', u'events_url': u'https://api.github.com/repos/solomonxie/solomonxie.github.io/issues/35/events', u'comments_url': u'https://api.github.com/repos/solomonxie/solomonxie.github.io/issues/35/comments', u'html_url': u'https://github.com/solomonxie/solomonxie.github.io/issues/35', u'number': 35, u'user': {u'following_url': u'https://api.github.com/users/solomonxie/following{/other_user}', u'gists_url': u'https://api.github.com/users/solomonxie/gists{/gist_id}', u'organizations_url': u'https://api.github.com/users/solomonxie/orgs', u'url': u'https://api.github.com/users/solomonxie', u'events_url': u'https://api.github.com/users/solomonxie/events{/privacy}', u'html_url': u'https://github.com/solomonxie', u'subscriptions_url': u'https://api.github.com/users/solomonxie/subscriptions', u'avatar_url': u'https://avatars2.githubusercontent.com/u/14041622?v=4', u'repos_url': u'https://api.github.com/users/solomonxie/repos', u'received_events_url': u'https://api.github.com/users/solomonxie/received_events', u'gravatar_id': u'', u'starred_url': u'https://api.github.com/users/solomonxie/starred{/owner}{/repo}', u'site_admin': False, u'login': u'solomonxie', u'type': u'User', u'id': 14041622, u'followers_url': u'https://api.github.com/users/solomonxie/followers'}, u'milestone': {u'description': u'Most recently or most frequently notes', u'creator': {u'following_url': u'https://api.github.com/users/solomonxie/following{/other_user}', u'gists_url': u'https://api.github.com/users/solomonxie/gists{/gist_id}', u'organizations_url': u'https://api.github.com/users/solomonxie/orgs', u'url': u'https://api.github.com/users/solomonxie', u'events_url': u'https://api.github.com/users/solomonxie/events{/privacy}', u'html_url': u'https://github.com/solomonxie', u'subscriptions_url': u'https://api.github.com/users/solomonxie/subscriptions', u'avatar_url': u'https://avatars2.githubusercontent.com/u/14041622?v=4', u'repos_url': u'https://api.github.com/users/solomonxie/repos', u'received_events_url': u'https://api.github.com/users/solomonxie/received_events', u'gravatar_id': u'', u'starred_url': u'https://api.github.com/users/solomonxie/starred{/owner}{/repo}', u'site_admin': False, u'login': u'solomonxie', u'type': u'User', u'id': 14041622, u'followers_url': u'https://api.github.com/users/solomonxie/followers'}, u'updated_at': u'2018-02-09T05:48:38Z', u'labels_url': u'https://api.github.com/repos/solomonxie/solomonxie.github.io/milestones/2/labels', u'created_at': u'2018-01-22T12:38:50Z', u'title': u'TOP NOTES', u'html_url': u'https://github.com/solomonxie/solomonxie.github.io/milestone/2', u'number': 2, u'open_issues': 18, u'state': u'open', u'url': u'https://api.github.com/repos/solomonxie/solomonxie.github.io/milestones/2', u'closed_issues': 0, u'due_on': None, u'closed_at': None, u'id': 3053599}, u'locked': False, u'url': u'https://api.github.com/repos/solomonxie/solomonxie.github.io/issues/35', u'created_at': u'2018-01-26T04:28:54Z', u'assignees': []}, {u'labels': [{u'color': u'bcd9f4', u'default': False, u'url': u'https://api.github.com/repos/solomonxie/solomonxie.github.io/labels/Web%20Dev', u'id': 817033078, u'name': u'Web Dev'}], u'updated_at': u'2018-02-09T05:48:14Z', u'assignee': None, u'repository_url': u'https://api.github.com/repos/solomonxie/solomonxie.github.io', u'closed_at': None, u'id': 291691602, u'title': u'Wordpress \\u5b9e\\u64cd\\u7ecf\\u9a8c', u'comments': 1, u'state': u'open', u'body': u'> Wordpress\\u5b9e\\u5728\\u662f\\u592a\\u597d\\u7528\\uff0c\\u5c31\\u8fde\\u9119\\u89c6PHP\\u7684\\u4eba\\u4e5f\\u4e0d\\u80fd\\u8bf4Wordpress\\u4e0d\\u597d\\u3002\\u4f5c\\u4e3a\\u7eaf\\u50bb\\u74dc\\u5f0fWeb\\u5e94\\u7528\\u6846\\u67b6\\u6765\\u8bf4\\uff0cWordpress\\u5b9e\\u5728\\u662f\\u8ba9\\u6211\\u8fd9\\u4e2a\\u5c0f\\u767d\\u4ece\\u96f6\\u5f00\\u59cb\\u505a\\u4e86\\u4e00\\u5957\\u5b8c\\u6574\\u7684\\u4f01\\u4e1a\\u524d\\u540e\\u53f0\\u7f51\\u7ad9\\u3002\\u4e0d\\u80fd\\u4e0d\\u5728\\u8fd9\\u91cc\\u8bb0\\u5f55\\u4e00\\u4e9b\\u7ecf\\u9a8c\\u4ee5\\u4f9b\\u4f7f\\u7528\\u3002', u'author_association': u'OWNER', u'labels_url': u'https://api.github.com/repos/solomonxie/solomonxie.github.io/issues/34/labels{/name}', u'events_url': u'https://api.github.com/repos/solomonxie/solomonxie.github.io/issues/34/events', u'comments_url': u'https://api.github.com/repos/solomonxie/solomonxie.github.io/issues/34/comments', u'html_url': u'https://github.com/solomonxie/solomonxie.github.io/issues/34', u'number': 34, u'user': {u'following_url': u'https://api.github.com/users/solomonxie/following{/other_user}', u'gists_url': u'https://api.github.com/users/solomonxie/gists{/gist_id}', u'organizations_url': u'https://api.github.com/users/solomonxie/orgs', u'url': u'https://api.github.com/users/solomonxie', u'events_url': u'https://api.github.com/users/solomonxie/events{/privacy}', u'html_url': u'https://github.com/solomonxie', u'subscriptions_url': u'https://api.github.com/users/solomonxie/subscriptions', u'avatar_url': u'https://avatars2.githubusercontent.com/u/14041622?v=4', u'repos_url': u'https://api.github.com/users/solomonxie/repos', u'received_events_url': u'https://api.github.com/users/solomonxie/received_events', u'gravatar_id': u'', u'starred_url': u'https://api.github.com/users/solomonxie/starred{/owner}{/repo}', u'site_admin': False, u'login': u'solomonxie', u'type': u'User', u'id': 14041622, u'followers_url': u'https://api.github.com/users/solomonxie/followers'}, u'milestone': {u'description': u'Most recently or most frequently notes', u'creator': {u'following_url': u'https://api.github.com/users/solomonxie/following{/other_user}', u'gists_url': u'https://api.github.com/users/solomonxie/gists{/gist_id}', u'organizations_url': u'https://api.github.com/users/solomonxie/orgs', u'url': u'https://api.github.com/users/solomonxie', u'events_url': u'https://api.github.com/users/solomonxie/events{/privacy}', u'html_url': u'https://github.com/solomonxie', u'subscriptions_url': u'https://api.github.com/users/solomonxie/subscriptions', u'avatar_url': u'https://avatars2.githubusercontent.com/u/14041622?v=4', u'repos_url': u'https://api.github.com/users/solomonxie/repos', u'received_events_url': u'https://api.github.com/users/solomonxie/received_events', u'gravatar_id': u'', u'starred_url': u'https://api.github.com/users/solomonxie/starred{/owner}{/repo}', u'site_admin': False, u'login': u'solomonxie', u'type': u'User', u'id': 14041622, u'followers_url': u'https://api.github.com/users/solomonxie/followers'}, u'updated_at': u'2018-02-09T05:48:38Z', u'labels_url': u'https://api.github.com/repos/solomonxie/solomonxie.github.io/milestones/2/labels', u'created_at': u'2018-01-22T12:38:50Z', u'title': u'TOP NOTES', u'html_url': u'https://github.com/solomonxie/solomonxie.github.io/milestone/2', u'number': 2, u'open_issues': 18, u'state': u'open', u'url': u'https://api.github.com/repos/solomonxie/solomonxie.github.io/milestones/2', u'closed_issues': 0, u'due_on': None, u'closed_at': None, u'id': 3053599}, u'locked': False, u'url': u'https://api.github.com/repos/solomonxie/solomonxie.github.io/issues/34', u'created_at': u'2018-01-25T19:42:43Z', u'assignees': []}, {u'labels': [{u'color': u'fbca04', u'default': False, u'url': u'https://api.github.com/repos/solomonxie/solomonxie.github.io/labels/Linux', u'id': 290633404, u'name': u'Linux'}, {u'color': u'c5def5', u'default': False, u'url': u'https://api.github.com/repos/solomonxie/solomonxie.github.io/labels/Top-notes', u'id': 831921770, u'name': u'Top-notes'}], u'updated_at': u'2018-02-09T05:48:17Z', u'assignee': None, u'repository_url': u'https://api.github.com/repos/solomonxie/solomonxie.github.io', u'closed_at': None, u'id': 291687904, u'title': u'Linux \\u64cd\\u4f5c\\u6742\\u7591\\u75c7\\u72b6', u'comments': 4, u'state': u'open', u'body': u'> Linux\\u65e5\\u5e38\\u64cd\\u4f5c\\u5b9e\\u5728\\u9700\\u8981\\u89e3\\u51b3\\u7684\\u95ee\\u9898\\u592a\\u591a\\u4e86\\uff0c\\u5728\\u8fd9\\u91cc\\u8bb0\\u5f55\\u70b9\\u6ef4\\u518d\\u5408\\u9002\\u4e0d\\u8fc7\\u4e86\\u3002\\r\\n\\u5176\\u5b83Unix\\u7c7b\\uff08\\u5305\\u62ecMac\\u4e2d\\u4e0e\\u6b64\\u76f8\\u5173\\u90fd\\uff09\\u4e5f\\u90fd\\u5728\\u8fd9\\u91cc\\u3002\\r\\n\\u4e0e\\u547d\\u4ee4\\u884c\\u5b66\\u4e60\\u6709\\u533a\\u5206\\uff0c\\u8fd9\\u91cc\\u53ea\\u662f\\u9488\\u5bf9Linux\\u7cfb\\u7edf\\u800c\\u8a00\\uff0c\\u5373\\u4f7f\\u6709\\u4e00\\u4e9b\\u547d\\u4ee4\\u7684\\u8fd0\\u7528\\u4f46\\u4e5f\\u53ea\\u662f\\u9488\\u5bf9\\u67d0\\u53d1\\u884c\\u7248\\u6216\\u67d0\\u79cd\\u53ea\\u5728Linux\\u4e0a\\u624d\\u4f1a\\u51fa\\u73b0\\u7684\\u95ee\\u9898', u'author_association': u'OWNER', u'labels_url': u'https://api.github.com/repos/solomonxie/solomonxie.github.io/issues/33/labels{/name}', u'events_url': u'https://api.github.com/repos/solomonxie/solomonxie.github.io/issues/33/events', u'comments_url': u'https://api.github.com/repos/solomonxie/solomonxie.github.io/issues/33/comments', u'html_url': u'https://github.com/solomonxie/solomonxie.github.io/issues/33', u'number': 33, u'user': {u'following_url': u'https://api.github.com/users/solomonxie/following{/other_user}', u'gists_url': u'https://api.github.com/users/solomonxie/gists{/gist_id}', u'organizations_url': u'https://api.github.com/users/solomonxie/orgs', u'url': u'https://api.github.com/users/solomonxie', u'events_url': u'https://api.github.com/users/solomonxie/events{/privacy}', u'html_url': u'https://github.com/solomonxie', u'subscriptions_url': u'https://api.github.com/users/solomonxie/subscriptions', u'avatar_url': u'https://avatars2.githubusercontent.com/u/14041622?v=4', u'repos_url': u'https://api.github.com/users/solomonxie/repos', u'received_events_url': u'https://api.github.com/users/solomonxie/received_events', u'gravatar_id': u'', u'starred_url': u'https://api.github.com/users/solomonxie/starred{/owner}{/repo}', u'site_admin': False, u'login': u'solomonxie', u'type': u'User', u'id': 14041622, u'followers_url': u'https://api.github.com/users/solomonxie/followers'}, u'milestone': {u'description': u'Most recently or most frequently notes', u'creator': {u'following_url': u'https://api.github.com/users/solomonxie/following{/other_user}', u'gists_url': u'https://api.github.com/users/solomonxie/gists{/gist_id}', u'organizations_url': u'https://api.github.com/users/solomonxie/orgs', u'url': u'https://api.github.com/users/solomonxie', u'events_url': u'https://api.github.com/users/solomonxie/events{/privacy}', u'html_url': u'https://github.com/solomonxie', u'subscriptions_url': u'https://api.github.com/users/solomonxie/subscriptions', u'avatar_url': u'https://avatars2.githubusercontent.com/u/14041622?v=4', u'repos_url': u'https://api.github.com/users/solomonxie/repos', u'received_events_url': u'https://api.github.com/users/solomonxie/received_events', u'gravatar_id': u'', u'starred_url': u'https://api.github.com/users/solomonxie/starred{/owner}{/repo}', u'site_admin': False, u'login': u'solomonxie', u'type': u'User', u'id': 14041622, u'followers_url': u'https://api.github.com/users/solomonxie/followers'}, u'updated_at': u'2018-02-09T05:48:38Z', u'labels_url': u'https://api.github.com/repos/solomonxie/solomonxie.github.io/milestones/2/labels', u'created_at': u'2018-01-22T12:38:50Z', u'title': u'TOP NOTES', u'html_url': u'https://github.com/solomonxie/solomonxie.github.io/milestone/2', u'number': 2, u'open_issues': 18, u'state': u'open', u'url': u'https://api.github.com/repos/solomonxie/solomonxie.github.io/milestones/2', u'closed_issues': 0, u'due_on': None, u'closed_at': None, u'id': 3053599}, u'locked': False, u'url': u'https://api.github.com/repos/solomonxie/solomonxie.github.io/issues/33', u'created_at': u'2018-01-25T19:30:09Z', u'assignees': []}, {u'labels': [{u'color': u'fbca04', u'default': False, u'url': u'https://api.github.com/repos/solomonxie/solomonxie.github.io/labels/Linux', u'id': 290633404, u'name': u'Linux'}, {u'color': u'c5def5', u'default': False, u'url': u'https://api.github.com/repos/solomonxie/solomonxie.github.io/labels/Top-notes', u'id': 831921770, u'name': u'Top-notes'}], u'updated_at': u'2018-02-09T14:39:32Z', u'assignee': None, u'repository_url': u'https://api.github.com/repos/solomonxie/solomonxie.github.io', u'closed_at': None, u'id': 291678399, u'title': u'AWS\\u4e3a\\u9996\\u7684\\u4e91\\u670d\\u52a1\\u5668\\u5b9e\\u6218\\u94bb\\u7814', u'comments': 11, u'state': u'open', u'body': u'> Amazon Web Services\\u662f\\u4e2a\\u771f\\u5fc3\\u5f3a\\u5927\\u9760\\u8c31\\u7684\\u771f\\xb7\\u4e91\\u670d\\u52a1\\u5668\\u3002\\u53ea\\u662f\\u73a9\\u597d\\u4e86\\u5b83\\u90fd\\u53ef\\u4ee5\\u88ab\\u4eba\\u656c\\u4ef0\\uff0c\\u53ef\\u662f\\u5374\\u771f\\u7684\\u4e0d\\u5f88\\u5bb9\\u6613\\u914d\\u7f6e\\uff0c\\u670d\\u52a1\\u4e5f\\u592a\\u591a\\u3002\\u6240\\u4ee5\\u5728\\u8fd9\\u91cc\\u5f00\\u4e00\\u7bc7\\uff0c\\u4ee5\\u4f9b\\u968f\\u65f6\\u8bb0\\u5f55\\u89e3\\u51b3\\u65b9\\u6848\\u548c\\u53d1\\u6398\\u8fc7\\u7a0b\\u3002\\r\\n\\u53e6\\u5916\\uff0c\\u9644\\u5e26\\u6027\\u7684\\u4f1a\\u6709\\u4e00\\u4e9bDigitalOcean\\u7b49\\u7684\\u5176\\u5b83\\u670d\\u52a1\\u5546\\u65b9\\u6848\\u3002', u'author_association': u'OWNER', u'labels_url': u'https://api.github.com/repos/solomonxie/solomonxie.github.io/issues/31/labels{/name}', u'events_url': u'https://api.github.com/repos/solomonxie/solomonxie.github.io/issues/31/events', u'comments_url': u'https://api.github.com/repos/solomonxie/solomonxie.github.io/issues/31/comments', u'html_url': u'https://github.com/solomonxie/solomonxie.github.io/issues/31', u'number': 31, u'user': {u'following_url': u'https://api.github.com/users/solomonxie/following{/other_user}', u'gists_url': u'https://api.github.com/users/solomonxie/gists{/gist_id}', u'organizations_url': u'https://api.github.com/users/solomonxie/orgs', u'url': u'https://api.github.com/users/solomonxie', u'events_url': u'https://api.github.com/users/solomonxie/events{/privacy}', u'html_url': u'https://github.com/solomonxie', u'subscriptions_url': u'https://api.github.com/users/solomonxie/subscriptions', u'avatar_url': u'https://avatars2.githubusercontent.com/u/14041622?v=4', u'repos_url': u'https://api.github.com/users/solomonxie/repos', u'received_events_url': u'https://api.github.com/users/solomonxie/received_events', u'gravatar_id': u'', u'starred_url': u'https://api.github.com/users/solomonxie/starred{/owner}{/repo}', u'site_admin': False, u'login': u'solomonxie', u'type': u'User', u'id': 14041622, u'followers_url': u'https://api.github.com/users/solomonxie/followers'}, u'milestone': {u'description': u'Most recently or most frequently notes', u'creator': {u'following_url': u'https://api.github.com/users/solomonxie/following{/other_user}', u'gists_url': u'https://api.github.com/users/solomonxie/gists{/gist_id}', u'organizations_url': u'https://api.github.com/users/solomonxie/orgs', u'url': u'https://api.github.com/users/solomonxie', u'events_url': u'https://api.github.com/users/solomonxie/events{/privacy}', u'html_url': u'https://github.com/solomonxie', u'subscriptions_url': u'https://api.github.com/users/solomonxie/subscriptions', u'avatar_url': u'https://avatars2.githubusercontent.com/u/14041622?v=4', u'repos_url': u'https://api.github.com/users/solomonxie/repos', u'received_events_url': u'https://api.github.com/users/solomonxie/received_events', u'gravatar_id': u'', u'starred_url': u'https://api.github.com/users/solomonxie/starred{/owner}{/repo}', u'site_admin': False, u'login': u'solomonxie', u'type': u'User', u'id': 14041622, u'followers_url': u'https://api.github.com/users/solomonxie/followers'}, u'updated_at': u'2018-02-09T05:48:38Z', u'labels_url': u'https://api.github.com/repos/solomonxie/solomonxie.github.io/milestones/2/labels', u'created_at': u'2018-01-22T12:38:50Z', u'title': u'TOP NOTES', u'html_url': u'https://github.com/solomonxie/solomonxie.github.io/milestone/2', u'number': 2, u'open_issues': 18, u'state': u'open', u'url': u'https://api.github.com/repos/solomonxie/solomonxie.github.io/milestones/2', u'closed_issues': 0, u'due_on': None, u'closed_at': None, u'id': 3053599}, u'locked': False, u'url': u'https://api.github.com/repos/solomonxie/solomonxie.github.io/issues/31', u'created_at': u'2018-01-25T18:57:52Z', u'assignees': []}, {u'labels': [{u'color': u'd4c5f9', u'default': False, u'url': u'https://api.github.com/repos/solomonxie/solomonxie.github.io/labels/IDE', u'id': 817011387, u'name': u'IDE'}, {u'color': u'c5def5', u'default': False, u'url': u'https://api.github.com/repos/solomonxie/solomonxie.github.io/labels/Top-notes', u'id': 831921770, u'name': u'Top-notes'}], u'updated_at': u'2018-02-09T05:48:25Z', u'assignee': None, u'repository_url': u'https://api.github.com/repos/solomonxie/solomonxie.github.io', u'closed_at': None, u'id': 291515253, u'title': u'Sublime Text \\u4e3a\\u9996\\u7684\\u5404\\u79cdIDE\\u4f7f\\u7528\\u6280\\u5de7', u'comments': 7, u'state': u'open', u'body': u'> \\u5982\\u679c\\u6d89\\u53ca\\u4e00\\u4e9b\\u524d\\u7aef\\u5982HTML, css\\u7684\\u8bdd\\uff0c\\u8bf4\\u5b9e\\u8bddvim\\u771f\\u7684\\u5fc3\\u6709\\u4f59\\u529b\\u4e0d\\u8db3\\u3002\\\\\\r\\n\\u5c31\\u7b97\\u6709\\u4eba\\u8bf4vim\\u4e5f\\u53ef\\u4ee5\\u505a\\u5230\\u800c\\u4e14\\u53ef\\u4ee5\\u505a\\u5230\\u66f4\\u5feb\\uff0c\\u4f46\\u662f\\u90a3\\u5c31\\u50cf\\u7528\\u5343\\u65a4\\u91cd\\u5927\\u5200\\u53bb\\u524a\\u82f9\\u679c\\u76ae\\u4e00\\u6837\\uff0c\\u53ef\\u4ee5\\u505a\\u5230\\uff0c\\u7ec3\\u5230\\u51fa\\u795e\\u5165\\u5316\\u7684\\u5730\\u6b65\\u4e5f\\u53ef\\u4ee5\\u505a\\u5230\\u66f4\\u597d\\uff0c\\r\\n\\u4f46\\u662f\\u2014\\u2014\\u6ca1\\u5fc5\\u8981\\uff01\\u660e\\u660e\\u6709\\u4e2a\\u8d85\\u597d\\u7528\\u7684\\u5c0f\\u5200\\uff0c\\u7109\\u7528\\u725b\\u5200\\u5462\\uff1f', u'author_association': u'OWNER', u'labels_url': u'https://api.github.com/repos/solomonxie/solomonxie.github.io/issues/30/labels{/name}', u'events_url': u'https://api.github.com/repos/solomonxie/solomonxie.github.io/issues/30/events', u'comments_url': u'https://api.github.com/repos/solomonxie/solomonxie.github.io/issues/30/comments', u'html_url': u'https://github.com/solomonxie/solomonxie.github.io/issues/30', u'number': 30, u'user': {u'following_url': u'https://api.github.com/users/solomonxie/following{/other_user}', u'gists_url': u'https://api.github.com/users/solomonxie/gists{/gist_id}', u'organizations_url': u'https://api.github.com/users/solomonxie/orgs', u'url': u'https://api.github.com/users/solomonxie', u'events_url': u'https://api.github.com/users/solomonxie/events{/privacy}', u'html_url': u'https://github.com/solomonxie', u'subscriptions_url': u'https://api.github.com/users/solomonxie/subscriptions', u'avatar_url': u'https://avatars2.githubusercontent.com/u/14041622?v=4', u'repos_url': u'https://api.github.com/users/solomonxie/repos', u'received_events_url': u'https://api.github.com/users/solomonxie/received_events', u'gravatar_id': u'', u'starred_url': u'https://api.github.com/users/solomonxie/starred{/owner}{/repo}', u'site_admin': False, u'login': u'solomonxie', u'type': u'User', u'id': 14041622, u'followers_url': u'https://api.github.com/users/solomonxie/followers'}, u'milestone': {u'description': u'Most recently or most frequently notes', u'creator': {u'following_url': u'https://api.github.com/users/solomonxie/following{/other_user}', u'gists_url': u'https://api.github.com/users/solomonxie/gists{/gist_id}', u'organizations_url': u'https://api.github.com/users/solomonxie/orgs', u'url': u'https://api.github.com/users/solomonxie', u'events_url': u'https://api.github.com/users/solomonxie/events{/privacy}', u'html_url': u'https://github.com/solomonxie', u'subscriptions_url': u'https://api.github.com/users/solomonxie/subscriptions', u'avatar_url': u'https://avatars2.githubusercontent.com/u/14041622?v=4', u'repos_url': u'https://api.github.com/users/solomonxie/repos', u'received_events_url': u'https://api.github.com/users/solomonxie/received_events', u'gravatar_id': u'', u'starred_url': u'https://api.github.com/users/solomonxie/starred{/owner}{/repo}', u'site_admin': False, u'login': u'solomonxie', u'type': u'User', u'id': 14041622, u'followers_url': u'https://api.github.com/users/solomonxie/followers'}, u'updated_at': u'2018-02-09T05:48:38Z', u'labels_url': u'https://api.github.com/repos/solomonxie/solomonxie.github.io/milestones/2/labels', u'created_at': u'2018-01-22T12:38:50Z', u'title': u'TOP NOTES', u'html_url': u'https://github.com/solomonxie/solomonxie.github.io/milestone/2', u'number': 2, u'open_issues': 18, u'state': u'open', u'url': u'https://api.github.com/repos/solomonxie/solomonxie.github.io/milestones/2', u'closed_issues': 0, u'due_on': None, u'closed_at': None, u'id': 3053599}, u'locked': False, u'url': u'https://api.github.com/repos/solomonxie/solomonxie.github.io/issues/30', u'created_at': u'2018-01-25T10:11:18Z', u'assignees': []}, {u'labels': [{u'color': u'fbca04', u'default': False, u'url': u'https://api.github.com/repos/solomonxie/solomonxie.github.io/labels/Git', u'id': 817012398, u'name': u'Git'}, {u'color': u'c5def5', u'default': False, u'url': u'https://api.github.com/repos/solomonxie/solomonxie.github.io/labels/Top-notes', u'id': 831921770, u'name': u'Top-notes'}], u'updated_at': u'2018-02-10T11:09:43Z', u'assignee': None, u'repository_url': u'https://api.github.com/repos/solomonxie/solomonxie.github.io', u'closed_at': None, u'id': 291468663, u'title': u'Git \\u53ca\\u6240\\u6709\\u76f8\\u5173\\u5b66\\u4e60', u'comments': 15, u'state': u'open', u'body': u'## \\u4e3b\\u8981\\u8bb0\\u5f55Git\\u4ece\\u96f6\\u5f00\\u59cb\\u5b66\\u4e60\\u7684\\u4e00\\u4e9b\\u5e38\\u7528\\u6d41\\u7a0b\\u548c\\u6307\\u4ee4 ', u'author_association': u'OWNER', u'labels_url': u'https://api.github.com/repos/solomonxie/solomonxie.github.io/issues/29/labels{/name}', u'events_url': u'https://api.github.com/repos/solomonxie/solomonxie.github.io/issues/29/events', u'comments_url': u'https://api.github.com/repos/solomonxie/solomonxie.github.io/issues/29/comments', u'html_url': u'https://github.com/solomonxie/solomonxie.github.io/issues/29', u'number': 29, u'user': {u'following_url': u'https://api.github.com/users/solomonxie/following{/other_user}', u'gists_url': u'https://api.github.com/users/solomonxie/gists{/gist_id}', u'organizations_url': u'https://api.github.com/users/solomonxie/orgs', u'url': u'https://api.github.com/users/solomonxie', u'events_url': u'https://api.github.com/users/solomonxie/events{/privacy}', u'html_url': u'https://github.com/solomonxie', u'subscriptions_url': u'https://api.github.com/users/solomonxie/subscriptions', u'avatar_url': u'https://avatars2.githubusercontent.com/u/14041622?v=4', u'repos_url': u'https://api.github.com/users/solomonxie/repos', u'received_events_url': u'https://api.github.com/users/solomonxie/received_events', u'gravatar_id': u'', u'starred_url': u'https://api.github.com/users/solomonxie/starred{/owner}{/repo}', u'site_admin': False, u'login': u'solomonxie', u'type': u'User', u'id': 14041622, u'followers_url': u'https://api.github.com/users/solomonxie/followers'}, u'milestone': {u'description': u'Most recently or most frequently notes', u'creator': {u'following_url': u'https://api.github.com/users/solomonxie/following{/other_user}', u'gists_url': u'https://api.github.com/users/solomonxie/gists{/gist_id}', u'organizations_url': u'https://api.github.com/users/solomonxie/orgs', u'url': u'https://api.github.com/users/solomonxie', u'events_url': u'https://api.github.com/users/solomonxie/events{/privacy}', u'html_url': u'https://github.com/solomonxie', u'subscriptions_url': u'https://api.github.com/users/solomonxie/subscriptions', u'avatar_url': u'https://avatars2.githubusercontent.com/u/14041622?v=4', u'repos_url': u'https://api.github.com/users/solomonxie/repos', u'received_events_url': u'https://api.github.com/users/solomonxie/received_events', u'gravatar_id': u'', u'starred_url': u'https://api.github.com/users/solomonxie/starred{/owner}{/repo}', u'site_admin': False, u'login': u'solomonxie', u'type': u'User', u'id': 14041622, u'followers_url': u'https://api.github.com/users/solomonxie/followers'}, u'updated_at': u'2018-02-09T05:48:38Z', u'labels_url': u'https://api.github.com/repos/solomonxie/solomonxie.github.io/milestones/2/labels', u'created_at': u'2018-01-22T12:38:50Z', u'title': u'TOP NOTES', u'html_url': u'https://github.com/solomonxie/solomonxie.github.io/milestone/2', u'number': 2, u'open_issues': 18, u'state': u'open', u'url': u'https://api.github.com/repos/solomonxie/solomonxie.github.io/milestones/2', u'closed_issues': 0, u'due_on': None, u'closed_at': None, u'id': 3053599}, u'locked': False, u'url': u'https://api.github.com/repos/solomonxie/solomonxie.github.io/issues/29', u'created_at': u'2018-01-25T06:55:21Z', u'assignees': []}, {u'labels': [{u'color': u'fbca04', u'default': False, u'url': u'https://api.github.com/repos/solomonxie/solomonxie.github.io/labels/Linux', u'id': 290633404, u'name': u'Linux'}, {u'color': u'c5def5', u'default': False, u'url': u'https://api.github.com/repos/solomonxie/solomonxie.github.io/labels/Top-notes', u'id': 831921770, u'name': u'Top-notes'}], u'updated_at': u'2018-02-10T15:46:11Z', u'assignee': None, u'repository_url': u'https://api.github.com/repos/solomonxie/solomonxie.github.io', u'closed_at': None, u'id': 290708033, u'title': u'Shells \\u547d\\u4ee4\\u884c\\u7ec8\\u7aef\\u64cd\\u4f5c\\u79ef\\u7d2f', u'comments': 16, u'state': u'open', u'body': u'## \\u79ef\\u7d2f\\u7ec8\\u7aef\\u547d\\u4ee4\\u884c\\u76f8\\u5173\\u7ecf\\u9a8c\\uff0c\\u5305\\u62ecShell\\u4e2d\\u7684bash,zsh\\uff0c\\u7ec8\\u7aef\\u4e2d\\u7684Terminal, Mac Terminal.app,iTerm\\u7b49\\r\\n\\r\\n\\u6ce8\\u610f\\uff1a\\u8fd9\\u91cc\\u8bf4linux\\uff0clinux\\u4e4b\\u7c7b\\u7684\\uff0c\\u5176\\u5b9e\\u5728mac\\u4e2d\\u4e5fok\\u3002\\u53ea\\u4e0d\\u8fc7\\u8bf4\\u8d77\\u6765\\u548c\\u641c\\u7d22\\u8d77\\u6765\\u65b9\\u4fbf\\u800c\\u5df2\\u3002', u'author_association': u'OWNER', u'labels_url': u'https://api.github.com/repos/solomonxie/solomonxie.github.io/issues/27/labels{/name}', u'events_url': u'https://api.github.com/repos/solomonxie/solomonxie.github.io/issues/27/events', u'comments_url': u'https://api.github.com/repos/solomonxie/solomonxie.github.io/issues/27/comments', u'html_url': u'https://github.com/solomonxie/solomonxie.github.io/issues/27', u'number': 27, u'user': {u'following_url': u'https://api.github.com/users/solomonxie/following{/other_user}', u'gists_url': u'https://api.github.com/users/solomonxie/gists{/gist_id}', u'organizations_url': u'https://api.github.com/users/solomonxie/orgs', u'url': u'https://api.github.com/users/solomonxie', u'events_url': u'https://api.github.com/users/solomonxie/events{/privacy}', u'html_url': u'https://github.com/solomonxie', u'subscriptions_url': u'https://api.github.com/users/solomonxie/subscriptions', u'avatar_url': u'https://avatars2.githubusercontent.com/u/14041622?v=4', u'repos_url': u'https://api.github.com/users/solomonxie/repos', u'received_events_url': u'https://api.github.com/users/solomonxie/received_events', u'gravatar_id': u'', u'starred_url': u'https://api.github.com/users/solomonxie/starred{/owner}{/repo}', u'site_admin': False, u'login': u'solomonxie', u'type': u'User', u'id': 14041622, u'followers_url': u'https://api.github.com/users/solomonxie/followers'}, u'milestone': {u'description': u'Most recently or most frequently notes', u'creator': {u'following_url': u'https://api.github.com/users/solomonxie/following{/other_user}', u'gists_url': u'https://api.github.com/users/solomonxie/gists{/gist_id}', u'organizations_url': u'https://api.github.com/users/solomonxie/orgs', u'url': u'https://api.github.com/users/solomonxie', u'events_url': u'https://api.github.com/users/solomonxie/events{/privacy}', u'html_url': u'https://github.com/solomonxie', u'subscriptions_url': u'https://api.github.com/users/solomonxie/subscriptions', u'avatar_url': u'https://avatars2.githubusercontent.com/u/14041622?v=4', u'repos_url': u'https://api.github.com/users/solomonxie/repos', u'received_events_url': u'https://api.github.com/users/solomonxie/received_events', u'gravatar_id': u'', u'starred_url': u'https://api.github.com/users/solomonxie/starred{/owner}{/repo}', u'site_admin': False, u'login': u'solomonxie', u'type': u'User', u'id': 14041622, u'followers_url': u'https://api.github.com/users/solomonxie/followers'}, u'updated_at': u'2018-02-09T05:48:38Z', u'labels_url': u'https://api.github.com/repos/solomonxie/solomonxie.github.io/milestones/2/labels', u'created_at': u'2018-01-22T12:38:50Z', u'title': u'TOP NOTES', u'html_url': u'https://github.com/solomonxie/solomonxie.github.io/milestone/2', u'number': 2, u'open_issues': 18, u'state': u'open', u'url': u'https://api.github.com/repos/solomonxie/solomonxie.github.io/milestones/2', u'closed_issues': 0, u'due_on': None, u'closed_at': None, u'id': 3053599}, u'locked': False, u'url': u'https://api.github.com/repos/solomonxie/solomonxie.github.io/issues/27', u'created_at': u'2018-01-23T04:46:57Z', u'assignees': []}, {u'labels': [{u'color': u'fef2c0', u'default': False, u'url': u'https://api.github.com/repos/solomonxie/solomonxie.github.io/labels/Raspberry%20Pi', u'id': 812839888, u'name': u'Raspberry Pi'}, {u'color': u'c5def5', u'default': False, u'url': u'https://api.github.com/repos/solomonxie/solomonxie.github.io/labels/Top-notes', u'id': 831921770, u'name': u'Top-notes'}], u'updated_at': u'2018-02-09T05:48:38Z', u'assignee': None, u'repository_url': u'https://api.github.com/repos/solomonxie/solomonxie.github.io', u'closed_at': None, u'id': 290517584, u'title': u'Raspberry Pi \\u7591\\u96be\\u6742\\u75c7', u'comments': 0, u'state': u'open', u'body': u'## \\u8bb0\\u5f55\\u5b66\\u4e60\\u6811\\u8393\\u6d3e\\u8fc7\\u7a0b\\u4e2d\\u9047\\u5230\\u7684\\u5404\\u79cd\\u95ee\\u9898\\u53ca\\u89e3\\u51b3\\u65b9\\u6848', u'author_association': u'OWNER', u'labels_url': u'https://api.github.com/repos/solomonxie/solomonxie.github.io/issues/26/labels{/name}', u'events_url': u'https://api.github.com/repos/solomonxie/solomonxie.github.io/issues/26/events', u'comments_url': u'https://api.github.com/repos/solomonxie/solomonxie.github.io/issues/26/comments', u'html_url': u'https://github.com/solomonxie/solomonxie.github.io/issues/26', u'number': 26, u'user': {u'following_url': u'https://api.github.com/users/solomonxie/following{/other_user}', u'gists_url': u'https://api.github.com/users/solomonxie/gists{/gist_id}', u'organizations_url': u'https://api.github.com/users/solomonxie/orgs', u'url': u'https://api.github.com/users/solomonxie', u'events_url': u'https://api.github.com/users/solomonxie/events{/privacy}', u'html_url': u'https://github.com/solomonxie', u'subscriptions_url': u'https://api.github.com/users/solomonxie/subscriptions', u'avatar_url': u'https://avatars2.githubusercontent.com/u/14041622?v=4', u'repos_url': u'https://api.github.com/users/solomonxie/repos', u'received_events_url': u'https://api.github.com/users/solomonxie/received_events', u'gravatar_id': u'', u'starred_url': u'https://api.github.com/users/solomonxie/starred{/owner}{/repo}', u'site_admin': False, u'login': u'solomonxie', u'type': u'User', u'id': 14041622, u'followers_url': u'https://api.github.com/users/solomonxie/followers'}, u'milestone': {u'description': u'Most recently or most frequently notes', u'creator': {u'following_url': u'https://api.github.com/users/solomonxie/following{/other_user}', u'gists_url': u'https://api.github.com/users/solomonxie/gists{/gist_id}', u'organizations_url': u'https://api.github.com/users/solomonxie/orgs', u'url': u'https://api.github.com/users/solomonxie', u'events_url': u'https://api.github.com/users/solomonxie/events{/privacy}', u'html_url': u'https://github.com/solomonxie', u'subscriptions_url': u'https://api.github.com/users/solomonxie/subscriptions', u'avatar_url': u'https://avatars2.githubusercontent.com/u/14041622?v=4', u'repos_url': u'https://api.github.com/users/solomonxie/repos', u'received_events_url': u'https://api.github.com/users/solomonxie/received_events', u'gravatar_id': u'', u'starred_url': u'https://api.github.com/users/solomonxie/starred{/owner}{/repo}', u'site_admin': False, u'login': u'solomonxie', u'type': u'User', u'id': 14041622, u'followers_url': u'https://api.github.com/users/solomonxie/followers'}, u'updated_at': u'2018-02-09T05:48:38Z', u'labels_url': u'https://api.github.com/repos/solomonxie/solomonxie.github.io/milestones/2/labels', u'created_at': u'2018-01-22T12:38:50Z', u'title': u'TOP NOTES', u'html_url': u'https://github.com/solomonxie/solomonxie.github.io/milestone/2', u'number': 2, u'open_issues': 18, u'state': u'open', u'url': u'https://api.github.com/repos/solomonxie/solomonxie.github.io/milestones/2', u'closed_issues': 0, u'due_on': None, u'closed_at': None, u'id': 3053599}, u'locked': False, u'url': u'https://api.github.com/repos/solomonxie/solomonxie.github.io/issues/26', u'created_at': u'2018-01-22T16:00:03Z', u'assignees': []}, {u'labels': [{u'color': u'c5def5', u'default': False, u'url': u'https://api.github.com/repos/solomonxie/solomonxie.github.io/labels/Top-notes', u'id': 831921770, u'name': u'Top-notes'}, {u'color': u'6fdb6f', u'default': False, u'url': u'https://api.github.com/repos/solomonxie/solomonxie.github.io/labels/Vim', u'id': 812500268, u'name': u'Vim'}], u'updated_at': u'2018-02-12T09:58:41Z', u'assignee': None, u'repository_url': u'https://api.github.com/repos/solomonxie/solomonxie.github.io', u'closed_at': None, u'id': 290421983, u'title': u'Vim\\u6210\\u957f\\u4e4b\\u8def', u'comments': 20, u'state': u'open', u'body': u'## \\u5b66vim\\u7684\\u7b14\\u8bb0\\u3002\\u89c9\\u5f97\\u8fd9\\u6837\\u5386\\u7a0b\\u578b\\u7684\\u7b14\\u8bb0\\u518d\\u597d\\u4e0d\\u8fc7\\u4e86\\u3002\\r\\n\\r\\n### Text editors learning curves\\r\\n![image](https://user-images.githubusercontent.com/14041622/36091285-3ec383bc-101e-11e8-82e6-4e1e785142fc.png)\\r\\n', u'author_association': u'OWNER', u'labels_url': u'https://api.github.com/repos/solomonxie/solomonxie.github.io/issues/25/labels{/name}', u'events_url': u'https://api.github.com/repos/solomonxie/solomonxie.github.io/issues/25/events', u'comments_url': u'https://api.github.com/repos/solomonxie/solomonxie.github.io/issues/25/comments', u'html_url': u'https://github.com/solomonxie/solomonxie.github.io/issues/25', u'number': 25, u'user': {u'following_url': u'https://api.github.com/users/solomonxie/following{/other_user}', u'gists_url': u'https://api.github.com/users/solomonxie/gists{/gist_id}', u'organizations_url': u'https://api.github.com/users/solomonxie/orgs', u'url': u'https://api.github.com/users/solomonxie', u'events_url': u'https://api.github.com/users/solomonxie/events{/privacy}', u'html_url': u'https://github.com/solomonxie', u'subscriptions_url': u'https://api.github.com/users/solomonxie/subscriptions', u'avatar_url': u'https://avatars2.githubusercontent.com/u/14041622?v=4', u'repos_url': u'https://api.github.com/users/solomonxie/repos', u'received_events_url': u'https://api.github.com/users/solomonxie/received_events', u'gravatar_id': u'', u'starred_url': u'https://api.github.com/users/solomonxie/starred{/owner}{/repo}', u'site_admin': False, u'login': u'solomonxie', u'type': u'User', u'id': 14041622, u'followers_url': u'https://api.github.com/users/solomonxie/followers'}, u'milestone': {u'description': u'Most recently or most frequently notes', u'creator': {u'following_url': u'https://api.github.com/users/solomonxie/following{/other_user}', u'gists_url': u'https://api.github.com/users/solomonxie/gists{/gist_id}', u'organizations_url': u'https://api.github.com/users/solomonxie/orgs', u'url': u'https://api.github.com/users/solomonxie', u'events_url': u'https://api.github.com/users/solomonxie/events{/privacy}', u'html_url': u'https://github.com/solomonxie', u'subscriptions_url': u'https://api.github.com/users/solomonxie/subscriptions', u'avatar_url': u'https://avatars2.githubusercontent.com/u/14041622?v=4', u'repos_url': u'https://api.github.com/users/solomonxie/repos', u'received_events_url': u'https://api.github.com/users/solomonxie/received_events', u'gravatar_id': u'', u'starred_url': u'https://api.github.com/users/solomonxie/starred{/owner}{/repo}', u'site_admin': False, u'login': u'solomonxie', u'type': u'User', u'id': 14041622, u'followers_url': u'https://api.github.com/users/solomonxie/followers'}, u'updated_at': u'2018-02-09T05:48:38Z', u'labels_url': u'https://api.github.com/repos/solomonxie/solomonxie.github.io/milestones/2/labels', u'created_at': u'2018-01-22T12:38:50Z', u'title': u'TOP NOTES', u'html_url': u'https://github.com/solomonxie/solomonxie.github.io/milestone/2', u'number': 2, u'open_issues': 18, u'state': u'open', u'url': u'https://api.github.com/repos/solomonxie/solomonxie.github.io/milestones/2', u'closed_issues': 0, u'due_on': None, u'closed_at': None, u'id': 3053599}, u'locked': False, u'url': u'https://api.github.com/repos/solomonxie/solomonxie.github.io/issues/25', u'created_at': u'2018-01-22T10:48:44Z', u'assignees': []}, {u'labels': [{u'color': u'd4c5f9', u'default': False, u'url': u'https://api.github.com/repos/solomonxie/solomonxie.github.io/labels/Python', u'id': 290633688, u'name': u'Python'}, {u'color': u'c5def5', u'default': False, u'url': u'https://api.github.com/repos/solomonxie/solomonxie.github.io/labels/Top-notes', u'id': 831921770, u'name': u'Top-notes'}], u'updated_at': u'2018-02-12T12:44:26Z', u'assignee': None, u'repository_url': u'https://api.github.com/repos/solomonxie/solomonxie.github.io', u'closed_at': None, u'id': 290364920, u'title': u'Python\\u5b66\\u4e60\\u7b14\\u8bb0', u'comments': 22, u'state': u'open', u'body': u'## \\u8fd9\\u79cd\\u65b9\\u5f0f\\u8bb0\\u7b14\\u8bb0\\u53ef\\u80fd\\u4f1a\\u5f88\\u8f7b\\u677e\\uff0c\\u5f00\\u7bc7\\u8bd5\\u8bd5\\u5427', u'author_association': u'OWNER', u'labels_url': u'https://api.github.com/repos/solomonxie/solomonxie.github.io/issues/24/labels{/name}', u'events_url': u'https://api.github.com/repos/solomonxie/solomonxie.github.io/issues/24/events', u'comments_url': u'https://api.github.com/repos/solomonxie/solomonxie.github.io/issues/24/comments', u'html_url': u'https://github.com/solomonxie/solomonxie.github.io/issues/24', u'number': 24, u'user': {u'following_url': u'https://api.github.com/users/solomonxie/following{/other_user}', u'gists_url': u'https://api.github.com/users/solomonxie/gists{/gist_id}', u'organizations_url': u'https://api.github.com/users/solomonxie/orgs', u'url': u'https://api.github.com/users/solomonxie', u'events_url': u'https://api.github.com/users/solomonxie/events{/privacy}', u'html_url': u'https://github.com/solomonxie', u'subscriptions_url': u'https://api.github.com/users/solomonxie/subscriptions', u'avatar_url': u'https://avatars2.githubusercontent.com/u/14041622?v=4', u'repos_url': u'https://api.github.com/users/solomonxie/repos', u'received_events_url': u'https://api.github.com/users/solomonxie/received_events', u'gravatar_id': u'', u'starred_url': u'https://api.github.com/users/solomonxie/starred{/owner}{/repo}', u'site_admin': False, u'login': u'solomonxie', u'type': u'User', u'id': 14041622, u'followers_url': u'https://api.github.com/users/solomonxie/followers'}, u'milestone': {u'description': u'Most recently or most frequently notes', u'creator': {u'following_url': u'https://api.github.com/users/solomonxie/following{/other_user}', u'gists_url': u'https://api.github.com/users/solomonxie/gists{/gist_id}', u'organizations_url': u'https://api.github.com/users/solomonxie/orgs', u'url': u'https://api.github.com/users/solomonxie', u'events_url': u'https://api.github.com/users/solomonxie/events{/privacy}', u'html_url': u'https://github.com/solomonxie', u'subscriptions_url': u'https://api.github.com/users/solomonxie/subscriptions', u'avatar_url': u'https://avatars2.githubusercontent.com/u/14041622?v=4', u'repos_url': u'https://api.github.com/users/solomonxie/repos', u'received_events_url': u'https://api.github.com/users/solomonxie/received_events', u'gravatar_id': u'', u'starred_url': u'https://api.github.com/users/solomonxie/starred{/owner}{/repo}', u'site_admin': False, u'login': u'solomonxie', u'type': u'User', u'id': 14041622, u'followers_url': u'https://api.github.com/users/solomonxie/followers'}, u'updated_at': u'2018-02-09T05:48:38Z', u'labels_url': u'https://api.github.com/repos/solomonxie/solomonxie.github.io/milestones/2/labels', u'created_at': u'2018-01-22T12:38:50Z', u'title': u'TOP NOTES', u'html_url': u'https://github.com/solomonxie/solomonxie.github.io/milestone/2', u'number': 2, u'open_issues': 18, u'state': u'open', u'url': u'https://api.github.com/repos/solomonxie/solomonxie.github.io/milestones/2', u'closed_issues': 0, u'due_on': None, u'closed_at': None, u'id': 3053599}, u'locked': False, u'url': u'https://api.github.com/repos/solomonxie/solomonxie.github.io/issues/24', u'created_at': u'2018-01-22T06:41:23Z', u'assignees': []}, {u'labels': [{u'color': u'fef2c0', u'default': False, u'url': u'https://api.github.com/repos/solomonxie/solomonxie.github.io/labels/Chrome', u'id': 812280897, u'name': u'Chrome'}], u'updated_at': u'2018-02-09T05:45:57Z', u'assignee': None, u'repository_url': u'https://api.github.com/repos/solomonxie/solomonxie.github.io', u'closed_at': None, u'id': 290364725, u'title': u'Chrome\\u6d4f\\u89c8\\u5668\\u7591\\u96be\\u6742\\u75c7', u'comments': 1, u'state': u'open', u'body': u'\\u548cMac\\u7591\\u96be\\u6742\\u75c7\\u76f8\\u901a\\uff0c\\u4e3b\\u8981\\u5728\\u8fd9\\u91cc\\u8bb0\\u5f55Chrome\\u6d4f\\u89c8\\u5668\\u64cd\\u4f5c\\u65e5\\u5e38\\u4e2d\\u7684\\u95ee\\u9898\\u548c\\u7ecf\\u9a8c', u'author_association': u'OWNER', u'labels_url': u'https://api.github.com/repos/solomonxie/solomonxie.github.io/issues/23/labels{/name}', u'events_url': u'https://api.github.com/repos/solomonxie/solomonxie.github.io/issues/23/events', u'comments_url': u'https://api.github.com/repos/solomonxie/solomonxie.github.io/issues/23/comments', u'html_url': u'https://github.com/solomonxie/solomonxie.github.io/issues/23', u'number': 23, u'user': {u'following_url': u'https://api.github.com/users/solomonxie/following{/other_user}', u'gists_url': u'https://api.github.com/users/solomonxie/gists{/gist_id}', u'organizations_url': u'https://api.github.com/users/solomonxie/orgs', u'url': u'https://api.github.com/users/solomonxie', u'events_url': u'https://api.github.com/users/solomonxie/events{/privacy}', u'html_url': u'https://github.com/solomonxie', u'subscriptions_url': u'https://api.github.com/users/solomonxie/subscriptions', u'avatar_url': u'https://avatars2.githubusercontent.com/u/14041622?v=4', u'repos_url': u'https://api.github.com/users/solomonxie/repos', u'received_events_url': u'https://api.github.com/users/solomonxie/received_events', u'gravatar_id': u'', u'starred_url': u'https://api.github.com/users/solomonxie/starred{/owner}{/repo}', u'site_admin': False, u'login': u'solomonxie', u'type': u'User', u'id': 14041622, u'followers_url': u'https://api.github.com/users/solomonxie/followers'}, u'milestone': {u'description': u'Most recently or most frequently notes', u'creator': {u'following_url': u'https://api.github.com/users/solomonxie/following{/other_user}', u'gists_url': u'https://api.github.com/users/solomonxie/gists{/gist_id}', u'organizations_url': u'https://api.github.com/users/solomonxie/orgs', u'url': u'https://api.github.com/users/solomonxie', u'events_url': u'https://api.github.com/users/solomonxie/events{/privacy}', u'html_url': u'https://github.com/solomonxie', u'subscriptions_url': u'https://api.github.com/users/solomonxie/subscriptions', u'avatar_url': u'https://avatars2.githubusercontent.com/u/14041622?v=4', u'repos_url': u'https://api.github.com/users/solomonxie/repos', u'received_events_url': u'https://api.github.com/users/solomonxie/received_events', u'gravatar_id': u'', u'starred_url': u'https://api.github.com/users/solomonxie/starred{/owner}{/repo}', u'site_admin': False, u'login': u'solomonxie', u'type': u'User', u'id': 14041622, u'followers_url': u'https://api.github.com/users/solomonxie/followers'}, u'updated_at': u'2018-02-09T05:48:38Z', u'labels_url': u'https://api.github.com/repos/solomonxie/solomonxie.github.io/milestones/2/labels', u'created_at': u'2018-01-22T12:38:50Z', u'title': u'TOP NOTES', u'html_url': u'https://github.com/solomonxie/solomonxie.github.io/milestone/2', u'number': 2, u'open_issues': 18, u'state': u'open', u'url': u'https://api.github.com/repos/solomonxie/solomonxie.github.io/milestones/2', u'closed_issues': 0, u'due_on': None, u'closed_at': None, u'id': 3053599}, u'locked': False, u'url': u'https://api.github.com/repos/solomonxie/solomonxie.github.io/issues/23', u'created_at': u'2018-01-22T06:39:55Z', u'assignees': []}, {u'labels': [{u'color': u'e094db', u'default': False, u'url': u'https://api.github.com/repos/solomonxie/solomonxie.github.io/labels/Mac', u'id': 812263494, u'name': u'Mac'}, {u'color': u'c5def5', u'default': False, u'url': u'https://api.github.com/repos/solomonxie/solomonxie.github.io/labels/Top-notes', u'id': 831921770, u'name': u'Top-notes'}], u'updated_at': u'2018-02-09T04:49:28Z', u'assignee': None, u'repository_url': u'https://api.github.com/repos/solomonxie/solomonxie.github.io', u'closed_at': None, u'id': 290360608, u'title': u'Mac\\u7cfb\\u7edf\\u64cd\\u4f5c\\u7591\\u96be\\u6742\\u75c7', u'comments': 1, u'state': u'open', u'body': u'### \\u5f00\\u7bc7\\uff0c\\u6253\\u7b97\\u5229\\u7528\\u8fd9\\u79cd\\u65b9\\u6cd5\\u603b\\u7ed3\\u6240\\u6709Mac\\u4e0a\\u9047\\u5230\\u7684\\u95ee\\u9898\\u3002\\u4f5c\\u4e3alife-time\\u603b\\u96c6\\uff0c\\u6bcf\\u4e00\\u6761\\u8bc4\\u8bba\\u4f5c\\u4e3a\\u4e00\\u4e2a\\u95ee\\u9898\\u548c\\u89e3\\u7b54\\u3002', u'author_association': u'OWNER', u'labels_url': u'https://api.github.com/repos/solomonxie/solomonxie.github.io/issues/22/labels{/name}', u'events_url': u'https://api.github.com/repos/solomonxie/solomonxie.github.io/issues/22/events', u'comments_url': u'https://api.github.com/repos/solomonxie/solomonxie.github.io/issues/22/comments', u'html_url': u'https://github.com/solomonxie/solomonxie.github.io/issues/22', u'number': 22, u'user': {u'following_url': u'https://api.github.com/users/solomonxie/following{/other_user}', u'gists_url': u'https://api.github.com/users/solomonxie/gists{/gist_id}', u'organizations_url': u'https://api.github.com/users/solomonxie/orgs', u'url': u'https://api.github.com/users/solomonxie', u'events_url': u'https://api.github.com/users/solomonxie/events{/privacy}', u'html_url': u'https://github.com/solomonxie', u'subscriptions_url': u'https://api.github.com/users/solomonxie/subscriptions', u'avatar_url': u'https://avatars2.githubusercontent.com/u/14041622?v=4', u'repos_url': u'https://api.github.com/users/solomonxie/repos', u'received_events_url': u'https://api.github.com/users/solomonxie/received_events', u'gravatar_id': u'', u'starred_url': u'https://api.github.com/users/solomonxie/starred{/owner}{/repo}', u'site_admin': False, u'login': u'solomonxie', u'type': u'User', u'id': 14041622, u'followers_url': u'https://api.github.com/users/solomonxie/followers'}, u'milestone': {u'description': u'Most recently or most frequently notes', u'creator': {u'following_url': u'https://api.github.com/users/solomonxie/following{/other_user}', u'gists_url': u'https://api.github.com/users/solomonxie/gists{/gist_id}', u'organizations_url': u'https://api.github.com/users/solomonxie/orgs', u'url': u'https://api.github.com/users/solomonxie', u'events_url': u'https://api.github.com/users/solomonxie/events{/privacy}', u'html_url': u'https://github.com/solomonxie', u'subscriptions_url': u'https://api.github.com/users/solomonxie/subscriptions', u'avatar_url': u'https://avatars2.githubusercontent.com/u/14041622?v=4', u'repos_url': u'https://api.github.com/users/solomonxie/repos', u'received_events_url': u'https://api.github.com/users/solomonxie/received_events', u'gravatar_id': u'', u'starred_url': u'https://api.github.com/users/solomonxie/starred{/owner}{/repo}', u'site_admin': False, u'login': u'solomonxie', u'type': u'User', u'id': 14041622, u'followers_url': u'https://api.github.com/users/solomonxie/followers'}, u'updated_at': u'2018-02-09T05:48:38Z', u'labels_url': u'https://api.github.com/repos/solomonxie/solomonxie.github.io/milestones/2/labels', u'created_at': u'2018-01-22T12:38:50Z', u'title': u'TOP NOTES', u'html_url': u'https://github.com/solomonxie/solomonxie.github.io/milestone/2', u'number': 2, u'open_issues': 18, u'state': u'open', u'url': u'https://api.github.com/repos/solomonxie/solomonxie.github.io/milestones/2', u'closed_issues': 0, u'due_on': None, u'closed_at': None, u'id': 3053599}, u'locked': False, u'url': u'https://api.github.com/repos/solomonxie/solomonxie.github.io/issues/22', u'created_at': u'2018-01-22T06:13:07Z', u'assignees': []}, {u'labels': [{u'color': u'd4c5f9', u'default': False, u'url': u'https://api.github.com/repos/solomonxie/solomonxie.github.io/labels/Python', u'id': 290633688, u'name': u'Python'}], u'updated_at': u'2018-01-22T06:42:37Z', u'assignee': None, u'repository_url': u'https://api.github.com/repos/solomonxie/solomonxie.github.io', u'closed_at': None, u'id': 126853114, u'title': u'Windows\\u4e0a\\u5229\\u7528Python\\u81ea\\u52a8\\u5207\\u6362\\u4ee3\\u7406IP\\u7684\\u7ec8\\u6781\\u65b9\\u6848\\uff01', u'comments': 0, u'state': u'open', u'body': u'> \\u58f0\\u660e\\u4e0b\\uff1a\\u4e0d\\u540c\\u4e8e\\u7f51\\u7edc\\u4e0a\\u5343\\u767e\\u7bc7\\u65b9\\u6cd5\\uff0c\\u4e0b\\u6587\\u662f\\u7ecf\\u8fc7\\u5404\\u79cd\\u4e25\\u683c\\u6d4b\\u8bd5\\u90fd\\u901a\\u8fc7\\u7684\\uff0c\\u540c\\u65f6\\u4e5f\\u662f\\u4e00\\u4e2a\\u5b9e\\u9a8c\\u7684\\u8fc7\\u7a0b\\uff0c\\u6392\\u9664\\u4e86\\u5404\\u79cd\\u4e0d\\u9760\\u8c31\\u7684\\u65b9\\u6cd5\\u3002\\u6709\\u9700\\u8981\\u7684\\u53ef\\u4ee5\\u8bc4\\u8bba\\u6765\\u8ba8\\u8bba\\uff0c\\u60f3\\u8981\\u6e90\\u7801\\u548c\\u76f8\\u5173\\u53c2\\u8003\\u6587\\u732e\\u6216\\u7b14\\u8bb0\\u7684\\uff0c\\u4e5f\\u53ef\\u4ee5\\u627e\\u6211\\u3002\\n## \\u601d\\u8def\\u53ca\\u542f\\u53d1\\n\\n\\u5148\\u8bf4\\u4e00\\u4e0b\\u6211\\u8fd9\\u4e00\\u8def\\u5b9e\\u9a8c\\u7684\\u601d\\u8def\\u5427\\uff0c\\u8fd9\\u4e2a\\u81f3\\u5173\\u91cd\\u8981\\u3002\\n\\u4e4b\\u524d\\u4e00\\u76f4\\u5728\\u7528Python\\u505a\\u722c\\u866b\\u6293\\u53d6\\u6570\\u636e\\uff0c\\u53d1\\u73b0\\u672c\\u673aIP\\u7684\\u95ee\\u9898\\u4e0d\\u89e3\\u51b3\\uff0c\\u722c\\u866b\\u76f8\\u5f53\\u4e8e\\u767d\\u8d39\\u4e86\\u3002\\u7136\\u540e\\u5404\\u79cd\\u767e\\u5ea6\\uff0c\\u4e0d\\u7ba1\\u662f\\u7528urllib2\\u8fd8\\u662frequests\\u7684\\u4ee3\\u7406\\u8bbe\\u7f6e\\uff0c\\u90fd\\u4e0d\\u7ba1\\u7528\\u3002\\u7136\\u540e\\u53c8\\u5404\\u79cd\\u641c\\u7d22Python\\u66f4\\u6539windows\\u4ee3\\u7406\\u7684\\u8bbe\\u7f6e\\uff0c\\u8fd8\\u9700\\u8981\\u63a5\\u89e6windos\\u5e95\\u5c42API\\uff0c\\u6709\\u590d\\u6742\\u53c8\\u4e0d\\u597d\\u5b9e\\u73b0\\u3002\\u4e8e\\u662f\\u722c\\u866b\\u7684\\u5b66\\u4e60\\u5c31\\u653e\\u5f03\\u4e86\\u597d\\u957f\\u4e00\\u6bb5\\u65f6\\u95f4\\u3002\\n\\u6700\\u8fd1\\u56e0\\u4e3a\\u4e00\\u76f4\\u5728\\u7528`AutoHotkey`\\u5927\\u5927\\u52a0\\u5feb\\u7535\\u8111\\u64cd\\u4f5c\\u6548\\u7387\\uff0c\\u5404\\u79cd\\u5feb\\u6377\\u952e\\u548c\\u4ee3\\u66ff\\u624b\\u52a8\\u64cd\\u4f5c\\u4e00\\u4e9b\\u5e38\\u89c4\\u7cfb\\u7edf\\u8bbe\\u7f6e\\u3002\\u7a81\\u53d1\\u5947\\u60f3\\uff0c\\u60f3\\u8ba9\\u5b83\\u81ea\\u52a8\\u6253\\u5f00IE\\u7684Internet\\u8bbe\\u7f6e\\uff0c\\u7136\\u540e\\u81ea\\u52a8\\u70b9\\u51fb\\u201c\\u5c40\\u57df\\u7f51\\u8bbe\\u7f6e\\u201d\\uff0c\\u5728\\u81ea\\u52a8\\u5728\\u4ee3\\u7406\\u6846\\u91cc\\u8f93\\u5165IP\\u5730\\u5740\\uff0c\\u6309\\u56de\\u8f66\\u5b8c\\u6210\\u8bbe\\u7f6e\\u3002\\u8fd9\\u771f\\u662f\\u4e2a\\u597d\\u4e3b\\u610f~\\n\\u4e0d\\u8fc7\\u5931\\u8d25\\u4e86\\u3002\\u3002\\u3002\\u56e0\\u4e3aAHK\\u5728IE\\u8bbe\\u7f6e\\u5f39\\u51fa\\u7684\\u6846\\u6846\\u4e2d\\u9009\\u62e9\\u67d0\\u4e00\\u4e2a\\u8f93\\u5165\\u6846\\uff0c\\u5f88\\u9ebb\\u70e6\\uff0c\\u6211\\u4e5f\\u6ca1\\u6cd5\\u5b9e\\u73b0\\u3002\\u6240\\u4ee5\\u5c31\\u5728\\u60f3\\u53e6\\u4e00\\u4e2a\\u529e\\u6cd5\\uff0c\\u56e0\\u4e3aAHK\\u64cd\\u4f5cWindows\\u7684cmd\\u547d\\u4ee4\\u5f88\\u65b9\\u4fbf\\uff0c\\u6240\\u4ee5\\u5728\\u60f3\\u80fd\\u4e0d\\u80fd\\u7528\\u5b83\\u6253\\u5f00cmd\\u7136\\u540e\\u7528\\u547d\\u4ee4\\u8bbe\\u7f6eIE\\u5462\\uff1f\\n\\u7136\\u540e\\u53c8\\u5404\\u79cd\\u767e\\u5ea6\\u3002\\u53d1\\u73b0\\u8fd9\\u662f\\u53ef\\u4ee5\\u901a\\u8fc7`reg add`\\u6ce8\\u518c\\u8868\\u8bbe\\u7f6e\\u6765\\u5b9e\\u73b0\\u7684\\uff01\\u4e8e\\u662f\\uff0c\\u5c31\\u5f00\\u542f\\u4e86`reg`\\u547d\\u4ee4\\u7684\\u767e\\u5ea6\\u4e4b\\u65c5\\u3002\\n\\u6309\\u7167\\u7f51\\u4e0a\\u5404\\u79cd\\u65b9\\u6cd5\\uff0c\\u90fd\\u6307\\u5411\\u4e86\\u6ce8\\u518c\\u8868\\u7684\\u8fd9\\u4e2a\\u5730\\u65b9:\\n`HKEY_CURRENT_USER\\\\Software\\\\Microsoft\\\\Windows\\\\CurrentVersion\\\\Internet Settings`\\n\\u5927\\u5bb6\\u90fd\\u8bf4\\u5728\\u8fd9\\u4e2a\\u8def\\u5f84\\u4e0b\\uff0c\\u6709\\u8fd9\\u4e483\\u4e2a\\u9879\\u975e\\u5e38\\u91cd\\u8981\\uff1a\\n- `ProxyEnable` - \\u4f7f\\u7528\\u4ee3\\u7406\\n- `ProxyServer` - \\u4ee3\\u7406IP\\u7684\\u5730\\u5740\\u53ca\\u7aef\\u53e3\\u53f7\\n- `AutoConfigURL` - \\u81ea\\u52a8\\u914d\\u7f6e\\u811a\\u672c\\uff08PAC\\uff09\\u7684\\u5730\\u5740\\n  \\u4e8e\\u662f\\u8bd5\\u7740\\u7528`reg add`\\u547d\\u4ee4\\u64cd\\u4f5c\\uff1a\\n\\n```\\nreg add \"HKCU\\\\Software\\\\Microsoft\\\\Windows\\\\CurrentVersion\\\\Internet Settings\" /v ProxyEnable /tREG_DWORD /d 1 /f\\nreg add \"HKCU\\\\Software\\\\Microsoft\\\\Windows\\\\CurrentVersion\\\\Internet Settings\" /v ProxyServer /d\"192.168.1.1:8080\" /f\\n```\\n\\n\\u8fd9\\u4e24\\u53e5\\u7b2c\\u4e00\\u4e2a\\u662f\\u6253\\u5f00\\u201c\\u4ee3\\u7406\\u201d\\uff0c\\u7b2c\\u4e8c\\u4e2a\\u662f\\u8bbe\\u7f6e\\u4ee3\\u7406\\u7684IP\\u5730\\u5740\\u3002\\n\\u5148\\u5728\\u547d\\u4ee4\\u884c\\u91cc\\u6572\\u4e86\\u4e0b\\u547d\\u4ee4\\uff0c\\u7136\\u540e\\u6253\\u5f00`regedit`\\u6ce8\\u518c\\u8868\\uff0c\\u5237\\u65b0\\u4e0b\\u770b\\uff0c\\u8fd8\\u771f\\u6539\\u4e86\\uff01\\n\\u7136\\u540e\\u624b\\u52a8\\u6253\\u5f00IE\\u8bbe\\u7f6e\\uff0c\\u53d1\\u73b0\\u91cc\\u9762\\u7684\\u5185\\u5bb9\\u4e5f\\u786e\\u5b9e\\u6539\\u53d8\\u4e86\\u3002\\u7136\\u540e\\u518d\\u6253\\u5f00\\u6d4f\\u89c8\\u5668\\uff0c\\u6253\\u5f00IP\\u67e5\\u8be2\\u7684\\u7f51\\u5740\\uff0c\\u81ea\\u5df1\\u7684IP\\u771f\\u7684\\u53d8\\u4e86\\uff01\\n\\u81f3\\u6b64\\u4ee5\\u4e3a\\u5927\\u529f\\u544a\\u6210\\u4e86\\u3002\\u7ed3\\u679c\\u518d\\u7528\\u65f6\\uff0c\\u53d1\\u73b0\\u5927\\u9519\\u7279\\u9519\\u2014\\u2014\\n\\u518d\\u6b21\\u7528\\u547d\\u4ee4\\u884c\\u6539\\u6211\\u6307\\u5b9a\\u7684IP\\u5730\\u5740\\u540e\\uff0c\\u7f51\\u9875\\u6253\\u4e0d\\u5f00\\u4e86\\u3002\\u3002\\u3002\\n\\u6765\\u56de\\u53cd\\u590d\\u8c03\\u8bd5\\u67e5\\u9519\\u4e4b\\u540e\\uff0c\\u6211\\u53d1\\u73b0\\u4e00\\u4e2a\\u201c\\u5927\\u79d8\\u5bc6\\u201d\\uff1a\\u5982\\u679c\\u4e0d\\u624b\\u52a8\\u6253\\u5f00IE\\u8bbe\\u7f6e\\u91cc\\u7684\\u5c40\\u57df\\u7f51\\u8bbe\\u7f6e\\u7a97\\u53e3\\u7684\\u8bdd\\uff0c\\u6240\\u6709\\u4ee3\\u7406\\u8bbe\\u7f6e\\u662f\\u4e0d\\u751f\\u6548\\u7684\\u3002\\u8fd9\\u662f\\u4e3a\\u4ec0\\u4e48\\u5462\\uff1f\\n\\u767e\\u5ea6\\u91cc\\u641c\\u7d22\\u4e0d\\u5230\\u3002\\n\\u4e8e\\u662f\\u6211\\u5c31\\u7528\\u82f1\\u6587\\u5230Stackoverflow\\u53bb\\u641c\\uff0c\\u7ed3\\u679c\\u53d1\\u73b0\\u5b9e\\u9645\\u5f71\\u54cd\\u672c\\u673a\\u4ee3\\u7406\\u7684\\u6ce8\\u518c\\u8868\\u9879\\u76ee\\u5e76\\u4e0d\\u662f\\u4e4b\\u524d\\u7684\\u90a3\\u51e0\\u4e2a\\uff01\\uff08\\u771f\\u6000\\u7591\\u7f51\\u4e0a\\u90a3\\u4e9b\\u4eba\\u8bf4\\u81ea\\u5df1\\u7528\\u8fd9\\u4e2a\\u9879\\u8fbe\\u5230\\u5b9a\\u65f6\\u8bbe\\u7f6e\\u4ee3\\u7406\\u7684\\u4eba\\u662f\\u4e0d\\u662f\\u73a9\\u771f\\u7684\\u3002\\u3002\\u3002\\uff09\\n\\u800c\\u662f\\u8fd9\\u4e2a\\u4f4d\\u7f6e\\u7684\\u9879\\uff1a\\n`HKCU\\\\Software\\\\Microsoft\\\\Windows\\\\CurrentVersion\\\\Internet Settings\\\\Connections`\\n\\u5176\\u4e2d\\u7684`DefaultConnectionSettings`\\u624d\\u662f\\u771f\\u6b63\\u9700\\u8981\\u6539\\u7684\\u4e1c\\u897f\\u3002\\u6253\\u5f00\\u4ee5\\u540e\\u5404\\u79cd\\u4e71\\u7801\\uff0c\\u539f\\u6765\\u662f\\u4e8c\\u8fdb\\u5236\\u503c\\u3002\\n\\u4e0d\\u8fc7\\u7528\\u7f16\\u8f91\\u5668\\u770b\\u4e8c\\u8fdb\\u5236\\u503c\\uff0c\\u786e\\u5b9e\\u53d1\\u73b0\\u4ee3\\u7406IP\\u5730\\u5740\\u548c\\u81ea\\u52a8\\u914d\\u7f6e\\u811a\\u672c\\u7684\\u5730\\u5740\\u90fd\\u5728\\u91cc\\u9762\\u3002\\n\\u90a3\\u600e\\u4e48\\u529e\\u5462\\uff1fAHK\\u53ef\\u4e0d\\u4f1a\\u64cd\\u4f5c\\u4e8c\\u8fdb\\u5236\\uff0c\\u4e5f\\u6ca1\\u4ec0\\u4e48\\u65b9\\u6cd5\\u80fd\\u7528`reg add`\\u547d\\u4ee4\\u884c\\u76f4\\u63a5\\u628a\\u4e8c\\u8fdb\\u5236\\u503c\\u6ce8\\u5165\\u3002\\n\\u7136\\u540e\\u53c8\\u8fdb\\u5165\\u65e0\\u5c3d\\u7684\\u767e\\u5ea6\\u6a21\\u5f0f\\u3002\\n## \\u6ce8\\u518c\\u8868\\u7684\\u4e8c\\u8fdb\\u5236\\u9879\\u4fee\\u6539\\u65b9\\u5f0f\\u7684\\u7a81\\u53d1\\u5947\\u60f3\\n\\n\\u5fd8\\u4e86\\u4ec0\\u4e48\\u542f\\u53d1\\u7684\\u6211\\u5427\\uff0c\\u597d\\u50cf\\u662f\\u81ea\\u5df1\\u65e0\\u804a\\u5230\\u5728\\u6ce8\\u518c\\u8868\\u4e0a\\u4e71\\u70b9\\uff0c\\u53d1\\u73b0\\u6211\\u523b\\u610f\\u5bfc\\u51fa\\u6ce8\\u518c\\u8868\\u3002\\n\\u7136\\u540e\\u5bfc\\u51fa\\u4e86\\u4e0b\\u8bd5\\u8bd5\\uff0c\\u53d1\\u73b0\\u662f\\u4e2a.reg\\u6587\\u4ef6\\u3002\\u7136\\u540e\\u65e0\\u804a\\u53cc\\u51fb\\u4e00\\u4e0b\\uff0c\\u53d1\\u73b0\\u53ef\\u4ee5\\u628a\\u8fd9\\u4e2a\\u6587\\u4ef6\\u5bfc\\u5165\\u5230\\u6ce8\\u518c\\u8868\\uff01\\n\\u4e8e\\u662f\\u7075\\u5149\\u4e00\\u95ea\\uff0c\\u8d76\\u7d27\\u7528\\u6587\\u672c\\u7f16\\u8f91\\u5668\\u6253\\u5f00\\u8fd9\\u4e2a.reg\\u6587\\u4ef6\\uff0c\\u53d1\\u73b0\\u91cc\\u9762\\u662f\\u6587\\u5b57\\u753b\\u7684\\u5341\\u516d\\u8fdb\\u5236\\u7801\\uff0c\\u7c7b\\u4f3c\\u8fd9\\u6837\\u7684\\uff1a\\n\\n```\\nWindows Registry Editor Version 5.00\\n[HKEY_CURRENT_USER\\\\Software\\\\Microsoft\\\\Windows\\\\CurrentVersion\\\\Internet Settings\\\\Connections]\\n\"DefaultConnectionSettings\"=hex:46,00,00,00,03,00,00,00,07,00,00,00,0e,00,00,\\\\\\n 00,31,39,32,2e,31,36,38,2e,31,2e,31,3a,38,30,00,00,00,00,21,00,00,00,68,74,\\\\\\n 74,70,3a,2f,2f,78,64,75,6f,74,61,69,2e,63,6f,6d,2f,70,52,73,4f,33,4e,47,52,\\\\\\n 33,2d,2e,70,61,63,00,00,00,00,00,00,00,00,00,00,00,00,00,00,00,00,00,00,00,\\\\\\n  00,00,00,00,00,00,00,00,00,00,00,00,00\\n\"SavedLegacySettings\"=hex:46,00,00,00,c1,0c,00,00,07,00,00,00,0e,00,00,00,31,\\\\\\n 39,32,2e,31,36,38,2e,31,2e,31,3a,38,30,00,00,00,00,21,00,00,00,68,74,74,70,\\\\\\n 3a,2f,2f,78,64,75,6f,74,61,69,2e,63,6f,6d,2f,70,52,73,4f,33,4e,47,52,33,2d,\\\\\\n 2e,70,61,63,00,00,00,00,00,00,00,00,00,00,00,00,00,00,00,00,00,00,00,00,00,\\\\\\n  00,00,00,00,00,00,00,00,00,00,00\\n```\\n### \\u4e8e\\u662f\\u6700\\u7ec8\\u7b54\\u6848\\u5c31\\u51fa\\u6765\\u4e86\\uff08\\u8fd9\\u91cc\\u5f00\\u59cb\\u6709Python\\u4ecb\\u5165\\uff09\\n\\n\\u8fd9\\u4e2a\\u65f6\\u5019\\u6211\\u8fd8\\u4e0d\\u77e5\\u9053\\u8fd9\\u662f\\u6b63\\u786e\\u7b54\\u6848\\uff0c\\u53ea\\u662f\\u60f3\\u8bd5\\u4e00\\u8bd5\\uff1a\\n\\u7528Python\\u7ec4\\u6210\\u4e00\\u6bb5\\u6709\\u6548\\u7684\\u4e8c\\u8fdb\\u5236\\u7801\\uff08\\u5176\\u5b9e\\u662f\\u5341\\u516d\\u8fdb\\u5236\\uff09 -> \\u628a\\u6ce8\\u518c\\u8868\\u503c\\u5c01\\u88c5\\u4e3areg\\u6587\\u4ef6 -> \\u901a\\u8fc7\\u547d\\u4ee4\\u884c\\u7684`reg import`\\u547d\\u4ee4\\u5bfc\\u5165reg\\u6587\\u4ef6 -> \\u6210\\u529f\\uff01\\n\\u7136\\u540e\\u95ee\\u9898\\u5c31\\u5728\\u4e8e\\u600e\\u4e48\\u5b89\\u88c5\\u6b63\\u786e\\u7684\\u683c\\u5f0f\\u7ec4\\u6210\\n## DefaultConnectionSettings\\u5341\\u516d\\u8fdb\\u5236\\u503c\\u7684\\u5206\\u6790\\n\\n\\u4e8e\\u662f\\u7ee7\\u7eed\\u5230Stackoverflow\\u4e0a\\u641c\\u7d22`DefaultConnectionSettings`\\u8fd9\\u4e2a\\u9879\\u4e2d\\u5341\\u516d\\u8fdb\\u5236\\u7684\\u8bfb\\u53d6\\u95ee\\u9898\\u3002\\n\\u53d1\\u73b0\\u6709\\u4e00\\u4e2a\\u4eba\\u5927\\u6982\\u603b\\u7ed3\\u4e86\\u6bcf\\u4e00\\u4f4d\\u5b57\\u8282\\u662f\\u4ee3\\u8868\\u4ec0\\u4e48\\uff0c\\u4e0d\\u8fc7\\u4e0d\\u591f\\u8be6\\u7ec6\\u3002\\u5730\\u5740\\u5728\\u8fd9\\u91cc\\u3010[How to set \\'automatic configuration script\\' for a dial-up connection programmatically?](http://stackoverflow.com/questions/1564627/how-to-set-automatic-configuration-script-for-a-dial-up-connection-programmati)\\u3011\\n\\u7136\\u540e\\u5f00\\u59cb\\u505a\\u7b14\\u8bb0\\uff1a\\n![How to set \\'automatic configuration script\\' for a dial-up connection programmatically?](http://upload-images.jianshu.io/upload_images/841144-318a77735b01c8cc.png?imageMogr2/auto-orient/strip%7CimageView2/2/w/1240)\\n\\u63a5\\u7740\\u5f00\\u59cb\\u5c1d\\u8bd5\\u5bf9\\u7167\\u7740\\u90a3\\u6bb5\\u4e8c\\u8fdb\\u5236\\u503c\\u770b\\u4e00\\u770b\\u3002\\u4e8e\\u662f\\u6211\\u628a\\u8fd9\\u6bb5\\u5341\\u516d\\u8fdb\\u5236\\u7801\\u505a\\u6210PDF\\uff0c\\u65b9\\u4fbf\\u505a\\u7b14\\u8bb0\\uff0c\\u5927\\u6982\\u662f\\u8fd9\\u6837\\u7684\\uff1a\\n![_Windows\\u4ee3\\u7406\\u8bbe\\u7f6e\\u6ce8\\u518c\\u8868\\u503c\\u7684\\u5341\\u516d\\u8fdb\\u5236\\u5206\\u6790DefaultConnectionSettings](http://upload-images.jianshu.io/upload_images/841144-4db9a3ef5fb665de.png?imageMogr2/auto-orient/strip%7CimageView2/2/w/1240)\\n\\u5b9e\\u9645\\u7684\\u5341\\u516d\\u8fdb\\u5236\\u503c\\u679c\\u7136\\u548c\\u7f51\\u4e0a\\u7684\\u4e0d\\u540c\\u3002\\u7ecf\\u8fc7\\u5b9e\\u9a8c\\uff0c\\u540e\\u9762\\u4e00\\u5927\\u6bb5\\u753b\\u5220\\u9664\\u7ebf\\u7684\\uff0c\\u90fd\\u662f\\u6ca1\\u7528\\u7684\\uff0c\\u5220\\u9664\\u4e5f\\u6ca1\\u5173\\u7cfb\\u3002\\u5b9e\\u9645\\u4e0a\\uff0c\\u5b83\\u53ea\\u6709\\u5728\\u4f60\\u624b\\u52a8\\u6253\\u5f00IE\\u8bbe\\u7f6e\\u9762\\u677f\\u65f6\\uff0c\\u624d\\u81ea\\u52a8\\u52a0\\u4e0a\\u7684\\u3002\\u4e0d\\u7ba1\\u5b83\\uff0c\\u5b9e\\u9645\\u4e0a\\u6709\\u7528\\u7684\\u5341\\u516d\\u8fdb\\u5236\\u5e76\\u4e0d\\u957f\\u3002\\u603b\\u7ed3\\u4e0b\\u4e5f\\u5c31\\u8fd9\\u4e48\\u51e0\\u4f4d\\uff1a\\n`46 00 00 00 00 00 00 00 \\u5f00\\u5173 00 00 00 IP\\u957f\\u5ea6 00 00 00 IP\\u5730\\u5740 00 00 00 \\u662f\\u5426\\u8df3\\u8fc7\\u672c\\u5730\\u4ee3\\u7406 21 00 00 00 PAC\\u5730\\u5740`\\n\\u5176\\u4e2d\\uff0c\\u901a\\u8fc7\\u89c4\\u5f8b\\u53d1\\u73b0\\u6bcf\\u4e2a\\u4fe1\\u606f\\u7684\\u5206\\u9694\\u7b26\\u662f\\u4e09\\u4e2a00\\uff0c\\u5373`00 00 00`\\u3002\\u4e0a\\u9762\\u67097\\u4e2a00\\u7684\\uff0c\\u56e0\\u4e3a\\u6ca1\\u4ec0\\u4e48\\u7528\\u6211\\u5c31\\u4e0d\\u8bb2\\u4e86\\uff08\\u5176\\u5b9e\\u7b2c\\u56db\\u4e2a\\u4ee3\\u8868\\u81ea\\u589e\\u6570\\uff0c\\u76f4\\u63a5\\u4e3a00\\u5c31\\u597d\\u4e86\\uff09\\n\\u5f53\\u7136\\uff0c\\u5176\\u4e2d\\u6c49\\u5b57\\u7684\\u90e8\\u5206\\u662f\\u5341\\u516d\\u8fdb\\u5236\\u683c\\u5f0f\\u7684\\u3002\\n\\u8fd9\\u51e0\\u4e2a\\u6c49\\u5b57\\uff0c\\u662f\\u5176\\u4e2d\\u6700\\u91cd\\u8981\\u7684\\u4fe1\\u606f\\uff0c\\u5177\\u4f53\\u5982\\u4e0b\\uff1a\\n- \\u5f00\\u5173(switcher): \\u4e3b\\u8981\\u4ee3\\u8868IE\\u8bbe\\u7f6e\\u4e2d\\u590d\\u9009\\u6846\\u7684\\u9009\\u4e2d\\u60c5\\u51b5\\uff0c\\u4f60\\u53ef\\u4ee5\\u6253\\u5f00IE\\u8bbe\\u7f6e\\u770b\\u770b\\u3002\\u4ee5\\u4e0b\\u662f\\u6240\\u6709\\u53ef\\u7528\\u7684\\u503c\\uff08\\u62ec\\u53f7\\u4e2d\\u662f\\u6211\\u7528\\u7684\\u522b\\u540d\\uff09\\uff1a\\n  0F\\u5168\\u90e8\\u5f00\\u542f(ALL)\\uff1b01\\u5168\\u90e8\\u7981\\u7528(Off)\\n  03\\u4f7f\\u7528\\u4ee3\\u7406\\u670d\\u52a1\\u5668(ProxyOnly)\\uff1b05\\u4f7f\\u7528\\u81ea\\u52a8\\u811a\\u672c(PacOnly)\\uff1b\\n  07\\u4f7f\\u7528\\u811a\\u672c\\u548c\\u4ee3\\u7406(ProxyAndPac)\\uff1b09\\u6253\\u5f00\\u81ea\\u52a8\\u68c0\\u6d4b\\u8bbe\\u7f6e(D)\\uff1b\\n  0B\\u6253\\u5f00\\u81ea\\u52a8\\u68c0\\u6d4b\\u5e76\\u4f7f\\u7528\\u4ee3\\u7406(DIP)\\uff1b0D\\u6253\\u5f00\\u81ea\\u52a8\\u68c0\\u6d4b\\u5e76\\u4f7f\\u7528\\u811a\\u672c(DS)\\uff1b\\n- IP\\u957f\\u5ea6\\uff1a\\u5fc5\\u987b\\u662f\\u5341\\u516d\\u8fdb\\u5236\\u7684\\uff0c0\\u5c31\\u662f00\\uff0c7\\u5c31\\u662f07,10\\u5c31\\u662f0a,11\\u662f0b\\u3002\\u5728Python\\u4e2d\\uff0c\\u683c\\u5f0f\\u662f`0xa`\\uff0c\\u6240\\u4ee5\\u9700\\u8981\\u628a\\u683c\\u5f0f\\u7edf\\u4e00\\u4e3a\\u6ce8\\u518c\\u8868\\u7684\\u6807\\u51c6\\u3002\\n- IP\\u5730\\u5740\\uff1a\\u76f4\\u63a5\\u628aIP\\u5b89\\u88c5\\u6bcf\\u4e2a\\u5b57\\u7b26\\u8f6c\\u5341\\u516d\\u8fdb\\u5236\\u5c31\\u597d\\u4e86\\u3002\\u5982\\u679cIP\\u4e3a\\u7a7a\\u7684\\u8bdd\\uff0c\\u5c31\\u76f4\\u63a5\\u4e3a00\\u3002\\u8fd9\\u65f6\\u4f1a\\u770b\\u5230switcher\\u540e\\u9762\\u8ddf\\u4e8611\\u4e2a00\\u3002\\u3002\\u3002\\n- \\u662f\\u5426\\u8df3\\u8fc7\\u672c\\u5730\\u4ee3\\u7406\\uff1a\\u8fd9\\u6bb5\\u6709\\u70b9\\u590d\\u6742\\uff0c\\u5b9e\\u9645\\u4e0a\\u6211\\u4eec\\u51e0\\u4e4e\\u4e0d\\u7528\\u3002\\u5982\\u679c\\u4e0d\\u7528\\u7684\\u8bdd\\u76f4\\u63a5\\u4e3a00\\u5c31\\u597d\\u4e86\\u3002\\u4f46\\u662f\\u7528\\u7684\\u8bdd\\uff0c\\u5c31\\u5fc5\\u987b\\u5199\\u4e3a\\uff1a`\\u9644\\u52a0\\u4fe1\\u606f\\u957f\\u5ea600 00 00 \\u9644\\u52a0\\u4fe1\\u606f`\\u8fd9\\u6837\\u7684\\u3002\\n  - \\u9644\\u52a0\\u4fe1\\u606f\\uff1a\\u53ea\\u80fd\\u662f\\u8fd9\\u53e5\\u8bdd\\uff1a`<local>`\\n  - \\u9644\\u52a0\\u4fe1\\u606f\\u957f\\u5ea6\\uff1a\\u56e0\\u4e3a\\u9644\\u52a0\\u4fe1\\u606f\\u662f\\u56fa\\u5b9a\\u7684\\uff0c\\u6240\\u4ee5\\u51717\\u4f4d\\uff0c\\u5199\\u4e3a07\\u5c31\\u597d\\u4e86\\u3002\\n- PAC\\u5730\\u5740\\uff1a\\u8fd9\\u4e2a\\u7b80\\u5355\\uff0c\\u76f4\\u63a5\\u628aPAC\\u5730\\u5740\\u7ffb\\u8bd1\\u4e3a\\u5341\\u516d\\u8fdb\\u5236\\u5c31\\u597d\\u4e86\\u3002\\u5982\\u679c\\u6ca1\\u6709\\u5219\\u4ec0\\u4e48\\u90fd\\u4e0d\\u5199\\u3002\\n\\n\\u81f3\\u6b64\\u8fd9\\u6bb5\\u5341\\u516d\\u8fdb\\u5236\\u503c\\u5c31\\u5168\\u90e8\\u89e3\\u6790\\u5b8c\\u6bd5\\u4e86\\u3002\\n\\u5269\\u4e0b\\u7684\\u5c31\\u662f\\u628a\\u4f60\\u9700\\u8981\\u7684\\u4ee3\\u7406IP\\u5730\\u5740\\u548cPAC\\u5730\\u5740\\u4f5c\\u4e3a\\u53c2\\u6570\\u4f20\\u8fdb\\u53bb\\u5c31\\u597d\\u4e86\\u3002\\u7136\\u540e\\u628a\\u8fd9\\u6bb5\\u503c\\u5c01\\u88c5\\u5230reg\\u6587\\u4ef6\\u4e2d\\u7684\\u5bf9\\u5e94\\u4f4d\\u7f6e\\u5c31\\u5b8c\\u5168ok\\u4e86~\\u8fd9\\u6b65\\u592a\\u7b80\\u5355\\uff0c\\u5c31\\u4e0d\\u7528\\u591a\\u8bf4\\u4e86\\u3002\\n## \\u589e\\u52a0\\u66f4\\u65b9\\u4fbf\\u7684\\u529f\\u80fd\\n\\n\\u5404\\u79cd\\u6d4b\\u8bd5\\u6210\\u529f\\u540e\\uff0c\\u975e\\u5e38\\u9ad8\\u5174\\u3002\\u4f46\\u662f\\u8fd8\\u6709\\u70b9\\u4f59\\u5473\\u4e0d\\u8db3\\uff0c\\u5c31\\u60f3\\u7740\\u591a\\u6dfb\\u52a0\\u70b9\\u65b9\\u4fbf\\u7684\\u529f\\u80fd\\u3002\\n\\u8fd9\\u4e2aPython\\u6587\\u4ef6\\u7684\\u6700\\u540e\\u6210\\u54c1\\u53ef\\u4ee5\\u505a\\u5230\\u8fd9\\u4e9b\\u4e8b\\uff1a\\n- \\u76f4\\u63a5\\u901a\\u8fc7\\u547d\\u4ee4\\u884c\\u4f20\\u53c2\\u6570\\u8fbe\\u5230\\u5404\\u79cd\\u8bbe\\u7f6e\\u4ee3\\u7406\\u7684\\u6548\\u679c\\u3002\\u8fd9\\u4e2a\\u5f88\\u81ea\\u8c6a~\\u7b2c\\u4e00\\u6b21\\u7528\\u7cfb\\u7edf\\u53c2\\u6570\\u529f\\u80fd\\uff0c\\u54c8\\u54c8\\u54c8\\uff01\\n- \\u5728\\u6587\\u4ef6\\u5939\\u4e2d\\u76f4\\u63a5\\u53cc\\u51fb\\u8fbe\\u5230\\u6548\\u679c\\n- \\u5728\\u522b\\u7684Python\\u6587\\u4ef6\\u4e2d\\uff08\\u5982\\u722c\\u866b\\uff09\\u4f5c\\u4e3a\\u6a21\\u5757\\u88ab\\u4f7f\\u7528\\n- \\u88abAHK\\u8c03\\u7528\\n## \\u5728Autohotkey\\u4e2d\\u8c03\\u7528\\u2014\\u2014\\u6781\\u5176\\u65b9\\u4fbf\\u6781\\u5176\\u50bb\\u74dc\\u5f0f\\u64cd\\u4f5c\\uff01\\n\\n\\u4e0d\\u5fd8\\u521d\\u5fc3\\u561b~\\npython\\u5904\\u7406\\u4e00\\u5207\\u5b8c\\u6210\\u540e\\uff0c\\u53c8\\u56de\\u5230\\u4e86AHK\\u4e2d\\u3002\\n\\u8fd9\\u4e00\\u6b65\\u53ef\\u80fd\\u4e5f\\u5c31\\u5199\\u4e86\\u51e0\\u5206\\u949f\\uff0c\\u8ba9AHK\\u76f4\\u63a5\\u5e26\\u53c2\\u6570\\u6253\\u5f00python\\u811a\\u672c\\u5c31\\u505a\\u5230\\u4e86\\u3002\\u6bd4\\u5982\\u8bbe\\u7f6e\\u4e00\\u4e2a\\u4ee3\\u7406IP\\u5730\\u5740\\uff1a\\n\\n``` Autohotkey\\npath = \"D:\\\\setRegProxy.py\" ;\\u8fd9\\u91cc\\u662fpython\\u811a\\u672c\\u7684\\u5730\\u5740\\uff0c\\u968f\\u4fbf\\u653e\\u54ea\\u90fd\\u884c\\u3002\\nkey   = \"0.0.0.0:80\"  ;\\u8fd9\\u91cc\\u6839\\u636e\\u9700\\u8981\\u8bbe\\u7f6e\\u4e3a\\u4ee3\\u7406\\u5730\\u5740\\nRun % path \" -o ProxyOnly \" key\\n```\\n\\n\\u8fd9\\u6837\\u5c31\\u9f50\\u6d3b\\u4e86~\\n\\u5f53\\u7136\\uff0c\\u6211\\u7684AHK\\u811a\\u672c\\u5b9e\\u73b0\\u7684\\u529f\\u80fd\\u6bd4\\u8fd9\\u4e2a\\u8fd8\\u8981\\u723d\\u5feb\\u2014\\u2014\\u5f39\\u51fa\\u4e00\\u4e2a\\u5c0f\\u8f93\\u5165\\u6846\\uff0c\\u76f4\\u63a5\\u7c98\\u8d34\\u4e00\\u4e2aip\\u5730\\u5740\\uff0c\\u6309\\u56de\\u8f66\\u5c31\\u80fd\\u5b9e\\u73b0\\u4ee3\\u7406\\u8bbe\\u7f6e\\u3002\\n## Python\\u811a\\u672c\\u7684\\u6e90\\u7801(setProxy.py)\\n\\n\\u53ea\\u8981\\u673a\\u5668\\u4e0a\\u5b89\\u88c5\\u4e86Python 2.x\\u7248\\u672c\\u5c31\\u884c\\uff0c\\u4e0d\\u9700\\u8981\\u4f9d\\u8d56\\u5b89\\u88c5\\u548c\\u8bbe\\u7f6e\\u5176\\u4ed6\\u4efb\\u4f55\\u4e1c\\u897f\\u3002\\n\\n``` python\\n# coding:utf-8\\n\\'\\'\\'\\n  # Title   : setRegProxy\\n  # Author  : Solomon Xie\\n  # Utility : Via Registry key of windows, change proxy settings of IE on Windows.\\n  # Require : Python 2.x, Windows 7\\n  # Reg Path: HKUC\\\\Software\\\\Microsoft\\\\Windows\\\\CurrentVersion\\\\Internet Settings\\\\Connections\\n  # Anlysis : \\u6ce8\\u518c\\u8868\\u7684\\u4e8c\\u8fdb\\u5236\\u503c(\\u53ca\\u5173\\u952e\\u4fe1\\u606f)\\u5982\\u4e0b\\uff1a\"46 00 00 00 00 00 00 00 \\u5f00\\u5173 00 00 00 IP\\u957f\\u5ea6 00 00 00 IP\\u5730\\u5740 00 00 00 \\u662f\\u5426\\u8df3\\u8fc7\\u672c\\u5730\\u4ee3\\u7406 21 00 00 00 PAC\\u5730\\u5740\"\\n  # Method  : \\u901a\\u8fc7\\u5728cmd\\u4e2d\\u5bfc\\u5165reg\\u6587\\u4ef6\\u7684\\u65b9\\u5f0f\\u6267\\u884c\\u5e76\\u7acb\\u5373\\u751f\\u6548\\u3002\\n  # Notes   : - \\u4e8c\\u8fdb\\u5236\\u503c\\u7684\\u8bbe\\u7f6e\\u9009\\u9879\\u5728\\u4ee3\\u7801\\u4e2d\\u5df2\\u7ecf\\u4f53\\u73b0\\u4e86\\u3002\\u672c\\u4ee3\\u7801\\u53ef\\u4ee5\\u6839\\u636e\\u9700\\u8981\\u81ea\\u52a8\\u8bbe\\u7f6e\\u4ee3\\u7406\\u3002\\n  # switcher: \\u5f00\\u5173\\uff1a0F\\u5168\\u90e8\\u5f00\\u542f(ALL)\\uff1b01\\u5168\\u90e8\\u7981\\u7528(Off)\\n              03\\u4f7f\\u7528\\u4ee3\\u7406\\u670d\\u52a1\\u5668(ProxyOnly)\\uff1b05\\u4f7f\\u7528\\u81ea\\u52a8\\u811a\\u672c(PacOnly)\\uff1b\\n              07\\u4f7f\\u7528\\u811a\\u672c\\u548c\\u4ee3\\u7406(ProxyAndPac)\\uff1b09\\u81ea\\u52a8\\u68c0\\u6d4b\\u8bbe\\u7f6e(D)\\uff1b\\n              0B\\u81ea\\u52a8\\u68c0\\u6d4b\\u5e76\\u4f7f\\u7528\\u4ee3\\u7406(DIP)\\uff1b0D\\u81ea\\u52a8\\u68c0\\u6d4b\\u5e76\\u4f7f\\u7528\\u811a\\u672c(DS)\\uff1b\\n\\'\\'\\'\\nimport os, sys, re, getopt\\n\\ndef regIESettings(op, noLocal=False, ip=\\'\\', pac=\\'\\'):\\n  \\'\\'\\'\\n    # \\u6839\\u636e\\u9700\\u6c42\\u751f\\u6210Windows\\u4ee3\\u7406\\u8bbe\\u7f6e\\u6ce8\\u518c\\u8868\\u7684.reg\\u6587\\u4ef6\\u5185\\u5bb9\\n    # DefaultConnectionSettings\\u9879\\u662f\\u4e8c\\u8fdb\\u5236\\u9879\\n    # \\u800c\\u5177\\u4f53\\u8fd9\\u4e2a\\u4e8c\\u8fdb\\u5236\\u6587\\u4ef6\\u600e\\u4e48\\u89e3\\u6790\\uff0c\\u5728\\u6536\\u85cf\\u7684PDF\\u4e2d\\u6709\\u8be6\\u7ec6\\u89e3\\u91ca\\u3002\\n  \\'\\'\\'\\n  if not op : return\\n  # \\u5982\\u679c\\u662f\\u8bbe\\u7f6eIP\\u4ee3\\u7406\\u7684\\u6a21\\u5f0f \\u5219\\u68c0\\u67e5IP\\u5730\\u5740\\u7684\\u6709\\u6548\\u6027(\\u5141\\u8bb8\\u4e3a\\u7a7a\\uff0c\\u4f46\\u4e0d\\u5141\\u8bb8\\u683c\\u5f0f\\u9519\\u8bef)\\n  if \\'Proxy\\' in op and not ip == \\'\\': \\n    # if len(extractIp(ip))==0\\n    if 1 > len(re.findall(\\'([0-9]{1,3}\\\\.[0-9]{1,3}\\\\.[0-9]{1,3}\\\\.[0-9]{1,3})\\\\s*:{0,1}\\\\s*([0-9]{1,5}){0,1}\\',ip)) :\\n      print \\'---Unexpected IP Address:%s---\\'%ip\\n      return\\n  options = {\\'On\\':\\'0F\\',\\'Off\\':\\'01\\',\\'ProxyOnly\\':\\'03\\',\\'PacOnly\\':\\'05\\',\\'ProxyAndPac\\':\\'07\\',\\'D\\':\\'09\\',\\'DIP\\':\\'0B\\',\\'DS\\':\\'0D\\'}\\n  if op == \\'Off\\':\\n    reg_value = \\'46,00,00,00,00,00,00,00,01\\'\\n  else:\\n    switcher = options.get(op)\\n    if not switcher:\\n      print \\'\\\\n---Unexpected Option. Please check the value after [-o]---\\\\n\\'\\n      return\\n    skipLocal = \\'07,00,00,00,%s\\'%__toHex(\\'<local>\\') if noLocal else \\'00\\'\\n    reg_value = \\'46,00,00,00,00,00,00,00,%(switcher)s,00,00,00,%(ipLen)s,00,00,00,%(ip)s00,00,00,%(skipLocal)s,21,00,00,00%(pac)s\\' % ({ \\'switcher\\':switcher,\\'ipLen\\':__toHex(len(ip)),\\'ip\\':__toHex(ip)+\\',\\' if ip else \\'\\',\\'infoLen\\':__toHex(len(\\'<local>\\')),\\'skipLocal\\':skipLocal,\\'pac\\':\\',\\'+__toHex(pac) if pac else \\'\\' })\\n  settings = \\'Windows Registry Editor Version 5.00\\\\n[HKEY_CURRENT_USER\\\\Software\\\\Microsoft\\\\Windows\\\\CurrentVersion\\\\Internet Settings\\\\Connections]\\\\n\"DefaultConnectionSettings\"=hex:%s\\' % reg_value\\n  # print \\'Using proxy address: %s\\' % ip\\n  print op, ip, pac\\n  print options[op] +\\'\\\\n\\'+ __toHex(ip) +\\'\\\\n\\'+ __toHex(pac)\\n  print settings\\n  # === \\u751f\\u6210reg\\u6587\\u4ef6\\u5e76\\u5bfc\\u5165\\u5230\\u6ce8\\u518c\\u8868\\u4e2d ===\\n  filePath = \\'%s\\\\DefaultConnectionSettings.reg\\'%os.getcwd() \\n  with open(filePath, \\'w\\') as f:\\n    f.write( settings )\\n  cmd = \\'reg import \"%s\"\\' %filePath\\n  result  = os.popen(cmd)\\n  if len(result.readlines()) < 2 :\\n    print \\'---Successfully import proxy into Registry on this machine.---\\'\\n  return \\n\\ndef __toHex(obj):\\n  if   obj == \\'\\': return \\'\\'\\n  elif obj == 0 or obj == \\'0\\' or obj == \\'00\\': return \\'00\\'\\n  if isinstance(obj, str):\\n    rehex = [str(hex(ord(s))).replace(\\'0x\\',\\'\\') for s in obj]\\n    return \\',\\'.join(rehex)\\n  elif isinstance(obj, int):\\n    num = str(hex(obj)).replace(\\'0x\\', \\'\\')\\n    return num if len(num)>1 else \\'0\\'+num # \\u5982\\u679c\\u662f\\u4e00\\u4f4d\\u6570\\u5219\\u81ea\\u52a8\\u8865\\u4e0a0\\uff0c7\\u4e3a07\\uff0ce\\u4e3a0e\\n\\nif __name__ == \\'__main__\\':\\n  # \\u83b7\\u53d6\\u6587\\u4ef6\\u5916\\u90e8\\u53c2\\u6570\\n  # \\u7528\\u6cd5\\uff1a\\u5728\\u547d\\u4ee4\\u884c\\u4e2d\\u8f93\\u5165setRegProxy.py -o \"ProxyOnly\" -l --proxy\"0.0.0.0:80\" -l\\n  opts, args = getopt.getopt(sys.argv[1:], \\'o:p:a:l\\',[\\'option=\\',\\'proxy=\\',\\'pac=\\',\\'local\\'])\\n  print opts, args #\\u8c03\\u8bd5\\u7528\\n  if len(opts) > 0:\\n    op, ip, pac = \\'\\', \\'\\', \\'\\'\\n    noLocal = False\\n    for o,a in opts:\\n      if   o == \\'-o\\' or o == \\'--option\\':  op = a\\n      elif o == \\'-p\\' or o == \\'--proxy\\' :  ip = a\\n      elif o == \\'-a\\' or o == \\'--pac\\'   : pac = a\\n      elif o == \\'-l\\' or o == \\'--local\\' : noLocal = False\\n    pac = \\'http://xduotai.com/pRsO3NGR3-.pac\\' if not pac else pac\\n    if op == \\'ProxyOff\\':\\n      regIESettings(op=\\'Off\\', ip=ip, pac=pac, noLocal=noLocal)\\n      regIESettings(op=\\'PacOnly\\', ip=ip, pac=pac, noLocal=noLocal)\\n    elif op == \\'PacOff\\':\\n      regIESettings(op=\\'Off\\', ip=ip, pac=pac, noLocal=noLocal)\\n      regIESettings(op=\\'ProxyOnly\\', ip=ip, pac=pac, noLocal=noLocal)\\n    else:\\n      regIESettings(op=op, ip=ip, pac=pac, noLocal=noLocal)\\n```\\n## Autohotkey\\u6e90\\u7801\\n\\nAutohotkey\\u600e\\u4e48\\u7528\\u5462\\uff1f\\u592a\\u7b80\\u5355\\u4e86\\uff0c\\u50bb\\u5230\\u7206\\uff01\\n\\u76f4\\u63a5\\u5b98\\u7f51\\u4e0b\\u8f7d\\u5b89\\u88c5\\u4e00\\u4e2aAutohotkey\\u8f6f\\u4ef6\\uff0c\\u4e5f\\u5c31\\u51e0M\\u3002\\u7136\\u540e\\u5462\\uff0c\\u65b0\\u5efa\\u4e00\\u4e2a\\u6587\\u672c\\u6587\\u4ef6\\uff0c\\u628a\\u4e0b\\u9762\\u5185\\u5bb9\\u7c98\\u8d34\\u8fdb\\u53bb\\u3002\\u628a\\u6587\\u4ef6\\u540d\\u540e\\u7f00\\u6539\\u4e3a`.ahk`\\uff0c\\u7136\\u540e\\u53cc\\u51fb\\u5c31\\u542f\\u52a8\\u4e86\\u811a\\u672c\\u54c8\\u54c8\\uff01\\n\\u8fd9\\u65f6\\u4f60\\u8bd5\\u7740\\u6309\\u4e00\\u4e0b\\u952e\\u76d8\\u4e0a\\u7684ScrollLock\\u952e\\uff0c\\u5c31\\u4f1a\\u5f39\\u51fa\\u6765\\u4e00\\u4e2a\\u5bf9\\u8bdd\\u6846\\u3002\\u6548\\u679c\\u662f\\u8fd9\\u6837\\u7684\\uff1a\\n![\\u6309\\u4e0bScrollLock\\u952e\\u540e\\u5f39\\u51fa\\u7684\\u6846\\u6846](http://upload-images.jianshu.io/upload_images/841144-721fa232d2bce823.png?imageMogr2/auto-orient/strip%7CimageView2/2/w/1240)\\n\\n\\u4f60\\u53ef\\u4ee5\\u5728\\u8fd9\\u91cc\\u8f93\\u5165\\u6539\\u4ee3\\u7406\\u7684\\u547d\\u4ee4~ \\u6211\\u8bbe\\u8ba1\\u7684\\u547d\\u4ee4\\u90fd\\u975e\\u5e38\\u7b80\\u5355\\uff0c\\u5982\\u4e0b\\uff1a\\n- \\u8f93\\u5165`proxy`\\uff0c\\u5c31\\u4f1a\\u6253\\u5f00IE\\u8bbe\\u7f6e\\u7684\\u7a97\\u53e3\\n- \\u8f93\\u5165`proxy 192.168.1.1:8080` \\uff0c\\u5c31\\u4f1a\\u628a\\u4ee3\\u7406\\u8bbe\\u7f6e\\u4e3a\\u8fd9\\u4e2aIP\\n- \\u8f93\\u5165`proxy on`\\uff0c\\u5c31\\u4f1a\\u6253\\u5f00\\u4ee3\\u7406\\uff08\\u4f46\\u662fIP\\u4e3a\\u7a7a\\uff09\\n- \\u8f93\\u5165`proxy off`\\uff0c\\u5c31\\u4f1a\\u5173\\u95ed\\u4ee3\\u7406\\n- \\u8f93\\u5165`pac http://abc.com/123.pac`\\uff0c\\u5c31\\u5f00\\u542f\\u67d0\\u81ea\\u52a8\\u4ee3\\u7406\\u8bbe\\u7f6e\\u811a\\u672c\\n- \\u8f93\\u5165`pac off`\\uff0c\\u5c31\\u4f1a\\u5173\\u95ed\\u81ea\\u52a8\\u811a\\u672c\\n\\n![\\u8f93\\u5165\\u6307\\u4ee4\\u7684\\u6837\\u5b50](http://upload-images.jianshu.io/upload_images/841144-47b6ad9c5753f387.png?imageMogr2/auto-orient/strip%7CimageView2/2/w/1240)\\n\\n\\u6ce8\\u610f\\uff1a\\n1. \\u6211\\u8fd9\\u91cc\\u6ce8\\u518c\\u7684\\u952e\\u662f\\u952e\\u76d8\\u4e0a\\u7684ScrollLock\\u6309\\u94ae\\uff0c\\u6309\\u4e00\\u4e0b\\u5c31\\u6709\\u4e86\\u3002\\u4e5f\\u53ef\\u4ee5\\u81ea\\u5df1\\u8bbe\\u5b9a\\u4e00\\u4e2a\\u3002\\n2. \\u4e0b\\u9762\\u7684\\u4ee3\\u7801\\u662f\\u5904\\u7406\\u8fc7\\u7684\\uff0c\\u5b9e\\u9645\\u4e0a\\u8fd9\\u4e2a\\u6309\\u952e\\u8fdc\\u6bd4\\u5b83\\u8981\\u65b9\\u4fbf\\u7684\\u591a\\uff1a\\u5b83\\u662f\\u6211\\u7684\\u5feb\\u901f\\u64cd\\u4f5c\\u6740\\u624b\\u950f\\uff0c\\u4e00\\u6761\\u547d\\u4ee4\\u5b9e\\u73b0\\u5de8\\u591a\\u529f\\u80fd\\u3002\\u5982\\u6709\\u611f\\u5174\\u8da3\\u7684\\u53ef\\u4ee5\\u8054\\u7cfb\\u6211\\u8ba8\\u8bba\\uff0c\\u6216\\u8005\\u770b\\u6211\\u7684\\u4e0b\\u4e00\\u7bc7\\u4e13\\u95e8\\u9488\\u5bf9AHK\\u7684\\u6587\\u7ae0\\uff08\\u5982\\u679c\\u6211\\u4e0d\\u72af\\u61d2\\u5199\\u4e86\\u7684\\u8bdd\\uff09\\u3002\\n3. \\u6211\\u8bbe\\u5b9a\\u7684\\u6307\\u4ee4\\u662f`proxy ??`\\u8fd9\\u6837\\u7684\\uff0c\\u5982\\u679c\\u5acc\\u957f\\u6216\\u8005\\u4e0d\\u65b9\\u4fbf\\uff0c\\u53ef\\u4ee5\\u6539\\u4e3a\\u522b\\u7684\\u81ea\\u5df1\\u7528\\u7740\\u8212\\u670d\\u7684\\u3002\\u751a\\u81f3\\u4e0d\\u7528\\u5f39\\u51fa\\u6846\\uff0c\\u76f4\\u63a5\\u6309\\u4e00\\u4e0bF1\\u4e4b\\u7c7b\\u7684\\u5c31\\u5b8c\\u6210\\u8bbe\\u7f6e\\u90fd\\u53ef\\u4ee5\\u3002\\u4e0d\\u8fc7\\u8fd9\\u5c31\\u9700\\u8981\\u7a0d\\u5fae\\u4e86\\u89e3\\u4e0bAHK\\u8bed\\u6cd5\\u5566~\\uff08\\u4e5f\\u4e0d\\u96be\\uff09\\n\\n``` Autohotkey\\nScrollLock:: \\n{\\n    ; --- \\u83b7\\u53d6\\u6307\\u4ee4\\u53ca\\u5173\\u952e\\u8bcd ---\\n    InputBox, fullCommand, (Command Line Interface), Please give me a command:, , 600, 130 ;\\u83b7\\u53d6\\u547d\\u4ee4\\n    if (fullcommand = \"\")\\n        Return\\n    ; -- \\u89e3\\u6790\\u547d\\u4ee4 ---\\n    split  := \" \" \\n    StringGetPos , posi, fullCommand, %split%\\n    if (posi > 0) {\\n        StringMid, eng, fullCommand, 0 , posi ;\\n        StringMid, key, fullCommand, posi+2 , StrLen(fullCommand)\\n    }\\n    else {\\n        eng := fullCommand\\n        key := \"\"\\n    }\\n        ; === \\u6253\\u5f00IE\\u8bbe\\u7f6e\\u7a97\\u53e3\\u7684\\u547d\\u4ee4 ===\\n        ieSettings := \"rundll32.exe shell32.dll, Control_RunDLL inetcpl.cpl, ,4L\"\\n        ; === python\\u811a\\u672c\\u7684\\u5730\\u5740 ===\\n    path  := \"D:\\\\Solomon Xie\\\\Workspace\\\\setRegProxy.py\" ;Python\\u8bbe\\u7f6e\\u4ee3\\u7406\\u811a\\u672c\\uff0c\\u53ef\\u63a5\\u6536\\u547d\\u4ee4\\u884c\\u53c2\\u6570\\n    ; ---\\u5f00\\u59cb\\u6267\\u884c\\u64cd\\u4f5c---\\n    if      (eng = \"\" and fullcommand != \"\")\\n        Run % ieSettings\\n    else if (eng = \"Proxy\"){\\n        if (key = \"\")\\n            Return\\n        else if (key = \"Off\")\\n            Run % path \" -o Off \"\\n        else{\\n            if (key = \"On\")\\n                key := \"\" ;\\u201c\\u83b7\\u53d6\\u201d\\u5386\\u53f2IP\\u503c\\u592a\\u9ebb\\u70e6 \\u5148\\u4e3a\\u7a7a\\u5427\\n            else\\n                key = \"--proxy \" %key%\\n            Run % path  \" -o ProxyOnly \" key\\n        }\\n    }\\n    else if (eng = \"Pac\" and key != \"\") {\\n        if (key = \"\" or key = \"On\")\\n            key = \"http://xduotai.com/pRsO3NGR3-.pac\"\\n        if (key = \"Off\")\\n            Run % path  \" -o Off \"\\n        else {\\n            key = \"%key%\"\\n            Run % path \" -o PacOnly --pac \" key\\n        }\\n    }\\n    Return\\n}\\n```\\n', u'author_association': u'OWNER', u'labels_url': u'https://api.github.com/repos/solomonxie/solomonxie.github.io/issues/21/labels{/name}', u'events_url': u'https://api.github.com/repos/solomonxie/solomonxie.github.io/issues/21/events', u'comments_url': u'https://api.github.com/repos/solomonxie/solomonxie.github.io/issues/21/comments', u'html_url': u'https://github.com/solomonxie/solomonxie.github.io/issues/21', u'number': 21, u'user': {u'following_url': u'https://api.github.com/users/solomonxie/following{/other_user}', u'gists_url': u'https://api.github.com/users/solomonxie/gists{/gist_id}', u'organizations_url': u'https://api.github.com/users/solomonxie/orgs', u'url': u'https://api.github.com/users/solomonxie', u'events_url': u'https://api.github.com/users/solomonxie/events{/privacy}', u'html_url': u'https://github.com/solomonxie', u'subscriptions_url': u'https://api.github.com/users/solomonxie/subscriptions', u'avatar_url': u'https://avatars2.githubusercontent.com/u/14041622?v=4', u'repos_url': u'https://api.github.com/users/solomonxie/repos', u'received_events_url': u'https://api.github.com/users/solomonxie/received_events', u'gravatar_id': u'', u'starred_url': u'https://api.github.com/users/solomonxie/starred{/owner}{/repo}', u'site_admin': False, u'login': u'solomonxie', u'type': u'User', u'id': 14041622, u'followers_url': u'https://api.github.com/users/solomonxie/followers'}, u'milestone': None, u'locked': False, u'url': u'https://api.github.com/repos/solomonxie/solomonxie.github.io/issues/21', u'created_at': u'2016-01-15T11:11:26Z', u'assignees': []}, {u'labels': [{u'color': u'd4c5f9', u'default': False, u'url': u'https://api.github.com/repos/solomonxie/solomonxie.github.io/labels/Python', u'id': 290633688, u'name': u'Python'}], u'updated_at': u'2015-12-20T16:17:14Z', u'assignee': None, u'repository_url': u'https://api.github.com/repos/solomonxie/solomonxie.github.io', u'closed_at': None, u'id': 123169867, u'title': u'Python\\u91cc\\u4e2d\\u6587\\u7f16\\u7801\\u7684\\u7406\\u89e3\\uff1aunicode\\u3001utf-8\\u3001gbk', u'comments': 0, u'state': u'open', u'body': u'\\u53c8\\u8bf4\\u4e00\\u904d\\u4e86\\uff0cpython\\u8981\\u60f3\\u73a9\\u8f6c\\uff0c\\u901a\\u53e4\\u81f3\\u4eca\\u7684\\u8ba1\\u7b97\\u673a\\u7f16\\u7801\\u53f2\\u5148\\u8981\\u7cbe\\u901a\\u3002\\u4e0a\\u4e00\\u7bc7\\u6587\\u7ae0\\u300aPython\\u4e2d\\u6587\\u5b57\\u7b26\\u7684\\u7406\\u89e3\\uff1astr()\\u3001repr()\\u3001print\\u300b\\u5c3d\\u91cf\\u62c6\\u5206\\u7814\\u7a76\\u4e86\\u4e00\\u4e0bpython\\u5bf9\\u5b57\\u7b26\\u4e32\\u7684\\u57fa\\u672c\\u5904\\u7406\\u3002\\u8fd9\\u91cc\\u7a0d\\u5fae\\u63d0\\u5347\\u4e0b\\uff0c\\u5f00\\u59cb\\u7814\\u7a76\\u4e00\\u4e0bpython\\u4e2d\\u57fa\\u672c\\u7684\\u5b57\\u7b26\\u7f16\\u7801\\u5f02\\u540c\\u3002\\n## \\u5148\\u6765\\u804a\\u804a\\u4e07\\u56fd\\u7801\\uff1aunicode\\n\\n`\\u4e07\\u56fd\\u7801unicode`\\u53ef\\u4ee5\\u88ab\\u770b\\u4f5c\\u5f53\\u4eca\\u4e16\\u754c\\u6240\\u6709\\u6587\\u5b57\\u7684\\u7edf\\u4e00\\u7f16\\u7801\\u3002\\u4f5c\\u4e3a\\u4e00\\u79cd\\u57fa\\u77f3\\uff0c\\u4e0d\\u7ba1\\u662f\\u4ec0\\u4e48\\u5b57\\u53ea\\u8981\\u662f\\u4fdd\\u5b58\\u4e3aunicode\\u5c31\\u4e0d\\u4f1a\\u9519\\u3002\\u5982\\u679c\\u51fa\\u9519\\uff0c\\u90a3\\u4e5f\\u53ea\\u662f\\u4f60\\u9009\\u62e9\\u7528\\u4ec0\\u4e48\\u7f16\\u7801\\u628aunicode\\u7ffb\\u8bd1\\u8fc7\\u6765\\u9020\\u6210\\u7684\\u3002\\n\\u6839\\u636e\\u7ef4\\u57fa\\u767e\\u79d1\\uff0c\\u4e00\\u4e2a\\u5b57\\u7684unicode\\u7684\\u57fa\\u672c\\u8868\\u73b0\\u5f62\\u5f0f\\u4e3a`\\u201cU+\\u201d\\u7136\\u540e\\u7d27\\u63a5\\u7740\\u4e00\\u7ec4\\u5341\\u516d\\u8fdb\\u5236\\u7684\\u6570\\u5b57`\\uff0c\\u4e5f\\u5c31\\u662f`U+hhhh`\\uff0c\\u5176\\u4e2d\\u6bcf\\u4e00\\u4e2ah\\u4ee3\\u8868\\u4e00\\u4e2a**\\u5341\\u516d\\u8fdb\\u5236**\\u6570\\u5b57\\u3002\\u5982\\uff1a`U+4f60`\\u4ee3\\u8868\\u4e2d\\u6587\\u7684\\'\\u4f60\\'\\uff0c\\u5728python\\u91cc\\u4f1a\\u663e\\u793a\\u6210`u\\'\\\\u4f60\\'`\\u3002\\u6700\\u524d\\u9762\\u7684\\'\\u524d\\u7684u\\u4ee3\\u8868\\u540e\\u9762\\u8fd9\\u4e32\\u6587\\u5b57\\u662funicode\\uff0c\\u800c`\\\\u`\\u5c31\\u662f`U+`\\u4e86\\uff0c\\u540e\\u9762\\u7684\\u5341\\u516d\\u8fdb\\u5236\\u7f16\\u78014f60\\u662f\\u4e00\\u6837\\u7684\\u3002\\n\\uff08\\u5751\\u7239\\u7684\\u767e\\u5ea6\\u767e\\u79d1\\uff0c\\u7adf\\u7136\\u8bf4unicode\\u662f\\u4e8c\\u8fdb\\u5236\\uff0c\\u5176\\u5b9eUTF\\u624d\\u4f1a\\u6709\\u4e8c\\u8fdb\\u5236-_-\\uff09\\n\\n\\u867d\\u7136\\u4e16\\u754c\\u4e0a\\u6bcf\\u4e2a\\u5b57\\u90fd\\u6709\\u552f\\u4e00\\u7684\\u4e00\\u4e2aunicode\\uff0c\\u4f46\\u662f\\u5b83\\u8fd8\\u5206\\u4e3a**\\u7f16\\u7801\\u65b9\\u5f0f**\\u548c**\\u5b9e\\u73b0\\u65b9\\u5f0f**\\u3002\\u8fd9\\u4e5f\\u5c31\\u662f\\u641e\\u6655python\\u7f16\\u7801\\u7684\\u4e07\\u6076\\u4e4b\\u6e90\\u4e86\\u3002\\n\\u7f16\\u7801\\u65b9\\u5f0f\\u521a\\u624d\\u8bb2\\u4e86\\uff0c\\u5c31\\u662f`U+hhhh`\\uff0c\\u53ef\\u5b9e\\u73b0\\u65b9\\u5f0f\\u5c31\\u590d\\u6742\\u4e86\\uff1a\\u4e0d\\u540c\\u64cd\\u4f5c\\u7cfb\\u7edf\\u3001\\u4e0d\\u540c\\u56fd\\u5bb6\\u7684\\u5b9e\\u73b0\\u65b9\\u5f0f\\u8fd8\\u90fd\\u4e0d\\u540c\\u3002\\n\\u7ef4\\u57fa\\u767e\\u79d1\\u4e2d\\u8bf4\\uff1a\\n\\n> Unicode\\u7684\\u5b9e\\u73b0\\u65b9\\u5f0f\\u4e0d\\u540c\\u4e8e\\u7f16\\u7801\\u65b9\\u5f0f\\u3002\\u4e00\\u4e2a\\u5b57\\u7b26\\u7684Unicode\\u7f16\\u7801\\u662f\\u786e\\u5b9a\\u7684\\u3002\\u4f46\\u662f\\u5728\\u5b9e\\u9645\\u4f20\\u8f93\\u8fc7\\u7a0b\\u4e2d\\uff0c\\u7531\\u4e8e\\u4e0d\\u540c\\u7cfb\\u7edf\\u5e73\\u53f0\\u7684\\u8bbe\\u8ba1\\u4e0d\\u4e00\\u5b9a\\u4e00\\u81f4\\uff0c\\u4ee5\\u53ca\\u51fa\\u4e8e\\u8282\\u7701\\u7a7a\\u95f4\\u7684\\u76ee\\u7684\\uff0c\\u5bf9Unicode\\u7f16\\u7801\\u7684\\u5b9e\\u73b0\\u65b9\\u5f0f\\u6709\\u6240\\u4e0d\\u540c\\u3002\\n## \\u518d\\u6765\\u804a\\u804aUTF-8\\n\\n\\u524d\\u9762\\u8bf4\\u5230\\uff0cunicode\\u7684\\u5b9e\\u73b0\\u65b9\\u5f0f\\u662f\\u5728\\u54ea\\u90fd\\u4e0d\\u4e00\\u6837\\u7684\\u3002\\u8fd9\\u4e2a\\u65f6\\u5019\\uff0c\\u8457\\u540d\\u7684UTF\\u5c31\\u51fa\\u73b0\\u4e86\\uff1aUnicode\\u7684\\u5b9e\\u73b0\\u65b9\\u5f0f\\u79f0\\u4e3a**Unicode\\u8f6c\\u6362\\u683c\\u5f0f**\\uff08Unicode Transformation Format\\uff0c\\u7b80\\u79f0\\u4e3a**UTF**\\uff09\\n\\u800cUTF-8\\u5c31\\u662funicode\\u5b9e\\u73b0\\u65b9\\u5f0f\\u4e2d\\u7684\\u4e00\\u79cd\\u3002\\n\\u8bf4\\u201c\\u5b9e\\u73b0\\u65b9\\u5f0f\\u201d\\u5176\\u5b9e\\u5c31\\u662f\\u201c\\u5b58\\u50a8\\u65b9\\u5f0f\\u201d\\nUTF-8\\u5176\\u5b9e\\u4ecd\\u662f\\u4e00\\u4e2aunicode\\uff01\\u4ecd\\u662f\\u4e00\\u4e2aunicode\\uff01\\u4ecd\\u662f\\u4e00\\u4e2aunicode\\uff01\\u91cd\\u8981\\u7684\\u8bdd\\u8bf4\\u4e09\\u904d\\u3002\\n\\u8d77\\u521d\\u6211\\u7684\\u5370\\u8c61\\u91ccunicode\\u3001utf-8\\u3001gb2312\\u3001ansi\\u4e4b\\u6d41\\uff0c\\u533a\\u522b\\u597d\\u50cf\\u53ea\\u662f\\u4e00\\u4e2a\\u5b57\\u7684\\u4e0d\\u540c\\u7ffb\\u8bd1\\u8bed\\u8a00\\u7f62\\u4e86\\u3002\\u5176\\u5b9e\\u5927\\u9519\\uff01\\nUnicode\\u662f\\u4e07\\u56fd\\u7801\\uff0cutf-8\\u53ea\\u662funicode\\u7684\\u4e00\\u79cd\\u5b9e\\u73b0\\u65b9\\u5f0f\\uff0c\\u800cgb2312\\u4e0egbk\\u662f\\u4e2d\\u56fd\\u7801\\uff0c\\u4e0eunicode\\u540c\\u7ea7\\uff01\\n\\u4e5f\\u5c31\\u662f\\u8bf4\\uff0c**\\u5f53\\u6211\\u4eec\\u5728\\u8ba8\\u8bbaUTF-8\\u65f6\\u5019\\uff0c\\u6211\\u4eec\\u662f\\u5728\\u8ba8\\u8bbaUnicode**\\u3002\\n\\u6240\\u4ee5\\u5f53\\u6211\\u5728\\u7ef4\\u57fa\\u767e\\u79d1\\u770b\\u5230\\u8fd9\\u53e5\\u65f6\\uff0c\\u6211\\u8fd8\\u4ee5\\u4e3aunicode\\u88ab\\u65b0\\u751f\\u4ee3\\u53d6\\u7f14\\u4e86\\uff1a\\n\\n> \\u4e92\\u8054\\u7f51\\u5de5\\u7a0b\\u5de5\\u4f5c\\u5c0f\\u7ec4\\uff08IETF\\uff09\\u8981\\u6c42\\u6240\\u6709\\u4e92\\u8054\\u7f51\\u534f\\u8bae\\u90fd\\u5fc5\\u987b\\u652f\\u6301UTF-8\\u7f16\\u7801[1]\\u3002\\u4e92\\u8054\\u7f51\\u90ae\\u4ef6\\u8054\\u76df\\uff08IMC\\uff09\\u5efa\\u8bae\\u6240\\u6709\\u7535\\u5b50\\u90ae\\u4ef6\\u8f6f\\u4ef6\\u90fd\\u652f\\u6301UTF-8\\u7f16\\u7801\\u3002\\n\\n\\u8bf4\\u56depython\\u6765\\uff0c\\u8fd9\\u4e5f\\u5c31\\u662f\\u4e3a\\u4ec0\\u4e48\\u6211\\u4e0d\\u65ad\\u6362\\u7740\\u6cd5\\u5730\\u628a\\u4e2d\\u6587\\'\\u4f60\\u597d\\'\\u7f16\\u8bd1\\u6210utf-8\\u8f93\\u51fa\\u90fd\\u663e\\u793a\\u4e0d\\u51fa\\'\\u4f60\\u597d\\'\\u7684\\u539f\\u56e0\\u2014\\u2014\\u56e0\\u4e3autf-8\\u672c\\u6765\\u5c31\\u663e\\u793a\\u4e0d\\u51fa\\u4e2d\\u6587\\u6765\\uff01\\u8fd9\\u53e5\\u8bdd\\u7b49\\u540c\\u4e8eunicode\\u663e\\u793a\\u4e0d\\u51fa\\u4e2d\\u6587\\u6765\\u3002\\u56e0\\u4e3a\\u4ed6\\u4eec\\u90fd\\u53ea\\u662f\\u4ee3\\u53f7\\u3002\\n\\u6240\\u4ee5\\uff0c\\u8981\\u60f3\\u663e\\u793a\\u51fa\\u4e2d\\u6587\\uff0c\\u5c31\\u5fc5\\u987b\\u627e\\u5230\\u80fd\\u628a\\u8fd9\\u4e9b\\u4ee3\\u7801\\u7ffb\\u8bd1\\u6210\\u4e2d\\u6587\\u7684\\u201c\\u5b57\\u5178\\u201d\\u3002\\n## \\u66fe\\u7ecf\\u90a3\\u4e48\\u4eb2\\u5207\\u7684GB2312\\n\\n\\u5176\\u5b9e\\u771f\\u6b63\\u7528\\u8d77\\u6765\\uff0c\\u80fd\\u628aunicode\\u7ffb\\u8bd1\\u51fa\\u4eba\\u80fd\\u770b\\u61c2\\u7684\\'\\u4f60\\u597d\\'\\u6765\\u7684\\uff0c\\u5c31\\u53ea\\u6709GB2312\\u7cfb\\u5217\\u4e86\\u3002\\u5728\\u56fd\\u5185\\u641e\\u5de5\\u7a0b\\u7684\\u90fd\\u77e5\\u9053\\uff0c\\u51e1\\u662f\\u4ec0\\u4e48\\u524d\\u9762\\u52a0`GB`\\u4e24\\u5b57\\uff0c\\u90a3\\u5c31\\u662f\\u201c\\u56fd(Guo)\\u6807(Biao)\\u201d\\u4e86\\u3002GB 2312\\u7684\\u5168\\u79f0\\u53eb`\\u4e2d\\u534e\\u4eba\\u6c11\\u5171\\u548c\\u56fd\\u56fd\\u5bb6\\u6807\\u51c6\\u7b80\\u4f53\\u4e2d\\u6587\\u5b57\\u7b26\\u96c6`\\u3002\\n\\u540c\\u7406GBK\\uff0c\\u5b83\\u7684\\u5168\\u79f0\\u53eb`\\u6c49\\u5b57\\u5185\\u7801\\u6269\\u5c55\\u89c4\\u8303`\\u3002\\u62fc\\u97f3\\u5c31\\u662f\\u201c\\u56fd(Guo)\\u6807(Biao)\\u6269(Kuo)\\u5c55\\u201d\\u3002\\u8fd9\\u6837\\u5c31\\u597d\\u7406\\u89e3\\u4e86\\u3002GBK\\u53ea\\u662f\\u4e00\\u672cgb2312\\u7684\\u6269\\u5c55\\u7248\\u672c\\u3002\\n\\u51e1\\u4eba\\u6765\\u7406\\u89e3\\u7684\\u8bdd\\uff0cGB2312\\u5c31\\u662f\\u4e00\\u4e2a\\u5bc6\\u7801\\u672c\\uff0c\\u6216\\u8005\\u53eb\\u5b83\\u4e00\\u672c\\u5b57\\u5178\\u3002\\n## python\\u4e2d\\u5b57\\u7b26\\u4e32\\'\\u4f60\\u597d\\'\\u5230\\u5e95\\u662f\\u4ec0\\u4e48\\u683c\\u5f0f\\u5462\\uff1f\\n\\npython\\u4e2d\\u542c\\u5230\\u6700\\u591a\\u7684\\u5c31\\u662f\\uff0c\\u5fc5\\u987b\\u901a\\u901a\\u5730\\u7528utf-8\\uff0c\\u8fd9\\u6837\\u4e07\\u65e0\\u4e00\\u5931\\u3002\\u8d77\\u521d\\u6211\\u4ee5\\u4e3a\\uff0c\"\\u4f60\\u597d\"\\u8fd9\\u6837\\u7684\\u4e2d\\u6587\\uff0c\\u662f\\u4e00\\u79cdutf-8\\u683c\\u5f0f\\u7684\\u5b57\\u7b26\\uff0c\\u5176\\u5b9e\\u5927\\u9519\\u7279\\u9519\\uff01\\n\\u6211\\u4eec\\u770b\\u5230\\u7684\\u4e2d\\u6587\\uff0c\\u7b80\\u5355\\u8bf4\\u53ef\\u4ee5\\u5f52\\u5230gb2312\\u6216\\u8005gbk\\u91cc\\u9762\\u3002\\n\\u800cgb2312\\u6216gbk\\uff0c\\u5176\\u5b9e\\u5c31\\u662f\\u4e00\\u672c\\u5b57\\u5178\\uff0c\\u6c49\\u5b57\\u5b57\\u5178\\u3002\\u91cc\\u9762\\u4f1a\\u544a\\u8bc9\\u4f60`\\\\u0e24\\\\u0e43`\\u8fd9\\u4e2a\\u4ee3\\u7801\\uff0c\\u5bf9\\u5e94\\u7684\\u662f\\u4e2d\\u6587`\\u4f60`\\u5b57\\uff0c`\\\\u0e1a\\\\u0e23`\\u5bf9\\u5e94\\u7684\\u662f\\u4e2d\\u6587`\\u597d`\\u5b57\\u3002\\n\\u542c\\u8bf4utf-8\\u4e5f\\u662f\\u4e00\\u79cd\\u7f16\\u7801\\uff0c\\u90a3\\u5b83\\u4e5f\\u662f\\u4e00\\u672c\\u5b57\\u5178\\u5417\\uff1f\\u5bf9\\uff0c\\u5b83\\u662f\\u5b57\\u5178\\uff0c**\\u4f46utf-8\\u4e0d\\u662f\\u6c49\\u8bed\\u5b57\\u5178\\uff01\\uff01**\\n## \\u4e2d\\u6587\\u5b57\\u7b26\\u7f16\\u7801\\u6210unicode\\u3001utf8\\u548cgbk\\u662f\\u4ec0\\u4e48\\u6837\\u5b50\\u5462\\uff1f\\n\\n```\\n>>> \\'\\u4f60\\u597d\\'\\n\\'\\\\xc4\\\\xe3\\\\xba\\\\xc3\\'\\n>>> uni = \\'\\u4f60\\u597d\\'.decode(\\'gb2312\\')\\n>>> uni\\nu\\'\\\\u4f60\\\\u597d\\'\\n>>> uni.encode(\\'gb2312\\')\\n```\\n', u'author_association': u'OWNER', u'labels_url': u'https://api.github.com/repos/solomonxie/solomonxie.github.io/issues/20/labels{/name}', u'events_url': u'https://api.github.com/repos/solomonxie/solomonxie.github.io/issues/20/events', u'comments_url': u'https://api.github.com/repos/solomonxie/solomonxie.github.io/issues/20/comments', u'html_url': u'https://github.com/solomonxie/solomonxie.github.io/issues/20', u'number': 20, u'user': {u'following_url': u'https://api.github.com/users/solomonxie/following{/other_user}', u'gists_url': u'https://api.github.com/users/solomonxie/gists{/gist_id}', u'organizations_url': u'https://api.github.com/users/solomonxie/orgs', u'url': u'https://api.github.com/users/solomonxie', u'events_url': u'https://api.github.com/users/solomonxie/events{/privacy}', u'html_url': u'https://github.com/solomonxie', u'subscriptions_url': u'https://api.github.com/users/solomonxie/subscriptions', u'avatar_url': u'https://avatars2.githubusercontent.com/u/14041622?v=4', u'repos_url': u'https://api.github.com/users/solomonxie/repos', u'received_events_url': u'https://api.github.com/users/solomonxie/received_events', u'gravatar_id': u'', u'starred_url': u'https://api.github.com/users/solomonxie/starred{/owner}{/repo}', u'site_admin': False, u'login': u'solomonxie', u'type': u'User', u'id': 14041622, u'followers_url': u'https://api.github.com/users/solomonxie/followers'}, u'milestone': None, u'locked': False, u'url': u'https://api.github.com/repos/solomonxie/solomonxie.github.io/issues/20', u'created_at': u'2015-12-20T16:17:14Z', u'assignees': []}, {u'labels': [{u'color': u'c2e0c6', u'default': False, u'url': u'https://api.github.com/repos/solomonxie/solomonxie.github.io/labels/MySQL', u'id': 290633780, u'name': u'MySQL'}, {u'color': u'd4c5f9', u'default': False, u'url': u'https://api.github.com/repos/solomonxie/solomonxie.github.io/labels/Python', u'id': 290633688, u'name': u'Python'}], u'updated_at': u'2015-12-20T16:17:09Z', u'assignee': None, u'repository_url': u'https://api.github.com/repos/solomonxie/solomonxie.github.io', u'closed_at': None, u'id': 123169864, u'title': u'Python \\u5b89\\u88c5Mysql\\u6a21\\u5757\\u53ca\\u5b89\\u88c5\\u4e2d\\u9519\\u8bef\\u7684\\u89e3\\u51b3', u'comments': 0, u'state': u'open', u'body': u'\\u521d\\u8bd5\\u722c\\u866b\\u4e4b\\u540e\\uff0c\\u5404\\u79cd\\u5feb\\u611f\\u3002\\u7136\\u540e\\u8fdb\\u5165\\u5230Python\\u7ec3\\u4e60\\u7684\\u4e0b\\u4e00\\u9636\\u6bb5\\u4e86\\u2014\\u2014\\u628a\\u6293\\u53d6\\u5230\\u7684\\u6570\\u636e\\u5b58\\u5230\\u6570\\u636e\\u5e93\\u4e2d\\u3002\\n\\u518d\\u4e09\\u8003\\u8651\\uff0c\\u8fd8\\u662f\\u51b3\\u5b9a\\u4eceMySQL\\u5f00\\u59cb\\u5165\\u624b\\u3002\\u867d\\u7136\\u8bc4\\u8bba\\u533a\\u5f88\\u591a\\u503e\\u5411\\u4e8eSQLite\\u53caMongoDB\\u7b49\\u65b0\\u6f6e\\u73a9\\u610f\\uff0c\\u4f46\\u662fMySQL\\u8fd8\\u662f\\u5360\\u6709\\u51b3\\u5b9a\\u6027\\u7684\\u5e02\\u573a\\u3002\\u4e3a\\u4e86\\u9002\\u5e94\\u4ee5\\u540e\\u751f\\u5b58\\uff0c\\u8fd9\\u65b9\\u9762\\u5fc5\\u987b\\u5f97\\u4f1a\\uff0c\\u5c31\\u62ff\\u5b83\\u5148\\u7ec3\\u624b\\u5427\\u3002\\n\\n> \\u6211\\u7684\\u5f00\\u53d1\\u73af\\u5883\\u662f\\u4e2d\\u6587win7\\u7cfb\\u7edf32\\u4f4d\\uff0c Python 2.7, MySQL 14.4\\u3002\\uff08Linux\\u5728\\u865a\\u62df\\u673a\\u91cc\\u5462\\uff0c\\u719f\\u7ec3\\u4e4b\\u524d\\u5148\\u4e0d\\u6311\\u6218\\u5f00\\u53d1\\u73af\\u5883\\u4e86-_-!\\uff09\\n> \\u6ce8\\u610f\\uff1a\\u8fd9\\u91cc\\u662f\\u5b89\\u88c5python\\u7684`mysqldb\\u6a21\\u5757`\\uff0c\\u800c\\u4e0d\\u662fmysql, \\u5230\\u4e86\\u8fd9\\u4e00\\u6b65\\u5b83\\u5e94\\u8be5\\u662f\\u5df2\\u7ecf\\u5b89\\u88c5\\u597d\\u4e86\\u7684\\uff08\\u5305\\u62ec`MySQL Server`\\u548c`MySQL python connector`\\uff09\\u3002\\n\\n**\\u5148\\u68c0\\u67e5\\u81ea\\u5df1\\u662f\\u4e0d\\u662f\\u5df2\\u7ecf\\u5b89\\u88c5\\u4e86\\u8fd9\\u4e2a\\u6a21\\u5757**\\n\\u6781\\u5176\\u7b80\\u5355\\uff1a\\u5728Python\\u7684\\u547d\\u4ee4\\u884c\\u4e2d\\u8f93\\u5165`import MySQLdb`\\uff0c\\u5982\\u679c\\u6ca1\\u6709\\u62a5\\u9519\\uff0c\\u90a3\\u5c31\\u5df2\\u7ecf\\u5b89\\u88c5\\u4e86\\u3002\\n## \\u6700\\u7b80\\u5355\\u7684\\u5b89\\u88c5\\u65b9\\u6cd5\\n\\n\\u5176\\u5b9e\\u5c31\\u662f\\u968f\\u4fbf\\u627e\\u4e2a\\u5730\\u65b9\\u6309\\u4e0b`win+R`\\uff0c\\u8f93\\u5165`cmd`\\u56de\\u8f66\\u2014\\u2014\\u6253\\u5f00windows\\u547d\\u4ee4\\u884c\\uff0c\\u8fdb\\u884c\\u8457\\u540d\\u7684`pip\\u5b89\\u88c5\\u5927\\u6cd5`\\uff1a  \\n\\n> pip install mysql-python\\n\\n\\u6309\\u7406\\u6765\\u8bf4\\uff0c\\u8fd9\\u4e00\\u6b65\\u8db3\\u591f\\u4e86\\u3002\\u4f46\\u662f\\u6211\\u8fd9\\u51fa\\u73b0\\u4e86\\u636e\\u8bf4\\u5728windows\\u73af\\u5883\\u4e0bpython\\u5b89\\u88c5\\u6a21\\u5757\\u7684\\u75db\\uff1a\\u547d\\u4ee4\\u884c\\u91cc\\u8fd4\\u56de\\u4e86\\u9519\\u8bef\\uff1a\\n\\n> error: Unable to find vcvarsall.bat\\n\\n\\u7136\\u540e\\u6211\\u60f3\\u5230\\uff0c\\u662f\\u4e0d\\u662f\\u5728windows\\u7528`pip`\\u4e0d\\u592a\\u5408\\u9002\\uff1f\\u6240\\u4ee5\\u8fd8\\u662f\\u5faa\\u89c4\\u8e48\\u77e9\\u5730\\u5230[Python\\u5b98\\u7f51\\u4e0b\\u8f7d](https://pypi.python.org/pypi/MySQL-python/1.2.5#downloads)\\u4e86MySQLdb\\u7684_\\u6e90\\u6587\\u4ef6_\\uff0c\\u5373[MySQL-python-1.2.5.zip](https://pypi.python.org/packages/source/M/MySQL-python/MySQL-python-1.2.5.zip#md5=654f75b302db6ed8dc5a898c625e030c)\\xa0([md5](https://pypi.python.org/pypi?:action=show_md5&digest=654f75b302db6ed8dc5a898c625e030c))\\u8fd9\\u4e2a\\u538b\\u7f29\\u5305\\u3002\\n\\u968f\\u4fbf\\u627e\\u4e2a\\u5730\\u65b9\\u89e3\\u538b\\u7f29\\uff0c\\u7136\\u540e\\u4ee5\\u6700\\u5feb\\u7684\\u901f\\u5ea6\\u5728cmd\\u547d\\u4ee4\\u884c\\u4e2d\\u8fdb\\u5165\\u8fd9\\u4e2a\\u76ee\\u5f55\\uff0c\\u8f93\\u5165\\uff1a\\n\\n> python setup.py build\\n> python setup.py install\\n\\n\\u6309\\u7406\\u6765\\u8bf4\\uff0c\\u5230\\u8fd9\\u4e00\\u6b65\\u5c31\\u5b8c\\u5168\\u6210\\u529f\\u4e86\\u3002\\u4e0d\\u8fc7\\uff0c\\u8fd4\\u56de\\u7684\\u7ed3\\u679c\\u662f\\u4e00\\u6bdb\\u4e00\\u6837\\u7684\\u3002\\u3002\\u3002\\n\\n> error: Unable to find vcvarsall.bat\\n\\n\\u7136\\u540e\\u6211\\u5c31\\u77e5\\u9053\\u4e86\\uff1a\\u5176\\u5b9e`pip`\\u5b89\\u88c5\\uff0c\\u548c\\u6211\\u81ea\\u5df1\\u4e0b\\u8f7d\\u6e90\\u7801\\u7528`python setup.py build` \\u3001 `python setup.py install`\\u662f\\u4e00\\u6837\\u7684\\u6548\\u679c\\u3002\\n\\u95ee\\u9898\\u6e90\\u5934\\u8fd8\\u662f\\u5728`vcvarsall.bat`\\u8fd9\\u4e2a\\u4e1c\\u897f\\u4e0a\\u3002\\u4e00\\u770b\\u6587\\u4ef6\\u540d\\u5c31\\u77e5\\u9053\\u662f\\u548cvc\\u76f8\\u5173\\u3002\\n\\u67e5\\u8be2\\u76f8\\u5173\\u8d44\\u6599\\uff0c\\u8bf4\\u662f[\\u51e1\\u662f\\u5b89\\u88c5\\u548c\\u64cd\\u4f5c\\u7cfb\\u7edf\\u5e95\\u5c42\\u5bc6\\u5207\\u76f8\\u5173\\u7684Python\\u6269\\u5c55\\uff0c\\u51e0\\u4e4e\\u90fd\\u4f1a\\u9047\\u5230\\u8fd9\\u4e2a\\u9519\\u8bef\\u3002](http://blog.csdn.net/secretx/article/details/17472107)\\n\\u7ecf\\u8fc7\\u641c\\u7d22\\uff0c\\u7edd\\u5927\\u591a\\u6570\\u7684\\u56de\\u7b54\\u90fd\\u662f\\uff1a\\u9700\\u8981\\u5b89\\u88c5`Microsoft Visual Studio`2008\\u6216\\u80052010\\u7248\\u672c\\uff0c\\u624d\\u80fd\\u6ee1\\u8db3Python\\u5728windows\\u7cfb\\u7edf\\u4e0a\\u5b89\\u88c5\\u5404\\u79cd\\u5e95\\u5c42\\u6269\\u5c55\\u7684\\u9700\\u8981\\u3002\\n\\u6b63\\u5728\\u4e0b\\u8f7d2G\\u7684VS\\u4e2d\\u3002\\u3002\\u3002\\n**\\u4e0d\\u8fc7\\u8d81\\u7740\\u4e0b\\u8f7d\\u7b49\\u5f85\\u65f6\\u95f4\\uff0c\\u6211\\u5728\\u8bc4\\u8bba\\u533a\\u53d1\\u73b0\\u4e86\\u66f4easy\\u7684\\u65b9\\u6cd5\\u3002\\u3002\\u3002\\u3002**\\n![Paste_Image.png](http://upload-images.jianshu.io/upload_images/841144-983620158389e66d.png?imageMogr2/auto-orient/strip%7CimageView2/2/w/1240)\\n\\n\\u6253\\u5f00\\u9875\\u9762\\uff0chttp://www.lfd.uci.edu/~gohlke/pythonlibs/ \\u662f\\u8fd9\\u4e2a\\u6a21\\u6837\\uff1a\\n![Paste_Image.png](http://upload-images.jianshu.io/upload_images/841144-5af72a9ad43c8d84.png?imageMogr2/auto-orient/strip%7CimageView2/2/w/1240)\\n\\u6ee1\\u5c4f\\u5e55\\u6beb\\u65e0\\u7f8e\\u611f\\u7684\\u82f1\\u6587\\uff0c\\u8fde\\u6392\\u7248\\u90fd\\u6ca1\\u6709\\uff0c\\u771f\\u6709\\u70b9\\u4e0d\\u592a\\u597d\\u63a5\\u53d7\\u3002\\u4e0d\\u8fc7\\u8d81\\u7740VS\\u8fd8\\u6ca1\\u4e0b\\u8f7d\\u5b8c\\uff0c\\u5c31\\u7b80\\u5355\\u8bfb\\u4e86\\u8bfb\\uff0c\\u53d1\\u73b0\\u4e86\\u7b2c\\u4e8c\\u884c\\u5173\\u952e\\u8bcd\\uff1a`University of California, Irvine.`\\uff0c\\u539f\\u6765\\u662f\\u52a0\\u5927\\u7684\\u4f5c\\u54c1\\u554a\\uff0c\\u4e00\\u770b\\u5c31\\u662f\\u79d1\\u5b66\\u5bb6\\u5236\\u4f5c\\uff0c\\u6bd4\\u8f83\\u5927\\u6c14\\uff0c\\u8010\\u7740\\u5fc3\\u8bfb\\u4e86\\u8bfb\\u8bf4\\u660e\\u6bb5\\u843d\\u2014\\u2014\\u597d\\u50cf\\u662f\\u4e13\\u95e8\\u9488\\u5bf9windows\\u5bf9python\\u652f\\u6301\\u6027\\u5dee\\u505a\\u7684\\u5de5\\u4f5c\\u2014\\u2014\\u628apython\\u6269\\u5c55\\u90fd\\u5236\\u4f5c\\u6210\\u4e86**\\u4e8c\\u8fdb\\u5236\\u6587\\u4ef6**\\uff0c\\u5373`.whl`\\u6587\\u4ef6\\u3002\\n## \\u5b89\\u88c5\\u4e8c\\u8fdb\\u5236\\u7684Python\\u6269\\u5c55\\u5305\\n\\n\\u770b\\u8d77\\u6765\\u597d\\u50cf\\u662f\\u4e2a\\u597d\\u4e1c\\u897f\\uff0c\\u5c31`ctrl+f`\\u67e5\\u627emysql\\uff0c\\u8fd8\\u771f\\u627e\\u5230\\u4e86\\uff01\\n\\n> MySQL-python, a Python database API 2.0 interface for the MySQL database\\n> Mysqlclient is a Python 3 compatible fork of MySQL-python.\\n> MySQL_python-1.2.5-cp27-none-win32.whl\\n> MySQL_python-1.2.5-cp27-none-win_amd64.whl\\n\\n\\u9009\\u62e9`win32.whl`\\u8fd9\\u4e2a\\u6587\\u4ef6\\u4e0b\\u8f7d\\uff0c\\u624d772k\\u3002\\n\\u4f46\\u662f\\u8fd9\\u4e2a`whl`\\u6587\\u4ef6\\u683c\\u5f0f\\u600e\\u4e48\\u5b89\\u88c5\\u5462\\uff1f\\u56de\\u5230\\u7f51\\u9875\\u4e0a\\u9762\\uff0c\\u53d1\\u73b0\\u8bf4\\u4e86\\u662f\\u7528pip\\u5b89\\u88c5\\uff0c\\u4e8e\\u662f\\u6211\\u5728\\u8fd9\\u4e2a\\u76ee\\u5f55\\u6253\\u5f00cmd\\u547d\\u4ee4\\u884c\\uff0c\\u8f93\\u5165\\uff1a\\n![Paste_Image.png](http://upload-images.jianshu.io/upload_images/841144-5919730b2cd985f2.png?imageMogr2/auto-orient/strip%7CimageView2/2/w/1240)\\n\\u54c8\\u54c8\\uff0c\\u732e\\u4e11\\u4e86\\uff01`whl`\\u6587\\u4ef6\\u7684\\u5b89\\u88c5\\u65b9\\u6cd5\\uff0c\\u5728`pip`\\u7684\\u5b98\\u65b9\\u6587\\u6863\\u91cc\\u8bf4\\u660e\\u7684\\u5f88\\u6e05\\u695a([\\u770b\\u8fd9\\u91cc](https://pip.pypa.io/en/latest/user_guide/#installing-from-wheels))\\n\\u6240\\u4ee5\\u518d\\u6765\\u4e86\\u4e00\\u904d\\uff1a\\n\\u8f93\\u5165\\uff1a\\n\\n> pip install MySQL_python-1.2.5-cp27-none-win32.whl\\n> \\u8fd4\\u56de\\uff1a\\n> Processing c:\\\\tdownload\\\\mysql\\\\mysql_python-1.2.5-cp27-none-win32.whl\\n> Installing collected packages: MySQL-python\\n> Successfully installed MySQL-python-1.2.5\\n\\n![Paste_Image.png](http://upload-images.jianshu.io/upload_images/841144-6c918755cadba8bd.png?imageMogr2/auto-orient/strip%7CimageView2/2/w/1240)\\n\\u5b89\\u88c5\\u6210\\u529f\\uff01\\n\\n\\u5230Python\\u91cc\\u9762\\u8bd5\\u4e86\\u4e00\\u4e0b`import MySQLdb`\\uff0c\\u4e5f\\u6b63\\u5e38\\uff01\\n\\u4e8e\\u662f\\u4e4e\\uff0c\\u6211\\u89c9\\u5f97\\u5199\\u6587\\u7ae0\\u7684\\u8fd9\\u4e2a\\u529f\\u592b\\uff0c\\u5df2\\u7ecf\\u4e0b\\u8f7d\\u597d\\u7684Microsoft Visual Studio\\u4e5f\\u6ca1\\u5fc5\\u8981\\u4e86\\u3002\\u3002\\u3002\\u3002\\n', u'author_association': u'OWNER', u'labels_url': u'https://api.github.com/repos/solomonxie/solomonxie.github.io/issues/19/labels{/name}', u'events_url': u'https://api.github.com/repos/solomonxie/solomonxie.github.io/issues/19/events', u'comments_url': u'https://api.github.com/repos/solomonxie/solomonxie.github.io/issues/19/comments', u'html_url': u'https://github.com/solomonxie/solomonxie.github.io/issues/19', u'number': 19, u'user': {u'following_url': u'https://api.github.com/users/solomonxie/following{/other_user}', u'gists_url': u'https://api.github.com/users/solomonxie/gists{/gist_id}', u'organizations_url': u'https://api.github.com/users/solomonxie/orgs', u'url': u'https://api.github.com/users/solomonxie', u'events_url': u'https://api.github.com/users/solomonxie/events{/privacy}', u'html_url': u'https://github.com/solomonxie', u'subscriptions_url': u'https://api.github.com/users/solomonxie/subscriptions', u'avatar_url': u'https://avatars2.githubusercontent.com/u/14041622?v=4', u'repos_url': u'https://api.github.com/users/solomonxie/repos', u'received_events_url': u'https://api.github.com/users/solomonxie/received_events', u'gravatar_id': u'', u'starred_url': u'https://api.github.com/users/solomonxie/starred{/owner}{/repo}', u'site_admin': False, u'login': u'solomonxie', u'type': u'User', u'id': 14041622, u'followers_url': u'https://api.github.com/users/solomonxie/followers'}, u'milestone': None, u'locked': False, u'url': u'https://api.github.com/repos/solomonxie/solomonxie.github.io/issues/19', u'created_at': u'2015-12-20T16:17:09Z', u'assignees': []}, {u'labels': [], u'updated_at': u'2015-12-20T16:17:01Z', u'assignee': None, u'repository_url': u'https://api.github.com/repos/solomonxie/solomonxie.github.io', u'closed_at': None, u'id': 123169858, u'title': u'Python\\u64cd\\u4f5cMySQL\\u7684\\u4e2d\\u6587\\u4e71\\u7801\\u89e3\\u51b3\\u4e4b\\u8def', u'comments': 0, u'state': u'open', u'body': u'## \\u7b2c\\u4e00\\u6b65\\uff1a\\u5c0f\\u5fc3\\u7ffc\\u7ffc\\u5730\\u6b63\\u5e38\\u53bb\\u89e6\\u78b0\\uff08\\u8fde\\u63a5\\uff09\\u6570\\u636e\\u5e93\\n## \\u7b2c\\u4e8c\\u6b65\\uff1a\\u51e0\\u4e2a\\u5faa\\u73af\\u8bfb\\u53d6\\u6570\\u636e\\u5e93\\n## \\u7b2c\\u4e09\\u6b65\\uff1a\\u63d2\\u5165\\u82f1\\u6587\\u6570\\u636e\\uff0c\\u524d\\u65b9\\u9ad8\\u80fd\\uff1a\\u518d\\u63d2\\u5165\\u4e2d\\u6587\\u6570\\u636e\\uff01\\n## \\u7b2c\\u56db\\u6b65\\uff1a\\u5bf9\\u7f51\\u4e0a\\u5404\\u79cd\\u4e71\\u7801\\u89e3\\u51b3\\u65b9\\u6848\\u7684\\u6d4b\\u8bd5\\n### Solution 1: Python\\u7f16\\u7801\\u7684\\u57fa\\u672c\\u8bbe\\u7f6e\\n\\n``` python\\n# coding:utf-8\\nimport sys\\nreload(sys)\\nsys.setdefaultencoding(\\'utf-8\\')\\n```\\n### Solution 2: \\u521b\\u5efa\\u6570\\u636e\\u5e93\\u8fde\\u63a5\\u65f6\\u6307\\u5b9a\\u7f16\\u7801\\n\\n``` python\\ndb = MySQLdb.connect(charset=\\'utf8\\',host=\\'localhost\\', db=\\'dbTest\\', user=\\'root\\',passwd=\\'000000\\') \\n```\\n\\n\\u5149\\u662f\\u8fd9\\u4e48\\u8bbe\\u7f6e\\u4e00\\u4e0b\\uff0c\\u4e0d\\u4f46\\u4e2d\\u6587\\u4f20\\u4e0d\\u8fdb\\u53bb\\uff0c\\u800c\\u4e14\\u8fd8\\u4f1a\\u62a5\\u9519\\uff01\\uff1a\\n![Paste_Image.png](http://upload-images.jianshu.io/upload_images/841144-1ec7d053a6c69ccf.png?imageMogr2/auto-orient/strip%7CimageView2/2/w/1240)\\n\\u6240\\u4ee5\\u8981\\u914d\\u5408\\u4e0b\\u9762\\u7684\\u65b9\\u6cd5\\u518d\\u8bd5\\u4e00\\u4e0b\\u3002\\n### Solution 3: \\u5728excute(sql)\\u65f6\\u4f20\\u5165\\u4e00\\u4e2a\\u5947\\u5999\\u5f62\\u5f0f\\u7684\\u5b57\\u7b26\\u4e32\\n\\n``` python\\n# \\u6ce8\\uff1a\\u8fd9\\u91cc\\u5fc5\\u987b\\u662f\\'utf8\\'\\uff0c\\u800c\\u4e0d\\u662f\\'utf-8\\'\\ndb = MySQLdb.connect(charset=\\'utf8\\', host=\\'localhost\\', db=\\'dbTest\\', user=\\'root\\',passwd=\\'000\\') \\ncursor = db.cursor() \\nvalues = [u\"\\u4e2d\\u6587\\u6d4b\\u8bd5 Unicode, charset=\\'utf8\\'\"]\\nprint value\\ncursor.execute(\\'insert into test(txt) values(%s) \\', values)\\ndb.commit()\\ndb.close()\\nprint \\'OK\\'\\n```\\n\\n\\u4e0b\\u9762\\u662f\\u5404\\u79cd\\u60c5\\u51b5\\u4e0b\\u6210\\u6d4b\\u8bd5\\uff1a\\n- \\u4f20\\u5165\\u5217\\u8868\\u7684\\u5b57\\u7b26\\u4e32\\u4e3a\\u666e\\u901a\\u5b57\\u7b26\\u4e32\\uff0c\\u4e14\\u8bbe\\u7f6e\\u4e86charset=\\'utf8\\'\\uff0c\\u4ee5\\u53ca\\n- \\u4f20\\u5165\\u5217\\u8868\\u7684\\u5b57\\u7b26\\u4e32\\u4e3aUnicode\\u5b57\\u7b26\\u4e32\\uff0c\\u4e14\\u8bbe\\u7f6e\\u4e86charset=\\'utf8\\'\\uff0c**OK \\u901a\\u8fc7\\uff01**\\n  ![Paste_Image.png](http://upload-images.jianshu.io/upload_images/841144-a202021f07d37856.png?imageMogr2/auto-orient/strip%7CimageView2/2/w/1240)\\n- \\u4f20\\u5165\\u5217\\u8868\\u7684\\u5b57\\u7b26\\u4e32\\u4e3a\\u666e\\u901a\\u5b57\\u7b26\\u4e32\\uff0c\\u4f46**\\u672a\\u8bbe\\u7f6e**charset=\\'utf8\\'\\uff1a\\n  \\u7ed3\\u679c**\\u5931\\u8d25\\uff01**\\u4f9d\\u7136\\u662f\\u4e71\\u7801\\u3002\\n  ![Paste_Image.png](http://upload-images.jianshu.io/upload_images/841144-73d8070cfdfa9be6.png?imageMogr2/auto-orient/strip%7CimageView2/2/w/1240)\\n- \\u4f20\\u5165\\u5217\\u8868\\u7684\\u5b57\\u7b26\\u4e32\\u4e3aUnicode\\u5b57\\u7b26\\u4e32\\uff0c\\u4f46**\\u672a\\u8bbe\\u7f6e**charset=\\'utf8\\'\\uff1a\\n  \\u4f1a\\u76f4\\u63a5\\u62a5\\u9519\\u3002\\n  ![Paste_Image.png](http://upload-images.jianshu.io/upload_images/841144-b8fd36551570cfb9.png?imageMogr2/auto-orient/strip%7CimageView2/2/w/1240)\\n- \\u4e0d\\u4f20\\u5217\\u8868\\uff0c\\u76f4\\u63a5\\u4f20\\u5165\\u666e\\u901a\\u5b57\\u7b26\\u4e32\\uff0c\\u4e14\\u8bbe\\u7f6e\\u4e86charset=\\'utf8\\',\\u4ee5\\u53ca\\n- \\u4e0d\\u4f20\\u5217\\u8868\\uff0c\\u76f4\\u63a5\\u4f20\\u5165Unicode\\u5b57\\u7b26\\u4e32\\uff0c\\u4e14\\u8bbe\\u7f6e\\u4e86charset=\\'utf8\\'\\uff1a\\n  ![Paste_Image.png](http://upload-images.jianshu.io/upload_images/841144-b4a9150d2d2d690c.png?imageMogr2/auto-orient/strip%7CimageView2/2/w/1240)\\n#### \\u603b\\u7ed3\\uff1a\\u4e5f\\u5c31\\u662f\\u8bf4\\uff0c\\u76ee\\u524d\\u6709\\u4e24\\u4e2a\\u6761\\u4ef6\\u662f\\u5fc5\\u987b\\u7684\\u2014\\u2014\\n1. \\u4f20\\u5165excute()\\u7b2c\\u4e8c\\u4e2a\\u53c2\\u6570\\uff0c\\u5fc5\\u987b\\u662f`list`\\u5217\\u8868\\u53d8\\u91cf\\n2. connect()\\u6784\\u9020\\u51fd\\u6570\\u4e2d\\uff0c\\u5fc5\\u987b\\u8bbe\\u7f6e`charset=\\'utf8\\'`\\n### Solution 4: \\u5728Python\\u91cc\\u9762\\u7ed9MySQL\\u6570\\u636e\\u5e93\\u8bbe\\u5b9a\\u7f16\\u7801\\n\\n\\u4ee3\\u7801\\u5982\\u4e0b\\uff1a\\n\\n``` python\\ncursor = db.cursor() \\ncursor.execute(\"SET NAMES \\'utf8\\'\") \\ncursor.execute(\"SET CHARACTER_SET_CLIENT=utf8\") \\ncursor.execute(\"SET CHARACTER_SET_RESULTS=utf8\")\\n# OK \\u6d4b\\u8bd5\\u6210\\u529f\\ncursor.execute(\\'insert into test(txt) values(\"\\u6211\\u662f\\u4e2d\\u6587\") \\') \\n# OK \\u7b2c\\u4e8c\\u6b21\\u4e0d\\u5199\\u4ee5\\u4e0a\\u4e09\\u6761\\u4e5f\\u901a\\u8fc7\\n# cursor.execute(\\'insert into test(txt) values(\"\\u6211\\u662f\\u4e2d\\u65872\\uff0c\\u770b\\u770b\\u4f1a\\u4e0d\\u4f1a\\u4fdd\\u5b58\\u8bbe\\u7f6e\\u3002\") \\') \\n# Failed \\u65e0\\u8bba\\u600e\\u4e48\\u73a9\\uff0ccharset=\\u4e0d\\u8bbe\\u7f6e\\u5c31\\u4e0d\\u901a\\u8fc7\\n# cursor.execute(\\'insert into test(txt) values(\"\\u6211\\u662f\\u4e2d\\u65873\\uff0c\\u770b\\u770b\\u4e0d\\u5e26charset=\\u7ba1\\u4e0d\\u7ba1\\u7528\\u3002\") \\') \\n# cursor.execute(\\'insert into test(txt) values(\"\\u6211\\u662f\\u4e2d\\u65874\") \\') # OK \\u6d4b\\u8bd5\\u6210\\u529f\\ncursor.execute(\\'insert into test(txt) values(\"\\u6211\\u662f\\u4e2d\\u65875\\uff0c\\u770b\\u770b\\u91cd\\u65b0\\u6253\\u5f00mysql\\u7ec8\\u7aef\\uff0c\\u8fd8\\u4f1a\\u4e0d\\u4f1a\\u4fdd\\u7559\\u8bbe\\u7f6e\\u3002\") \\') # OK \\u6d4b\\u8bd5\\u6210\\u529f\\ndb.commit()\\ndb.close()\\n```\\n\\n\\u5177\\u4f53\\u60c5\\u51b5\\u662f\\uff1a\\n![Paste_Image.png](http://upload-images.jianshu.io/upload_images/841144-ae37a740b8167731.png?imageMogr2/auto-orient/strip%7CimageView2/2/w/1240)\\n![Paste_Image.png](http://upload-images.jianshu.io/upload_images/841144-adae3e7d2d2a9267.png?imageMogr2/auto-orient/strip%7CimageView2/2/w/1240)\\n#### \\u4e5f\\u5c31\\u662f\\u8bf4\\uff1a\\u8fd9\\u79cd\\u65b9\\u6cd5\\u4e5f\\u5fc5\\u987b\\u67092\\u4e2a\\u6761\\u4ef6\\uff1a\\n1. connect()\\u6784\\u9020\\u51fd\\u6570\\u4e2d\\uff0c\\u5fc5\\u987b\\u8bbe\\u7f6echarset=\\'utf8\\'\\n2. \\u5fc5\\u987b\\u663e\\u793a\\u5730\\u5199\\u4e09\\u53e5excute\\u8bed\\u53e5\\uff0c\\u6765\\u8bbe\\u7f6eMySQL\\u7aef\\u7684\\u7f16\\u7801\\n\\n\\u53ea\\u8981\\u9075\\u5b88\\u8fd92\\u4e2a\\u6761\\u4ef6\\uff0c\\n', u'author_association': u'OWNER', u'labels_url': u'https://api.github.com/repos/solomonxie/solomonxie.github.io/issues/18/labels{/name}', u'events_url': u'https://api.github.com/repos/solomonxie/solomonxie.github.io/issues/18/events', u'comments_url': u'https://api.github.com/repos/solomonxie/solomonxie.github.io/issues/18/comments', u'html_url': u'https://github.com/solomonxie/solomonxie.github.io/issues/18', u'number': 18, u'user': {u'following_url': u'https://api.github.com/users/solomonxie/following{/other_user}', u'gists_url': u'https://api.github.com/users/solomonxie/gists{/gist_id}', u'organizations_url': u'https://api.github.com/users/solomonxie/orgs', u'url': u'https://api.github.com/users/solomonxie', u'events_url': u'https://api.github.com/users/solomonxie/events{/privacy}', u'html_url': u'https://github.com/solomonxie', u'subscriptions_url': u'https://api.github.com/users/solomonxie/subscriptions', u'avatar_url': u'https://avatars2.githubusercontent.com/u/14041622?v=4', u'repos_url': u'https://api.github.com/users/solomonxie/repos', u'received_events_url': u'https://api.github.com/users/solomonxie/received_events', u'gravatar_id': u'', u'starred_url': u'https://api.github.com/users/solomonxie/starred{/owner}{/repo}', u'site_admin': False, u'login': u'solomonxie', u'type': u'User', u'id': 14041622, u'followers_url': u'https://api.github.com/users/solomonxie/followers'}, u'milestone': None, u'locked': False, u'url': u'https://api.github.com/repos/solomonxie/solomonxie.github.io/issues/18', u'created_at': u'2015-12-20T16:17:01Z', u'assignees': []}, {u'labels': [{u'color': u'd4c5f9', u'default': False, u'url': u'https://api.github.com/repos/solomonxie/solomonxie.github.io/labels/Python', u'id': 290633688, u'name': u'Python'}], u'updated_at': u'2015-12-15T22:12:26Z', u'assignee': None, u'repository_url': u'https://api.github.com/repos/solomonxie/solomonxie.github.io', u'closed_at': None, u'id': 122260610, u'title': u'58\\u62db\\u8058\\u6570\\u636e\\u722c\\u53d6\\u51c6\\u5907: \\u6e90\\u7801\\u5206\\u6790', u'comments': 0, u'state': u'open', u'body': u'\\u901a\\u8fc7\\u5404\\u79cd\\u70b9\\u51fb\\u89c2\\u5bdf\\uff0c\\u53d1\\u73b058\\u540c\\u57ce\\u7684URL\\u6784\\u9020\\u633a\\u7279\\u6b8a\\u7684\\u3002\\n\\u6839\\u636e\\u4e92\\u8054\\u7f51\\u534f\\u8bae\\u548c\\u89c4\\u5219\\uff0c\\u4e00\\u822c\\u67e5\\u8be2\\u53c2\\u6570\\u90fd\\u76f4\\u63a5\\u5728cgi\\u540e\\u52a0\\u53c2\\u6570\\uff0c\\u5982`cgi?key=abc&page=1`\\u8fd9\\u6837\\u7684\\u3002\\n\\u4f46\\u662f58\\u559c\\u6b22\\u8d76\\u6f6e\\uff0c\\u9664\\u4e86\\u5173\\u952e\\u8bcd`key`\\u4e4b\\u5916\\uff0c\\u4e00\\u4e9b\\u91cd\\u8981\\u7684\\u67e5\\u8be2\\u53c2\\u6570\\uff08\\u804c\\u4e1a\\u3001\\u884c\\u4e1a\\u3001\\u9875\\u7801\\u7b49\\uff09\\u90fd\\u5728URL\\u7684\\u76ee\\u5f55\\u4e2d\\u6784\\u9020\\uff0c\\u800c\\u4e0d\\u662f\\u4f5c\\u4e3a\\u53c2\\u6570\\u3002\\u8fd9\\u4e2a\\u6280\\u672f\\u6211\\u4e0d\\u592a\\u61c2-_-!\\uff0c\\u5927\\u6982\\u662f\\u670d\\u52a1\\u5668\\u5bf9URL\\u8fdb\\u884c\\u5206\\u6790\\u518d\\u83b7\\u53d6\\u53c2\\u6570\\u5427\\uff0c\\u8fd9\\u4e2a\\u4e0d\\u91cd\\u8981\\u3002\\n\\uff08\\u6ce8\\uff1a\\u6211\\u662f\\u7528python\\u5f00\\u53d1\\uff0c\\u521a\\u5165\\u95e8\\uff0c\\u76ee\\u524d\\u6b63\\u5728\\u7528BeautifulSoup\\u6269\\u5c55\\uff0c\\u6240\\u4ee5\\u7ecf\\u5e38\\u63d0\\u5230\\u4e00\\u4e9b\\u76f8\\u5173\\u672f\\u8bed\\u3002\\u53e6\\u5916\\uff0c\\u5b9a\\u4f4d\\u65b9\\u6cd5\\u6211\\u5efa\\u8bae\\u91c7\\u7528CSS\\u9009\\u62e9\\u5668\\uff0c\\u8bed\\u6cd5\\u662f\\u901a\\u7528\\u7684\\u3002\\uff09\\n# \\u62db\\u8058\\u641c\\u7d22\\u9875\\u6e90\\u7801\\u5206\\u6790\\n\\n\\u4e0b\\u9762\\u662f\\u6211\\u5c06\\u51e0\\u4e4e\\u5168\\u90e8\\u641c\\u7d22\\u6761\\u4ef6\\u90fd\\u52a0\\u4e0a\\u7684\\u5168\\u94fe\\u63a5\\uff1a\\n*http://bj.58.com/haidian/tech/pve_5363_244_pve_5754_1476_pve_5356_6_pve_5357_6/?key=%E6%95%B0%E6%8D%AE&minxinzi=3000_4999&postdate=20151209_20151216&param6693=8&PGTID=0d303655-0047-792b-50b1-e40ba04c7e85&ClickID=1 *\\n\\u597d\\u7684\\uff0c\\u6839\\u636e\\u8fd9\\u4e2a\\u94fe\\u63a5\\uff0c\\u4ee5\\u53ca\\u5404\\u79cd\\u5c1d\\u8bd5\\u51fa\\u6765\\u7684\\u5224\\u65ad\\uff0cURL\\u7684\\u7ed3\\u8bba\\u5982\\u4e0b\\uff1a\\n- \\u7b2c\\u4e00\\u90e8\\u5206\\uff1a\\u5b50\\u57df\\u540d\\u3002`bj.58.com`\\uff0c\\u5176\\u4e2d`bj`\\u4f5c\\u4e3a\\u57ce\\u5e02\\u8303\\u56f4\\u7684\\u201c\\u53c2\\u6570\\u503c\\u201d\\u3002\\u503c\\u5f97\\u4e00\\u63d0\\u7684\\u662f\\uff0c58\\u540c\\u57ce\\u6ca1\\u6709\\u7701\\u7ea7\\u5206\\u533a\\uff0c\\u5168\\u90fd\\u662f\\u9488\\u5bf9\\u67d0\\u4e2a\\u57ce\\u5e02\\u3002\\n- \\u7b2c\\u4e8c\\u90e8\\u5206\\uff1a\\u76ee\\u5f55\\u53c2\\u6570\\u3002\\u4ee5\\u4e0b\\u6309\\u76ee\\u5f55**\\u56fa\\u5b9a\\u987a\\u5e8f**\\u6392\\u5217\\uff1a\\n  1. `/haidian/`\\u5373\\u6d77\\u6dc0\\u533a\\uff0c\\u4ee3\\u8868\\u4e86\\u5730\\u533a\\u6216\\u5730\\u70b9\\u201c\\u53c2\\u6570\\u503c\\u201d\\uff0c\\u8fd8\\u53ef\\u4ee5\\u662f`/wudaokou/`\\u4e94\\u9053\\u53e3\\u3001`/beijingdaxue/`\\u5317\\u4eac\\u5927\\u5b66\\u7b49\\uff0c\\u8fd8\\u53ef\\u4ee5\\u662f`/beijingzhoubian/`\\u5317\\u4eac\\u5468\\u8fb9\\uff0c\\u90fd\\u662f\\u533a\\u57df\\u90a3\\u4e00\\u680f\\u6240\\u6709\\u9009\\u9879\\u7684\\u4e2d\\u6587\\u5168\\u62fc\\u3002**\\u5982\\u679c\\u662f\\u73b0\\u5b9e\\u5168\\u5317\\u4eac\\u7684\\u6570\\u636e\\u7684\\u8bdd\\uff0c\\u8fd9\\u4e2a\\u76ee\\u5f55\\u53c2\\u6570\\u662f\\u88ab\\u7701\\u7565\\u7684\\u7684**\\u3002\\n  2. `/tech/`\\u5373\\u804c\\u4f4d\\u7c7b\\u522b\\u4e3a\"\\u8ba1\\u7b97\\u673a/\\u4e92\\u8054\\u7f51\"\\u7c7b\\u3002\\u8fd9\\u4e00\\u90e8\\u5206\\u6709\\u70b9\\u610f\\u601d\\uff0c\\u5982\\u679c\\u6539\\u6210`/job/`\\u5c31\\u4f1a\\u4e0d\\u9650\\u5206\\u7c7b\\uff0c\\u663e\\u793a\\u6240\\u6709\\u7ed3\\u679c\\uff1b\\u5982\\u679c\\u6539\\u6210`/chengxuyuan/`\\u5219\\u4f1a\\u663e\\u793a\"\\u7a0b\\u5e8f\\u5458\"\\u7684\\u5b50\\u804c\\u4e1a\\u5206\\u7c7b\\u3002\\u4e5f\\u5c31\\u662f\\u8bf4\\uff0c58\\u4e0d\\u533a\\u5206\\u5404\\u79cd\\u804c\\u4e1a\\u7684\\u5c42\\u7ea7\\u5173\\u7cfb\\uff0c**\\u4e5f\\u4e0d\\u8003\\u8651\\u591a\\u9009**\\u2014\\u2014\\u8981\\u4e48\\u5168\\u9009\\u8981\\u4e48\\u5355\\u9009\\u3002\\n  3. `pve_5363_244_pve_5754_1476_pve_5356_6_pve_5357_6` \\u8fd9\\u4e2a\\u662f\\u770b\\u8d77\\u6765\\u6700\\u590d\\u6742\\u7684\\uff0c\\u4f46\\u662f\\u7a0d\\u5fae\\u7559\\u610f\\u4e0b\\u4e5f\\u597d\\u7406\\u89e3\\uff0c\\u5176\\u5b9e\\u662f\\u2014\\u2014\\u201c\\u66f4\\u591a\\u201d\\u680f\\u7684\\u7b5b\\u9009\\u9879\\uff0c\\u4e00\\u822c\\u6709\\u56db\\u79cd\\u53c2\\u6570\\u5728\\u8fd9\\u91cc\\u663e\\u793a\\uff0c\\u6bcf\\u79cd\\u4e4b\\u95f4\\u7528\\u4e0b\\u5212\\u7ebf\\u8fde\\u63a5\\uff0c\\u5982\\u679c\\u6ca1\\u6709\\u9009\\u62e9\\u7684\\u8bdd\\u8fd9\\u91cc\\u5c31\\u4e0d\\u663e\\u793a\\u5176\\u503c\\u3002\\u5176\\u4e2d`pve_$$$$_??`\\u662f\\u56fa\\u5b9a\\u683c\\u5f0f\\uff0c$$$$\\u662f4\\u4f4d\\u6570\\u5b57\\u4ee3\\u8868\\u53c2\\u6570\\u540d\\uff0c\\u540e\\u9762\\u7684`??`\\u662f1~4\\u4f4d\\u662f\\u4e0d\\u56fa\\u5b9a\\u7684\\u6570\\u5b57\\u4ee3\\u8868\\u53c2\\u6570\\u503c\\u3002\\n     - pve_5363\\uff1a\\u516c\\u53f8\\u884c\\u4e1a\\u4ee3\\u53f7\\u3002\\u540e\\u9762\\u7684244\\u662f\\u201c\\u8ba1\\u7b97\\u673a/\\u4e92\\u8054\\u7f51\\u884c\\u4e1a\\u201d\\u3002\\u5408\\u5728\\u4e00\\u8d77\\u4ee3\\u8868\\u201c\\u516c\\u53f8\\u884c\\u4e1a\\u4e3a\\u8ba1\\u7b97\\u673a\\u53ca\\u4e92\\u8054\\u7f51\\u884c\\u4e1a\\u201d\\u3002\\n     - pve_5754\\uff1a\\u516c\\u53f8\\u6027\\u8d28\\u4ee3\\u53f7\\u3002\\u540e\\u9762\\u76841476\\u4ee3\\u8868\\u201c\\u79c1\\u8425\\u201d\\u4f01\\u4e1a\\u3002\\n     - pve_5356\\uff1a\\u5b66\\u5386\\u8981\\u6c42\\u4ee3\\u53f7\\u3002\\u540e\\u9762\\u76846\\u4ee3\\u8868\\u201c\\u672c\\u79d1\\u201d\\u3002\\n     - pve_5357\\uff1a\\u7ecf\\u9a8c\\u8981\\u6c42\\u4ee3\\u53f7\\u3002\\u540e\\u9762\\u76846\\u4ee3\\u8868\\u201c3\\u5e74-5\\u5e74\\u201d\\u3002\\n- \\u7b2c\\u4e09\\u90e8\\u5206\\uff1a\\u67e5\\u8be2\\u53c2\\u6570\\u3002\\u8fd9\\u91cc\\u5c31\\u6ca1\\u6709\\u56fa\\u5b9a\\u987a\\u5e8f\\u4e86\\u3002\\n  - params6693\\uff1a\\u798f\\u5229\\u5f85\\u9047\\u3002\\u5982\\u679c\\u503c\\u662f`1`\\uff0c\\u4ee3\\u8868\\u4e94\\u9669\\u4e00\\u91d1\\uff1b`6`\\u4ee3\\u8868\\u5468\\u672b\\u53cc\\u4f11\\u3002**\\u4e0d\\u53ef\\u591a\\u9009\\uff01**\\n  - minixinzi\\uff1a\\u85aa\\u8d44\\u8303\\u56f4\\u3002\\u5982`0_999`\\u53ca`3000_4999`\\u7b49\\u3002\\n## \\u9875\\u7801\\uff1a\\n\\n\\u9875\\u7801\\u8d85\\u51fa\\u641c\\u7d22\\u7ed3\\u679c\\u7684\\u603b\\u9875\\u7801\\u65f6\\uff0c\\u4f1a\\u663e\\u793a\\u7701\\u7565\\u53f7\\u3002\\n\\u4f46\\u662f\\u7ed3\\u679c\\u518d\\u591a\\uff0c\\u4e5f\\u53ea\\u80fd\\u663e\\u793a\\u523070\\u9875\\uff0c\\u548c\\u667a\\u8054\\u62db\\u8058\\u5dee\\u4e0d\\u591a\\uff08\\u523090\\u9875\\uff09\\u3002\\n## \\u5305\\u542b\\u62db\\u8058\\u7ed3\\u679c\\u7684\\u5927\\u6846\\u67b6\\n\\n\\u9875\\u9762\\u552f\\u4e00\\u91cd\\u8981\\u7684\\u5217\\u8868\\u4fe1\\u606f\\uff0c\\u90fd\\u5305\\u62ec\\u5728\\u4e86\\u8fd9\\u4e2a\\u6846\\u67b6\\u4e2d\\uff1a\\n\\n``` html\\n<div id=\"infolist\" class=\"tablist cleft\" tongji_id=\"ZP_job_list_div_items\">\\n    <dl logr=\"p_1_33416242837515_24319259084094_0_1_ses^composite^0\" _pos=\"1\" sortid=\"503338211\" class=\"\">\\u4e00\\u6761\\u62db\\u8058\\u4fe1\\u606f</dl>\\n</div>\\n```\\n\\n\\u6846\\u67b6\\u5b9a\\u4f4d\\u5173\\u952e\\u662f`<div>`\\u7684`id=\"infolist\"`\\uff0c\\u800c\\u7ed3\\u679c\\u5217\\u8868\\u4e2d\\u6bcf\\u4e00\\u6761\\u7684\\u5b9a\\u4f4d\\u5173\\u952e\\u4e3a`<dl>`\\u6807\\u7b7e\\u5305\\u542b`logr`\\u5c5e\\u6027\\uff0c\\u4e14\\u89c4\\u5f8b\\u4e3a`logr=\"p_?_????_ses^composite??\"`\\n## \\u9010\\u884c\\u7ed3\\u679c\\u7684\\u4ee3\\u7801\\u89e3\\u6790\\n\\n\\u6bcf\\u4e00\\u6761\\u4fe1\\u606f\\u7684\\u6e90\\u7801\\u5982\\u4e0b(\\u91cf\\u6bd4\\u8f83\\u5927)\\uff1a\\n\\n``` html\\n<dl logr=\\'p_1_33416242837515_24319259084094_0_1_ses^composite^0\\' _pos=\"1\"  sortid=\\'503338211\\'>\\n    <dd class=\"w46\">\\n        <i infoid=\\'24319259084094\\'></i>\\n        <input type=\"hidden\" uid=\\'33416242837515_0_0\\' name=\"uid\"/>\\n    </dd>\\n    <dt>\\n        <a href=\\'http://bj.58.com/chaoshishangye/24319259084094x.shtml\\' urlparams=\\'psid=164836665190074319829635832&entinfo=24319259084094_0\\'  target=\"_blank\" class=\"t\"  _t=\\'common\\'>\\u6570\\u636e\\u5904\\u7406\\u5458</a>\\n        <span class=\"hoverinfobox\" style=\"display: none;\">\\n         <div id=\"arrow\">\\n            <em></em>\\n            <span></span>\\n        </div>\\n        <div id=\"tipsbox\" class=\"tipsbox\">\\n            <div class=\"xboxcontent\" class=\"tipsbox\">\\n                <div class=\"titbar\"><h2>\\u5c71\\u4e1c\\u6b63\\u5143\\u6570\\u5b57\\u57ce\\u5e02\\u5efa\\u8bbe\\u6709\\u9650\\u516c\\u53f8\\u9ebb\\u57ce\\u9879\\u76ee</h2></div>\\n                <ul class=\"zhanshi clearfix\">\\n                    <li class=\"mar30\">\\n                        <span>\\u62db\\u8058\\u804c\\u4f4d\\uff1a</span>\\u5168\\u804c\\u62db\\u8058\\n                    </li>\\n                    <li>\\n                        <span>\\u62db\\u8058\\u4eba\\u6570\\uff1a</span>\\u82e5\\u5e72                </li>\\n                    <li class=\"mar30\"> \\n                        <span>\\u5de5\\u4f5c\\u7ecf\\u9a8c\\uff1a</span>\\u4e0d\\u9650                </li>\\n                    <li>\\n                        <span>\\u5b66\\u5386\\u8981\\u6c42\\uff1a</span>\\u4e0d\\u9650\\n                    </li>\\n                    <!-- \\n                    <li class=\"mar30\">\\n                        <span>\\u5de5\\u4f5c\\u5730\\u70b9\\uff1a</span>\\u5317\\u4eac\\n                     </li> -->\\n                     <li class=\"mar30\">\\n                        <span>\\u8f6c\\u6b63\\u5de5\\u8d44\\uff1a</span>1000-2000\\u5143\\n                     </li>\\n                </ul>\\n                <p>\\n                    \\u6709\\u79ef\\u6781\\u7684\\u6001\\u5ea6\\u548c\\u4eba\\u9645\\u5173\\u7cfb\\uff0c\\u80fd\\u5403\\u82e6\\u8010\\u52b3\\uff0c\\u6587\\u5316\\u6c34\\u5e73\\u9ad8\\u4e2d\\u4ee5\\u4e0a\\u3002\\n                </p>\\n            </div>\\n        </div>\\n    </span>\\n    <span tag=\"bbbindcpc\" url=\\'http://bj.58.com/chaoshishangye/24319259084094x.shtml\\' name=\"zaixian_33416242837515\"></span>\\n    </dt>\\n    <dd class=\"w271\">\\n        <a href=\\'http://qy.58.com/33416242837515/\\' urlparams=\\'psid=164836665190074319829635832&entinfo=24319259084094_0\\' target=\"_blank\" class=\"fl\" title=\"\\u5c71\\u4e1c\\u6b63\\u5143\\u6570\\u5b57\\u57ce\\u5e02\\u5efa\\u8bbe\\u6709\\u9650\\u516c\\u53f8\\u9ebb\\u57ce\\u9879\\u76ee\">\\u5c71\\u4e1c\\u6b63\\u5143\\u6570\\u5b57\\u57ce\\u5e02\\u5efa\\u8bbe\\u6709\\u9650\\u516c\\u53f8\\u9ebb...</a>\\n    </dd>\\n    <dd class=\"w96\">  \\u5317\\u4eac   </dd>\\n    <dd class=\"w68\">   12-13    </dd>\\n</dl>\\n```\\n\\n\\u5176\\u4e2d\\uff0c\\u4e00\\u6761\\u4fe1\\u606f\\u7684\\u786e\\u8ba4\\u65b9\\u5f0f\\u67093\\u4e2d\\uff1a\\n- `dl [logr]`\\u6216 `dl [sortid]`\\u6216 `dl [_pos]`\\uff0c\\u5408\\u5e76\\u5b9a\\u4f4d\\n- `input [name=\"uid\"]`\\n- `div class=\"xboxcontent\"` \\u548c `div class=\"tipsbox\"`\\u5408\\u5e76\\u5b9a\\u4f4d\\n### \\u83b7\\u53d6\\u6bcf\\u6761\\u62db\\u8058\\u4fe1\\u606f\\u7684\\u57fa\\u672c\\u5185\\u5bb9\\n1. \\u4fe1\\u606fID:\\u5b9a\\u4f4d\\u5728`<i infoid=\\'24319259084094\\'></i>`\\n2. uid\\uff1a\\u5b9a\\u4f4d\\u5728`<input type=\"hidden\" uid=\\'33416242837515_0_0\\' name=\"uid\"/>`\\n3. \\u804c\\u4f4d\\u540d\\u79f0\\u53ca\\u804c\\u4f4d\\u8be6\\u60c5\\u9875URL\\uff1a\\n\\n``` html\\n<a href=\\'http://bj.58.com/chaoshishangye/24319259084094x.shtml\\' urlparams=\\'psid=164836665190074319829635832&entinfo=24319259084094_0\\'  target=\"_blank\" class=\"t\"  _t=\\'common\\'>\\u6570\\u636e\\u5904\\u7406\\u5458</a>` \\n```\\n\\n\\u9700\\u8981\\u6ce8\\u610f\\u7684\\u662f\\uff0c\\u8be6\\u60c5url\\u5c3d\\u91cf\\u7ed3\\u5408`href`\\u548c`urlparams`\\u53c2\\u6570\\u4e00\\u8d77\\u6784\\u9020\\uff0c\\u4e0d\\u8fc7\\u4e0d\\u653e\\u5728\\u4e00\\u8d77\\u4e5f\\u65e0\\u6240\\u8c13\\u3002\\n- \\u4f01\\u4e1a\\u540d\\u79f0\\uff1a\\u5b9a\\u4f4d\\u5728`<div class=\"titbar\"><h2>\\u5c71\\u4e1c\\u6b63\\u5143\\u6570\\u5b57\\u57ce\\u5e02\\u5efa\\u8bbe\\u6709\\u9650\\u516c\\u53f8\\u9ebb\\u57ce\\u9879\\u76ee</h2></div>`\\n- \\u62db\\u8058\\u804c\\u4f4d\\uff1a\\u67e5\\u627e\\u8bed\\u6cd5\\u662f-> `ul[class*=zhanshi] li nth-of-type(1)` \\u6216\\u8005\\u4e0d\\u7528`nth-of-type()`\\u8bed\\u6cd5\\uff0c\\u800c\\u662f\\u6309\\u6587\\u672c\\u5339\\u914d\\u3002\\n- \\u62db\\u8058\\u4eba\\u6570\\uff1a\\u67e5\\u627e\\u8bed\\u6cd5\\u662f-> `ul[class*=zhanshi] li nth-of-type(2)` \\u6216\\u8005\\u4e0d\\u7528`nth-of-type()`\\u8bed\\u6cd5\\uff0c\\u800c\\u662f\\u6309\\u6587\\u672c\\u5339\\u914d\\u3002\\n- \\u5de5\\u4f5c\\u7ecf\\u9a8c\\uff1a\\u67e5\\u627e\\u8bed\\u6cd5\\u662f-> `ul[class*=zhanshi] li nth-of-type(3)` \\u6216\\u8005\\u4e0d\\u7528`nth-of-type()`\\u8bed\\u6cd5\\uff0c\\u800c\\u662f\\u6309\\u6587\\u672c\\u5339\\u914d\\u3002\\n- \\u5b66\\u5386\\u8981\\u6c42\\uff1a\\u67e5\\u627e\\u8bed\\u6cd5\\u662f-> `ul[class*=zhanshi] li nth-of-type(4)` \\u6216\\u8005\\u4e0d\\u7528`nth-of-type()`\\u8bed\\u6cd5\\uff0c\\u800c\\u662f\\u6309\\u6587\\u672c\\u5339\\u914d\\u3002\\n- \\u8f6c\\u6b63\\u5de5\\u8d44\\uff1a\\u67e5\\u627e\\u8bed\\u6cd5\\u662f-> `ul[class*=zhanshi] li nth-of-type(5)` \\u6216\\u8005\\u4e0d\\u7528`nth-of-type()`\\u8bed\\u6cd5\\uff0c\\u800c\\u662f\\u6309\\u6587\\u672c\\u5339\\u914d\\u3002\\n- \\u804c\\u4f4d\\u63cf\\u8ff0\\uff1a\\u67e5\\u627e\\u8bed\\u6cd5\\u662f-> `ul[class*=zhanshi] + p`\\n- \\u4f01\\u4e1a\\u540d\\u79f0\\u53ca\\u94fe\\u63a5\\uff1a\\u5b9a\\u4f4d\\u5728\\u4ee5\\u4e0b\\u4ee3\\u7801\\u4e2d\\u3002\\u6ce8\\u610f\\u4f01\\u4e1a\\u540d\\u79f0\\u624d\\u7528`title`\\u5c5e\\u6027\\u4e2d\\u7684\\uff0c\\u800c\\u4e0d\\u662f\\u88ab\\u9609\\u5272\\u7684\\u6587\\u672c\\u5904\\u3002\\n\\n``` html\\n<dd class=\"w271\"> <a href=\\'http://qy.58.com/33416242837515/\\' urlparams=\\'psid=164836665190074319829635832&entinfo=24319259084094_0\\' target=\"_blank\" class=\"fl\" title=\"xxxx\\u6709\\u9650\\u516c\\u53f8xx\\u9879\\u76ee\">xxxx\\u6709\\u9650\\u516c\\u53f8...</a></dd>`\\n```\\n- \\u5de5\\u4f5c\\u5730\\u70b9\\uff1a`<dd class=\"w96\">  \\u5317\\u4eac   </dd>`\\n- \\u53d1\\u5e03\\u65e5\\u671f\\uff1a`<dd class=\"w68\">   12-13    </dd>`\\n### \\u5224\\u65ad\\u662f\\u5426\\u4e3a\\u63a8\\u5e7f\\u4fe1\\u606f\\n\\n\\u5982\\u679c\\u4e00\\u884c\\u4fe1\\u606f\\u5185\\u5305\\u62ec\\u8fd9\\u6761\\uff0c\\u90a3\\u4e48\\u5c31\\u662f\\u63a8\\u5e7f\\u4fe1\\u606f\\uff1a\\n\\n``` html\\n<a class=\"tuiguang\" title=\"58\\u540c\\u57ce\\u5efa\\u8bae\\u60a8\\u4f18\\u9009\\u9009\\u62e9\\u7cbe\\u51c6\\u63a8\\u5e7f\" rel=\"nofollow\" target=\"_blank\" href=\"http://e.58.com/zhaopin/jingzhun.html#go\">\\u7cbe\\u51c6</a>\\n```\\n\\n\\u901a\\u8fc7`<a>`\\u6807\\u7b7e\\u7684`class=\"tuiguang\"`\\u6765\\u5b9a\\u4f4d\\u3002\\n\\u5982\\u679c\\u662f\\u6b63\\u5e38\\u6d88\\u606f\\uff0c\\u5219\\u6ca1\\u6709\\u8fd9\\u4e2a\\u94fe\\u63a5\\uff0c\\u4e14\\u53ea\\u663e\\u793a\\u6587\\u672c\\u7684\\u201c\\u4eca\\u5929\\u201d\\u6216\\u8005\\u662f\\u201c12-12\\u201d\\u8fd9\\u79cd\\u5177\\u4f53\\u65e5\\u671f\\u3002\\n### \\u83b7\\u53d6\\u5f53\\u524d\\u9875\\u7801\\u53ca\\u4e0b\\u4e00\\u9875\\u94fe\\u63a5\\n\\n\\u8fd9\\u4e00\\u6b65\\u5176\\u5b9e\\u662f\\u975e\\u5e38\\u91cd\\u8981\\u7684\\uff01\\u76f4\\u63a5\\u5173\\u7cfb\\u5230\\u662f\\u5426\\u6293\\u778e\\u3002\\n\\u9996\\u5148\\uff0c58\\u7684\\u8bbe\\u7f6e\\u662f\\u8fd9\\u6837\\u7684\\uff1a\\n58\\u6700\\u591a\\u53ea\\u663e\\u793a70\\u9875\\u4fe1\\u606f\\uff0c\\u6bcf\\u987545\\u6761\\u3002\\u5f3a\\u884c\\u6253\\u5f0070\\u9875\\u4ee5\\u4e0a\\u7684\\u9875\\u9762\\uff0c\\u6216\\u8005\\u8d85\\u8fc7\\u5f53\\u524d\\u7ed3\\u679c\\u7684\\u603b\\u9875\\u6570\\uff0c\\u90fd\\u4f1a\\u663e\\u793a`\\u65b0\\u4fe1\\u606f\\u8f83\\u5c11\\uff0c\\u6211\\u4eec\\u4e3a\\u60a8\\u63a8\\u8350\\u4ee5\\u4e0b\\u76f8\\u5173\\u4fe1\\u606f\\uff1a`\\u3002\\n\\u6211\\u4eec\\u5148\\u6765\\u770b\\u6e90\\u7801\\uff0c\\u7136\\u540e\\u518d\\u5904\\u7406\\u3002\\n\\n``` html\\n<div class=\"pagerout\">\\n    <div class=\"pager\" tongji_id=\"ZP_job_list_div_next\">\\n        <a class=\"prv\" href=\"/job/pn7/?key=%E6%95%B0%E6%8D%AE&cmcskey=%E6%95%B0%E6%8D%AE&final=1&specialtype=gls&canclequery=isbiz%3D0\"> \\n            <span>\\u4e0a\\u4e00\\u9875</span ></a> \\n        <a href=\"/job/?key=%E6%95%B0%E6%8D%AE&cmcskey=%E6%95%B0%E6%8D%AE&final=1&specialtype=gls&canclequery=isbiz%3D0\">\\n            <span>1</span></a>\\n        <a href=\"/job/pn2/?key=%E6%95%B0%E6%8D%AE&cmcskey=%E6%95%B0%E6%8D%AE&final=1&specialtype=gls&canclequery=isbiz%3D0\">\\n            <span>2</span></a>\\n        <a href=\"/job/pn3/?key=%E6%95%B0%E6%8D%AE&cmcskey=%E6%95%B0%E6%8D%AE&final=1&specialtype=gls&canclequery=isbiz%3D0\">\\n            <span>3</span></a>\\n                ...\\n        <a href=\"/job/pn4/?key=%E6%95%B0%E6%8D%AE&cmcskey=%E6%95%B0%E6%8D%AE&final=1&specialtype=gls&canclequery=isbiz%3D0\">\\n            <span>4</span></a>\\n        <a href=\"/job/pn5/?key=%E6%95%B0%E6%8D%AE&cmcskey=%E6%95%B0%E6%8D%AE&final=1&specialtype=gls&canclequery=isbiz%3D0\">\\n            <span>5</span></a>\\n        <a href=\"/job/pn6/?key=%E6%95%B0%E6%8D%AE&cmcskey=%E6%95%B0%E6%8D%AE&final=1&specialtype=gls&canclequery=isbiz%3D0\">\\n            <span>6</span></a>\\n        <a href=\"/job/pn7/?key=%E6%95%B0%E6%8D%AE&cmcskey=%E6%95%B0%E6%8D%AE&final=1&specialtype=gls&canclequery=isbiz%3D0\">\\n            <span>7</span></a>\\n            <strong><span>8</span></strong>\\n        <a href=\"/job/pn9/?key=%E6%95%B0%E6%8D%AE&cmcskey=%E6%95%B0%E6%8D%AE&final=1&specialtype=gls&canclequery=isbiz%3D0\">\\n            <span>9</span></a>\\n        <a href=\"/job/pn10/?key=%E6%95%B0%E6%8D%AE&cmcskey=%E6%95%B0%E6%8D%AE&final=1&specialtype=gls&canclequery=isbiz%3D0\">\\n            <span>10</span></a>\\n        <a href=\"/job/pn11/?key=%E6%95%B0%E6%8D%AE&cmcskey=%E6%95%B0%E6%8D%AE&final=1&specialtype=gls&canclequery=isbiz%3D0\">\\n            <span>11</span></a>\\n        <a href=\"/job/pn12/?key=%E6%95%B0%E6%8D%AE&cmcskey=%E6%95%B0%E6%8D%AE&final=1&specialtype=gls&canclequery=isbiz%3D0\">\\n            <span>12</span></a>\\n        <a class=\"next\" href=\"/job/pn9/?key=%E6%95%B0%E6%8D%AE&cmcskey=%E6%95%B0%E6%8D%AE&final=1&specialtype=gls&canclequery=isbiz%3D0\">\\n            <span>\\u4e0b\\u4e00\\u9875</span></a>\\n        <a href=\"/job/?key=%E6%95%B0%E6%8D%AE&cmcskey=%E6%95%B0%E6%8D%AE&final=1&specialtype=gls&canclequery=isbiz%3D0\" class=\"recently\">\\n            <span>\\u6700\\u65b0\\u4fe1\\u606f</span></a>\\n    </div>\\n</div>\\n```\\n\\n\\u4ece\\u4e0a\\u9762\\u6211\\u4eec\\u53ef\\u4ee5\\u8fd9\\u6837\\u5f97\\u5230\\u4e9b\\u4fe1\\u606f\\uff1a\\n1. \\u4e0a\\u4e00\\u9875\\u94fe\\u63a5\\uff1a`div[class=\"pagerout\"] a[class=\"prv\"]`\\uff0c\\u83b7\\u53d6\\u5176`href`\\u5c5e\\u6027\\u503c\\u5c31\\u597d\\u4e86\\u3002\\u5982\\u679c\\u6ca1\\u6709\\uff0c\\u8868\\u793a\\u6b63\\u5728\\u7b2c\\u4e00\\u9875\\u3002\\n- \\u4e0b\\u4e00\\u9875\\u94fe\\u63a5\\uff1a`div[class=\"pagerout\"] a[class=\"next\"]`\\uff0c\\u83b7\\u53d6\\u5176`href`\\u5c5e\\u6027\\u503c\\u5c31\\u597d\\u4e86\\u3002\\u5982\\u679c\\u6ca1\\u6709\\uff0c\\u8868\\u793a\\u6b63\\u5728\\u6700\\u540e\\u4e00\\u9875\\u3002\\n- \\u5f53\\u524d\\u9875\\u7801\\uff1a`div[class=\"pagerout\"] div[class=\"pager\"] strong`\\uff0c\\u5f53\\u524d\\u9875\\u662f\\u4e0d\\u5e26\\u94fe\\u63a5\\u7684\\uff0c\\u6240\\u4ee5\\u8981\\u8fd9\\u6837\\u83b7\\u53d6\\u3002\\n### \\u5224\\u65ad\\u641c\\u7d22\\u7ed3\\u679c\\u662f\\u5426\\u8bfb\\u5b8c\\n\\n\\u901a\\u8fc7\\u6d4b\\u8bd5\\u53d1\\u73b0\\uff0c\\u6839\\u636e\\u7ed3\\u679c\\u6570\\u91cf\\u7684\\u4e0d\\u540c\\uff0c\\u9664\\u4e86\\u6b63\\u5e38\\u5916\\u6c47\\u4ea7\\u751f\\u4ee5\\u4e0b\\u7ed3\\u679c\\uff1a\\n1. \\u663e\\u793a`\\u65b0\\u4fe1\\u606f\\u8f83\\u5c11\\uff0c\\u6211\\u4eec\\u4e3a\\u60a8\\u63a8\\u8350\\u4ee5\\u4e0b\\u76f8\\u5173\\u4fe1\\u606f\\uff1a`\\u4e00\\u822c\\u662f\\u56e0\\u4e3a\\u8d85\\u8fc7\\u4e86\\u5e94\\u6709\\u7684\\u9875\\u7801\\u4e86\\u3002\\u8fd9\\u6837\\u7684\\u4fe1\\u606f\\u901a\\u8fc7\\u6e90\\u7801\\u627e\\u5230`<dt class=\"shortMsg\">\\u65b0\\u4fe1\\u606f\\u8f83\\u5c11\\uff0c\\u6211\\u4eec\\u4e3a\\u60a8\\u63a8\\u8350\\u4ee5\\u4e0b\\u76f8\\u5173\\u4fe1\\u606f\\uff1a</dt>`\\u5c31\\u53ef\\u4ee5\\u4e86\\u3002\\n2. \\u663e\\u793a`\\u5f88\\u62b1\\u6b49\\uff0c\\u6ca1\\u6709\\u627e\\u5230\\u7b26\\u5408\\u5df2\\u9009\\u6761\\u4ef6\\u7684\\u4fe1\\u606f\\u3002\\\\n\\u5efa\\u8bae\\u60a8\\uff1a`\\uff0c\\u8fd9\\u662f\\u56e0\\u4e3a\\u641c\\u7d22\\u6761\\u4ef6\\u592a\\u82db\\u523b\\u6ca1\\u6709\\u7b26\\u5408\\u6761\\u4ef6\\u7684\\u3002\\u8fd9\\u6837\\u7684\\uff0c\\u901a\\u8fc7\\u6e90\\u7801\\u627e\\u5230\\uff1a\\n\\n``` html\\n<i class=\"ico report\"></i><p>\\u5f88\\u62b1\\u6b49\\uff0c\\u6ca1\\u6709\\u627e\\u5230\\u7b26\\u5408\\u5df2\\u9009\\u6761\\u4ef6\\u7684\\u4fe1\\u606f\\u3002<br />\\u5efa\\u8bae\\u60a8\\uff1a</p>\\n```\\n# \\u62db\\u8058\\u8be6\\u7ec6\\u9875\\u6e90\\u7801\\u5206\\u6790\\n\\n\\u8fd9\\u4e2a\\u9875\\u9762\\u6bd4\\u8f83\\u7b80\\u5355\\uff0c\\u9664\\u4e86\\u4f01\\u4e1a\\u8054\\u7cfb\\u65b9\\u5f0f\\u662f\\u52a8\\u6001\\u52a0\\u8f7d\\u7684\\u56fe\\u7247\\u5916\\u90fd\\u6bd4\\u8f83\\u597d\\u5b9a\\u4f4d\\u6293\\u53d6\\u3002\\u4e0d\\u8fc7\\u8054\\u7cfb\\u65b9\\u5f0f\\u4e5f\\u5bf9\\u6211\\u6ca1\\u4ec0\\u4e48\\u592a\\u5927\\u7528\\u5c31\\u4e0d\\u8d39\\u90a3\\u529f\\u592b\\u4e86\\u3002\\n## \\u7cbe\\u7b80\\u62db\\u8058\\u4fe1\\u606f\\n\\n\\u662f\\u88ab\\u5305\\u542b\\u5728\\u5934\\u6587\\u4ef6\\u4e2d\\u7528\\u6765\\u7ed9\\u641c\\u7d22\\u5f15\\u64ce\\u641c\\u7d22\\u7528\\u7684\\uff0c\\u6240\\u4ee5\\u662f\\u7cbe\\u534e\\u4e2d\\u7684\\u7cbe\\u534e\\u54c8\\u54c8\\u3002\\u5982\\u4e0b\\uff1a\\n\\n``` html\\n<meta name=\"description\" content=\"[\\u6700\\u65b0\\u62db\\u8058\\u4fe1\\u606f]\\u8bda\\u8058\\u8bda\\u8058\\u6570\\u636e\\u5206\\u6790\\u5e085000+1\\u4eba,\\u5de5\\u4f5c\\u5730\\u70b9\\u4f4d\\u4e8e\\u5317\\u4eac\\u6d77\\u6dc0\\u4e2d\\u5173\\u6751,\\u516c\\u53f8\\u89c4\\u6a21100-499\\u4eba,\\u85aa\\u8d44\\u5f85\\u90475000-8000\\u5143,\\u5de5\\u4f5c\\u7ecf\\u9a8c1-2\\u5e74,\\u5b66\\u5386\\u8981\\u6c42\\u5927\\u4e13,\\u62db\\u8058\\u5c97\\u4f4d\\u804c\\u8d23\\uff1a \\u5efa\\u7acb\\u516c\\u53f8\\u6570\\u636e\\u5206\\u6790\\u7684\\u7cfb\\u7edf\\uff0c\\u7ec4\\u7ec7\\u6570\\u636e\\u5206\\u6790\\u62a5\\u8868\\u7684\\u6574\\u5408\\u548c\\u89c4\\u8303\\u3001\\u4f18\\u5316\\uff1b \\u5efa\\u7acb\\u516c\\u53f8\\u6570\\u636e\\u7ba1\\u7406\\u3001\\u67e5\\u8be2\\u7684\\u5404\\u9879\\u89c4\\u7ae0\\u5236\\u5ea6\\uff1b \\u5efa\\u7acb\\u516c\\u53f8\\u6bcf\\u65e5\\u3001\\u5468\\u3001\\u6708\\u3001\\u5b63\\u3001\\u5e74\\u5ea6\\u6570\\u636e\\u5206\\u6790\\u62a5\\u8868\\u6a21\\u677f\\uff1b \\u7814\\u7a76\\u6570\\u636e\\u5206\\u6790\\u7684\\u65b9\\u6cd5\\uff0c\\u505a\\u5230\\u62a5\\u8868\\u5236\\u4f5c, 100)\" />\\n```\\n\\n\\u53ea\\u8981\\u901a\\u8fc7`<meta name=\"description\"`\\u5b9a\\u4f4d\\uff0c\\u83b7\\u53d6\\u5176`content`\\u5c5e\\u6027\\u503c`\\u5c31\\u597d\\u4e86\\u3002\\n## \\u83b7\\u53d6\\u62db\\u8058\\u57fa\\u672c\\u4fe1\\u606f\\n\\n\\u6240\\u6709\\u7684\\u4fe1\\u606f\\u90fd\\u5305\\u542b\\u5728\\u4e86`<div class=\"wb-main\">...</div>`\\u6846\\u67b6\\u4e2d\\u3002\\u80fd\\u591f\\u627e\\u5230\\u7684\\u4fe1\\u606f\\u5982\\u4e0b\\uff1a\\n1. \\u804c\\u4f4d\\u540d\\u79f0\\uff1a\\n- \\u66f4\\u65b0\\u65f6\\u95f4\\uff1a\\n- \\u6d4f\\u89c8\\u4eba\\u6570\\u548c\\u6295\\u9012\\u4eba\\u6570\\uff1a\\u8fd9\\u4e2a\\u7565\\u8fc7\\uff0c\\u6ca1\\u4ec0\\u4e48\\u7528\\u3002\\n- \\u4f01\\u4e1a\\u540d\\u79f0\\u53ca\\u94fe\\u63a5\\uff1a\\u90fd\\u5728`<a class=\"companyName\" >`\\uff0c\\u76f4\\u63a5\\u83b7\\u53d6`href`\\u5c31\\u884c\\u4e86\\u3002\\n- \\u8425\\u4e1a\\u6267\\u7167\\u662f\\u5426\\u5df2\\u7ecf\\u8fc7\\u9a8c\\u8bc1\\uff1a`<div class=\"vip-yan fl\"><span title=\"\\u8425\\u4e1a\\u6267\\u7167\\u5df2\\u9a8c\\u8bc1\" class=\"licIcon\"></span>\\u8425\\u4e1a\\u6267\\u7167\\u5df2\\u8ba4\\u8bc1</div>`\\u3002\\u627e\\u5230`<div class=\"vip-yan fl\">`\\u5c31\\u597d\\u4e86\\u3002\\n- \\u6240\\u5728\\u884c\\u4e1a\\u3001\\u4f01\\u4e1a\\u6027\\u8d28\\u3001\\u4f01\\u4e1a\\u89c4\\u6a21\\u548c\\u767b\\u8bb0\\u65f6\\u95f4\\u90fd\\u5728\\u8fd9\\u91cc\\u4e86\\uff1a\\n\\n``` html\\n<div class=\"compMsg clearfix\">\\n    <ul>\\n        <li>\\n            <span>\\u884c\\u4e1a\\uff1a</span>\\n            <a href=\"http://qy.58.com/bj_264/\" target=\"_blank\" >\\u5e7f\\u544a/\\u521b\\u610f</a>\\n        </li>\\n        <li>\\n            <span>\\u6027\\u8d28\\uff1a </span>\\u79c1\\u8425\\n        </li>\\n        <li class=\"scale\">\\n            <span>\\u89c4\\u6a21\\uff1a </span>100-499\\u4eba\\n        </li>\\n        <li class=\"joinday\" style=\"display: none;\">\\n            <span>\\u5165\\u9a7b\\u65f6\\u957f\\uff1a</span>174\\u5929\\n        </li>\\n    </ul>\\n</div>\\n```\\n\\n\\u5199\\u7d2f\\u4e86\\uff0c\\u76f4\\u63a5\\u4e0aBeautifulSoup\\u683c\\u5f0f\\u7684css\\u9009\\u62e9\\u5668\\u7684\\u67e5\\u627e\\u8bed\\u6cd5\\uff0c\\u5206\\u522b\\u4e3a\\uff1a\\n\\u6240\\u5728\\u884c\\u4e1a =`div[class*=compMsg] ul li a[href]`\\u627e\\u5230\\uff0c\\n\\u4f01\\u4e1a\\u6027\\u8d28 = `div[class*=compMsg] ul li nth-of-type(2)`,\\n\\u4f01\\u4e1a\\u89c4\\u6a21 = `div[class*=compMsg] ul li nth-of-type(3)`\\u6216\\u8005`li[class=\"scale\"]`, \\n\\u5165\\u9a7b\\u65f6\\u95f4 = `div[class*=compMsg] ul li nth-of-type(4)`\\u6216`li[class=\"joinday\"]`\\u3002\\n## \\u83b7\\u53d6\\u8054\\u7cfb\\u4fe1\\u606f\\n\\n\\u90fd\\u5305\\u542b\\u5728\\u8fd9\\u4e2adiv\\u4e2d\\uff1a\\n\\n``` html\\n<div class=\"contact mt25\" id=\"lianxi\" tongji_id=\"ZP_job_detail_div_contact\">...</div>\\n```\\n\\n\\u7136\\u540e\\u53ef\\u4ee5\\u627e\\u5230\\u8fd9\\u4e9b\\u4fe1\\u606f\\uff1a\\n1. \\u8054\\u7cfb\\u4eba\\uff1a`<span class=\"conTip\">\\u738b\\u7ecf\\u7406 <span>(\\u8054\\u7cfb\\u6211\\u65f6\\u8bf7\\u8bf4\\u660e\\u662f\\u572858\\u540c\\u57ce\\u4e0a\\u770b\\u5230\\u7684)</span></span>`\\uff0c\\u5b9a\\u4f4d\\u65b9\\u6cd5\\uff1a`div[class=\"conTip\"]`\\u3002\\n- \\u5de5\\u4f5c\\u5730\\u70b9\\uff1a\\u6e90\\u7801\\u6709\\u70b9\\u957f\\uff0c\\u5b9a\\u4f4d\\u65b9\\u6cd5\\uff1a\\u53ea\\u80fd\\u7528\\u6587\\u5b57\\u5339\\u914d\\u4e86\\uff0c\\u627e\\u5230`<dt>\\u5de5\\u4f5c\\u5730\\u5740\\uff1a</dt>`\\u548c`<span class=\"area\">`\\u8fd92\\u4e2a\\u6807\\u7b7e\\uff0c\\u5b83\\u4eec\\n  \\u4e2d\\u95f4\\u7684\\u6807\\u7b7e\\u5c31\\u662f\\u5730\\u5740\\u3002\\n- \\u536b\\u661f\\u5b9a\\u4f4d\\uff1a\\u5176\\u5b9e\\u4e5f\\u4e0d\\u7528\\u8d39\\u52b2\\uff0c\\u76f4\\u63a5\\u627e\\u5230`a[class=\"map\"]`\\uff0c\\u83b7\\u53d6\\u5176`href`\\u7136\\u540e\\u7528\\u589e\\u5219\\u8868\\u8fbe\\u5f0f\\u5339\\u914d2\\u4e2a`116.337795`\\u8fd9\\u79cd\\u6570\\u5b57\\uff0c\\u5c31\\u5f97\\u5230\\u7cbe\\u786e\\u5750\\u6807\\u4e86\\u3002\\u6e90\\u7801\\u5982\\u4e0b\\uff1a\\n\\n``` html\\n<a class=\"map\" href=\"javascript:setbg(\\'\\u8bda\\u8058\\u6570\\u636e\\u5206\\u6790\\u5e08\\',430,240,\\'http://qy.58.com/mapdetail.html?lat=116.337795%2C39.977523&name=%E5%B7%A5%E4%BD%9C%E5%9C%B0%E7%82%B9\\');\"><i></i>\\u67e5\\u770b\\u5730\\u56fe</a>\\n```\\n## \\u83b7\\u53d6\\u4f01\\u4e1a\\u4ecb\\u7ecd\\n\\n\\u4f01\\u4e1a\\u4fe1\\u606f\\u90fd\\u5305\\u542b\\u5728\\u8fd9\\u91cc\\u9762\\uff1a\\n\\n``` html\\n<div class=\"compIntro\" id=\"gongsi\">...</div>\\n```\\n\\n\\u5b9a\\u4f4d\\u65b9\\u5f0f\\u4e3a\\uff1a\\u76f4\\u63a5`div[class=\"compIntro\"]`\\u6216`#gongsi`\\u83b7\\u53d6\\u6240\\u6709\\u6587\\u5b57\\u5185\\u5bb9\\u5c31\\u662f\\u4f01\\u4e1a\\u4ecb\\u7ecd\\u4e86\\u3002\\n# \\u4f01\\u4e1a\\u4e3b\\u9875\\u6e90\\u7801\\u5206\\u6790\\n\\n58\\u8fd8\\u771f\\u662f\\u65b9\\u4fbf\\uff0c\\u518d\\u725b\\u7684\\u4f01\\u4e1a\\u90fd\\u662f\\u4e00\\u6a21\\u4e00\\u6837\\u7684\\u7b80\\u5355\\u7f51\\u9875\\u3002\\u4e0d\\u8fc7\\u8fd8\\u597d\\uff0c\\u8fd9\\u4e5f\\u65b9\\u4fbf\\u83b7\\u53d6\\u6570\\u636e\\u4e86\\u3002\\n\\u8fd9\\u4e2a\\u9875\\u9762\\u6781\\u5176\\u7b80\\u5355\\uff0c\\u4f46\\u662f\\u6709\\u4e00\\u70b9\\u9700\\u8981\\u6ce8\\u610f\\uff0c\\u6570\\u636e\\u662f\\u7528\\u8868\\u683c\\u52a8\\u6001\\u5448\\u73b0\\u7684\\uff0c\\u6bcf\\u79cd\\u4fe1\\u606f\\u7684\\u4f4d\\u7f6e\\u5e76\\u4e0d\\u56fa\\u5b9a\\uff0c\\u662f\\u6839\\u636e\\u4f01\\u4e1a\\u6709\\u6ca1\\u6709\\u8fd9\\u4e2a\\u4fe1\\u606f\\u624d\\u663e\\u793a\\u51fa\\u6765\\u7684\\u3002\\u6240\\u4ee5\\u5728\\u4fe1\\u606f\\u5b9a\\u4f4d\\u4e0a\\uff0c\\u5c3d\\u91cf\\u907f\\u514d\\u7528\\u5e8f\\u53f7\\uff0c\\u53ea\\u80fd\\u7528\\u4e2d\\u6587\\u5339\\u914d\\u4e86\\u3002\\u3002\\u9700\\u8981\\u83b7\\u53d6\\u7684\\u6570\\u636e\\u5982\\u4e0b\\uff1a\\n1. \\u536b\\u661f\\u5b9a\\u4f4d\\uff1a\\u5728\\u5934\\u6587\\u4ef6\\u4e2d\\uff0c\\u5982`<meta name=\"location\" content=\"province=\\u5317\\u4eac;city=\\u5317\\u4eac; coord=116.404,39.915\">`\\u3002\\u627e\\u5230`<meta name=\"location\" />`\\u83b7\\u53d6`coord`\\u5c5e\\u6027\\u503c\\u5c31\\u597d\\u4e86\\u3002\\n- \\u4f01\\u4e1a\\u540d\\u79f0\\u53caID\\uff1a`div[class=\"compT\"] a[href]`\\u5c31\\u53ef\\u4ee5\\u627e\\u5230\\u4f01\\u4e1a\\u540d\\u79f0\\uff0c\\u5728`href`\\u5c5e\\u6027\\u4e2d\\u7684\\u662f`/ID/`\\u8fd9\\u6837\\u7684\\u683c\\u5f0f\\uff0c\\u53bb\\u6389`/`\\u5c31\\u597d\\u4e86\\u3002\\n- \\u4f01\\u4e1a\\u8d44\\u8d28\\uff1a\\u6700\\u597d\\u5728`div[class=\"basicMsg\"] tr`\\u4e2d\\u7528\\u6587\\u5b57\\u5339\\u914d\\u3002\\n- \\u4f01\\u4e1a\\u6027\\u8d28\\uff1a\\u6700\\u597d\\u5728`div[class=\"basicMsg\"] tr`\\u4e2d\\u7528\\u6587\\u5b57\\u5339\\u914d\\u3002\\n- \\u4f01\\u4e1a\\u884c\\u4e1a\\uff1a\\u6700\\u597d\\u5728`div[class=\"basicMsg\"] tr`\\u4e2d\\u7528\\u6587\\u5b57\\u5339\\u914d\\u3002\\n- \\u4f01\\u4e1a\\u89c4\\u6a21\\uff1a\\u6700\\u597d\\u5728`div[class=\"basicMsg\"] tr`\\u4e2d\\u7528\\u6587\\u5b57\\u5339\\u914d\\u3002\\n- \\u8054\\u7cfb\\u4eba\\uff1a  \\u6700\\u597d\\u5728`div[class=\"basicMsg\"] tr`\\u4e2d\\u7528\\u6587\\u5b57\\u5339\\u914d\\u3002\\n- \\u8054\\u7cfb\\u7535\\u8bdd\\uff1a\\u7528\\u6587\\u5b57\\u5339\\u914d\\u6216`[class=\"telNum\"] img`\\uff0c\\u6ce8\\u610f\\uff0c\\u8054\\u7cfb\\u7535\\u8bdd\\u90fd\\u662f\\u56fe\\u7247\\u683c\\u5f0f\\u7684\\uff0c\\u800c\\u4e14\\u53ef\\u4ee5\\u4e0d\\u6b62\\u4e00\\u4e2a\\uff01\\uff08\\u7701\\u4e8b\\u7684\\u8bdd\\u5c31\\u522b\\u4e0b\\u8f7d\\u56fe\\u7247\\u4e86\\uff0c\\u4fdd\\u5b58\\u94fe\\u63a5\\u5c31\\u597d\\u4e86\\uff0c\\u56e0\\u4e3a\\u56fe\\u7247\\u6765\\u6e90\\u660e\\u663e\\u4e0d\\u662f\\u9759\\u6001\\u56fe\\u7247\\u800c\\u662f\\u670d\\u52a1\\u5668\\u52a8\\u6001\\u751f\\u6210\\u7684\\u3002\\uff09\\n- \\u4f01\\u4e1a\\u7f51\\u5740\\uff08\\u81ea\\u5df1\\u7684\\uff09\\uff1a\\u6700\\u597d\\u5728`div[class=\"basicMsg\"] tr a`\\u4e2d\\u6216\\u7528\\u6587\\u5b57\\u5339\\u914d\\u3002\\n- \\u4f01\\u4e1a\\u90ae\\u7bb1\\uff1a\\u548c\\u7535\\u8bdd\\u4e00\\u6837\\uff0c\\u7528\\u6587\\u5b57\\u5339\\u914d\\u6216`[class=\"telNum\"] img`\\u6765\\u627e\\u56fe\\u7247\\u3002\\n- \\u516c\\u53f8\\u5730\\u5740\\uff1a\\u6700\\u597d\\u5728`div[class=\"basicMsg\"] tr`\\u4e2d\\u7528\\u6587\\u5b57\\u5339\\u914d\\u3002\\n# \\u4f01\\u4e1a\\u4fe1\\u7528\\u6863\\u6848\\u9875\\u9762URL\\u53ca\\u6e90\\u7801\\u5206\\u6790\\n\\n\\u8fd9\\u4e2a\\u9875\\u9762\\u4e0d\\u77e5\\u9053\\u5165\\u53e3\\u5728\\u54ea\\u91cc\\uff1f\\u5076\\u7136\\u770b\\u5230\\u7684\\uff0c\\u7136\\u540e\\u5fc3\\u91cc\\u5927\\u547c\\u2014\\u2014\\u54c7\\u585e\\uff01\\u54c8\\u54c8\\n\\u867d\\u7136\\u627e\\u4e0d\\u5230\\u5165\\u53e3\\u6216\\u8005\\u67e5\\u8be2\\u9875\\u9762\\uff0c\\u4f46\\u662f\\u53d1\\u73b0\\u5176\\u5b9e\\u770b\\u61c2URL\\u5c31\\u5f88\\u7b80\\u5355\\u4e86\\uff0c\\u5fc5\\u8981\\u683c\\u5f0f\\u5982\\u4e0b\\uff1a\\n`http://credit.vip.58.com/usercredit?userId=\\u4f01\\u4e1aID`\\n\\u90a3\\u4e48\\u8fd9\\u65f6\\u5019\\u521a\\u624d\\u83b7\\u53d6\\u7684\\u4f01\\u4e1aID\\u5c31\\u8d77\\u4f5c\\u7528\\u4e86\\u3002\\u624b\\u5de5\\u8f93\\u5165\\u4e86\\u4e00\\u4e0b\\uff0cID\\u5bf9\\u7684\\u8bdd\\u6bcf\\u5bb6\\u4f01\\u4e1a\\u90fd\\u80fd\\u51fa\\u6765\\u3002\\n\\u5efa\\u7acb\\u4e86\\u6863\\u6848\\u7684\\u4f01\\u4e1a\\u2014\\u2014\\u4f1a\\u663e\\u793a\\u5de8\\u8be6\\u7ec6\\u7684\\u4fe1\\u606f\\uff01\\u8fde\\u6cd5\\u4eba\\u4ee3\\u8868\\u3001\\u6ce8\\u518c\\u8d44\\u672c\\u3001\\u8be6\\u7ec6\\u5730\\u5740\\u5168\\u90fd\\u6709\\u3002\\n\\u6ca1\\u5efa\\u7acb\\u6863\\u6848\\u7684\\u4f01\\u4e1a\\u2014\\u2014\\u4e5f\\u4f1a\\u663e\\u793a\\u9875\\u9762\\uff0c\\u4f46\\u4fe1\\u606f\\u5904\\u5168\\u90fd\\u662f\\u7a7a\\u767d\\u3002\\n\\u4e0b\\u9762\\u5c31\\u7b80\\u5355\\u5206\\u6790\\u4e0b\\u57fa\\u672c\\u4fe1\\u606f\\u7684\\u83b7\\u53d6\\u3002\\n## \\u83b7\\u53d6\\u4f01\\u4e1a\\u8425\\u4e1a\\u6267\\u7167\\u4fe1\\u606f\\n\\n\\u8868\\u683c\\u57fa\\u672c\\u4e0a\\u662f\\u56fa\\u5b9a\\u4f4d\\u7f6e\\u7684\\uff0c\\u56e0\\u4e3a\\u5927\\u5bb6\\u8425\\u4e1a\\u6267\\u7167\\u90fd\\u4e00\\u6837\\u561b\\u54c8\\u54c8~\\n\\u9996\\u5148\\u83b7\\u53d6\\u4fe1\\u606f\\u6846\\u67b6\\uff1a`div[class=\"zzxx_ta\"] table`\\uff0c\\u7136\\u540e\\u518d\\u5230\\u8fd9\\u4e2a\\u6846\\u67b6\\u91cc\\u64cd\\u4f5c\\uff0c\\u5c31\\u7b80\\u5355\\u591a\\u4e86\\u3002\\n\\u4e0b\\u9762\\u662f\\u4fe1\\u606f\\u5b9a\\u4f4d\\u5206\\u6790\\uff1a\\n1. \\u516c\\u53f8\\u540d\\u79f0\\uff1a`td[class=\"tdbg\"] + td`\\u7684\\u7b2c1\\u9879\\u6216`span[class=\"headTitle\"]`\\n- \\u6ce8\\u518c\\u53f7\\uff1a`td[class=\"tdbg\"] + td`\\u7684\\u7b2c2\\u9879\\n- \\u7ecf\\u8425\\u5730\\u5740\\uff1a`td[class=\"tdbg\"] + td`\\u7684\\u7b2c3\\u9879\\n- \\u6ce8\\u518c\\u8d44\\u672c\\uff1a`td[class=\"tdbg\"] + td`\\u7684\\u7b2c4\\u9879\\n- \\u6210\\u7acb\\u65e5\\u671f\\uff1a`td[class=\"tdbg\"] + td`\\u7684\\u7b2c5\\u9879\\n- \\u6cd5\\u5b9a\\u4ee3\\u8868\\u4eba\\uff1a`td[class=\"tdbg\"] + td`\\u7b2c6\\u9879\\n- \\u767b\\u8bb0\\u673a\\u5173\\uff1a`td[class=\"tdbg\"] + td`\\u7684\\u7b2c7\\u9879\\n- \\u4f01\\u4e1a\\u7c7b\\u578b\\uff1a`td[class=\"tdbg\"] + td`\\u7684\\u7b2c8\\u9879\\n- \\u8425\\u4e1a\\u671f\\u9650\\uff1a`td[class=\"tdbg\"] + td`\\u7684\\u7b2c9\\u9879\\n- \\u6838\\u51c6\\u65e5\\u671f\\uff1a`td[class=\"tdbg\"] + td`\\u7684\\u7b2c10\\u9879\\n- \\u767b\\u8bb0\\u72b6\\u6001\\uff1a`td[class=\"tdbg\"] + td`\\u7684\\u7b2c11\\u9879\\n- \\u5728\\u8425\\uff08\\u5f00\\u4e1a\\uff09\\u4f01\\u4e1a\\uff1a`td[class=\"tdbg\"] + td`\\u7684\\u7b2c12\\u9879\\n- \\u7ecf\\u8425\\u8303\\u56f4\\uff1a`td[class=\"tdbg\"] + td`\\u7684\\u7b2c13\\u9879\\n## \\u83b7\\u53d6\\u4f01\\u4e1a\\u5176\\u4ed6\\u4fe1\\u606f\\n1. \\u4f01\\u4e1a\\u7b80\\u4ecb\\uff1a`div[class=\"briefIntro\"]`\\n2. \\u4f01\\u4e1a\\u56fe\\u7247\\uff1a`div[class=\"albumBox\"] img`\\n3. \\u4f01\\u4e1a\\u62bd\\u67e5\\u68c0\\u67e5\\u4fe1\\u606f\\uff1a`div[class=\"zzxx_ta\"] nth-of-type(1) tr`\\uff0c\\u5982\\u679c\\u6709\\u8bb0\\u5f55\\u5219\\u663e\\u793a\\uff0c\\u65e0\\u8bb0\\u5f55\\u5219\\u53ea\\u663e\\u793a\\u4e00\\u6761\\u201c\\u65e0xx\\u4fe1\\u606f\\u201d\\u3002\\u53ef\\u4ee5\\u9002\\u5f53\\u6392\\u9664\\u3002\\n4. \\u4f01\\u4e1a\\u7ecf\\u8425\\u5f02\\u5e38\\u4fe1\\u606f\\uff1a`div[class=\"zzxx_ta\"] nth-of-type(2) tr`\\uff0c\\u5982\\u679c\\u6709\\u8bb0\\u5f55\\u5219\\u663e\\u793a\\uff0c\\u65e0\\u8bb0\\u5f55\\u5219\\u53ea\\u663e\\u793a\\u4e00\\u6761\\u201c\\u65e0xx\\u4fe1\\u606f\\u201d\\u3002\\u53ef\\u4ee5\\u9002\\u5f53\\u6392\\u9664\\u3002\\n5. \\u4f01\\u4e1a\\u884c\\u653f\\u5904\\u7f5a\\u4fe1\\u606f\\uff1a`div[class=\"zzxx_ta\"] nth-of-type(3) tr`\\uff0c\\u5982\\u679c\\u6709\\u8bb0\\u5f55\\u5219\\u663e\\u793a\\uff0c\\u65e0\\u8bb0\\u5f55\\u5219\\u53ea\\u663e\\u793a\\u4e00\\u6761\\u201c\\u65e0xx\\u4fe1\\u606f\\u201d\\u3002\\u53ef\\u4ee5\\u9002\\u5f53\\u6392\\u9664\\u3002\\n6. \\u4f01\\u4e1a\\u4e25\\u91cd\\u8fdd\\u6cd5\\u4fe1\\u606f\\uff1a`div[class=\"zzxx_ta\"] nth-of-type(4) tr`\\uff0c\\u5982\\u679c\\u6709\\u8bb0\\u5f55\\u5219\\u663e\\u793a\\uff0c\\u65e0\\u8bb0\\u5f55\\u5219\\u53ea\\u663e\\u793a\\u4e00\\u6761\\u201c\\u65e0xx\\u4fe1\\u606f\\u201d\\u3002\\u53ef\\u4ee5\\u9002\\u5f53\\u6392\\u9664\\u3002\\n', u'author_association': u'OWNER', u'labels_url': u'https://api.github.com/repos/solomonxie/solomonxie.github.io/issues/17/labels{/name}', u'events_url': u'https://api.github.com/repos/solomonxie/solomonxie.github.io/issues/17/events', u'comments_url': u'https://api.github.com/repos/solomonxie/solomonxie.github.io/issues/17/comments', u'html_url': u'https://github.com/solomonxie/solomonxie.github.io/issues/17', u'number': 17, u'user': {u'following_url': u'https://api.github.com/users/solomonxie/following{/other_user}', u'gists_url': u'https://api.github.com/users/solomonxie/gists{/gist_id}', u'organizations_url': u'https://api.github.com/users/solomonxie/orgs', u'url': u'https://api.github.com/users/solomonxie', u'events_url': u'https://api.github.com/users/solomonxie/events{/privacy}', u'html_url': u'https://github.com/solomonxie', u'subscriptions_url': u'https://api.github.com/users/solomonxie/subscriptions', u'avatar_url': u'https://avatars2.githubusercontent.com/u/14041622?v=4', u'repos_url': u'https://api.github.com/users/solomonxie/repos', u'received_events_url': u'https://api.github.com/users/solomonxie/received_events', u'gravatar_id': u'', u'starred_url': u'https://api.github.com/users/solomonxie/starred{/owner}{/repo}', u'site_admin': False, u'login': u'solomonxie', u'type': u'User', u'id': 14041622, u'followers_url': u'https://api.github.com/users/solomonxie/followers'}, u'milestone': None, u'locked': False, u'url': u'https://api.github.com/repos/solomonxie/solomonxie.github.io/issues/17', u'created_at': u'2015-12-15T12:18:43Z', u'assignees': []}, {u'labels': [{u'color': u'd4c5f9', u'default': False, u'url': u'https://api.github.com/repos/solomonxie/solomonxie.github.io/labels/Python', u'id': 290633688, u'name': u'Python'}], u'updated_at': u'2015-12-13T10:27:22Z', u'assignee': None, u'repository_url': u'https://api.github.com/repos/solomonxie/solomonxie.github.io', u'closed_at': None, u'id': 121911820, u'title': u'\\u667a\\u8054\\u62db\\u8058\\u6570\\u636e\\u722c\\u53d6\\u51c6\\u5907(3)-\\u4f01\\u4e1a\\u4e3b\\u9875\\u6e90\\u7801\\u89e3\\u6790', u'comments': 0, u'state': u'open', u'body': u'# \\u7f51\\u9875\\u6e90\\u7801\\u89e3\\u6790 - \\u667a\\u8054\\u62db\\u8058 \\u4f01\\u4e1a\\u4e3b\\u9875\\n\\n\\u667a\\u8054\\u62db\\u8058\\u7684\\u4f01\\u4e1a\\u4e3b\\u9875\\u5206\\u4e3a2\\u79cd\\uff1a\\u6807\\u51c6\\u4e3b\\u9875\\u548cSpecial\\u4e3b\\u9875\\u3002Special\\u4e3b\\u9875\\u662f\\u667a\\u8054\\u62db\\u8058\\u91cc\\u552f\\u4e00\\u80fd\\u591f\\u8ba9\\u4f01\\u4e1a\\u81ea\\u5df1\\u5b9a\\u5236\\u7684\\u9875\\u9762\\u4e86\\u3002\\n\\u8fd9\\u4e5f\\u5c31\\u5f62\\u6210\\u4e86\\u5343\\u5947\\u767e\\u602a\\u7684\\u6e90\\u7801\\uff0c\\u5206\\u6790\\u8d77\\u6765\\u5e76\\u4e0d\\u5bb9\\u6613\\u3002\\u4e0d\\u8fc7\\u597d\\u5728\\u4f01\\u4e1a\\u7684\\u57fa\\u672c\\u4fe1\\u606f\\uff0c\\u5728\\u62db\\u8058\\u9875\\u9762\\u5c31\\u5df2\\u7ecf\\u83b7\\u5f97\\u4e86\\u3002\\n\\u5269\\u4e0b\\u552f\\u4e00\\u9700\\u8981\\u7684\\u4fe1\\u606f\\u5c31\\u662f\\u4f01\\u4e1a\\u7684`\\u6240\\u6709\\u62db\\u8058\\u4fe1\\u606f`\\u4e86\\uff0c\\u4e5f\\u662f\\u975e\\u5e38\\u91cd\\u8981\\u7684\\u5730\\u65b9\\u3002\\n\\u62db\\u8058\\u4fe1\\u606f\\u57282\\u79cd\\u4e0d\\u540c\\u4e3b\\u9875\\u4e2d\\uff0c\\u5728\\u6e90\\u7801\\u4e2d\\u4e5f\\u5206\\u4e3a\\u4e862\\u79cd\\u6784\\u5efa\\u65b9\\u5f0f\\uff1a\\n- \\u6807\\u51c6\\u4e3b\\u9875   \\uff1a\\u6b63\\u5e38\\u7684tag\\u5faa\\u73af\\u9648\\u5217\\u3002\\u57df\\u540d\\u7edf\\u4e00\\u662f`http://special.zhaopin.com/`\\u8fd9\\u6837\\u7684\\n- Special\\u4e3b\\u9875\\uff1a\\u5728javascript\\u4e2d\\u4ee5list\\u5217\\u8868\\u53d8\\u91cf\\u5f62\\u5f0f\\u50a8\\u5b58\\uff0c\\u5e76\\u52a8\\u6001\\u663e\\u793a\\u51fa\\u6765\\u3002\\u57df\\u540d\\u7edf\\u4e00\\u662f`http://company.zhaopin.com/`\\u8fd9\\u6837\\u7684\\u3002\\n## \\u9690\\u85cf\\u7684\\u201c\\u6807\\u51c6\\u4e3b\\u9875\\u201d\\n\\n\\u5728\\u7814\\u7a76Special\\u4e3b\\u9875\\u6e90\\u7801\\u4e2d\\uff0c\\u6709\\u5f88\\u5927\\u7684\\u4e0d\\u786e\\u5b9a\\u6027\\u3002\\u4e0d\\u8fc7\\u7d22\\u6027\\u53d1\\u73b0\\u4e86\\u4e00\\u4e2a\\u201c\\u597d\\u73a9\\u7684\\u201d\\u4e1c\\u897f\\uff1a\\n\\n``` html\\n<td align=\"right\"><!--<a href=\"http://company.zhaopin.com/CC252448519.htm\" target=\"_blank\" style=\"color:#ffffff;\">\\u62db\\u8058\\u804c\\u4f4d\\u6807\\u51c6\\u9875\\u9762</a>-->&nbsp;</td>\\n```\\n\\n\\u5176\\u4e2d\\u94fe\\u63a5\\u548c\\u5185\\u5bb9\\u662f\\u88ab\\u6ce8\\u91ca\\u6389\\u7684\\uff0c\\u589e\\u52a0\\u4e86\\u83b7\\u53d6\\u7684\\u96be\\u5ea6\\u3002\\u4e0d\\u987eBeautifulSoup\\u8fd8\\u662f\\u53ef\\u4ee5\\u641c\\u5230\\u5b83\\u7684\\uff0c\\u4f5c\\u4e3aComment\\u5bf9\\u8c61\\u5b58\\u5728\\u3002\\n#### \\u8fd9\\u610f\\u5473\\u7740\\u4ec0\\u4e48\\uff1f\\u90a3\\u5c31\\u610f\\u5473\\u7740\\u2014\\u2014\\u6bcf\\u4e2a\\u81ea\\u5b9a\\u4e49\\u7684\\u4e3b\\u9875\\uff0c\\u5b9e\\u9645\\u4e0a\\u8fd8\\u662f\\u5b58\\u5728\\u7740\\u4e00\\u4e2a\\u201c\\u6807\\u51c6\\u7248\\u201d\\u4e3b\\u9875\\u7684\\uff0c\\u90a3\\u6837\\u5c31\\u5bb9\\u6613\\u89e3\\u6790\\u4e86\\u3002\\n## \\u4f01\\u4e1aID\\u83b7\\u53d6\\n\\n\\u5176\\u5b9e\\u4e5f\\u6ca1\\u4ec0\\u4e48\\u5927\\u4f5c\\u7528\\uff0c\\u4e0d\\u8fc7\\u5982\\u679c\\u65b9\\u4fbf\\u83b7\\u53d6\\uff0c\\u62ff\\u5230\\u5b83\\u4e5f\\u662f\\u4e0d\\u9519\\u7684\\uff0c\\u56e0\\u4e3a\\u6bd5\\u7adf\\u662f\\u4e00\\u5bb6\\u4f01\\u4e1a\\u5728\\u667a\\u8054\\u7684\\u6570\\u636e\\u5e93\\u4e2d\\u552f\\u4e00\\u7684\\u6807\\u8bc6\\u5417\\uff01\\n\\u901a\\u8fc7\\u89c2\\u5bdf\\uff0c\\u4f01\\u4e1aID\\u5728\\u4f01\\u4e1a\\u4e3b\\u9875\\u7684URL\\u3001\\u6e90\\u7801\\u4e2d\\u90fd\\u9891\\u9891\\u51fa\\u73b0\\uff1a\\u4f8b\\u5982A\\u516c\\u53f8\\u7684ID\\u662f`121017111`\\u5728URL\\u4e2d\\u6709\\u65f6\\u662f`CC1210/1711/`\\uff0c\\u6709\\u65f6\\u662f`CC121017111.htm`\\uff0c\\u6709\\u65f6\\u662f`1210171119251740.htm`\\uff0c\\u8fd8\\u6709`pagepublish/12101711/index.html`\\u8fd9\\u6837\\u7684\\u3002\\u800c\\u5728\\u6e90\\u7801\\u4e2d\\u7ecf\\u5e38\\u4f1a\\u5728Javascript\\u811a\\u672c\\u4e2d\\u51fa\\u73b0\\uff0c\\u5982`CC121017111J90251741000`\\u8fd9\\u6837\\u7684\\u6216\\u662f`CC121017111J90250035000_530_1`\\u8fd9\\u6837\\u7684\\u3002\\n\\u9996\\u5148\\u53ef\\u4ee5\\u786e\\u5b9a\\u7684\\u662f\\uff0c\\u4f01\\u4e1aID\\u4e00\\u822c\\u662f**9\\u4f4d\\u7eaf\\u6570\\u5b57**\\u7ec4\\u6210\\u3002\\n\\u5982\\u4e0a\\u9762URL\\u4e2d\\u7684\\u5982\\u679c\\u4ee5ID\\u4f5c\\u4e3a\\u76ee\\u5f55\\u540d\\u5219\\u4f1a\\u65f6\\u800c\\u51cf\\u53bb\\u6700\\u540e1\\u4f4d\\u53d8\\u62108\\u4f4d\\uff0c\\u6682\\u65f6\\u4e0d\\u77e5\\u9053\\u4e3a\\u4ec0\\u4e48\\uff0c\\u4e5f\\u8bb8\\u4ed6\\u4eec\\u7684\\u76ee\\u5f55\\u5fc5\\u987b\\u57288\\u4f4d\\u4ee5\\u4e0b\\u5427\\u3002\\n\\u4e0b\\u9762\\u5c31\\u6765\\u89e3\\u6790\\u4e00\\u4e0b\\u51e0\\u79cd\\u5df2\\u77e5\\u7684\\u51fa\\u73b0\\u65b9\\u5f0f\\u548c\\u83b7\\u53d6\\u65b9\\u5f0f\\u3002\\n### \\u6807\\u51c6\\u4e3b\\u9875\\u4e2d\\u7684\\u4f01\\u4e1aID\\uff1a\\n- \\u7f51\\u5740\\u662f`http://company.zhaopin.com/CC220397616.htm`\\u7684\\n  1. \\u5728URL\\u4e2d\\u5c31\\u53ef\\u4ee5\\u83b7\\u53d6ID\\uff0c\\u53bb\\u6389`CC`\\u548c\\u6587\\u4ef6\\u6269\\u5c55\\u540d\\u5373\\u662f9\\u4f4d\\u7684ID`220397616`\\u3002\\n  2. \\u6700\\u76f4\\u63a5\\u7684\\uff0c\\u811a\\u672c\\u4e2d\\u4f1a\\u627e\\u5230`<input type=\"hidden\" value=\"CC220397616\" id=\"companyNumber\" />`\\u8fd9\\u6837\\u7684\\u4ee3\\u7801\\uff0c\\u76f4\\u63a5\\u53ef\\u4ee5\\u901a\\u8fc7`id=\"companyNumber\"`\\u627e\\u5230\\u4f01\\u4e1aID\\u3002\\n  3. \\u5728JS\\u811a\\u672c\\u4e2d\\u53ef\\u4ee5\\u770b\\u5230`var arrVarFromASP = [\\'CC220397616\\'];`\\u8fd9\\u6837\\u7684\\u53d8\\u91cf\\u3002\\n  4. \\u5728JS\\u811a\\u672c\\u4e2d\\u53ef\\u4ee5\\u770b\\u5230\\u8fd9\\u6837\\u7684\\u94fe\\u63a5\\u8df3\\u8f6c\\uff1a\\n  \\n  ``` html\\n  <a href=\"javascript:void(0)\" onclick=\"applyjob(\\'CC220397616J90250044000_530_1_66_101__2_\\');return false;\" class=\"applyJob\">\\u7533\\u8bf7\\u804c\\u4f4d</a>\\n  <a href=\"javascript:void(0);\" onclick=\"saveJobTerminalApply(\\'CC220397616J90250044000_530_1\\'); return false;\" class=\"collectJob\">\\u6536\\u85cf\\u804c\\u4f4d</a>\\n  ```\\n  \\n  ```\\n  \\u53ef\\u4ee5\\u53d1\\u73b0\\uff0c`CC220397616J90250044000_530_1_66_101__2_`\\u65e0\\u8bba\\u591a\\u957f\\uff0c\\u4f01\\u4e1aID\\u603b\\u662f`CC`\\u76849\\u4f4d\\u6570\\u5b57\\uff0c\\u800c\\u4ece`J`\\u5f00\\u5934\\uff0c\\u5c31\\u662f\\u5177\\u4f53\\u7684**\\u804c\\u4f4dID**\\u4e86\\u3002\\n  ```\\n  1. \\u6e90\\u7801\\u4e2d\\u6709`<a href=\"http://sou.zhaopin.com/jobs/companysearch.ashx?CompID=CC220397616\">\\u516c\\u53f8\\u5185\\u641c\\u7d22</a>`\\u4f1a\\u53d1\\u73b0\\u8fd9\\u6837\\u7684\\u94fe\\u63a5\\u6807\\u7b7e\\uff0c\\u53c2\\u6570`CompID`\\u5373\\u662f\\u3002\\n  2. \\u6e90\\u7801\\u4e2d\\u6709`<a href=\"http://jobs.zhaopin.com/220397616250038.htm\" target=\"_blank\">\\u3010\\u5168\\u804c\\u3011\\u52a9\\u7406\\u5206\\u6790\\u5e08 \\u53ef\\u5373\\u523b\\u4e0a\\u5d17</a>`\\u8fd9\\u6837\\u7684\\u94fe\\u63a5\\u8868\\u60c5\\uff0c\\u5728\\u6587\\u4ef6\\u540d`220397616250038.htm`\\u4e2d\\uff0c\\u524d9\\u4f4d\\u662f\\u4f01\\u4e1aID\\uff0c\\u540e6\\u4f4d`250038`\\u4e3a\\u804c\\u4f4dID\\u3002\\n  3. \\n### Special\\u4e3b\\u9875\\u4e2d\\u7684\\u4f01\\u4e1aID\\uff1a\\n\\nSpecial\\u4e3b\\u9875\\u4e2d\\u786e\\u5b9a\\u7684\\u4fe1\\u606f\\u5e76\\u4e0d\\u591a\\uff0c\\u552f\\u4e00\\u786e\\u5b9a\\u4f1a\\u51fa\\u73b0\\u4f01\\u4e1aID\\u7684\\u5c31\\u662f\\u62db\\u8058\\u94fe\\u63a5\\u7684URL\\u4e2d\\u4e86\\uff1a\\n\\n``` html\\n<a href=\"http://jobs.zhaopin.com/286304915250270.htm?ssidkey=y&ff=02&ss=101\" target=\"_blank\" title=\"\\u5b9e\\u4e60\\u751f\\uff08\\u957f\\u671f\\u62db\\u8058\\uff09\">\\u5b9e\\u4e60\\u751f\\uff08\\u957f\\u671f\\u62db\\u8058\\uff09</a>\\n```\\n\\n\\u5c06URL\\u4e2d\\u7684\\u6587\\u4ef6\\u540d\\u83b7\\u53d6\\uff0c\\u5e76\\u5f97\\u5230\\u524d9\\u4f4d\\u6570\\u5b57\\u5c31\\u662f\\u4e86\\u3002\\n\\n\\u83b7\\u53d6\\u5b8c\\u6807\\u51c6\\u9875\\u9762\\u94fe\\u63a5\\u540e\\uff0c\\u5c31\\u53ef\\u4ee5\\u5f00\\u59cb\\u89e3\\u6790\\u4e86\\u3002\\u56e0\\u4e3a\\u6807\\u51c6\\u9875\\u9762\\u7684\\u94fe\\u63a5\\u4e5f\\u4e0d\\u4e00\\u5b9a\\u80fd\\u83b7\\u53d6\\u5230\\uff0c\\u6240\\u4ee5Special\\u9875\\u9762\\u7684\\u5206\\u6790\\u4e5f\\u7b80\\u5355\\u770b\\u4e00\\u770b\\u3002\\n\\u4ee5\\u4e0b\\u4e3a\\u4e24\\u79cd\\u4f01\\u4e1a\\u4e3b\\u9875\\u7684\\u6e90\\u7801\\u5206\\u6790\\u3002\\n## \\u6807\\u51c6\\u4f01\\u4e1a\\u4e3b\\u9875\\n\\n``` html\\n<div class=\"part4 positionList\" id=\"morecity\">\\n<h3>\\n    <span class=\"jobNameT\">\\u804c\\u4f4d\\u540d\\u79f0</span>\\n    <span class=\"comNameT\">\\u516c\\u53f8\\u540d\\u79f0</span>\\n    <span class=\"jobPayT\">\\u804c\\u4f4d\\u6708\\u85aa</span>\\n    <span class=\"jobAddrT\">\\u5de5\\u4f5c\\u5730\\u70b9</span>\\n    <span class=\"publishTimeT\">\\u53d1\\u5e03\\u65e5\\u671f</span>\\n</h3>\\n<!--1\\u4e2a\\u804c\\u4f4d\\u8be6\\u60c5\\u5bf9\\u5e94\\u4e00\\u4e2a\\u7c7b\\u540d\\u4e3apositionListContent\\u7684div-->\\n<div class=\"positionListContent\" id=\"positionlist_530\">\\n\\n    <div class=\"positionListContent1\">\\n        <span class=\"jobName\"><a href=\"http://jobs.zhaopin.com/552256928252361.htm\" target=\"_blank\">\\u6570\\u636e\\u5e93\\u5de5\\u7a0b\\u5e08</a></span>\\n        <span class=\"comName\">\\u6c11\\u4fe1\\u963f\\u91cc\\u4fe1\\u606f\\u54a8\\u8be2(\\u5317\\u4eac)\\u6709\\u9650\\u516c\\u53f8</span>\\n        <span class=\"jobPay\">15001-20000\\u5143</span>\\n        <span class=\"jobAddr\">\\u5317\\u4eac</span>\\n        <span class=\"publishTime\">2015-12-12</span>\\n        <div class=\"clearFloat\"></div>\\n    </div>\\n    <div class=\"cLeft\">\\n        <span>\\u5730\\u70b9\\uff1a\\u5317\\u4eac</span>\\n        <span>\\u516c\\u53f8\\u6027\\u8d28\\uff1a\\u6c11\\u8425</span>\\n        <span>\\u516c\\u53f8\\u89c4\\u6a21\\uff1a1000-9999\\u4eba</span>\\n        <span>\\u7ecf\\u9a8c\\uff1a3-5\\u5e74</span>\\n        <span>\\u5b66\\u5386\\uff1a\\u672c\\u79d1</span>\\n        <span>\\u804c\\u4f4d\\u6708\\u85aa\\uff1a15001-20000\\u5143</span>\\n        <p>\\n             \\u5c97\\u4f4d\\u804c\\u8d23\\uff1a\\u2028  1\\u3001\\u516c\\u53f8\\u6838\\u5fc3\\u6570\\u636e\\u5e93\\u7684\\u7ba1\\u7406\\uff0c\\u4fdd\\u8bc1\\u6570\\u636e\\u5e93\\u6b63\\u5e38\\u8fd0\\u8f6c\\u548c\\u6570\\u636e\\u7684\\u5b89\\u5168\\uff1b\\u5305\\u62ec\\u5b89\\u88c5\\u3001\\u914d\\u7f6e\\u3001\\u5347\\u7ea7\\uff0c\\u6570\\u636e\\u5907\\u4efd\\u3001\\u6062\\u590d\\uff0c\\u6027\\u80fd\\u76d1\\u63a7\\u5206\\u6790\\u8c03\\u4f18\\u7b49\\uff1b\\u20282\\u3001\\u53c2\\u4e0e\\u5f00\\u53d1\\u8bbe\\u8ba1\\uff0c\\u8d1f\\u8d23\\u6570\\u636e\\u7ed3\\u6784\\u8bbe\\u8ba1\\uff1b\\u20283\\u3001\\u8d1f\\u8d23\\u516c\\u53f8\\u6570\\u636e\\u4ed3\\u5e93\\u7684\\u5efa\\u8bbe\\u3002     \\u4efb\\u804c\\u8981\\u6c42\\uff1a\\u2028  1\\u3001\\u5177\\u6709\\u4e09\\u5e74\\u4ee5\\u4e0aMySQL\\u5de5\\u4f5c\\u7ecf\\u9a8c\\uff1b\\u20282\\u3001\\u7cbe\\u901aMySQL\\u6570\\u636e\\u5e93\\u7684\\u8fd0\\u884c\\u673a\\u5236\\u548c\\u4f53\\u7cfb\\u67b6\\u6784\\uff1b\\u20283\\u3001\\u7cbe...\\n        </p>\\n    </div>\\n</div>\\n```\\n\\n\\u53ef\\u4ee5\\u770b\\u5230\\uff0c\\u5927\\u5bb9\\u5668\\u662fclass\\u4e2d\\u542b\\u6709`positionList`\\u7684div\\u3002\\u5176\\u4e2d\\u6bcf\\u6761\\u62db\\u8058\\u4fe1\\u606f\\u90fd\\u662f`class=\"positionListContent\"`\\u7684div\\uff0c\\u804c\\u4f4d\\u94fe\\u63a5\\u5176\\u5b9e\\u975e\\u5e38\\u597d\\u627e\\uff0c\\u627e\\u5230`class=\"jobName\"`\\u7684span\\u6807\\u7b7e\\u83b7\\u53d6\\u5176\\u4e0ba\\u94fe\\u63a5\\u7684href\\u5730\\u5740\\u5c31\\u597d\\u4e86\\u3002\\n## Special\\u4f01\\u4e1a\\u4e3b\\u9875\\n\\n\\u5b9e\\u9645\\u4e0aSpecial\\u4f01\\u4e1a\\u4e3b\\u9875\\u4e5f\\u4e0d\\u5168\\u90fd\\u662f\\u4ee5\\u4e0b\\u7684\\u6784\\u5efa\\u65b9\\u5f0f\\uff0c\\u53d1\\u73b0\\u4e86\\u4e00\\u4e9b\\u5c11\\u6570\\u7684\\u5927\\u516c\\u53f8\\uff0c\\u4f1a\\u5b8c\\u5168\\u4e0d\\u4e00\\u6837\\uff0c\\u901a\\u8fc7\\u4ee3\\u7801\\u6765\\u770b\\uff0c\\u662f\\u771f\\u6ca1\\u4ec0\\u4e48\\u529e\\u6cd5\\u7684\\u3002\\u3002\\u3002\\n\\n``` html\\n<SCRIPT language=JavaScript>\\nvar arrJobList = \\n[\\n[\"\\u9ad8\\u7ea7\\u524d\\u7aef\\u5de5\\u7a0b\\u5e08(js\\u5f00\\u53d1)\",\"http://jobs.zhaopin.com/147164943250563.htm?ssidkey=y&ff=02&ss=101\",\"\\u5317\\u4eac\",\"530\",\"\\u8f6f\\u4ef6/\\u4e92\\u8054\\u7f51\\u5f00\\u53d1/\\u7cfb\\u7edf\\u96c6\\u6210\",\"160000\",\"\\u5317\\u4eac\\u7b80\\u5355\\u79d1\\u6280\\u6709\\u9650\\u516c\\u53f8\",\"14716494\",\"2015-12-12\",\"0\",\"CC147164943J90250563000\"],[\"php\\u5f00\\u53d1\\u5de5\\u7a0b\\u5e08(\\u63a5\\u53d7\\u5e94\\u5c4a\\u751f)\",\"http://jobs.zhaopin.com/147164943250562.htm?ssidkey=y&ff=02&ss=101\",\"\\u5317\\u4eac\",\"530\",\"\\u8f6f\\u4ef6/\\u4e92\\u8054\\u7f51\\u5f00\\u53d1/\\u7cfb\\u7edf\\u96c6\\u6210\",\"160000\",\"\\u5317\\u4eac\\u7b80\\u5355\\u79d1\\u6280\\u6709\\u9650\\u516c\\u53f8\",\"14716494\",\"2015-12-12\",\"0\",\"CC147164943J90250562000\"],[\"\\u8bfe\\u7a0b\\u987e\\u95ee\\uff08\\u9500\\u552e\\u7c7b\\uff0c\\u6708\\u85aa6000-15000\\uff0c\\u63d0\\u4f9b\\u610f\\u5411\\u8d44\\u6e90\\uff0c\\u5730\\u70b9\\u897f\\u4e8c\\u65d7\\uff09\",\"http://jobs.zhaopin.com/147164943250696.htm?ssidkey=y&ff=02&ss=101\",\"\\u5317\\u4eac\",\"530\",\"\\u54a8\\u8be2/\\u987e\\u95ee/\\u8c03\\u7814/\\u6570\\u636e\\u5206\\u6790\",\"2140000\",\"\\u5317\\u4eac\\u7b80\\u5355\\u79d1\\u6280\\u6709\\u9650\\u516c\\u53f8\",\"14716494\",\"2015-12-12\",\"0\",\"CC147164943J90250696000\"],[\"C++\\u5f00\\u53d1\\u5de5\\u7a0b\\u5e08\\uff08pc\\u7aef\\uff0c\\u63a5\\u53d7\\u5e94\\u5c4a\\u751f\\uff09\",\"http://jobs.zhaopin.com/147164943250785.htm?ssidkey=y&ff=02&ss=101\",\"\\u5317\\u4eac\",\"530\",\"\\u8f6f\\u4ef6/\\u4e92\\u8054\\u7f51\\u5f00\\u53d1/\\u7cfb\\u7edf\\u96c6\\u6210\",\"160000\",\"\\u5317\\u4eac\\u7b80\\u5355\\u79d1\\u6280\\u6709\\u9650\\u516c\\u53f8\",\"14716494\",\"2015-12-12\",\"0\",\"CC147164943J90250785000\"],[\"\\u9ad8\\u7ea7\\u4eba\\u4e8b\\u4e13\\u5458\\uff08\\u504f\\u4f01\\u4e1a\\u6587\\u5316\\u65b9\\u5411\\uff09\",\"http://jobs.zhaopin.com/147164943250700.htm?ssidkey=y&ff=02&ss=101\",\"\\u5317\\u4eac\",\"530\",\"\\u4eba\\u529b\\u8d44\\u6e90\",\"5002000\",\"\\u5317\\u4eac\\u7b80\\u5355\\u79d1\\u6280\\u6709\\u9650\\u516c\\u53f8\",\"14716494\",\"2015-12-12\",\"0\",\"CC147164943J90250700000\"],[\"\\u7ba1\\u7406\\u57f9\\u8bad\\u751f\\uff08\\u6e20\\u9053\\u533a\\u57df\\u7ecf\\u7406\\u65b9\\u5411\\uff09\",\"http://jobs.zhaopin.com/147164943250452.htm?ssidkey=y&ff=02&ss=101\",\"\\u5317\\u4eac\",\"530\",\"\\u9500\\u552e\\u7ba1\\u7406\",\"7001000\",\"\\u5317\\u4eac\\u7b80\\u5355\\u79d1\\u6280\\u6709\\u9650\\u516c\\u53f8\",\"14716494\",\"2015-12-12\",\"0\",\"CC147164943J90250452000\"],[\"\\u8425\\u9500\\u7ba1\\u7406\\u57f9\\u8bad\\u751f\\uff08\\u8bfe\\u7a0b\\u987e\\u95ee\\u65b9\\u5411\\uff09\",\"http://jobs.zhaopin.com/147164943250084.htm?ssidkey=y&ff=02&ss=101\",\"\\u5317\\u4eac\",\"530\",\"\\u9500\\u552e\\u4e1a\\u52a1\",\"4010200\",\"\\u5317\\u4eac\\u7b80\\u5355\\u79d1\\u6280\\u6709\\u9650\\u516c\\u53f8\",\"14716494\",\"2015-12-12\",\"0\",\"CC147164943J90250084000\"],[\"\\u54a8\\u8be2\\u5ba2\\u670d\\uff08\\u6b22\\u8fce\\u4f18\\u79c0\\u5e94\\u5c4a\\u6bd5\\u4e1a\\u751f\\uff09\",\"http://jobs.zhaopin.com/147164943250080.htm?ssidkey=y&ff=02&ss=101\",\"\\u5317\\u4eac\",\"530\",\"\\u5ba2\\u670d/\\u552e\\u524d/\\u552e\\u540e\\u6280\\u672f\\u652f\\u6301\",\"4000000\",\"\\u5317\\u4eac\\u7b80\\u5355\\u79d1\\u6280\\u6709\\u9650\\u516c\\u53f8\",\"14716494\",\"2015-12-12\",\"0\",\"CC147164943J90250080000\"],[\"\\u73ed\\u4e3b\\u4efb\",\"http://jobs.zhaopin.com/147164943250128.htm?ssidkey=y&ff=02&ss=101\",\"\\u5317\\u4eac\",\"530\",\"\\u6559\\u80b2/\\u57f9\\u8bad\",\"2090000\",\"\\u5317\\u4eac\\u7b80\\u5355\\u79d1\\u6280\\u6709\\u9650\\u516c\\u53f8\",\"14716494\",\"2015-12-12\",\"0\",\"CC147164943J90250128000\"],[\"\\u6570\\u636e\\u5e93\\u7ba1\\u7406\\u5458\",\"http://jobs.zhaopin.com/147164943250208.htm?ssidkey=y&ff=02&ss=101\",\"\\u5317\\u4eac\",\"530\",\"IT\\u8fd0\\u7ef4/\\u6280\\u672f\\u652f\\u6301\",\"200500\",\"\\u5317\\u4eac\\u7b80\\u5355\\u79d1\\u6280\\u6709\\u9650\\u516c\\u53f8\",\"14716494\",\"2015-12-12\",\"0\",\"CC147164943J90250208000\"],[\"\\u7ba1\\u7406\\u57f9\\u8bad\\u751f\\uff08\\u6821\\u533a\\u8425\\u9500\\u4e3b\\u4efb\\u65b9\\u5411\\uff09\",\"http://jobs.zhaopin.com/147164943250200.htm?ssidkey=y&ff=02&ss=101\",\"\\u5317\\u4eac\",\"530\",\"\\u9500\\u552e\\u7ba1\\u7406\",\"7001000\",\"\\u5317\\u4eac\\u7b80\\u5355\\u79d1\\u6280\\u6709\\u9650\\u516c\\u53f8\",\"14716494\",\"2015-12-12\",\"0\",\"CC147164943J90250200000\"],[\"\\u7f51\\u7ad9\\u4ea7\\u54c1\\u7ecf\\u7406\",\"http://jobs.zhaopin.com/147164943250679.htm?ssidkey=y&ff=02&ss=101\",\"\\u5317\\u4eac\",\"530\",\"\\u4e92\\u8054\\u7f51\\u4ea7\\u54c1/\\u8fd0\\u8425\\u7ba1\\u7406\",\"160200\",\"\\u5317\\u4eac\\u7b80\\u5355\\u79d1\\u6280\\u6709\\u9650\\u516c\\u53f8\",\"14716494\",\"2015-12-11\",\"0\",\"CC147164943J90250679000\"],\\n[\"\\u7a7a\",\"\\u7a7a\",\"\\u7a7a\",\"\\u7a7a\",\"\\u7a7a\",\"\\u7a7a\",\"\\u7a7a\",\"\\u7a7a\",\"\\u7a7a\",\"\\u7a7a\",\"\\u7a7a\"]\\n];\\nvar HotJobs = \",,\";\\nvar ShowDeptInfo = \",,\";\\nvar ShowJobInfo = \",,\";\\nfunction BuildJlist(){\\n    var SHTML,EHTML,JobHTML;\\n    SHTML = \"<table width=\\\\\"100%\\\\\" align=\\\\\"center\\\\\" border=\\\\\"0\\\\\" cellpadding=\\\\\"0\\\\\" cellspacing=\\\\\"0\\\\\">\";\\n    EHTML = \"</table>\";\\n    JobHTML = \"<tr>\";\\n    var numJob = 0;\\n    for (var i = 0; i <= arrJobList.length-2; i++){\\n        if ( ((ShowJobInfo==\",,\")?true:(ShowJobInfo.search(arrJobList[i][10])>=0)) && ((ShowDeptInfo==\",,\")?true:(ShowDeptInfo.search(arrJobList[i][7])>=0)) ) {\\n            JobHTML = JobHTML + \"<td width=\\\\\"100%\\\\\"><table width=\\\\\"94%\\\\\" border=\\\\\"0\\\\\" cellspacing=\\\\\"0\\\\\" cellpadding=\\\\\"0\\\\\" style=\\\\\"table-layout:fixed;border-collapse:collapse;\\\\\"><tr><td class=\\\\\"jobclass\\\\\" style=\\\\\"overflow:hidden;text-overflow:ellipsis;\\\\\" title=\\\\\"\"+\"\"+\"\\u3000\"+arrJobList[i][0]+\"\\u3000\"+\"\"+\"\\\\\"><nobr>&gt;&gt; \"+\"\"+\"<a href=\\\\\"\"+arrJobList[i][1]+\"\\\\\" target=\\\\\"_blank\\\\\">\"+arrJobList[i][0]+\"</a> \"+\"\"+isvip(arrJobList[i][9])+ishot(arrJobList[i][10])+\"<\\\\/td><\\\\/tr><\\\\/table><\\\\/td>\";\\n            numJob++;\\n            if (numJob%1==0){\\n                JobHTML = JobHTML + \"<\\\\/tr>\";\\n            }\\n        }\\n    }\\n    if(numJob%1!=0){\\n        JobHTML = JobHTML + \"<\\\\/tr>\";\\n    }\\n    JobHTML = SHTML + JobHTML + EHTML;\\n    document.getElementById(\"joblist\").innerHTML = JobHTML;\\n}\\n</SCRIPT>\\n```\\n\\n\\u53ef\\u4ee5\\u770b\\u5230\\uff0c\\u8be5\\u4f01\\u4e1a\\u6240\\u6709\\u7684\\u62db\\u8058\\u4fe1\\u606f\\u90fd\\u5b58\\u5728Javascript\\u811a\\u672c\\u4e2d\\u7684\\u53eb`arrJobList`\\u7684\\u53d8\\u91cf\\u91cc\\u4e86\\u3002\\u53d8\\u91cf\\u7684\\u683c\\u5f0f\\u4e3a\\uff1a`arrJobList=[[\\u7b2c1\\u6761\\u62db\\u8058\\u4fe1\\u606f],[\\u7b2c2\\u6761\\u62db\\u8058\\u4fe1\\u606f]]`\\uff0c\\u662f\\u5217\\u8868\\u5d4c\\u5957\\u5217\\u8868\\u3002\\u800c\\u6bcf\\u6761\\u62db\\u8058\\u4fe1\\u606f\\u6570\\u636e\\u7684\\u5185\\u5bb9\\u4e3a\\uff1a`[\"\\u804c\\u4f4d\\u540d\\u79f0\",\"\\u62db\\u8058\\u7f51\\u5740\",\"\\u6240\\u5728\\u5730\\u70b9\",\"\\u57ce\\u5e02\\u4ee3\\u7801\",\"\\u884c\\u4e1a\\u540d\\u79f0\",\"\\u884c\\u4e1a\\u4ee3\\u7801\",\"\\u4f01\\u4e1a\\u540d\\u79f0\",\"\\u4f01\\u4e1a\\u4ee3\\u7801\",\"\\u53d1\\u5e03\\u65e5\\u671f\",\"0\",\"\\u672a\\u77e5\\u7f16\\u53f7\"]`\\n\\u5176\\u5b9e\\u8fd9\\u4e2a\\u5730\\u65b9\\uff0c\\u96be\\u70b9\\u5c31\\u5728\\u4e8e\\u600e\\u4e48\\u5728python\\u4e2d\\u83b7\\u53d6Javascript\\u811a\\u672c\\u4e2d\\u7684\\u53d8\\u91cf\\u3002\\n', u'author_association': u'OWNER', u'labels_url': u'https://api.github.com/repos/solomonxie/solomonxie.github.io/issues/15/labels{/name}', u'events_url': u'https://api.github.com/repos/solomonxie/solomonxie.github.io/issues/15/events', u'comments_url': u'https://api.github.com/repos/solomonxie/solomonxie.github.io/issues/15/comments', u'html_url': u'https://github.com/solomonxie/solomonxie.github.io/issues/15', u'number': 15, u'user': {u'following_url': u'https://api.github.com/users/solomonxie/following{/other_user}', u'gists_url': u'https://api.github.com/users/solomonxie/gists{/gist_id}', u'organizations_url': u'https://api.github.com/users/solomonxie/orgs', u'url': u'https://api.github.com/users/solomonxie', u'events_url': u'https://api.github.com/users/solomonxie/events{/privacy}', u'html_url': u'https://github.com/solomonxie', u'subscriptions_url': u'https://api.github.com/users/solomonxie/subscriptions', u'avatar_url': u'https://avatars2.githubusercontent.com/u/14041622?v=4', u'repos_url': u'https://api.github.com/users/solomonxie/repos', u'received_events_url': u'https://api.github.com/users/solomonxie/received_events', u'gravatar_id': u'', u'starred_url': u'https://api.github.com/users/solomonxie/starred{/owner}{/repo}', u'site_admin': False, u'login': u'solomonxie', u'type': u'User', u'id': 14041622, u'followers_url': u'https://api.github.com/users/solomonxie/followers'}, u'milestone': None, u'locked': False, u'url': u'https://api.github.com/repos/solomonxie/solomonxie.github.io/issues/15', u'created_at': u'2015-12-13T10:27:22Z', u'assignees': []}, {u'labels': [{u'color': u'd4c5f9', u'default': False, u'url': u'https://api.github.com/repos/solomonxie/solomonxie.github.io/labels/Python', u'id': 290633688, u'name': u'Python'}], u'updated_at': u'2015-12-20T16:18:03Z', u'assignee': None, u'repository_url': u'https://api.github.com/repos/solomonxie/solomonxie.github.io', u'closed_at': None, u'id': 121911639, u'title': u'\\u667a\\u8054\\u62db\\u8058\\u722c\\u866b\\u7ec3\\u4e60 - \\u4efb\\u52a1\\u5217\\u8868', u'comments': 0, u'state': u'open', u'body': u'# \\u667a\\u8054\\u62db\\u8058\\u722c\\u866b\\u7ec3\\u4e60 - \\u4efb\\u52a1\\u5217\\u8868\\n- [x] \\u5b8c\\u6210\\u641c\\u7d22\\u9875\\u9762\\u7ed3\\u679c\\u7684\\u83b7\\u53d6\\n- [x] \\u5b8c\\u6210\\u62db\\u8058\\u4fe1\\u606f\\u9875\\u9762\\u7684\\u6293\\u53d6\\n- [x] \\u5b8c\\u6210\\u4f01\\u4e1a\\u4e3b\\u9875\\u4fe1\\u606f\\u7684\\u6293\\u53d6\\n- [ ] \\u52a0\\u5165\\u591aIP\\u5730\\u5740\\u6765\\u4f2a\\u88c5\\u8eab\\u4efd\\n- [ ] \\u591a\\u7ebf\\u7a0b\\u64cd\\u4f5c\\n- [ ] \\u5c06\\u6570\\u636e\\u5b58\\u5165\\u6570\\u636e\\u5e93\\n- [ ] \\u66f4\\u65b0\\u6570\\u636e\\u5e93\\uff08\\u67e5\\u91cd\\uff09 \\n', u'author_association': u'OWNER', u'labels_url': u'https://api.github.com/repos/solomonxie/solomonxie.github.io/issues/14/labels{/name}', u'events_url': u'https://api.github.com/repos/solomonxie/solomonxie.github.io/issues/14/events', u'comments_url': u'https://api.github.com/repos/solomonxie/solomonxie.github.io/issues/14/comments', u'html_url': u'https://github.com/solomonxie/solomonxie.github.io/issues/14', u'number': 14, u'user': {u'following_url': u'https://api.github.com/users/solomonxie/following{/other_user}', u'gists_url': u'https://api.github.com/users/solomonxie/gists{/gist_id}', u'organizations_url': u'https://api.github.com/users/solomonxie/orgs', u'url': u'https://api.github.com/users/solomonxie', u'events_url': u'https://api.github.com/users/solomonxie/events{/privacy}', u'html_url': u'https://github.com/solomonxie', u'subscriptions_url': u'https://api.github.com/users/solomonxie/subscriptions', u'avatar_url': u'https://avatars2.githubusercontent.com/u/14041622?v=4', u'repos_url': u'https://api.github.com/users/solomonxie/repos', u'received_events_url': u'https://api.github.com/users/solomonxie/received_events', u'gravatar_id': u'', u'starred_url': u'https://api.github.com/users/solomonxie/starred{/owner}{/repo}', u'site_admin': False, u'login': u'solomonxie', u'type': u'User', u'id': 14041622, u'followers_url': u'https://api.github.com/users/solomonxie/followers'}, u'milestone': None, u'locked': False, u'url': u'https://api.github.com/repos/solomonxie/solomonxie.github.io/issues/14', u'created_at': u'2015-12-13T10:20:51Z', u'assignees': []}, {u'labels': [{u'color': u'd4c5f9', u'default': False, u'url': u'https://api.github.com/repos/solomonxie/solomonxie.github.io/labels/Python', u'id': 290633688, u'name': u'Python'}], u'updated_at': u'2015-12-12T05:12:37Z', u'assignee': None, u'repository_url': u'https://api.github.com/repos/solomonxie/solomonxie.github.io', u'closed_at': None, u'id': 121834179, u'title': u'BeautifulSoup \\uff1a\\u4e00\\u4e9b\\u5e38\\u7528\\u529f\\u80fd\\u7684\\u4f7f\\u7528\\u548c\\u6d4b\\u8bd5', u'comments': 0, u'state': u'open', u'body': u'# BeautifulSoup \\uff1a\\u4e00\\u4e9b\\u5e38\\u7528\\u529f\\u80fd\\u7684\\u4f7f\\u7528\\u548c\\u6d4b\\u8bd5\\n### \\u4e5f\\u61d2\\u5f97\\u8f6cMarkdown\\u8bed\\u6cd5\\u4e86\\uff0c\\u8bc4\\u8bba\\u90fd\\u5728\\u4ee3\\u7801\\u91cc\\u4e86\\u3002\\u5176\\u4e2d\\u53e5\\u5b50\\u540e\\u9762\\u5199\\u7740`OK`\\u7684\\uff0c\\u90a3\\u5c31\\u8bf4\\u660e\\u6d4b\\u8bd5\\u901a\\u8fc7\\uff0c\\u53ef\\u4ee5\\u6b63\\u5e38\\u4f7f\\u7528\\u3002\\n\\n``` python\\n# -*- coding: utf-8 -*-\\n\\'\\'\\'\\n    # Author    : Solomon Xie\\n    # Usage     : \\u6d4b\\u8bd5BeautifulSoup\\u4e00\\u4e9b\\u7528\\u6cd5\\u53ca\\u5bb9\\u6613\\u51fabug\\u7684\\u5730\\u65b9\\n    # Enviroment: Python 2.7, Windows 7 (32bit), Chinese Language Pack\\n\\'\\'\\'\\n\\nimport time, re\\nimport bs4 # \\u5fc5\\u987b\\u5bfc\\u5165\\uff0c\\u56e0\\u4e3a\\u9700\\u8981\\u505a\\u4e00\\u4e9bbs4\\u4e13\\u6709\\u7c7b\\u578b\\u7684\\u5224\\u65ad\\nfrom bs4 import BeautifulSoup\\n\\n\\ndef test_BeautifulSoup():\\n    \"\"\"\\n        # BeautifulSoup\\u7684\\u4e00\\u4e9b\\u95ee\\u9898\\u5b9e\\u5728\\u8ba9\\u4eba\\u86cb\\u5927\\u3002\\n        # \\u8fd9\\u91cc\\u7814\\u7a76\\u4e0b\\u5427\\u3002\\n    \"\"\"\\n    \\'\\'\\'\\n        # \\u57fa\\u7840\\u90e8\\u5206\\n        # \\u5173\\u4e8ebs4\\u7684\\u89e3\\u6790\\u901f\\u5ea6 #################\\n        # \\u4ed4\\u7ec6\\u9605\\u8bfb\\u6587\\u6863\\u540e\\u53d1\\u73b0\\uff0c\\u6587\\u6863\\u89e3\\u6790\\u5668\\u5bf9\\u901f\\u5ea6\\u81f3\\u5173\\u91cd\\u8981\\uff01\\n        # \\u5982\\u679c\\u6ca1\\u6709\\u5b89\\u88c5cchardet\\u6a21\\u5757\\uff0c\\u90a3\\u4e48\\u5149\\u4e00\\u4e2a\\u7f51\\u9875\\u5c31\\u89817\\u79d2\\uff01\\uff01\\n        # \\u8fd8\\u4e0d\\u5305\\u62ec\\u83b7\\u53d6\\u7f51\\u9875\\u65f6\\u95f4\\u3002\\u7136\\u800c\\u8bd5\\u8fc7\\u540e\\uff0c\\u5982\\u8fc7\\u5c71\\u8f66\\u4e00\\u822c\\uff1a\\n        # \\u5b89\\u88c5\\u4e86cchardet\\u4ee5\\u540e7\\u79d2\\u53d8\\u6210\\u4e86\\u4e00\\u77ac\\u3002\\n        # \\u7136\\u800c\\uff0c\\u7528\\u4e86\\u51e0\\u5929\\u540e\\u53c8\\u53d8\\u56de\\u4e867\\u79d2\\uff0c\\u5378\\u8f7d\\u4e86cchardet\\u53c8\\u53d8\\u56de\\u4e86\\u4e00\\u77ac\\u95f4\\uff01\\n        # \\u53e6\\u5916\\uff0cBeautifulSoup\\u5347\\u7ea7\\u52304\\u4ee5\\u540e\\uff0c\\u5bfc\\u5165\\u65b9\\u6cd5\\u53d8\\u4e86\\uff0c\\u5982\\u4e0b\\uff1a\\n    \\'\\'\\'\\n    from bs4 import BeautifulSoup\\n\\n    \\'\\'\\'\\n        # \\u5173\\u4e8e\\u88ab\\u89e3\\u6790\\u6587\\u6863\\u7684\\u7f16\\u7801\\u683c\\u5f0f ##########\\n        # \\u53c8\\u4e0d\\u6de1\\u5b9a\\u4e86\\uff0c\\u5b98\\u65b9\\u8bf4\\u65e0\\u8bba\\u88ab\\u4f20\\u5165\\u4ec0\\u4e48\\u7f16\\u7801\\u7684\\u6587\\u6863\\uff0c\\u90fd\\u4f1a\\u88ab\\u7edf\\u4e00\\u4e3aunicode\\n        # \\u5b9e\\u9645\\u4e0a\\u6709\\u65f6\\u5019\\u6211\\u53d1\\u73b0\\uff0c\\u5fc5\\u987b\\u4ee5unicode\\u4f20\\u5165\\u624d\\u80fd\\u83b7\\u5f97\\u6b63\\u786e\\u7ed3\\u679c\\u3002\\u3002\\u3002\\n        # \\u8fd9\\u91cc\\u8bd5\\u9a8c\\u53d1\\u73b0\\uff0c\\u8fd8\\u771f\\u7684\\u662f\\u5982\\u6b64!\\u5fc5\\u987b\\u4f20\\u5165decode\\u8fc7\\u7684\\u7801\\n    \\'\\'\\'\\n    html_doc = open(\\'test-Zhilian-list-page-sm1.html\\', \\'r\\').read().decode(\\'utf-8\\')\\n    # ^ \\u8fd9\\u4e2ahtml\\u6587\\u4ef6\\u5176\\u5b9e\\u662f\\u667a\\u8054\\u62db\\u8058\\u641c\\u7d22\\u9875\\u7684\\u6e90\\u7801\\uff0c\\u53ef\\u4ee5\\u81ea\\u5df1\\u4fdd\\u5b58\\u4e0b\\u6765\\u76f4\\u63a5\\u8bd5\\u4e00\\u8bd5\\u3002\\n\\n    \\'\\'\\'\\n        # \\u5173\\u4e8ebs4\\u7684\\u6587\\u6863\\u89e3\\u6790\\u5668 ##############\\n        # \\u53c8\\u662f\\u4e00\\u4e2a\\u5927\\u5751\\uff1abs\\u5347\\u7ea7\\u52304\\u540e\\uff0c\\u5b9e\\u4f8b\\u5316\\u65f6\\u9700\\u8981\\u660e\\u786e\\u6307\\u5b9a\\u6587\\u6863\\u89e3\\u6790\\u5668\\uff0c\\u5982\\uff1a\\n        # soup = BeautifulSoup(html_doc, \\'lxml\\')\\n        # \\u4f46\\u662f\\u8457\\u540d\\u7684lxml\\u5728\\u8fd9\\u91cc\\u5c31\\u662f\\u4e2a\\u5927\\u5751\\u554a\\uff0c\\n        # \\u56e0\\u4e3a\\u5b83\\u4f1a\\u76f4\\u63a5\\u7565\\u8fc7html\\u6240\\u6709\\u6ca1\\u5199\\u89c4\\u8303\\u7684tag\\uff0c\\u800c\\u4e0d\\u7ba1\\u4eba\\u5bb6\\u591a\\u5728\\u4e4e\\u90a3\\u4e9b\\u4fe1\\u606f\\n        # \\u56e0\\u4e3a\\u8fd9\\u4e2a\\u89e3\\u6790\\u5668\\u7684\\u4e8b\\uff0c\\u6211\\u5c11\\u8bf4\\u4e5f\\u6298\\u817e\\u4e86\\u597d\\u51e0\\u4e2a\\u5c0f\\u65f6\\u624d\\u627e\\u5230\\u539f\\u56e0\\u5427\\u3002\\n        # \\u603b\\u7ed3\\uff1a\\u8bb0\\u4f4f\\uff0c\\u9009\\u62e9html5lib\\uff01\\u6548\\u7387\\u6ca1\\u67e5\\u591a\\u5c11\\uff0c\\u6700\\u8d77\\u7801\\u5bb9\\u9519\\u7387\\u5f3a\\uff0c\\u4e0d\\u4f1a\\u4e71\\u5220\\u4f60\\u4e1c\\u897f\\uff01\\n    \\'\\'\\'\\n    soup = BeautifulSoup(html_doc, \\'html5lib\\')\\n\\n\\n    \\'\\'\\'\\n        # \\u5173\\u4e8ebs4\\u7684\\u8f93\\u51fa\\u683c\\u5f0f #################\\n        # prettify()\\u5b98\\u65b9\\u89e3\\u91ca\\u662f\\u4e00\\u5f8b\\u8f93\\u51fautf-8\\u683c\\u5f0f\\uff0c\\n        # \\u5176\\u5b9e\\u5374\\u662funicode\\u7c7b\\u578b\\uff01\\uff01\\u6240\\u4ee5\\u5fc5\\u987b\\u5728prettify()\\u91cc\\u9762\\u6307\\u5b9a\\u7f16\\u7801\\u3002\\n    \\'\\'\\'\\n    # output = soup.prettify(\\'utf-8\\')\\n    # print repr(output)\\n\\n    \\'\\'\\'\\n        # \\u6240\\u8c13\\u7684\\u591a\\u79cd\\u641c\\u7d22\\u8282\\u70b9\\u65b9\\u5f0f##############\\n        \\u5c31\\u662f\\u4e0d\\u77e5\\u9053\\u4e3a\\u4ec0\\u4e48:\\n        \\u65e0\\u8bba\\u600e\\u4e48\\u6d4b\\u9a8c\\uff0cfind()\\u548cfind_all()\\u5c31\\u662f\\u6b7b\\u6d3b\\u4e0d\\u7ba1\\u7528\\uff01\\n        \\u53ea\\u6709\\u7528\\u5b98\\u65b9\\u6587\\u6863\\u91cc\\u7684\\u82f1\\u6587\\u7248\\u300a\\u7231\\u4e3d\\u4e1d\\u300b\\u6d4b\\u8bd5\\u624d\\u6ca1\\u95ee\\u9898\\u3002\\n        \\u4e5f\\u5c31\\u662f\\u8bf4\\uff0c\\u95ee\\u9898\\u8fd8\\u662f\\u51fa\\u5728\\u4e86\\u6587\\u5b57\\u7f16\\u7801\\u4e0a\\uff1f\\n        \\u53ef\\u662f\\u5f53\\u6211\\u8bd5\\u7740\\u67e5\\u627e\\u82f1\\u6587\\u65f6\\uff0c\\u641c\\u7d22\\u7ed3\\u679c\\u8fd8\\u662f\\u4e3a\\u96f6-_-!\\n        \\u5230\\u4e86\\u6700\\u540e\\uff0cbs4\\u4e2d\\u4f17\\u591a\\u7684\\u641c\\u7d22\\u5de5\\u5177\\u4e0a\\uff0c\\n        \\u552f\\u4e00\\u80fd\\u7528\\u7684\\u5c31\\u662fselect()\\u4e86\\uff0c\\u5373CSS\\u9009\\u62e9\\u5668\\u3002\\n        \\u867d\\u7136\\u6781\\u5176\\u597d\\u7528\\uff0c\\u4f46\\u8fd8\\u662f\\u6709\\u9650\\u5236\\u6027\\u3002\\n        \\u4e0d\\u6b7b\\u5fc3\\uff0c\\u6240\\u4ee5\\u6211\\u8fd8\\u662f\\u518d\\u8bd5\\u9a8c\\u4e00\\u4e0bfind_all()\\u7684\\u6bdb\\u75c5\\u5427\\u3002\\n    \\'\\'\\'\\n    # == find_all()\\u4e4b\\u641c\\u7d22\\u6807\\u7b7e\\u540d\\u79f0 ============ OK\\n    # result = soup.find_all(\\'dl\\') # OK\\n\\n    # == find_all()\\u4e4b\\u641c\\u7d22\\u6807\\u7b7e\\u5c5e\\u6027 ============ not all OK\\n    # result = soup.find_all(id=\\'newlist_list_div\\') # OK\\n    # result = soup.find_all(href=re.compile(\\'.htm\\')) # Failed \\u7adf\\u7136\\u4e0d\\u652f\\u6301href\\u641c\\u7d22\\uff0c\\u548c\\u5b98\\u65b9\\u8bf4\\u7684\\u4e0d\\u4e00\\u6837\\n    # result = soup.find_all(name=\\'vacancyid\\') # Failed \\u4e0d\\u652f\\u6301\\u6807\\u7b7e\\u7684name\\u5c5e\\u6027\\u641c\\u7d22\\n\\n    # == find_all()\\u4e4b\\u6309CSS\\u641c\\u7d22 ============ OK\\n    # result = soup.find_all(\\'div\\', class_=\\'clearfix\\') # OK\\n    # result = soup.find_all(\\'div\\', class_=re.compile(\\'newlist_detail\\')) # OK\\n    # result = soup.find_all(class_=re.compile(\\'newlist_detail\\')) # OK\\n\\n    # == find_all()\\u4e4b\\u6309\\u5185\\u5bb9text\\u641c\\u7d22 ============ \\n    # find_all()\\u52a0\\u4e0atext\\u53c2\\u6570\\u540e\\uff0c\\n    # \\u8fd4\\u56de\\u7684\\u662f\\u5b57\\u7b26\\u4e32\\uff01\\u800c\\u4e0d\\u662ftag\\uff01\\uff01\\n    # \\u7c7b\\u578b\\u4e3a\\uff1a<class \\'bs4.element.NavigableString\\'>\\n    # result = soup.find_all(text=\\'\\u4f1a\\u8ba1\\') # OK \\u5185\\u5bb9\\u5fc5\\u987b\\u5b8c\\u5168\\u76f8\\u7b49\\u624d\\u7b97\\uff01\\uff08\\u4e0d\\u542b\\u5b50\\u6807\\u7b7e\\uff09 \\n    # result = soup.find_all(text=u\\'\\u6570\\u636e\\') # OK \\u5185\\u5bb9\\u5fc5\\u987b\\u5b8c\\u5168\\u76f8\\u7b49 \\u65e0\\u6240\\u8c13unicode\\u4e86\\n    # result = soup.find_all(text=re.compile(u\\'\\u5b66\\u5386\\uff1a\\')) # OK unicode\\u662f\\u7edd\\u5bf9\\u8981\\uff01\\u5426\\u5219\\u4e0d\\u884c\\uff01\\n\\n    # == select() , CSS\\u9009\\u62e9\\u5668\\u641c\\u7d22\\u5f15\\u64ce ============ \\n    \\'\\'\\'\\n        CSS\\u9009\\u62e9\\u5668\\u7684\\u8bed\\u6cd5\\u8bf7\\u770bw3cschool\\u7684\\u6587\\u6863\\uff1a\\n        http://www.w3school.com.cn/cssref/selector_nth-of-type.asp\\n        \\u4e0b\\u9762\\u603b\\u7ed3\\u4e86\\u5728BeautifulSoup\\u4e2d\\u7684\\u8bed\\u6cd5\\u641c\\u7d22\\uff1a\\n        \\u6807\\u7b7e\\u641c\\u7d22\\uff0c\\u5982\\uff1a\\'input\\' ,\\u641c\\u7d22\\u6240\\u6709\\u6807\\u7b7e\\u4e3ainput\\u7684\\u5143\\u7d20\\n        \\u5bbd\\u6cdb\\u8def\\u5f84\\uff0c\\u5982\\uff1a\\'body a\\' ,\\u5c31\\u662fbody\\u5185\\u6240\\u6709a\\u5143\\u7d20\\n        \\u7edd\\u5bf9\\u8def\\u5f84\\uff0c\\u5982\\uff1a\\'body > div > div > p\\' ,\\u5fc5\\u987b\\u5b8c\\u5168\\u7b26\\u5408\\u8def\\u5f84\\u624d\\u80fd\\u641c\\u5230\\n        ID\\u641c\\u7d22  \\uff0c\\u5982\\uff1a\\'#tag-1\\' ,\\u641c\\u7d22id\\u4e3atag1\\u7684\\u6807\\u7b7e\\n        \\u6df7\\u5408\\u641c\\u7d22\\uff0c\\u5982\\uff1a\\'div #tag1\\', \\u641c\\u7d22id\\u4e3axx\\u7684div\\u6807\\u7b7e\\n            \\'div[class*=newlist_detail] ~ div[class*=newlist_detail]\\' ,\\u5927\\u6df7\\u5408\\n        \\u5c5e\\u6027\\u5b58\\u5728\\uff0c\\u5982\\uff1a\\'a[href]\\' ,\\u641c\\u7d22\\u6240\\u6709\\u5b58\\u5728href\\u5c5e\\u6027\\u7684a\\u6807\\u7b7e\\n        \\u7c7b\\u540d\\u641c\\u7d22\\uff0c\\u5982\\uff1a\\'[class=clearfix]\\' ,\\u627e\\u5230class\\u540d\\u7b49\\u4e8eclearfix\\u7684\\u6807\\u7b7e\\n            \\'[class^=newlist_detail]\\' ,\\u627e\\u5230class\\u540d\\u4e2d\\u4ee5\"newlist_detail\"\\u5f00\\u5934\\u7684\\u6807\\u7b7e\\n            \\'[class$=zwmc]\\'           ,\\u627e\\u5230class\\u540d\\u4e2d\\u4ee5\"zwmc\"\\u7ed3\\u5c3e\\u7684\\u6807\\u7b7e\\n            \\'[class*=clearfix]\\'       ,\\u627e\\u5230class\\u540d\\u4e2d\\u5305\\u542b\"zwmc\"\\u7684\\u6807\\u7b7e\\n        \\u5144\\u5f1f\\u641c\\u7d22\\uff0c\\u5982\\uff1a\\n            \\'#links ~ .clearfix\\' ,\\u627e\\u5230id\\u4e3alinks\\u6807\\u7b7e\\u7684\\u6240\\u6709class\\u7b49\\u4e8e\"clearfix\"\\u7684\\u5144\\u5f1f\\u6807\\u7b7e\\n            \\'#links + .clearfix\\' ,\\u627e\\u5230id\\u4e3alinks\\u6807\\u7b7e\\u7684\\u4e0b\\u4e00\\u4e2aclass\\u7b49\\u4e8e\"clearfix\"\\u7684\\u5144\\u5f1f\\u6807\\u7b7e\\n        \\u5e8f\\u5217\\u641c\\u7d22\\uff0c\\u5982\\uff1a\\'p nth-of-type(3)\\' ,\\u8fd9\\u4e2a\\u8bf4\\u767d\\u4e86\\u5c31\\u662f\\u9009\\u62e9\\u7b2c3\\u4e2ap\\u6807\\u7b7e\\n            \\'p nth-of-type(odd)\\' \\u8868\\u793a\\u5947\\u6570\\u7684p\\u6807\\u7b7e\\n            \\'p nth-of-type(even)\\' \\u8868\\u793a\\u5076\\u6570\\u7684p\\u6807\\u7b7e\\n            \\'p nth-of-type(n)\\' \\u8868\\u793a\\u6240\\u6709\\u7684p\\u6807\\u7b7e\\n            \\'p nth-of-type(3n)\\' \\u8868\\u793a3\\u7684\\u500d\\u6570\\u7684p\\u6807\\u7b7e\\n            \\'p nth-of-type(4n+1)\\' \\u8868\\u793a4\\u7684\\u500d\\u6570\\u52a01\\u7684p\\u6807\\u7b7e\\uff0c\\u5982\\u7b2c5\\u4e2a\\u3001\\u7b2c9\\u4e2a\\n    \\'\\'\\'\\n    # result = soup.select(\\'dl > p\\') # OK tag\\u8def\\u5f84\\u641c\\u7d22\\n    # result = soup.select(\\'div[class*=newlist_detail] ~ div\\') # OK \\u5404\\u79cd\\u6df7\\u5408\\u641c\\u7d22\\n    # result = soup.select(\\'[class*=zwmc]\\') # OK \\u5404\\u79cd\\u6df7\\u5408\\u641c\\u7d22\\n    con = soup.select(\\'div[class^=newlist_detail]\\')[0]\\n    result = con.select(\\'[class*=zwmc]\\')\\n    # print type(result[0])\\n\\n    print len(result) \\n\\n    # out = soup.select(\\'[class*=zwmc]\\')\\n    # print len(out)\\n    # for item in out:\\n    #   print item.get_text().encode(\\'utf-8\\')\\n\\ndef bsText(tags=[], info=\\'\\'):\\n    if len(tags):\\n        t = tags[0] # \\u56e0\\u4e3a\\u53ea\\u4f1a\\u6709\\u4e00\\u4e2a\\u5bf9\\u8c61\\n        # select()\\u9009\\u62e9\\u5668\\u8fd4\\u56de\\u7684\\u662ftag\\u6807\\u7b7e\\n        # \\u800cfind_all()\\u7528text\\u67e5\\u8be2\\u662f\\u8fd4\\u56de\\u7684\\u662f\\u5b57\\u7b26\\u4e32\\uff01\\n        if isinstance(t, bs4.element.Tag):\\n            return t.get_text().encode(\\'utf-8\\')\\n        elif isinstance(t, bs4.element.NavigableString):\\n            return t.string.encode(\\'utf-8\\')\\n    else:\\n        return \\'\\u65e0[%s]\\u4fe1\\u606f\\'%info\\n\\n# \\u8ba1\\u7b97\\u65f6\\u95f4\\ndef timeup(func):\\n    start = time.clock()\\n    func()\\n    end = time.clock()\\n    timeuse = end-start\\n    print \\'\\\\n[%s()]\\u51fd\\u6570\\u4e00\\u5171\\u4f7f\\u7528\\u4e86%d\\u79d2\\u65f6\\u95f4\\u3002\\\\n\\' %(func.__name__, timeuse)\\n    return timeuse\\n\\nif __name__ == \\'__main__\\':\\n    timeup(test_BeautifulSoup)\\n\\n\\n```\\n', u'author_association': u'OWNER', u'labels_url': u'https://api.github.com/repos/solomonxie/solomonxie.github.io/issues/13/labels{/name}', u'events_url': u'https://api.github.com/repos/solomonxie/solomonxie.github.io/issues/13/events', u'comments_url': u'https://api.github.com/repos/solomonxie/solomonxie.github.io/issues/13/comments', u'html_url': u'https://github.com/solomonxie/solomonxie.github.io/issues/13', u'number': 13, u'user': {u'following_url': u'https://api.github.com/users/solomonxie/following{/other_user}', u'gists_url': u'https://api.github.com/users/solomonxie/gists{/gist_id}', u'organizations_url': u'https://api.github.com/users/solomonxie/orgs', u'url': u'https://api.github.com/users/solomonxie', u'events_url': u'https://api.github.com/users/solomonxie/events{/privacy}', u'html_url': u'https://github.com/solomonxie', u'subscriptions_url': u'https://api.github.com/users/solomonxie/subscriptions', u'avatar_url': u'https://avatars2.githubusercontent.com/u/14041622?v=4', u'repos_url': u'https://api.github.com/users/solomonxie/repos', u'received_events_url': u'https://api.github.com/users/solomonxie/received_events', u'gravatar_id': u'', u'starred_url': u'https://api.github.com/users/solomonxie/starred{/owner}{/repo}', u'site_admin': False, u'login': u'solomonxie', u'type': u'User', u'id': 14041622, u'followers_url': u'https://api.github.com/users/solomonxie/followers'}, u'milestone': None, u'locked': False, u'url': u'https://api.github.com/repos/solomonxie/solomonxie.github.io/issues/13', u'created_at': u'2015-12-12T05:12:33Z', u'assignees': []}, {u'labels': [{u'color': u'd4c5f9', u'default': False, u'url': u'https://api.github.com/repos/solomonxie/solomonxie.github.io/labels/Python', u'id': 290633688, u'name': u'Python'}], u'updated_at': u'2015-12-13T10:07:02Z', u'assignee': None, u'repository_url': u'https://api.github.com/repos/solomonxie/solomonxie.github.io', u'closed_at': None, u'id': 121833692, u'title': u'\\u667a\\u8054\\u62db\\u8058\\u6570\\u636e\\u722c\\u53d6\\u51c6\\u5907(1)-\\u667a\\u8054\\u62db\\u8058\\u641c\\u7d22\\u5217\\u8868\\u6e90\\u7801\\u89e3\\u6790', u'comments': 0, u'state': u'open', u'body': u'# \\u7f51\\u9875\\u6e90\\u7801\\u89e3\\u6790 - \\u667a\\u8054\\u62db\\u8058\\u641c\\u7d22\\u5217\\u8868\\n\\n\\u4e00\\u5f00\\u59cb\\u5fc5\\u987b\\u8981\\u89e3\\u6790\\u667a\\u8054\\u62db\\u8058\\u641c\\u7d22\\u5217\\u8868\\u9875\\uff0c\\u4ece\\u8fd9\\u91cc\\u66f4\\u65b9\\u4fbf\\u5b9e\\u73b0\\u5404\\u79cd\\u6df1\\u5c42\\u7ea7\\u6570\\u636e\\u6293\\u53d6\\u3002\\n\\u7f51\\u9875\\u5730\\u5740\\u662f\\uff1a\\nhttp://sou.zhaopin.com/jobs/searchresult.ashx\\n## \\u641c\\u7d22\\u53c2\\u6570\\n\\n\\u667a\\u8054\\u62db\\u8058\\u7684\\u670d\\u52a1\\u5668\\u53ea\\u63a5\\u6536Get\\u65b9\\u5f0f\\uff0c\\u5982\\u679c\\u7528Post\\u65b9\\u5f0f\\u6293\\u53d6\\u9875\\u9762\\uff0c\\u5219\\u4e0d\\u4f1a\\u8fd4\\u56de\\u60f3\\u8981\\u7684\\u62db\\u8058\\u4fe1\\u606f\\uff0c\\u800c\\u4f1a\\u5f97\\u5230\\u4e00\\u5806\\u5e7f\\u544a\\u3002\\n\\u4e0b\\u9762\\u662f\\u6211\\u624b\\u52a8\\u6d4b\\u8bd5\\u7684\\u4e00\\u4e9b\\u667a\\u8054\\u5728\\u8fd9\\u4e2a\\u9875\\u9762Get\\u65b9\\u5f0f\\u4f20\\u9012\\u7684\\u641c\\u7d22\\u53c2\\u6570\\uff0c\\u4e5f\\u662f\\u76ee\\u524d\\u6700\\u5e38\\u7528\\u7684\\uff08\\u6ce8\\u91ca\\u6389\\u7684\\u4e0d\\u600e\\u4e48\\u5e38\\u7528\\uff09\\uff1a\\n\\n``` Python\\ndata_filter = {\\n    \\'kw\\' : keyword, # \\u641c\\u7d22\\u5173\\u952e\\u8bcd\\n    \\'sm\\' : \\'0\\', # \\u663e\\u793a\\u65b9\\u5f0f\\u4ee3\\u7801\\uff1a \\u5217\\u8868\\u662f\\'0\\',\\u8be6\\u7ec6\\u662f\\'1\\'\\u3002\\u663e\\u793a\\u4e0d\\u540c\\u6e90\\u7801\\u4e5f\\u4e0d\\u540c\\uff0c\\u5c3d\\u91cf\\u9009\\u5217\\u8868\\u6a21\\u5f0f\\uff0c\\u6e90\\u7801\\u66f4\\u597d\\u89e3\\u6790\\u3002\\n    \\'jl\\' : \\'\\u5317\\u4eac\\', # \\u641c\\u7d22\\u57ce\\u5e02\\uff1a\\'\\u5317\\u4eac\\'\\uff0c\\u591a\\u9879\\u7528\\'+\\'\\u8fde\\u63a5(URL\\u7f16\\u7801\\u4e3a%2B)\\n    #\\'bj\\' : \\'\\', # \\u804c\\u4f4d\\u7c7b\\u522b\\u4ee3\\u7801\\uff1a\\u4e92\\u8054\\u7f51\\u4ea7\\u54c1/\\u8fd0\\u8425\\u7ba1\\u7406 \\u7684\\u4ee3\\u7801\\u4e3a \\'160200\\'\\uff0c\\u591a\\u9879\\u7528\\'%3B\\'\\u8fde\\u63a5(URL\\u7f16\\u7801\\u7684%)\\n    #\\'in\\' : \\'\\', # \\u884c\\u4e1a\\u4ee3\\u7801\\uff1a\\u591a\\u9879\\u7528\\';\\'\\u8fde\\u63a5(URL\\u7f16\\u7801\\u4e3a%3B)\\n    \\'kt\\' : \\'0\\', # \\u5173\\u952e\\u8bcd\\u641c\\u7d22\\u8303\\u56f4\\uff1a\\u5168\\u6587\\'0\\' | \\u516c\\u53f8\\u540d\\'1\\' | \\u804c\\u4f4d\\u540d\\'2\\'\\n    \\'isadv\\' : \\'0\\', # \\u662f\\u5426\\u9ad8\\u7ea7\\u641c\\u7d22\\uff1a\\u5feb\\u901f\\u641c\\u7d22\\'0\\' | \\u9ad8\\u7ea7\\u641c\\u7d22\\'1\\'\\n    # \\'isfilter\\' : \\'1\\', # \\u662f\\u4e0d\\u662f\\u7b5b\\u9009\\u5668\\uff1a \\'0\\' | \\'1\\'\\n    # \\'ispts\\' : \\'\\', # \\u901a\\u5e38\\u4e3a \\'1\\'\\n    #\\'sj\\' : \\'\\', # \\u804c\\u4f4d\\u5b50\\u7c7b\\u522b\\u4ee3\\u7801\\uff1a\\n    # \\'gc\\' : \\'5\\u53f7\\', # \\u5730\\u94c1\\u7ebf\\u8def\\uff1a \\'5\\u53f7\\'\\n    # \\'ga\\' : \\'\\u7acb\\u6c34\\u6865\\', # \\u5730\\u540d\\u6216\\u5730\\u94c1\\u7ad9\\u540d\\uff1a \\'\\u5929\\u901a\\u82d1\\u5357\\' \\u3001 \\'\\u5c0f\\u6c64\\u5c71\\'\\n    # \\'sb\\' : \\'0\\', # \\u6392\\u5e8f\\u65b9\\u5f0f\\u4ee3\\u7801\\uff1a\\u9ed8\\u8ba4\\u6392\\u5e8f\\u662f\\'0\\',\\u76f8\\u5173\\u5ea6\\u6392\\u5e8f\\u662f\\'1\\', \\u9996\\u53d1\\u65e5\\u6392\\u5e8f\\u662f\\'2\\'\\n    #\\'fjt\\' : \\'10000\\', # \\u804c\\u4f4d\\u6807\\u7b7e \\u4e94\\u9669\\u4e00\\u91d1\\'10000\\' \\u5e74\\u5e95\\u53cc\\u85aa\\'10001\\' \\u7ee9\\u6548\\u5956\\u91d1\\'10002\\' \\u7b49\\u7b49\\n    # \\'sf\\' : \\'-1\\', # \\u6708\\u85aa\\u5e95\\u7ebf\\uff1a\\'8001\\' \\u4e0d\\u9650\\u662f\\'-1\\'\\n    # \\'st\\' : \\'-1\\', # \\u6708\\u85aa\\u4e0a\\u9650\\uff1a\\'10000\\' \\u4e0d\\u9650\\u662f\\'-1\\'\\n    # \\'ct\\' : \\'-1\\', # \\u516c\\u53f8\\u6027\\u8d28\\u4ee3\\u7801\\n    # \\'el\\' : \\'-1\\', # \\u5b66\\u5386\\u4ee3\\u7801\\n    # \\'we\\' : \\'-1\\', # \\u5de5\\u4f5c\\u7ecf\\u9a8c\\u4ee3\\u7801\\n    # \\'et\\' : \\'-1\\', # \\u804c\\u4f4d\\u7c7b\\u578b\\u4ee3\\u7801\\uff1a\\u517c\\u804c\\'1\\' \\u5168\\u804c\\'2\\' \\u5b9e\\u4e60\\'4\\'\\n    # \\'pd\\' : \\'-1\\', # \\u53d1\\u5e03\\u65f6\\u95f4(\\u5929\\u6570)\\uff1a\\u4e00\\u5468\\u662f\\'7\\'\\uff0c\\u4e00\\u4e2a\\u6708\\u662f\\'30\\'\\uff0c\\u4e0d\\u9650\\u662f\\'-1\\'\\n    \\'p\\' : page, # \\u9875\\u7801\\uff0c\\u8d85\\u51fa\\u603b\\u9875\\u7801\\u65f6\\uff0c\\u5219\\u4f1a\\u663e\\u793a\\u6700\\u540e\\u4e00\\u9875\\n    #\\'gr\\' : \\'\\', # \\n    # \\'re\\' : \\'2015\\', # \\u8fd9\\u4e2a\\u9650\\u5236\\u4e86\\u641c\\u7d20\\u6570\\u91cf\\uff0c\\u4f46\\u662f\\u5176\\u5b9e\\u4e5f\\u4e0d\\u662f\\u6309\\u5e74\\u4efd\\u641c\\u7d22\\n    \\'sg\\' : guid, # \\u5373\\u5168\\u7f51\\u552f\\u4e00\\u6807\\u793a\\u7b26\\u2014\\u2014GUID\\n    #\\'\\' : \\'\\' #\\n}\\n```\\n\\n\\u5b83\\u5728python\\u4e2d\\u7684\\u7528\\u6cd5\\uff0c\\u5c31\\u662f\\u901a\\u8fc7urllib.urlencode()\\u6765\\u8f6c\\u6210URL\\u53c2\\u6570\\u683c\\u5f0f\\uff0c\\u5e76\\u63d0\\u4ea4\\u3002\\n## \\u7f51\\u9875\\u6e90\\u7801\\u89e3\\u6790 - \\u201c\\u5217\\u8868\\u6a21\\u5f0f\\u201d\\n\\n\\u5982\\u679c\\u89e3\\u6790\\u201c\\u5217\\u8868\\u6a21\\u5f0f\\u201d\\u7684\\u667a\\u8054\\u62db\\u8058\\u7f51\\u9875\\uff0c\\u9700\\u8981\\u5728Get\\u53c2\\u6570\\u91cc\\u9762\\u7684sm\\u8bbe\\u4e3a`0`\\u3002\\n\\u91cc\\u9762\\u552f\\u4e00\\u9700\\u8981\\u7684\\u5c31\\u662f\\u4e2d\\u95f4\\u7684\\u7ed3\\u679c\\u5217\\u8868\\u90e8\\u5206\\uff0c\\n\\u5373id\\u4e3a\\'newlist_list_content_table\\'\\u7684DIV\\u7528\\uff0c\\u6e90\\u7801\\u5982\\u4e0b\\uff1a\\n\\n``` html\\n<div class=\"newlist_list_content\" id=\"newlist_list_content_table\">\\n    <table width=\"853\" class=\"newlist\" cellpadding=\"0\" cellspacing=\"0\">\\n        \\u4e00\\u6761\\u62db\\u8058\\u4fe1\\u606f\\n    </table>\\n    <table cellpadding=\"0\" cellspacing=\"0\" width=\"853\" class=\"newlist\">\\n        \\u4e00\\u6761\\u62db\\u8058\\u4fe1\\u606f\\n    </table>\\n</div>\\n```\\n\\n\\u5176\\u4e2d\\u4f1a\\u5faa\\u73af\\u8f93\\u51faclass\\u4e3a`newlist`\\u7684**Table\\u8868\\u683c**\\n\\u5373\\u4e00\\u6761\\u4e00\\u6761\\u7684\\u62db\\u8058\\u4fe1\\u606f\\u3002\\n\\u6bcf\\u4e00\\u6761\\u62db\\u8058\\u4fe1\\u606f\\u7684\\u6e90\\u7801\\u5982\\u4e0b\\uff1a\\n\\n``` html\\n<table cellpadding=\"0\" cellspacing=\"0\" width=\"853\" class=\"newlist\">\\n<tr>\\n    <td class=\"zwmc\" style=\"width: 250px;\">\\n        <input type=\"checkbox\" name=\"vacancyid\" value=\"CC575878820J90250640000_530_1_03_201__1_\" onclick=\"zlapply.uncheckAll(\\'allvacancyid\\')\" />\\n        <div style=\"width: 224px;*width: 218px; _width:200px; float: left\">\\n            <a style=\"font-weight: bold\" par=\"ssidkey=y&ss=201&ff=03\" href=\"http://jobs.zhaopin.com/575878820250640.htm\" target=\"_blank\">\\u4f1a\\u8ba1\\uff08<b>\\u6570\\u636e</b>\\uff09</a>\\n        </div>\\n    </td>\\n    <td style=\"width: 60px;\" class=\"fk_lv\"><span>87%</span></td>\\n    <td class=\"gsmc\"><a href=\"http://company.zhaopin.com/CC575878820.htm\" target=\"_blank\">\\u4e2d\\u6d77\\u8f6f\\u94f6\\u6295\\u8d44\\u7ba1\\u7406\\u6709\\u9650\\u516c\\u53f8</a></td>\\n    <td class=\"zwyx\">\\u9762\\u8bae</td>\\n    <td class=\"gzdd\">\\u5317\\u4eac</td>\\n    <td class=\"gxsj\"><span>12-10</span><a class=\"newlist_list_xlbtn\" href=\"javascript:;\"></a></td>\\n</tr>\\n<tr style=\"display: none\" class=\"newlist_tr_detail\">\\n    <td width=\"833px\" style=\"line-height: 0;\" colspan=\"6\">\\n        <div class=\"newlist_detail\">\\n            <div class=\"clearfix\">\\n                <ul>\\n                    <li class=\"newlist_deatil_two\"><span>\\u5730\\u70b9\\uff1a\\u5317\\u4eac</span><span>\\u516c\\u53f8\\u6027\\u8d28\\uff1a\\u6c11\\u8425</span><span>\\u516c\\u53f8\\u89c4\\u6a21\\uff1a100-499\\u4eba</span><span>\\u7ecf\\u9a8c\\uff1a5-10\\u5e74</span><span>\\u5b66\\u5386\\uff1a\\u5927\\u4e13</span><li class=\"newlist_deatil_last\"> \\u5c97\\u4f4d\\u804c\\u8d23\\uff1a  1. \\u719f\\u7ec3\\u4f7f\\u7528excel<b>\\u6570\\u636e</b>\\u7edf\\u8ba1\\u529f\\u80fd\\uff1b 2.\\u6838\\u5bf9\\u7b2c\\u4e09\\u65b9\\u652f\\u4ed8\\u5e73\\u53f0\\u53ca\\u6280\\u672f\\u540e\\u53f0<b>\\u6570\\u636e</b>\\u5e76\\u627e\\u51fa\\u5dee\\u5f02\\uff1b 3. \\u5b8c\\u6210\\u4e0e<b>\\u6570\\u636e</b>\\u90e8\\u5de5\\u4f5c\\u8854\\u63a5\\uff0c\\u505a\\u597d<b>\\u6570\\u636e</b>\\u53f0\\u8d26\\u7684\\u7edf\\u8ba1\\u5de5\\u4f5c\\uff1b 4\\uff0e\\u6839\\u636e\\u8d44\\u4ea7\\u7aef\\u548c\\u8d44\\u91d1\\u7aef<b>\\u6570\\u636e</b>\\u5b8c\\u6210\\u65e5\\u6c47\\u603b\\u62a5\\u8868\\uff1b 5. \\u9886\\u5bfc\\u4ea4\\u529e\\u7684\\u5176\\u4ed6\\u5de5\\u4f5c\\u3002...</li></li>\\n                </ul>\\n                <dl>\\n                    <dt>\\n                        <a href=\"javascript:void(0)\" onclick=\"return zlapply.searchjob.ajaxApplyBrig1(\\'CC575878820J90250640000_530\\',\\'ssi\\',\\'_1_03_201__2_\\')\">\\n                            <img src=\"/assets/images/newlist_sqimg_03.jpg\" />\\n                        </a>\\n                    </dt>\\n                    <dd><a href=\"javascript:zlapply.searchjob.saveOne(\\'CC575878820J90250640000_530\\')\"><img src=\"/assets/images/newlist_scimg_06.jpg\" /></a></dd>\\n                </dl>\\n            </div>\\n        </div>\\n</tr>\\n</table>\\n```\\n\\n\\u5728\\u201c\\u5217\\u8868\\u201d\\u6a21\\u5f0f\\u4e2d\\uff0c\\u6bcf\\u4e00\\u6761\\u8bb0\\u5f55\\u91c7\\u7528\\u4e86Table\\u683c\\u5f0f\\uff0c\\u7b2c\\u4e00\\u4e2aTR\\u662f\\u7b80\\u8ff0\\u4fe1\\u606f\\uff0c\\u7b2c\\u4e8c\\u4e2aTR\\u662f\\u6269\\u5c55\\u4fe1\\u606f\\u3002\\u7b80\\u8ff0\\u4fe1\\u606f\\u4e2d\\uff0c\\u6bcf\\u4e2a\\u4fe1\\u606f\\u90fd\\u6709\\u56fa\\u5b9aClass\\u5c5e\\u6027\\uff0c\\u800c\\u4e14\\u662f\\u975e\\u7a7a\\u4fe1\\u606f\\uff0c\\u662f\\u80af\\u5b9a\\u80fd\\u83b7\\u53d6\\u5230\\u7684\\u3002\\u800c\\u6269\\u5c55\\u4fe1\\u606f\\u4e2d\\uff0c\\u89c4\\u5219\\u6027\\u4e0d\\u5f3a\\uff0c\\u53ea\\u80fd\\u7528\\u201c\\u516c\\u53f8\\u6027\\u8d28\\uff1axx\\u201d\\u8fd9\\u6837\\u7684\\u6b63\\u5219\\u8868\\u8fbe\\u5f0f\\u6765\\u5339\\u914d\\u6216\\u662f\\u7528tag\\u7684\\u5d4c\\u5957\\u5c42\\u7ea7\\u548c\\u987a\\u5e8f\\u6765\\u5b9a\\u4f4d\\uff0c\\u6210\\u529f\\u7387\\u548c\\u7a33\\u5b9a\\u6027\\u90fd\\u4e0d\\u9ad8\\u3002\\n\\u603b\\u7ed3\\u4e00\\u4e0b\\uff0c\\u8fd9\\u91cc\\u7684\\u4e3b\\u8981\\u5b9a\\u4f4d\\u65b9\\u5f0f\\u4e3a\\uff1a\\n- \\u804c\\u4f4d\\u540d\\u79f0\\uff1a `class = \"zwmc\"`  \\n- \\u53cd\\u9988\\u7387  \\uff1a `class = \"fk_lv\"`  \\n- \\u516c\\u53f8\\u540d\\u79f0\\uff1a `class = \"gsmc\"`  \\n- \\u804c\\u4f4d\\u6708\\u85aa\\uff1a `class = \"zwyx\"` \\u6216 `<span>\\u804c\\u4f4d\\u6708\\u85aa\\uff1axx</span>` \\n- \\u5de5\\u4f5c\\u5730\\u70b9\\uff1a `class = \"gzdd\"` \\u6216 `<span>\\u5730\\u70b9\\uff1axx</span>`  \\n- \\u66f4\\u65b0\\u65f6\\u95f4\\uff1a `class = \"gxsj\"` \\u6216 `<li><p>12-10</p></li>`\\n- \\u516c\\u53f8\\u6027\\u8d28\\uff1a `<span>\\u516c\\u53f8\\u6027\\u8d28\\uff1axx</span>`  \\n- \\u516c\\u53f8\\u89c4\\u6a21\\uff1a `<span>\\u516c\\u53f8\\u89c4\\u6a21\\uff1axx</span>`  \\n- \\u5b66\\u5386\\u8981\\u6c42\\uff1a `<span>\\u5b66\\u5386\\uff1axx</span>` \\n- \\u5c97\\u4f4d\\u804c\\u8d23\\uff1a `<li>\\u5c97\\u4f4d\\u804c\\u8d23\\uff1axx</li>`  \\n\\n\\u5176\\u5b9e\\u8fd8\\u6709tag\\u7684\\u5d4c\\u5957\\u5c42\\u7ea7\\u548c\\u987a\\u5e8f\\uff0c\\u53ef\\u4ee5\\u7528\\u6765\\u5b9a\\u4f4d\\u4fe1\\u606f\\u3002\\u4f46\\u662f\\u6211\\u4e0d\\u60f3\\u8fd9\\u4e48\\u505a\\uff0c\\u56e0\\u4e3a\\u8fd9\\u4e2a\\u592a\\u4e0d\\u7a33\\u5b9a\\u4e86\\uff0c\\u800c\\u4e14\\u5927\\u5927\\u7684\\u589e\\u52a0\\u4e86\\u4ee3\\u7801\\u7684\\u957f\\u5ea6\\uff0c\\u5982\\u679c\\u4e0d\\u5b58\\u5728\\u4fe1\\u606f\\u8fd8\\u4f1a\\u5bfc\\u81f4\\u62a5\\u9519\\u3002\\u76f8\\u6bd4\\u800c\\u8a00\\uff0c\\u7528\\u4e2d\\u6587\\u7684\\u4eba\\u80fd\\u7406\\u89e3\\u7684\\u8bed\\u8a00\\u6765\\u8fdb\\u884c\\u6b63\\u5219\\u5339\\u914d\\uff0c\\u66f4\\u6709\\u6210\\u529f\\u7387\\uff0c\\u4e14\\u66f4\\u5bb9\\u6613\\u64cd\\u4f5c\\u3002\\n## \\u7f51\\u9875\\u6e90\\u7801\\u89e3\\u6790 - \\u201c\\u8be6\\u7ec6\\u6a21\\u5f0f\\u201d\\n\\n\\u5982\\u679c\\u89e3\\u6790\\u201c\\u8be6\\u7ec6\\u6a21\\u5f0f\\u201d\\u7684\\u667a\\u8054\\u62db\\u8058\\u7f51\\u9875\\uff0c\\u9700\\u8981\\u5728Get\\u53c2\\u6570\\u91cc\\u9762\\u7684sm\\u8bbe\\u4e3a`1`\\u3002\\n\\u91cc\\u9762\\u552f\\u4e00\\u9700\\u8981\\u7684\\u5c31\\u662f\\u4e2d\\u95f4\\u7684\\u7ed3\\u679c\\u5217\\u8868\\u90e8\\u5206\\uff0c\\n\\u5373id\\u4e3a\\'newlist_list_content_table\\'\\u7684DIV\\u7528\\uff0c\\u6e90\\u7801\\u5982\\u4e0b\\uff1a\\n\\n``` html\\n<div class=\"newlist_list_content\" id=\"newlist_list_content_table\">\\n    <div class=\"newlist_detail newlist\">\\u4e00\\u6761\\u62db\\u8058\\u4fe1\\u606f</div>\\n    <div class=\"newlist_detail newlist\">\\u4e00\\u6761\\u62db\\u8058\\u4fe1\\u606f</div>\\n</div>\\n```\\n\\n\\u5176\\u4e2d\\u4f1a\\u5faa\\u73af\\u8f93\\u51faclass\\u4e3a`newlist_detail newlist`\\u7684\\u5b50**DIV\\u5c42**\\n\\u5373\\u4e00\\u6761\\u4e00\\u6761\\u7684\\u62db\\u8058\\u4fe1\\u606f\\u3002\\n\\u6bcf\\u4e00\\u6761\\u62db\\u8058\\u4fe1\\u606f\\u7684\\u6e90\\u7801\\u5982\\u4e0b\\uff1a\\n\\n``` html\\n<div class=\"newlist_detail newlist\">\\n    <div class=\"clearfix\">\\n        <ul>\\n            <li class=\"newlist_deatil_first clearfix zwmc\"><input type=\"checkbox\" name=\"vacancyid\" value=\"CC255550019J90256441000_530_1_03_201__1_\" onclick=\" zlapply.uncheckAll(\\'allvacancyid\\') \" /><div style=\"width:300px;float:left\">\\n                <a style=\"font-weight: bold\" par=\"ssidkey=y&ss=201&ff=03\" href=\"http://jobs.zhaopin.com/255550019256441.htm\" target=\"_blank\">\\n                \\u884c\\u653f\\u540e\\u52e4\\u7ecf\\u7406</a></div></li>\\n            <li class=\"newlist_deatil_three gsmc\">\\n                <a href=\"http://special.zhaopin.com/bj/2011/lsw05120476/enter.html\" target=\"_blank\">\\n                \\u4e50\\u89c6\\u7f51\\u4fe1\\u606f\\u6280\\u672f(\\u5317\\u4eac)\\u80a1\\u4efd\\u6709\\u9650\\u516c\\u53f8</a></li>\\n            <li class=\"newlist_deatil_two\">\\n                <span>\\u5730\\u70b9\\uff1a\\u5317\\u4eac</span>\\n                <span>\\u516c\\u53f8\\u6027\\u8d28\\uff1a\\u4e0a\\u5e02\\u516c\\u53f8</span>\\n                <span>\\u516c\\u53f8\\u89c4\\u6a21\\uff1a1000-9999\\u4eba</span>\\n                <span>\\u5b66\\u5386\\uff1a\\u672c\\u79d1</span>\\n            <li class=\"newlist_deatil_last\"> \\n            \\u5c97\\u4f4d\\u804c\\u8d23\\uff1a  1\\u3001\\u8d1f\\u8d23\\u5bf9\\u65e5\\u5e38\\u884c\\u653f\\u540e\\u52e4\\u5de5\\u4f5c\\uff08\\u5305\\u62ec\\u540d\\u7247\\u3001\\u52a0\\u73ed\\u9910\\u3001\\u529e\\u516c\\u7528\\u54c1\\u3001\\u5458\\u5de5\\u79bb\\u5165\\u804c\\u3001\\u5370\\u7ae0\\u3001\\u4f1a\\u8bae\\u5ba4\\u7684\\u76f8\\u5173\\u4e8b\\u5b9c\\uff09\\u8fdb\\u884c\\u5168\\u9762\\u7684\\u76d1\\u7763\\u63a7\\u5236\\uff0c\\u53d1\\u73b0\\u95ee\\u9898\\u53ca\\u65f6\\u4e88\\u4ee5\\u89c4\\u8303\\uff0c\\u534f\\u52a9\\u4e0a\\u7ea7\\u9886\\u5bfc\\u5e94\\u5bf9\\u5904\\u7406\\u7a81\\u53d1\\u4e8b\\u4ef6; 2\\u3001\\u8fdb\\u884c\\u884c\\u653f\\u540e\\u52e4\\u5404\\u9879\\u8d39\\u7528\\u9884\\u7b97\\uff0c\\u4e25\\u683c\\u7ba1\\u63a7\\u5404\\u9879\\u8d39\\u7528\\u7684\\u4f7f\\u7528\\u60c5\\u51b5\\uff0c\\u8282\\u7701\\u516c\\u53f8\\u6210\\u672c\\uff0c\\u5b9e\\u73b0\\u6548\\u76ca\\u7684\\u6700\\u5927\\u5316; 3\\u3001\\u90e8\\u95e8\\u5458\\u5de5\\u7684\\u62db\\u8058\\u4e0e\\u57f9\\u517b\\u548c...</li></li>\\n        </ul>\\n        <dl>\\n            <p>12-07</p>\\n            <dt>\\n                <a href=\"javascript:void(0)\" onclick=\"return zlapply.searchjob.ajaxApplyBrig1(\\'CC255550019J90256441000_530\\', \\'ssi\\' , \\'_1_03_201__2_\\' ) \">\\n                    <img src=\"/assets/images/newlist_sqimg_03.jpg\" />\\n                </a>\\n            </dt>\\n            <dd><a href=\"javascript:zlapply.searchjob.saveOne(\\'CC255550019J90256441000_530\\')\"><img src=\"/assets/images/newlist_scimg_06.jpg\" /></a></dd>\\n        </dl>\\n    </div>\\n</div>\\n```\\n\\n\\u5728\\u6e90\\u7801\\u4e0a\\uff0c\\u867d\\u7136\\u201c\\u8be6\\u7ec6\\u6a21\\u5f0f\\u201d\\u7684\\u89e3\\u6790\\u548c\\u201c\\u5217\\u8868\\u6a21\\u5f0f\\u201d\\u6709\\u5f88\\u5927\\u7684\\u4e0d\\u540c\\uff0c\\u51e0\\u4e2a\\u4fe1\\u606f\\u7684\\u6293\\u53d6\\u65b9\\u5f0f\\u4e0d\\u4e00\\u6837\\uff0c\\u4f46\\u662f\\u5374\\u53ef\\u4ee5\\u5171\\u7528\\u3002\\u5982\\u6709\\u7684\\u662f\\u6309\\u7167class\\u540d\\uff0c\\u6709\\u7684\\u662f\\u6309\\u7167tag\\u540d\\u7b49\\u3002\\u4f46\\u662f\\u8fd9\\u4e0d\\u5f71\\u54cd\\u4e24\\u79cd\\u6a21\\u5f0f\\u653e\\u5728\\u4e00\\u8d77\\u89e3\\u6790\\u2014\\u2014\\u4e3a\\u6bcf\\u4e00\\u4e2a\\u4fe1\\u606f\\u5143\\u7d20\\u5982\\u201c\\u6708\\u85aa\\u201d\\u3001\\u201c\\u516c\\u53f8\\u540d\\u79f0\\u201d\\u7b49\\uff0c\\u8bbe\\u7f6e\\u591a\\u79cd\\u641c\\u7d22\\u65b9\\u5f0f\\u3002\\u5728\\u5199\\u4ee3\\u7801\\u65f6\\uff0c\\u53ea\\u8981\\u5206\\u522b\\u68c0\\u7d22\\u591a\\u79cd\\u65b9\\u5f0f\\u5c31\\u53ef\\u4ee5\\u83b7\\u5f97\\u6570\\u636e\\u3002\\u5177\\u4f53\\u53c2\\u8003\\u6293\\u53d6\\u4ee3\\u7801\\u7684\\u5b9e\\u73b0\\u3002\\n## \\u83b7\\u53d6\\u641c\\u7d22\\u7ed3\\u679c\\u6570\\u91cf\\n\\n\\u867d\\u7136\\u6bcf\\u9875\\u53ea\\u80fd\\u663e\\u793a40\\u6761\\u4fe1\\u606f\\uff0c\\u4f46\\u662f\\u5728\\u9875\\u9762\\u4e0a\\u65b9\\u8fd8\\u662f\\u4f1a\\u663e\\u793a\\u4e00\\u5171\\u6709\\u591a\\u5c11\\u6761\\u641c\\u7d22\\u7ed3\\u679c\\u3002\\u5982\\u201c\\u201d\\n\\u4ee3\\u7801\\u5982\\u4e0b\\uff1a\\n\\n``` html\\n<span class=\"search_yx_tj\">\\n    \\u5171<em>2025</em>\\u4e2a\\u804c\\u4f4d\\u6ee1\\u8db3\\u6761\\u4ef6\\n</span>\\n```\\n## \\u83b7\\u53d6GUID\\u2014\\u2014\\u5168\\u5c40\\u552f\\u4e00\\u6807\\u8bc6\\u7b26\\n\\n\\u867d\\u7136\\u6ca1\\u6709\\u7814\\u7a76\\u8fc7GUID\\uff0c\\u4f46\\u662f\\u6211\\u770b\\u5230\\u667a\\u8054\\u62db\\u8058\\u7684\\u7f51\\u9875\\u4f1a\\u5728URL\\u4e2d\\u663e\\u793a\\u7684\\u8c03\\u7528\\uff0c\\u53c2\\u6570\\u540d\\u4e3a`sg`\\u3002\\n\\u4e0d\\u77e5\\u9053\\u5b83\\u5bf9\\u722c\\u866b\\u6709\\u4ec0\\u4e48\\u5f71\\u54cd\\u3002\\u4e0d\\u8fc7\\u6211\\u8fd8\\u662f\\u5c1d\\u8bd5\\u7740\\u83b7\\u53d6\\u4e86\\u4e00\\u4e0b\\uff0c\\u5f88\\u7b80\\u5355\\u76f4\\u63a5\\u7528id\\u641c\\u7d22input\\u6807\\u7b7e\\u7684value\\u5c31\\u884c\\u3002\\u7f51\\u9875\\u6e90\\u7801\\u5982\\u4e0b\\uff1a\\n\\n``` html\\n<input type=\"hidden\" id=\"guid\" value=\"6857d119ab0147938da7b78b4c18f857\" />\\n```\\n## \\u83b7\\u53d6\\u5f53\\u524d\\u9875\\u7801\\u53ca\\u4e0b\\u4e00\\u9875\\u7684\\u94fe\\u63a5\\u5730\\u5740\\n\\n\\u667a\\u8054\\u62db\\u8058\\u8fd9\\u4e2a\\u9875\\u9762\\u6700\\u9017\\u7684\\u662f\\uff0c\\u5982\\u679c\\u5f53\\u524d\\u4fe1\\u606f\\u53ea\\u67094\\u9875\\uff0c\\u90a3\\u4e48\\u53ca\\u65f6url\\u53c2\\u6570\\u4e2d\\u9875\\u7801\\u6307\\u5b9a100\\uff0c\\u5b83\\u4ecd\\u7136\\u4e0d\\u4f1a\\u81ea\\u52a8\\u8df3\\u8f6c\\u3002\\u6240\\u4ee5\\u4eceurl\\u6216\\u8005`.geturl()`\\u6765\\u5224\\u65ad\\u5f53\\u524d\\u771f\\u5b9e\\u9875\\u7801\\u4e5f\\u5c31\\u6210\\u4e86\\u4e0d\\u5bf9\\u4e86\\u3002\\n\\u4e0d\\u8fc7\\u597d\\u5728\\u4e00\\u70b9\\uff0c\\u8fd9\\u4e2a\\u9875\\u9762\\u4e0b\\u65b9\\u7684`\\u9875\\u7801\\u63a7\\u5236\\u680f`\\u4e2d\\u53ef\\u4ee5\\u6e05\\u695a\\u7684\\u770b\\u5230\\u5f53\\u524d\\u9875\\u7801\\u662f\\u591a\\u5c11\\uff0c\\u6240\\u4ee5\\u5c31\\u4ece\\u8fd9\\u91cc\\u5165\\u624b\\u3002\\u8fd9\\u90e8\\u5206\\u7f51\\u9875\\u6e90\\u7801\\u5982\\u4e0b\\uff1a\\n\\n``` html\\n<div class=\"pagesDown\" style=\"_width:570px\">\\n<ul>\\n    <li><a class=\"pre-page nopress\">\\u4e0a\\u4e00\\u9875</a></li><li><a href=\"#\" class=\"current\" >1</a></li>\\n    <li><a href=\"http://sou.zhaopin.com/jobs/searchresult.ashx?jl=\\u5317\\u4eac&kw=\\u52a9\\u7406&sm=0&ga=\\u7acb\\u6c34\\u6865&gc=5\\u53f7\\u7ebf&gr=2&isfilter=1&fl=530&isadv=0&sg=c67ae20d31954238959da7915552c240&p=2\">2</a></li>\\n    <li><a href=\"http://sou.zhaopin.com/jobs/searchresult.ashx?jl=\\u5317\\u4eac&kw=\\u52a9\\u7406&sm=0&ga=\\u7acb\\u6c34\\u6865&gc=5\\u53f7\\u7ebf&gr=2&isfilter=1&fl=530&isadv=0&sg=c67ae20d31954238959da7915552c240&p=3\">3</a></li>\\n    <li><a href=\"http://sou.zhaopin.com/jobs/searchresult.ashx?jl=\\u5317\\u4eac&kw=\\u52a9\\u7406&sm=0&ga=\\u7acb\\u6c34\\u6865&gc=5\\u53f7\\u7ebf&gr=2&isfilter=1&fl=530&isadv=0&sg=c67ae20d31954238959da7915552c240&p=4\">4</a></li>\\n    <li><a href=\"http://sou.zhaopin.com/jobs/searchresult.ashx?jl=\\u5317\\u4eac&kw=\\u52a9\\u7406&sm=0&ga=\\u7acb\\u6c34\\u6865&gc=5\\u53f7\\u7ebf&gr=2&isfilter=1&fl=530&isadv=0&sg=c67ae20d31954238959da7915552c240&p=5\">5</a></li>\\n    <li><a href=\"http://sou.zhaopin.com/jobs/searchresult.ashx?jl=\\u5317\\u4eac&kw=\\u52a9\\u7406&sm=0&ga=\\u7acb\\u6c34\\u6865&gc=5\\u53f7\\u7ebf&gr=2&isfilter=1&fl=530&isadv=0&sg=c67ae20d31954238959da7915552c240&p=6\">6</a></li>\\n    <li><a href=\"http://sou.zhaopin.com/jobs/searchresult.ashx?jl=\\u5317\\u4eac&kw=\\u52a9\\u7406&sm=0&ga=\\u7acb\\u6c34\\u6865&gc=5\\u53f7\\u7ebf&gr=2&isfilter=1&fl=530&isadv=0&sg=c67ae20d31954238959da7915552c240&p=7\">7</a></li>\\n    <li><a href=\"http://sou.zhaopin.com/jobs/searchresult.ashx?jl=\\u5317\\u4eac&kw=\\u52a9\\u7406&sm=0&ga=\\u7acb\\u6c34\\u6865&gc=5\\u53f7\\u7ebf&gr=2&isfilter=1&fl=530&isadv=0&sg=c67ae20d31954238959da7915552c240&p=8\">8</a></li>\\n    <li><a href=\"http://sou.zhaopin.com/jobs/searchresult.ashx?jl=\\u5317\\u4eac&kw=\\u52a9\\u7406&sm=0&ga=\\u7acb\\u6c34\\u6865&gc=5\\u53f7\\u7ebf&gr=2&isfilter=1&fl=530&isadv=0&sg=c67ae20d31954238959da7915552c240&p=9\" class=\"pagesmore\">...</a></li>\\n    <li class=\"pagesDown-pos\"><a href=\"http://sou.zhaopin.com/jobs/searchresult.ashx?jl=\\u5317\\u4eac&kw=\\u52a9\\u7406&sm=0&ga=\\u7acb\\u6c34\\u6865&gc=5\\u53f7\\u7ebf&gr=2&isfilter=1&fl=530&isadv=0&sg=c67ae20d31954238959da7915552c240&p=2\" class=\"next-page\">\\u4e0b\\u4e00\\u9875</a>\\n    <li class=\"nextpagego-box\"><input type=\"hidden\" id=\"guid\" value=\"c67ae20d31954238959da7915552c240\" />\\u5230\\xa0\\xa0\\xa0\\xa0\\xa0\\xa0\\xa0\\u9875<input type=\"text\" class=\"pagesnum\" name=\"goto\" id=\"goto\" value=\"1\" onkeyup=\"zlapply.searchjob.fnCheckInt(this,event)\" onchange=\"zlapply.searchjob.fnCheckInt(this,event)\" onkeypress=\"zlapply.searchjob.enter2Page(this,event,51)\"  /><button type=\"button\" class=\"nextpagego-btn\" name=\"go\" onclick=\"zlapply.searchjob.gotoPage(this.form.goto.value,51,\\'\\',\\'c67ae20d31954238959da7915552c240\\')\"></button></li>\\n    <li class=\"clearfix\"></li>\\n</ul>\\n</div>\\n```\\n\\n\\u4ece\\u4e2d\\u53ef\\u4ee5\\u770b\\u5230\\uff0c\\u5f53\\u524d\\u9875\\u7801\\u7684\\u5b9a\\u4f4d\\u6781\\u5176\\u65b9\\u4fbf\\uff0c\\u53ea\\u8981\\u4ece`class=\"pagesDown\"`\\u7684div\\u4e2d\\u627e\\u5230`class=\"current\"`\\u7684a\\u94fe\\u63a5\\u5c31\\u5f97\\u5230\\u4e86\\u3002\\n\\u540c\\u7406\\uff0c\\u4e0b\\u4e00\\u9875\\u7684\\u94fe\\u63a5\\u53ef\\u4ee5\\u627e`class=\"next-page\"`\\u7684a\\u6807\\u7b7e\\u83b7\\u53d6href\\u503c\\u3002\\n', u'author_association': u'OWNER', u'labels_url': u'https://api.github.com/repos/solomonxie/solomonxie.github.io/issues/12/labels{/name}', u'events_url': u'https://api.github.com/repos/solomonxie/solomonxie.github.io/issues/12/events', u'comments_url': u'https://api.github.com/repos/solomonxie/solomonxie.github.io/issues/12/comments', u'html_url': u'https://github.com/solomonxie/solomonxie.github.io/issues/12', u'number': 12, u'user': {u'following_url': u'https://api.github.com/users/solomonxie/following{/other_user}', u'gists_url': u'https://api.github.com/users/solomonxie/gists{/gist_id}', u'organizations_url': u'https://api.github.com/users/solomonxie/orgs', u'url': u'https://api.github.com/users/solomonxie', u'events_url': u'https://api.github.com/users/solomonxie/events{/privacy}', u'html_url': u'https://github.com/solomonxie', u'subscriptions_url': u'https://api.github.com/users/solomonxie/subscriptions', u'avatar_url': u'https://avatars2.githubusercontent.com/u/14041622?v=4', u'repos_url': u'https://api.github.com/users/solomonxie/repos', u'received_events_url': u'https://api.github.com/users/solomonxie/received_events', u'gravatar_id': u'', u'starred_url': u'https://api.github.com/users/solomonxie/starred{/owner}{/repo}', u'site_admin': False, u'login': u'solomonxie', u'type': u'User', u'id': 14041622, u'followers_url': u'https://api.github.com/users/solomonxie/followers'}, u'milestone': None, u'locked': False, u'url': u'https://api.github.com/repos/solomonxie/solomonxie.github.io/issues/12', u'created_at': u'2015-12-12T04:54:23Z', u'assignees': []}, {u'labels': [{u'color': u'd4c5f9', u'default': False, u'url': u'https://api.github.com/repos/solomonxie/solomonxie.github.io/labels/Python', u'id': 290633688, u'name': u'Python'}], u'updated_at': u'2015-12-13T10:27:02Z', u'assignee': None, u'repository_url': u'https://api.github.com/repos/solomonxie/solomonxie.github.io', u'closed_at': None, u'id': 121833645, u'title': u'\\u667a\\u8054\\u62db\\u8058\\u6570\\u636e\\u722c\\u53d6\\u51c6\\u5907(2)-\\u62db\\u8058\\u4fe1\\u606f\\u9875\\u9762\\u6e90\\u7801\\u89e3\\u6790', u'comments': 0, u'state': u'open', u'body': u'# \\u7f51\\u9875\\u6e90\\u7801\\u89e3\\u6790 - \\u667a\\u8054\\u62db\\u8058 \\u62db\\u8058\\u8be6\\u7ec6\\u4fe1\\u606f\\u9875\\u9762\\n\\n\\u6839\\u636e\\u62db\\u8058\\u5217\\u8868\\u91cc\\u9762\\u8df3\\u8f6c\\u8fc7\\u6765\\u7684\\u8be6\\u7ec6\\u62db\\u8058\\u4fe1\\u606f\\u9875\\u9762\\u3002\\u722c\\u866b\\u518d\\u6839\\u636e\\u8fd9\\u91cc\\u8fdb\\u884c\\u5173\\u952e\\u4fe1\\u606f\\u63d0\\u53d6\\u3002\\n\\u76f8\\u6bd4\\u4e8e\\u641c\\u7d22\\u5217\\u8868\\u9875\\u6765\\u8bf4\\uff0c\\u8fd9\\u9875\\u5185\\u5bb9\\u5f88\\u7b80\\u5355\\uff0c\\u800c\\u6211\\u4eec\\u9700\\u8981\\u7684\\u4e5f\\u4e0d\\u591a\\u3002\\n\\u4e0d\\u8fc7\\u9700\\u8981\\u6ce8\\u610f\\u7684\\u662f\\uff0c\\u8fd9\\u91cc\\u5728\\u804c\\u4e1a\\u4fe1\\u606f\\u4e4b\\u5916\\u8fd8\\u9700\\u8981\\u989d\\u5916\\u6536\\u96c6\\u4f01\\u4e1a\\u4fe1\\u606f\\u3002\\n\\u867d\\u7136\\u53e6\\u5916\\u6709\\u4e13\\u95e8\\u7684\\u4ee3\\u7801\\u8df3\\u8f6c\\u5230\\u4f01\\u4e1a\\u4e3b\\u9875\\u53bb\\u641c\\u96c6\\u4fe1\\u606f\\uff0c\\u4f46\\u662f\\u9605\\u8bfb\\u6e90\\u7801\\u540e\\u53d1\\u73b0\\uff0c\\u6bcf\\u5bb6Special\\u4f01\\u4e1a\\u90fd\\u53ef\\u4ee5\\u81ea\\u5df1\\u5b9a\\u5236\\u7f51\\u9875\\uff0c\\u56e0\\u6b64\\u83b7\\u53d6\\u57fa\\u672c\\u4fe1\\u606f\\u4e0d\\u65b9\\u4fbf\\u3002\\n\\u6240\\u4ee5\\u4f01\\u4e1a\\u57fa\\u672c\\u4fe1\\u606f\\u8981\\u5728\\u8fd9\\u4e00\\u9875\\u5c31\\u6536\\u96c6\\u9f50\\uff08\\u57fa\\u672c\\u4fe1\\u606f\\u548c\\u4f01\\u4e1a\\u4e3b\\u9875\\u91cc\\u662f\\u5b8c\\u5168\\u4e00\\u6837\\u7684\\uff09\\u3002\\n\\u4e0b\\u9762\\u5f00\\u59cb\\u7b80\\u5355\\u5206\\u6790\\u4e0b\\u5404\\u5904\\u6e90\\u7801\\u3002\\n## \\u804c\\u4f4d\\u7684\\u5934\\u4fe1\\u606f\\n\\n``` html\\n<div class=\"inner-left fl\">\\n    <h1>\\u9500\\u552e\\u3001\\u9500\\u552e\\u603b\\u76d1\\u963f\\u5c14\\u5361\\u7279\\u6570\\u636e\\u3001\\u8bed\\u97f3\\u4ea4\\u6362\\u673a\\uff08\\u91d1\\u724c\\u4ee3\\u7406\\u5546\\uff09</h1>\\n    <h2><a onclick=\"recordOutboundLink(this, &#39;terminalpage&#39;, &#39;tocompanylink3&#39;);\" href=\"http://company.zhaopin.com/%E4%B8%8A%E6%B5%B7%E5%B7%A8%E4%BC%98%E4%BF%A1%E6%81%AF%E7%A7%91%E6%8A%80%E6%9C%89%E9%99%90%E5%85%AC%E5%8F%B8_CC355086418.htm\" target=\"_blank\">\\u4e0a\\u6d77\\u5de8\\u4f18\\u4fe1\\u606f\\u79d1\\u6280\\u6709\\u9650\\u516c\\u53f8</a></h2>\\n    <div style=\"\" class=\"welfare-tab-box\"> <span>\\u4e94\\u9669\\u4e00\\u91d1</span><span>\\u5e74\\u5e95\\u53cc\\u85aa</span><span>\\u7ee9\\u6548\\u5956\\u91d1</span><span>\\u5e74\\u7ec8\\u5206\\u7ea2</span><span>\\u5e26\\u85aa\\u5e74\\u5047</span><span>\\u8282\\u65e5\\u798f\\u5229</span><span>\\u901a\\u8baf\\u8865\\u8d34</span><span>\\u4ea4\\u901a\\u8865\\u52a9</span> </div>\\n</div>\\n```\\n\\n\\u53ef\\u4ee5\\u76f4\\u63a5\\u7528`class*=\"inner-left\"`\\u5bf9\\u5934\\u4fe1\\u606f\\u8fdb\\u884c\\u5b9a\\u4f4d\\uff0c\\u7136\\u540e\\u5728\\u5176\\u4e2d\\u7528`h1`\\u6807\\u7b7e\\u4e3a\\u804c\\u4f4d\\u540d\\u79f0\\uff0c`h2`\\u6807\\u7b7e\\u4e3a\\u516c\\u53f8\\u540d\\u79f0\\uff0c`class=\"welfare-tab-box\"`\\u4e3a\\u798f\\u5229\\u4fe1\\u606f\\u3002\\n## \\u804c\\u4f4d\\u57fa\\u7840\\u4fe1\\u606f\\n\\n``` html\\n<ul class=\"terminal-ul clearfix\">\\n    <li><span>\\u804c\\u4f4d\\u6708\\u85aa\\uff1a</span><strong>8001-10000\\u5143/\\u6708</strong></li>\\n    <li><span>\\u5de5\\u4f5c\\u5730\\u70b9\\uff1a</span><strong><a target=\"_blank\" href=\"http://www.zhaopin.com/beijing/\">\\u5317\\u4eac</a></strong></li>\\n    <li><span>\\u53d1\\u5e03\\u65e5\\u671f\\uff1a</span><strong><span id=\"span4freshdate\">2015-12-12</span></strong></li>\\n    <li><span>\\u5de5\\u4f5c\\u6027\\u8d28\\uff1a</span><strong>\\u5168\\u804c</strong></li>\\n    <li><span>\\u5de5\\u4f5c\\u7ecf\\u9a8c\\uff1a</span><strong>1-3\\u5e74</strong></li>\\n    <li><span>\\u6700\\u4f4e\\u5b66\\u5386\\uff1a</span><strong>\\u5927\\u4e13</strong></li>\\n    <li><span>\\u62db\\u8058\\u4eba\\u6570\\uff1a</span><strong>1\\u4eba </strong></li>\\n    <li><span>\\u804c\\u4f4d\\u7c7b\\u522b\\uff1a</span><strong><a href=\"http://jobs.zhaopin.com/355086418250171.htm?ssidkey=y&ss=201&ff=03#\"></a><a target=\"_blank\" href=\"http://jobs.zhaopin.com/beijing/sj001/\">\\u9500\\u552e\\u7ecf\\u7406</a></strong></li>\\n</ul>\\n```\\n\\n\\u57fa\\u7840\\u4fe1\\u606f\\u5b9a\\u4f4d\\u5f88\\u7b80\\u5355\\uff0c`class^=\"terminal-ul\"`\\u5c31\\u591f\\u4e86\\u3002\\u4f46\\u662f\\u5176\\u4e2d\\u7684\\u6bcf\\u4e2a\\u4fe1\\u606f\\u6ca1\\u6709\\u6807\\u8bb0\\uff0c\\u5c31\\u53ea\\u80fd\\u7528\\u4e2d\\u6587\\u540d\\u79f0\\u6216\\u8005\\u662f\\u987a\\u5e8f\\u5b9a\\u4f4d\\u4e86\\u3002\\n\\u4fe1\\u606f\\u5185\\u5bb9\\u5168\\u5305\\u542b\\u5728`strong`\\u6807\\u7b7e\\u91cc\\u3002\\n## \\u4f01\\u4e1a\\u57fa\\u672c\\u4fe1\\u606f\\n\\n``` html\\n<div class=\"company-box\">\\n    <p class=\"company-name-t\"><a rel=\"nofollow\" href=\"http://company.zhaopin.com/%E4%B8%8A%E6%B5%B7%E5%B7%A8%E4%BC%98%E4%BF%A1%E6%81%AF%E7%A7%91%E6%8A%80%E6%9C%89%E9%99%90%E5%85%AC%E5%8F%B8_CC355086418.htm\" target=\"_blank\">\\u4e0a\\u6d77\\u5de8\\u4f18\\u4fe1\\u606f\\u79d1\\u6280\\u6709\\u9650\\u516c\\u53f8</a></p>\\n    <ul class=\"terminal-ul clearfix terminal-company mt20\">\\n        <li><span>\\u516c\\u53f8\\u89c4\\u6a21\\uff1a</span><strong>20-99\\u4eba</strong></li>\\n        <li><span>\\u516c\\u53f8\\u6027\\u8d28\\uff1a</span><strong>\\u6c11\\u8425</strong></li>\\n        <li><span>\\u516c\\u53f8\\u884c\\u4e1a\\uff1a</span><strong><a target=\"_blank\" href=\"http://jobs.zhaopin.com/beijing/in160100/\">\\u901a\\u4fe1/\\u7535\\u4fe1\\u8fd0\\u8425\\u3001\\u589e\\u503c\\u670d\\u52a1</a></strong></li>\\n        <li><span>\\u516c\\u53f8\\u4e3b\\u9875\\uff1a</span><strong><a rel=\"nofollow\" href=\"http://www.g-best.com.cn/\" target=\"_blank\">http://www.G-best.com.cn</a></strong></li>\\n        <li>\\n            <span>\\u516c\\u53f8\\u5730\\u5740\\uff1a</span><strong>\\n                \\u4e0a\\u6d77\\u5e02\\u5f90\\u6c47\\u533a\\u6842\\u6797\\u8def396\\u53f7\\u4e2d\\u6838\\u6d66\\u539f\\u79d1\\u6280\\u56ed3\\u53f7\\u697c101\\u5ba4<br>\\n            </strong>\\n        </li>\\n    </ul>\\n    <!--\\u662f\\u5426\\u662f\\u53cd\\u9988\\u901a-->\\n    <input type=\"hidden\" id=\"displayRegionScopeId\" name=\"displayRegionScopeId\" value=\"0\">\\n</div>\\n```\\n\\n\\u5b9a\\u4f4d\\u7684\\u8bdd\\uff0c\\u76f4\\u63a5\\u627e\\u5230class\\u4e2d**\\u542b\\u6709**`terminal-company`\\u7684ul\\u6807\\u7b7e\\uff0c\\u7136\\u540e\\u6309\\u7167`li`\\u6807\\u7b7e\\u7684\\u987a\\u5e8f\\u6216\\u8005\\u6309\\u7167\\u4e2d\\u6587\\u6587\\u5b57\\u5339\\u914d\\u5230\\u4f01\\u4e1a\\u57fa\\u672c\\u4fe1\\u606f\\u3002\\n## \\u804c\\u4f4d\\u63cf\\u8ff0\\u4fe1\\u606f\\n\\n``` html\\n<div class=\"tab-inner-cont\">\\n    <!-- SWSStringCutStart -->\\n    <div style=\"FONT-SIZE: 12px\"><strong>\\u4efb\\u804c\\u8981\\u6c42\\uff1a</strong></div><div style=\"FONT-SIZE: 12px\"><br><div style=\"WORD-WRAP: break-word; FONT-FAMILY: Verdana; WORD-BREAK: break-all; LINE-HEIGHT: 18px; BACKGROUND-COLOR: rgb(255,255,255)\">1\\u30011\\u5e74\\u4ee5\\u4e0aIT\\u884c\\u4e1a\\u7684\\u552e\\u7ecf\\u9a8c,\\u4ee5\\u901a\\u8baf\\u4ea7\\u54c1\\u53ca\\u670d\\u52a1\\u5668\\u4ea7\\u54c1\\u4e3a\\u4e3b\\uff1b<br>2\\u3001\\u719f\\u6089Siemens,NEC, Panasonic,Alcatel\\u7b49PBX \\u673a\\u578b\\uff0c\\u5177\\u6709VOIP\\u7ec4\\u7f51\\u7684\\u76f8\\u5173\\u9500\\u552e\\u7ecf\\u9a8c\\uff1b\\u5177\\u5907\\u4e13\\u4e1a\\u5ba2\\u6237\\u9500\\u552e\\u6280\\u5de7\\uff1b\\u64c5\\u957f\\u4e0e\\u5ba2\\u6237\\u4ea4\\u6d41\\u5e76\\u80fd\\u8fc5\\u901f\\u6574\\u5408\\u5ba2\\u6237\\u6240\\u9700\\u8d44\\u6e90\\uff1b</div><div style=\"WORD-WRAP: break-word; FONT-FAMILY: Verdana; WORD-BREAK: break-all; LINE-HEIGHT: 18px; BACKGROUND-COLOR: rgb(255,255,255)\">3\\u3001\\u719f\\u6089\\u601d\\u79d1\\u3001\\u534e\\u4e3a\\u3001Alcatel\\u7b49\\u6570\\u636e\\u4ea4\\u6362\\u673a\\uff0c\\u5177\\u6709\\u76f8\\u5173\\u9500\\u552e\\u7ecf\\u9a8c\\uff1b\\u5177\\u5907\\u4e13\\u4e1a\\u5ba2\\u6237\\u9500\\u552e\\u6280\\u5de7\\uff1b\\u64c5\\u957f\\u4e0e\\u5ba2\\u6237\\u4ea4\\u6d41\\u5e76\\u80fd\\u8fc5\\u901f\\u6574\\u5408\\u5ba2\\u6237\\u6240\\u9700\\u8d44\\u6e90\\uff1b&nbsp;<br>4\\u3001\\u5177\\u5907\\u826f\\u597d\\u4eba\\u9645\\u4ea4\\u5f80\\u3001\\u5e02\\u573a\\u7b56\\u5212\\u3001\\u65b9\\u6848\\u6f14\\u8bb2\\u3001\\u5546\\u52a1\\u8c08\\u5224\\uff0c\\u6709\\u5f3a\\u70c8\\u7684\\u8d62\\u5355\\u6b32\\u671b\\uff0c\\u4e50\\u4e8e\\u964c\\u751f\\u4eba\\u4ea4\\u6d41\\uff0c\\u5584\\u4e8e\\u6c9f\\u901a\\uff0c\\u6027\\u683c\\u7a33\\u91cd\\u3001\\u52e4\\u594b\\uff0c\\u80fd\\u591f\\u627f\\u53d7\\u8f83\\u5927\\u9500\\u552e\\u4e1a\\u7ee9\\u538b\\u529b\\u3002<br>5\\u3001\\u6709\\u9500\\u552e\\u540c\\u7c7b\\u8bed\\u97f3\\u4ea4\\u6362\\u673aPBX\\u3001\\u6570\\u636e\\u4ea4\\u6362\\u673a&nbsp;\\u4ea7\\u54c1\\u7ecf\\u9a8c\\u8005\\u4f18\\u5148\\u3002</div></div><div style=\"FONT-SIZE: 12px\"><br><strong>\\u5c97\\u4f4d\\u804c\\u8d23\\uff1a</strong></div><div style=\"FONT-SIZE: 12px\"><br>1\\u3001\\u8d1f\\u8d23\\u672c\\u5730\\u533a\\u7ef4\\u62a4\\u8001\\u5ba2\\u6237\\uff0c\\u62d3\\u5c55\\u65b0\\u5e02\\u573a\\uff0c\\u5efa\\u7acb\\u4e0e\\u6269\\u5927\\u9500\\u552e\\u7f51\\u7edc\\uff0c\\u63d0\\u5347\\u9500\\u552e\\u4e1a\\u7ee9,\\u5b8c\\u6210\\u603b\\u90e8\\u6216\\u5206\\u516c\\u53f8\\u4ea4\\u4ed8\\u7684\\u9500\\u552e\\u4efb\\u52a1\\uff1b <br>2\\u3001\\u5efa\\u7acb\\u548c\\u7ef4\\u62a4\\u672c\\u5730\\u533a\\u7684\\u5ba2\\u6237\\u5173\\u7cfb\\uff0c\\u6811\\u7acb\\u826f\\u597d\\u7684\\u516c\\u53f8\\u53e3\\u7891\\u548c\\u54c1\\u724c\\u5f62\\u8c61\\uff1b<br>3\\u3001\\u8d1f\\u8d23\\u9879\\u76ee\\u6295\\u6807\\u7684\\u8fd0\\u4f5c\\uff0c\\u5305\\u62ec\\u5546\\u52a1\\u6587\\u4ef6\\u7684\\u8d77\\u8349\\u548c\\u6574\\u4e2a\\u6807\\u4e66\\u7684\\u5236\\u4f5c\\u4e0e\\u5ba1\\u5b9a\\uff1b\\u8d1f\\u8d23\\u5546\\u52a1\\u5408\\u540c\\u7684\\u8d77\\u8349\\u3001\\u7b7e\\u7f72\\u548c\\u9879\\u76ee\\u6536\\u6b3e\\u5de5\\u4f5c\\uff1b<br>4\\u3001\\u9ad8\\u6807\\u51c6\\u5730\\u4e3a\\u5ba2\\u6237\\u63d0\\u4f9b\\u4f18\\u8d28\\u670d\\u52a1\\u548c\\u59a5\\u5584\\u5904\\u7406\\u5ba2\\u6237\\u6295\\u8bc9\\uff0c\\u4ee5\\u63d0\\u9ad8\\u5ba2\\u6237\\u7684\\u6ee1\\u610f\\u5ea6\\uff1b<br>5\\u3001\\u4e0d\\u65ad\\u5b66\\u4e60\\u65b0\\u77e5\\u8bc6\\u4e0e\\u65b0\\u6280\\u672f\\uff0c\\u63d0\\u5347\\u81ea\\u8eab\\u7684\\u4e13\\u4e1a\\u80fd\\u529b\\u4e0e\\u804c\\u4e1a\\u7d20\\u8d28\\uff1b</div><div style=\"FONT-SIZE: 12px\">&nbsp;</div><div style=\"FONT-SIZE: 12px\"><strong>\\u5de5\\u4f5c\\u5730\\u70b9\\uff1a</strong>&nbsp;\\u5317\\u4eac</div>\\n    <!-- SWSStringCutEnd -->\\n    <b>\\u5de5\\u4f5c\\u5730\\u5740\\uff1a</b>\\n    <h2>\\n        \\u5317\\u4eac\\u5e02\\u4e30\\u53f0\\u533a\\u5357\\u4e09\\u73af\\u897f\\u8def16\\u53f7\\u641c\\u5b9d\\u5546\\u52a1\\u4e2d\\u5fc32\\u53f7\\u697c2608\\u5ba4&nbsp;\\n\\n        <a href=\"javascript:fnOpenMiniMap(\\'\\',\\'\\',\\'\\u5317\\u4eac\\',\\'31.167743\\',\\'121.417537\\');\" onclick=\"dyweTrackEvent(&#39;bjobsdetail14gb&#39;, &#39;showjobmap&#39;);\" class=\"see-map\">\\u67e5\\u770b\\u804c\\u4f4d\\u5730\\u56fe</a>\\n\\n    </h2>\\n    <p>\\n        <button id=\"applyVacButton1\" class=\"button-small\" title=\"\\u7533\\u8bf7\\u804c\\u4f4d\" onclick=\"zlzp.searchjob.ajaxApplyBrig3(&#39;1&#39;);dyweTrackEvent(&#39;bjobsdetail14gb&#39;,&#39;directapply_middle&#39;);\"></button>\\n    </p>\\n</div>\\n```\\n\\n\\u8fd9\\u4e2a\\u4e5f\\u597d\\u8bf4\\uff0c\\u76f4\\u63a5\\u627e\\u5230`class=\"tab-inner-cont\"`\\uff0c\\u7136\\u540e\\u81ea\\u52a8\\u6392\\u9664\\u6240\\u6709\\u6807\\u7b7e\\uff0c\\u53ea\\u83b7\\u53d6\\u6587\\u672c\\u4fe1\\u606f\\u5c31\\u591f\\u4e86\\u3002\\n\\u9700\\u8981\\u6ce8\\u610f\\u7684\\u662f\\uff0c\\u6e90\\u7801\\u91cc\\u67092\\u4e2aclass\\u4e3a`tab-inner-cont`\\u7684div\\uff0c\\u7b2c1\\u4e2a\\u662f\\u804c\\u4f4d\\u63cf\\u8ff0\\uff0c\\u7b2c2\\u4e2a\\u662f\\u4f01\\u4e1a\\u7b80\\u4ecb\\u3002\\n## \\u4f01\\u4e1a\\u7b80\\u4ecb\\n\\n``` html\\n<div class=\"tab-inner-cont\" style=\"display:none;\">\\n    <h5><a rel=\"nofollow\" href=\"http://company.zhaopin.com/%E4%B8%8A%E6%B5%B7%E5%B7%A8%E4%BC%98%E4%BF%A1%E6%81%AF%E7%A7%91%E6%8A%80%E6%9C%89%E9%99%90%E5%85%AC%E5%8F%B8_CC355086418.htm\" onclick=\"recordOutboundLink(this, &#39;terminalpage&#39;, &#39;tocompanylink4&#39;);\" target=\"_blank\">\\u4e0a\\u6d77\\u5de8\\u4f18\\u4fe1\\u606f\\u79d1\\u6280\\u6709\\u9650\\u516c\\u53f8</a><a target=\"_blank\" class=\"color-blue fr see-other-job\" href=\"http://company.zhaopin.com/%E4%B8%8A%E6%B5%B7%E5%B7%A8%E4%BC%98%E4%BF%A1%E6%81%AF%E7%A7%91%E6%8A%80%E6%9C%89%E9%99%90%E5%85%AC%E5%8F%B8_CC355086418.htm\" rel=\"nofollow\" onclick=\"recordOutboundLink(this, &#39;terminalpage&#39;, &#39;tocompanylink2&#39;);\">\\u8be5\\u516c\\u53f8\\u5176\\u4ed6\\u804c\\u4f4d</a></h5>\\n    <p></p>\\n    <div style=\"FONT-SIZE: 12px\">&nbsp; &nbsp; \\u4e0a\\u6d77\\u5de8\\u4f18\\u4fe1\\u606f\\u79d1\\u6280\\u6709\\u9650\\u516c\\u53f8\\u662f\\u4e00\\u5bb6\\u4e13\\u4e1a\\u7684\\u4f01\\u4e1a\\u901a\\u4fe1\\u8bbe\\u5907\\u4f9b\\u5e94\\u5546\\u53ca\\u4ea7\\u54c1\\u670d\\u52a1\\u5546\\uff0c\\u63d0\\u4f9b\\u5305\\u62ec\\u8bed\\u97f3\\u3001\\u6570\\u636e\\u3001\\u591a\\u5a92\\u4f53\\u7b49\\u5404\\u7c7b\\u4e13\\u7f51\\u8bbe\\u5907\\u3002\\u516c\\u53f8\\u4e3a\\u5404\\u79cd\\u7c7b\\u578b\\u7684\\u4f01\\u4e1a\\u63d0\\u4f9b\\u9002\\u7528\\u7684\\u901a\\u4fe1\\u53ca\\u6570\\u636e\\u7f51\\u7edc\\u878d\\u5408\\u65b9\\u6848\\uff1a\\u5bbe\\u9986\\u3001\\u533b\\u9662\\u3001\\u5927\\u3001\\u4e2d\\u578b\\u4f01\\u4e1a\\u3001\\u5c0f\\u578b\\u5546\\u52a1\\u529e\\u516c\\u3001\\u653f\\u5e9c\\u673a\\u5173\\u7b49\\u3002<br>&nbsp; &nbsp; \\u5de8\\u4f18\\u4fe1\\u606f\\u662f\\u6cd5\\u56fd\\u963f\\u5c14\\u5361\\u7279\\u6717\\u8baf\\u516c\\u53f8\\u4f01\\u4e1a\\u901a\\u4fe1\\u7cfb\\u7edf\\u5168\\u56fd\\u91d1\\u724c\\u4ee3\\u7406\\u5546\\uff0c\\u540c\\u65f6\\u4e5f\\u662f\\u534e\\u4e3a\\u3001HP\\u3001\\u601d\\u79d1\\u7b49IT\\u56fd\\u9645\\u77e5\\u540d\\u54c1\\u724c\\u7684\\u6838\\u5fc3\\u5408\\u4f5c\\u4f19\\u4f34\\u3002</div><div style=\"FONT-SIZE: 12px\">&nbsp; &nbsp; \\u516c\\u53f8\\u62e5\\u6709\\u4e00\\u652f\\u7ecf\\u963f\\u5c14\\u5361\\u7279\\u8ba4\\u8bc1\\u7684\\u5de5\\u7a0b\\u5e08\\u56e2\\u961f\\uff0c\\u5176\\u4e2d\\u591a\\u540d\\u5de5\\u7a0b\\u5e08\\u540c\\u65f6\\u62e5\\u6709\\u601d\\u79d1\\u3001\\u534e\\u4e3a\\u7684\\u8ba4\\u8bc1\\u8bc1\\u4e66\\u3002\\u4e13\\u4e1a\\u7684\\u7ba1\\u7406\\u3001\\u4e13\\u4e1a\\u7684\\u4eba\\u624d\\uff0c\\u6784\\u5efa\\u4e86\\u4e13\\u4e1a\\u7684\\u5ba2\\u6237\\u57f9\\u8bad\\u670d\\u52a1\\u4f53\\u7cfb\\uff0c\\u4e13\\u4e1a\\u7684\\u54c1\\u8d28\\u4e0e\\u5b8c\\u5584\\u7684\\u670d\\u52a1\\u4fdd\\u969c\\u4f53\\u7cfb\\u4e3a\\u516c\\u53f8\\u8d62\\u5f97\\u4e86\\u957f\\u671f\\u53cb\\u597d\\u5408\\u4f5c\\u7684\\u5ba2\\u6237\\u4f19\\u4f34\\u3002\\u516c\\u53f8\\u6280\\u672f\\u90e8\\u4ee5\\u5176\\u96c4\\u539a\\u7684\\u6280\\u672f\\u5b9e\\u529b\\u3001\\u4e30\\u5bcc\\u7684\\u65b9\\u6848\\u5b9e\\u65bd\\u7ecf\\u9a8c\\u4e3a\\u7528\\u6237\\u63d0\\u4f9b\\u591a\\u79cd\\u7c7b\\u578b\\u7684\\u8bed\\u97f3\\u901a\\u4fe1\\u3001\\u7ec4\\u7f51\\u3001IP\\u7edf\\u4e00\\u901a\\u4fe1\\u3001\\u6570\\u636e\\u7f51\\u7edc\\u7b49\\u65b9\\u6848\\u7684\\u8bbe\\u8ba1\\u4e0e\\u96c6\\u6210\\u670d\\u52a1\\uff0c\\u5e76\\u4e3a\\u7528\\u6237\\u63d0\\u4f9b\\u7aef\\u5230\\u7aef\\u7684\\u5168\\u9762\\u89e3\\u51b3\\u65b9\\u6848\\u3002<br>&nbsp; &nbsp; \\u6211\\u53f8\\u81ea\\u6210\\u7acb\\u4ee5\\u6765\\uff0c\\u4e1a\\u52a1\\u53d1\\u5c55\\u8fc5\\u901f\\uff0c\\u4e1a\\u52a1\\u5df2\\u5206\\u5e03\\u81f3\\u5168\\u56fd\\u5404\\u5730\\uff0c\\u6709\\u6548\\u5730\\u589e\\u5f3a\\u4e86\\u6211\\u53f8\\u5728\\u4e2d\\u56fd\\u5927\\u9646\\u5730\\u533a\\u7684\\u5ba2\\u6237\\u7efc\\u5408\\u670d\\u52a1\\u80fd\\u529b\\u3002\\u96c6\\u552e\\u524d\\u3001\\u552e\\u4e2d\\u3001\\u552e\\u540e\\u670d\\u52a1\\u4e8e\\u4e00\\u8eab\\u7684\\u8425\\u9500\\u670d\\u52a1\\u7f51\\u7edc\\uff0c\\u4e3a\\u7528\\u6237\\u63d0\\u4f9b\\u4e86\\u5168\\u9762\\u5468\\u5230\\u7684\\u4e13\\u4e1a\\u5316\\u670d\\u52a1\\u3002\\u4e0e\\u6b64\\u540c\\u65f6\\uff0c\\u6211\\u53f8\\u62e5\\u6709\\u904d\\u5e03\\u5168\\u56fd\\u5404\\u5730\\u7684\\u5ba2\\u6237\\u8d44\\u6e90\\u53ca\\u6838\\u5fc3\\u5408\\u4f5c\\u4f19\\u4f34\\uff0c\\u5e76\\u4e14\\u9020\\u5c31\\u4e86\\u51fa\\u8272\\u7684\\u9500\\u552e\\u56e2\\u961f\\u3002<br>&nbsp; &nbsp; \\u5de8\\u4f18\\u79d1\\u6280\\u4e0e\\u4e16\\u754c\\u6700\\u5148\\u8fdb\\u901a\\u8baf\\u6280\\u672f\\u540c\\u6b65\\uff0c\\u4e3a\\u56fd\\u5185\\u5546\\u4e1a\\u7528\\u6237\\u63d0\\u4f9b\\u4e00\\u6d41\\u7684\\u4ea7\\u54c1\\u6280\\u672f\\u53ca\\u670d\\u52a1\\u54c1\\u8d28\\uff0c\\u6211\\u4eec\\u7684\\u7406\\u5ff5\\u662f\\u201c\\u5ba2\\u6237\\u81f3\\u4e0a\\u3001\\u52c7\\u4e8e\\u521b\\u65b0\\u3001\\u7cbe\\u8bda\\u5408\\u4f5c\\u3001\\u5c3d\\u804c\\u5c3d\\u8d23\\uff01\\u201d <br>&nbsp; &nbsp; \\u5de8\\u4f18\\u79d1\\u6280\\u4e00\\u8d2f\\u79c9\\u627f\\u201c\\u521b\\u65b0\\u3001\\u5f00\\u62d3\\u3001\\u6700\\u4f73\\u6027\\u4ef7\\u6bd4\\u7684\\u4ea7\\u54c1\\uff1b\\u8bda\\u631a\\u670d\\u52a1\\u5feb\\u901f\\u6210\\u957f\\u6027\\u7684\\u5e02\\u573a\\uff1b\\u77e2\\u5fd7\\u6210\\u4e3a\\u4e00\\u6d41\\u7684\\u901a\\u4fe1\\u516c\\u53f8\\u201d\\u7684\\u5b97\\u65e8\\uff0c\\u4e0d\\u65ad\\u63a8\\u51fa\\u7b26\\u5408\\u5e02\\u573a\\u53d1\\u5c55\\u8d8b\\u52bf\\u7684\\u7279\\u8272\\u4ea7\\u54c1\\uff0c\\u4fe1\\u5b88\\u4e0d\\u65ad\\u521b\\u65b0\\u548c\\u5e2e\\u52a9\\u5ba2\\u6237\\u6210\\u529f\\u7684\\u6838\\u5fc3\\u4ef7\\u503c\\u89c2\\u3002&nbsp;<br>&nbsp;</div>\\n    <p></p>\\n    <h3></h3>\\n    <p>\\n    </p>\\n</div>\\n```\\n\\n\\u4e0a\\u9762\\u8bf4\\u8fc7\\u4e86\\uff0c\\u804c\\u4f4d\\u63cf\\u8ff0\\u7684class\\u4e5f\\u4e3a`tab-inner-cont`\\uff0c\\u6240\\u4ee5\\u83b7\\u53d6\\u7684\\u65f6\\u5019\\u6309\\u987a\\u5e8f\\u53d6\\u503c\\u5c31\\u597d\\u4e86\\u3002\\n', u'author_association': u'OWNER', u'labels_url': u'https://api.github.com/repos/solomonxie/solomonxie.github.io/issues/11/labels{/name}', u'events_url': u'https://api.github.com/repos/solomonxie/solomonxie.github.io/issues/11/events', u'comments_url': u'https://api.github.com/repos/solomonxie/solomonxie.github.io/issues/11/comments', u'html_url': u'https://github.com/solomonxie/solomonxie.github.io/issues/11', u'number': 11, u'user': {u'following_url': u'https://api.github.com/users/solomonxie/following{/other_user}', u'gists_url': u'https://api.github.com/users/solomonxie/gists{/gist_id}', u'organizations_url': u'https://api.github.com/users/solomonxie/orgs', u'url': u'https://api.github.com/users/solomonxie', u'events_url': u'https://api.github.com/users/solomonxie/events{/privacy}', u'html_url': u'https://github.com/solomonxie', u'subscriptions_url': u'https://api.github.com/users/solomonxie/subscriptions', u'avatar_url': u'https://avatars2.githubusercontent.com/u/14041622?v=4', u'repos_url': u'https://api.github.com/users/solomonxie/repos', u'received_events_url': u'https://api.github.com/users/solomonxie/received_events', u'gravatar_id': u'', u'starred_url': u'https://api.github.com/users/solomonxie/starred{/owner}{/repo}', u'site_admin': False, u'login': u'solomonxie', u'type': u'User', u'id': 14041622, u'followers_url': u'https://api.github.com/users/solomonxie/followers'}, u'milestone': None, u'locked': False, u'url': u'https://api.github.com/repos/solomonxie/solomonxie.github.io/issues/11', u'created_at': u'2015-12-12T04:52:12Z', u'assignees': []}, {u'labels': [{u'color': u'd4c5f9', u'default': False, u'url': u'https://api.github.com/repos/solomonxie/solomonxie.github.io/labels/Python', u'id': 290633688, u'name': u'Python'}], u'updated_at': u'2015-12-09T09:52:01Z', u'assignee': None, u'repository_url': u'https://api.github.com/repos/solomonxie/solomonxie.github.io', u'closed_at': None, u'id': 121179482, u'title': u'Python\\u4e2d\\u6587\\u5b57\\u7b26\\u7684\\u7406\\u89e3\\uff1astr()\\u3001repr()\\u3001print', u'comments': 0, u'state': u'open', u'body': u'# Python\\u4e2d\\u6587\\u5b57\\u7b26\\u7684\\u7406\\u89e3\\uff1astr()\\u3001repr()\\u3001print\\n\\n\\u90fd\\u8bf4Python\\u4eba\\u4e0d\\u628a\\u6587\\u5b57\\u7f16\\u7801\\u8fd9\\u5757\\u4ece\\u5934\\u5230\\u5c3e\\u3001\\u4ece\\u53e4\\u81f3\\u4eca\\u5168\\u7814\\u7a76\\u901a\\u900f\\u7684\\u8bdd\\u662f\\u5b8c\\u5168\\u73a9\\u4e0d\\u8f6c\\u7684\\u3002\\u6211\\u7ec8\\u4e8e\\u6df1\\u523b\\u7684\\u7406\\u89e3\\u5230\\u4e86\\u3002\\u901a\\u5bb5\\u4e86\\u597d\\u51e0\\u591c\\uff0c\\u5404\\u79cd\\u8bd5\\u9a8c\\uff0cprint\\u3001print\\u518dprint\\uff0c\\u4e2d\\u6587\\u8fd8\\u662f\\u65e2\\u5f97\\u4e0d\\u5230\\u4e5f\\u8f93\\u4e0d\\u51fa\\u3002\\n\\u770b\\u4e86\\u7f51\\u4e0a\\u51e0\\u4e4e\\u6240\\u6709\\u4e3b\\u8981\\u7684\\u76f8\\u5173\\u6587\\u7ae0\\uff0c\\u8fd8\\u662f\\u6ca1\\u641e\\u5b9a\\u3002\\u6c89\\u9759\\u4e0b\\u6765\\u5f00\\u59cb\\u53cd\\u601d\\uff1a\\u662f\\u4ed6\\u4eec\\u5199\\u7684\\u4e0d\\u597d\\uff0c\\u8fd8\\u662f\\u6211\\u7406\\u89e3\\u7684\\u4e0d\\u597d\\uff1f\\u6240\\u4ee5\\u6211\\u51b3\\u5b9a\\uff0c\\u518d\\u52a0\\u6df1\\u7a0b\\u5ea6\\uff0c\\u4e00\\u6b65\\u4e00\\u4e2a\\u811a\\u5370\\u5730\\u7814\\u7a76\\u8fd9\\u4e2a\\u95ee\\u9898\\uff0c\\u4e0d\\u5ffd\\u7565\\u4efb\\u4f55\\u4e00\\u4e2a\\u5c0f\\u7ec6\\u8282\\u7684\\u7406\\u89e3\\u3002\\u5148\\u4ece\\u5b57\\u7b26\\u4e32\\u5728Python\\u4e2d\\u6700\\u57fa\\u672c\\u7684\\u539f\\u7406\\u7406\\u89e3\\u8d77\\u3002\\n\\u9996\\u5148\\u8bf4\\u660e\\u4e00\\u4e0b\\uff0c\\u6211\\u7684\\u5f00\\u53d1\\u73af\\u5883\\u662f\\uff1a\\n\\n```\\npython --version : 2.7\\nOS: Windows 7 (32bit)\\nIDE: Sublime3, IDLE, Windows cmd\\u547d\\u4ee4\\u884c\\n```\\n## Python \\u5b57\\u7b26\\u4e32\\u7684\\u5b58\\u50a8\\n\\n\\u5148\\u770b\\u4e00\\u6bb5\\u4ee3\\u7801\\uff0c\\u8fd9\\u662f\\u5728IDLE\\u547d\\u4ee4\\u884c\\u4e2d\\u51e0\\u4e2a\\u7b80\\u5355\\u7684\\u4ea4\\u4e92\\uff1a\\n\\n``` python\\n    >>> \\'hello\\'\\n    \\'hello\\'\\n    >>> print \\'hello\\'\\n    hello\\n    >>> \\'\\u4f60\\u597d\\'\\n    \\'\\\\xc4\\\\xe3\\\\xba\\\\xc3\\'\\n    >>> print \\'\\u4f60\\u597d\\'\\n    \\u4f60\\u597d\\n```\\n\\n`(\\u90fd\\u77e5\\u9053\\u5728python\\u7684\\u547d\\u4ee4\\u884c\\u91cc\\uff0c\\u76f4\\u63a5\\u8f93\\u5165\\u4e00\\u4e2a\\u53d8\\u91cf\\u4f1a\\u663e\\u793a\\u5b83\\u7684\\u503c\\uff0c\\u76f4\\u63a5\\u8f93\\u5165\\u4e00\\u4e2a\\u590d\\u6742\\u5bf9\\u8c61\\u4f1a\\u7ed9\\u4f60\\u663e\\u793a\\u5b83\\u7684\\u5bf9\\u8c61\\u7c7b\\u578b\\u548c\\u5185\\u5b58\\u5730\\u5740)`\\n\\u4ece\\u4e0a\\u9762\\u53ef\\u4ee5\\u770b\\u51fa\\uff0c\\u53d8\\u91cf\\u65f6\\u82f1\\u6587\\u7684\\u8bdd\\u4e0d\\u7ba1\\u76f4\\u63a5\\u8f93\\u5165\\u8fd8\\u662fprint\\u7ed3\\u679c\\u90fd\\u4e00\\u6837\\u3002\\u53ef\\u662f\\u4e3a\\u4ec0\\u4e48`\\u76f4\\u63a5\\u8f93\\u5165\\u53d8\\u91cf`\\u548c`print\\u53d8\\u91cf`\\u4f1a\\u663e\\u793a\\u4e0d\\u4e00\\u6837\\u7684\\u4e1c\\u897f\\u5462\\uff1f\\n\\u539f\\u6765\\uff0cpython 2\\u7cfb\\u662f\\u7edd\\u5bf9`\\u82f1\\u6587\\u53cb\\u597d`\\u7684\\u3002\\u4e2d\\u6587\\u5bf9\\u4e8e\\u5b83\\u6765\\u8bf4\\uff0c**\\u53ea\\u5b58\\u50a8\\u4e3a\\u4e00\\u4e32\\u7f16\\u7801\\u800c\\u4e0d\\u662f\\u539f\\u6587**\\u3002\\n`\\\\xc4\\\\xe3\\\\xba\\\\xc3`\\u8fd9\\u79cd\\u4e1c\\u897f\\u5bf9\\u4e8e\\u4e2d\\u56fdpython\\u4eba\\u6765\\u8bf4\\u662f\\u518d\\u719f\\u6089\\u4e0d\\u8fc7\\u7684\\u4e1c\\u897f\\u4e86\\uff0c\\u6ca1\\u4e8b\\u5c31\\u8e66\\u51fa\\u6765\\u51e0\\u6b21\\u3002\\u6700\\u9017\\u7684\\u662f\\uff0c\\u6211\\u67e5\\u4e86\\u534a\\u5929\\uff0c`\\\\x$$`\\u8fd9\\u79cd\\u4e1c\\u897f\\u5230\\u5e95\\u662f\\u4ec0\\u4e48\\u7f16\\u7801\\uff0c\\u662futf-8\\u8fd8\\u662fgb2312\\uff1f\\u7adf\\u7136\\u6ca1\\u627e\\u5230\\u4ec0\\u4e48\\u660e\\u786e\\u7684\\u8bf4\\u6cd5\\uff0c\\u8fd9\\u4e2a\\u4e00\\u4f1a\\u513f\\u518d\\u8bf4\\u4e86\\u3002\\n### \\u8bdd\\u8bf4\\u56de\\u6765\\uff0c\\u4e3a\\u4ec0\\u4e48`\\'\\u4f60\\u597d\\'`\\u548c`print \\'\\u4f60\\u597d\\'`\\u7ed3\\u679c\\u4f1a\\u4e0d\\u4e00\\u6837\\u5462\\uff1f\\n\\n\\u5728\\u67e5\\u770b`print`\\u5b98\\u65b9\\u6587\\u6863\\u65f6\\u53d1\\u73b0\\uff0c\\u5728python\\u91cc\\u9762print\\u662f\\u4e00\\u4e2a\\u975e\\u5e38\\u5389\\u5bb3\\u7684\\u5c0f\\u5bb6\\u4f19\\uff1a\\u5b83\\u80fd\\u628a\\u51e0\\u4e4e\\u4efb\\u4f55\\u5e38\\u89c1\\u7c7b\\u578b\\u7684\\u5bf9\\u8c61\\u6253\\u5370\\u6210\\u4e00\\u4e32\\u6587\\u5b57\\uff0c\\u751a\\u81f3\\u5305\\u62ec\\u5217\\u8868\\u3001\\u5b57\\u5178\\u3001\\u5143\\u7ec4\\u7b49\\u7b49\\u3002\\u8fd9\\u5728\\u522b\\u7684\\u8bed\\u8a00\\u91cc\\u662f\\u4e0d\\u53ef\\u7406\\u89e3\\u7684\\uff0c\\u6240\\u4ee5\\u7ed9\\u4ece\\u5176\\u4ed6\\u8bed\\u8a00\\u8f6c\\u8fc7\\u6765\\u7684\\u4eba\\u57cb\\u4e86\\u4e2a\\u5927\\u5751\\u3002\\n### \\u603b\\u7ed3\\uff1aPython\\u4e2d\\u51fa\\u73b0\\u7684\\u4efb\\u4f55\\u4e2d\\u6587\\uff0c\\u867d\\u7136\\u6211\\u4eec\\u5728\\u7f16\\u8f91\\u5668\\u91cc\\u770b\\u5230\\u7684\\u662f\\u4e2d\\u6587\\uff0c\\u4f46\\u662f\\u80cc\\u5730\\u91cc\\u5168\\u662f\\u4e00\\u4e32\\u7f16\\u7801\\u3002\\u5343\\u4e07\\u4e0d\\u8981\\u8f7b\\u6613\\u4fe1\\u4efbprint\\uff01`print xx`\\u7ed9\\u4f60\\u663e\\u793a\\u51fa\\u6765\\u7684\\uff0c\\u5176\\u5b9e\\u5e76\\u4e0d\\u662fxx\\u7684\\u771f\\u5b9e\\u9762\\u8c8c\\uff01\\n\\n\\u81f3\\u4e8e\\u8fd9\\u4e2a\\u7f16\\u7801\\u662f\\u4ec0\\u4e48\\u683c\\u5f0f\\uff0cunicode\\u8fd8\\u662futf-8\\u4e4b\\u7c7b\\uff0c\\u4e00\\u4f1a\\u518d\\u8bf4\\u3002\\n## Python\\u4e2d\\u7684`str()`\\u548c`repr()`\\u539f\\u751f\\u51fd\\u6570\\n\\n\\u597d\\u591a\\u4eba\\u90fd\\u77e5\\u9053str()\\u80fd\\u628a123\\u6570\\u5b57\\u8f6c\\u6210\\u5b57\\u7b26\\u4e32\\uff0cpython\\u91cc\\u7684str()\\u751a\\u81f3\\u8fd8\\u80fd\\u628a\\u5217\\u8868\\u3001\\u5b57\\u5178\\u7b49\\u5bf9\\u8c61\\u8f6c\\u6210\\u5b57\\u7b26\\u4e32\\u3002\\u8fd9\\u90fd\\u597d\\u7406\\u89e3\\uff0c\\u53ef\\u662f\\u4e00\\u65e6\\u628a`str()`\\u548c`repr()`\\u653e\\u5728\\u4e00\\u8d77\\uff0c\\u5927\\u5bb6\\u5c31\\u5168\\u90fd\\u4e0d\\u6de1\\u5b9a\\u4e86-_-!\\n\\u6765\\u770b\\u4e00\\u6bb5\\u4ee3\\u7801\\uff0c\\u4ecd\\u662f\\u5728IDLE\\u91cc\\u4ea4\\u4e92\\uff1a\\n\\n``` python\\n    >>> str(\\'hello\\')\\n    \\'hello\\'\\n    >>> repr(\\'hello\\')\\n    \"\\'hello\\'\"\\n\\n    >>> str(\\'\\u4f60\\u597d\\')\\n    \\'\\\\xc4\\\\xe3\\\\xba\\\\xc3\\'\\n    >>> repr(\\'\\u4f60\\u597d\\')\\n    \"\\'\\\\\\\\xc4\\\\\\\\xe3\\\\\\\\xba\\\\\\\\xc3\\'\"\\n```\\n\\n\\u5148\\u770b\\u524d\\u4e24\\u53e5\\uff1a\\u82f1\\u6587\\u7684\\'hello\\'\\u5728str()\\u540e\\u4ecd\\u662f\\'hello\\'\\uff0c\\u53ef\\u662f\\u5728repr()\\u540e\\u5c31\\u53d8\\u6210\\u4e86\"\\'hello\\'\"\\u3002\\u8fd9\\u5c31\\u8bf4\\u660e\\uff0cstr()\\u8fd4\\u56de\\u7684\\u5c31\\u662f\\u5b57\\u7b26\\u4e32\\u672c\\u8eab\\uff0c\\u800crepr()\\u867d\\u7136\\u8fd4\\u56de\\u7684\\u4e5f\\u662f\\u5b57\\u7b26\\u4e32\\uff0c\\u4f46\\u5b83\\u662f\\u4e00\\u4e2a`\\u6807\\u51c6\\u5b57\\u7b26\\u4e32`\\uff0c\\u5b98\\u65b9\\u89e3\\u91ca\\u6bd4\\u8f83\\u7ed5\\uff0c\\u6211\\u6765\\u89e3\\u91ca\\u4e0b\\u5427\\u3002`repr`\\u662frepresentation\\u53ca\\u63cf\\u8ff0\\u7684\\u610f\\u601d\\uff0c\\u4e0d\\u662f\\u5bf9\\u4eba\\u7684\\u63cf\\u8ff0\\uff0c\\u800c\\u662f\\u5bf9python\\u673a\\u5668\\u7684\\u63cf\\u8ff0\\uff0c\\u4e5f\\u5c31\\u662f\\u5b83\\u4f1a\\u5c06\\u67d0\\u7269\\u8fd4\\u56de\\u4e00\\u4e2a\\u5b83`\\u5728python\\u4e2d\\u7684\\u63cf\\u8ff0`\\u3002\\u8bf4\\u4eba\\u8bdd\\uff1a`repr(obj)`\\u544a\\u8bc9\\u6211\\u4eecobj\\u8fd9\\u4e2a\\u53d8\\u91cf\\u5728\\u80cc\\u5730\\u91cc\\u662f\\u4ec0\\u4e48\\u6837\\u5b50\\uff0c\\u5728\\u80cc\\u5730\\u91cc\\u662f\\u600e\\u4e48\\u88abpython\\u5904\\u7406\\u88abpython\"\\u73a9\\u5f04\"\\u7684\\u3002\\n**\\u5728python\\u91cc\\uff0c\\u6211\\u4eec\\u603b\\u4f1a\\u88ab\\u773c\\u775b\\u6b3a\\u9a97\\u3002\\u7f16\\u8f91\\u5668\\u91cc\\u663e\\u793a\\u7684\\u4e1c\\u897f\\uff0c\\u5e76\\u4e0d\\u603b\\u662f\\u5b83\\u539f\\u672c\\u7684\\u9762\\u8c8c\\u3002python\\u4e3a\\u4e86\\u65b9\\u4fbf\\uff0c\\u603b\\u662f\\u8868\\u9762\\u4e0a\\u4e00\\u5957\\uff0c\\u80cc\\u5730\\u91cc\\u53c8\\u4e00\\u5957\\u3002**\\n\\u518d\\u6765\\u7406\\u89e3\\u540e\\u4e24\\u53e5\\uff1a\\u4e2d\\u6587\\u7684\\'\\u4f60\\u597d\\'\\u5728str()\\u540e\\u53d8\\u6210\\u4e86\\u7f16\\u7801\\'\\\\xc4\\\\xe3\\\\xba\\\\xc3\\'\\uff0c\\u5728repr()\\u540e\\u53d8\\u6210\\u4e86\"\\'\\\\xc4\\\\xe3\\\\xba\\\\xc3\\'\"\\u3002`\\\\`\\u90fd\\u52a0\\u4e0a\\u4e86\\u8f6c\\u79fb\\u7b26\\u53d8\\u6210`\\\\\\\\`\\uff0c\\u76f8\\u5f53\\u4e8e\\u628a\\u5b57\\u7b26\\u4e32\\u4e2d\\u7684\\u5185\\u5bb9\\u90fd\\u201c\\u6807\\u51c6\\u5316\\u201d\\u4e86\\u3002\\u81f3\\u4e8e`\\'`\\u53d8\\u6210`\"`\\u53ea\\u662f\\u4e3a\\u4e86\\u8bf4\\u660erepr()\\u8fd4\\u56de\\u7684\\u662f\\u4e00\\u4e2a\\u7ecf\\u8fc7\\u5904\\u7406\\u7684\\u65b0\\u5b57\\u7b26\\u4e32\\u3002\\n## print\\u540e\\u7684str()\\u548crepr()\\n\\n\\u6765\\u770b\\u4ee3\\u7801\\uff1a\\n\\n```\\n    >>> print str(\\'\\u4f60\\u597d\\')\\n    \\u4f60\\u597d\\n    >>> print repr(\\'\\u4f60\\u597d\\')\\n    \\'\\\\xc4\\\\xe3\\\\xba\\\\xc3\\'\\n```\\n\\n\\u4e4b\\u524dstr(\\'\\u4f60\\u597d\\')\\u663e\\u793a\\u7684\\u662f`\\'\\\\xc4\\\\xe3\\\\xba\\\\xc3\\'`\\uff0c\\u800c\\u4e00\\u7ecf\\u8fc7print\\uff0c\\u5c31\\u53d8\\u6210\\u4e86\\u6b63\\u786e\\u7684\\'\\u4f60\\u597d\\'\\u3002\\u4e0a\\u9762\\u8bf4\\u8fc7\\u4e86\\uff0c\\u547d\\u4ee4\\u884c\\u91cc\\u76f4\\u63a5\\u8f93\\u5165\\u4e00\\u4e2a\\u53d8\\u91cf\\uff0c\\u663e\\u793a\\u7684\\u662f\\u5b83\\u5728python\\u540e\\u53f0\\u5b58\\u50a8\\u7684\\u6570\\u636e\\uff1b\\u800c\\u7528print\\u51fa\\u6765\\u7684\\u4e1c\\u897f\\uff0c\\u4f1a\\u663e\\u51fa\\u51fa\\u5c3d\\u91cf\\u53cb\\u597d\\u3001\\u8ba9\\u4eba\\u80fd\\u770b\\u61c2\\u7684\\u4e1c\\u897f\\u3002\\n\\u7406\\u89e3\\u4e86\\u8fd9\\u4e2a\\uff0c\\u5bf9print\\u8fd9\\u4e24\\u4e2a\\u7ed3\\u679c\\u7684\\u4e0d\\u540c\\uff0c\\u4e5f\\u5c31\\u5168\\u7136\\u7406\\u89e3\\u4e86\\u3002\\u7136\\u540e\\u4e5f\\u5c31\\u653e\\u5f03print\\u4f5c\\u4e3a\\u8003\\u636e\\u7684\\u5fc3\\u4e86\\u3002\\n\\n_\\u53e6\\u5916\\uff0c\\u4ee5\\u4e0a\\u4ee3\\u7801\\u7684\\u4ea4\\u4e92\\uff0c\\u518dwindows\\u7cfb\\u7edfcmd\\u4e2d\\uff0c\\u7ed3\\u679c\\u662f\\u4e00\\u6837\\u7684\\u3002_\\n### \\u8fd9\\u6837\\u4e00\\u6765\\uff0cpython\\u5bf9\\u5b57\\u7b26\\u4e32\\u7684\\u57fa\\u672c\\u7406\\u89e3\\u5c31\\u5dee\\u4e0d\\u591a\\u4e86\\u3002\\u8fd9\\u7bc7\\u6587\\u7ae0\\u91cc\\u5c3d\\u91cf\\u907f\\u514d\\u4e86\\u5bf9\\u5404\\u79cdcode\\u7f16\\u7801\\u7684\\u8ba8\\u8bba\\uff0c\\u5982unicode, ascii, ANSI, UTF-8, GB2312, GBK\\u7b49\\u7b49\\uff0c\\u662f\\u56e0\\u4e3a\\u592a\\u590d\\u6742\\u4e86\\u3002\\u7b80\\u5355\\u4e1c\\u897f\\u5148\\u7406\\u89e3\\uff0c\\u628a\\u57fa\\u7840\\u5148\\u6253\\u7262\\uff0c\\u590d\\u6742\\u7684\\u4e1c\\u897f\\u4e0b\\u4e00\\u7bc7\\u518d\\u7814\\u7a76\\u3002\\n', u'author_association': u'OWNER', u'labels_url': u'https://api.github.com/repos/solomonxie/solomonxie.github.io/issues/10/labels{/name}', u'events_url': u'https://api.github.com/repos/solomonxie/solomonxie.github.io/issues/10/events', u'comments_url': u'https://api.github.com/repos/solomonxie/solomonxie.github.io/issues/10/comments', u'html_url': u'https://github.com/solomonxie/solomonxie.github.io/issues/10', u'number': 10, u'user': {u'following_url': u'https://api.github.com/users/solomonxie/following{/other_user}', u'gists_url': u'https://api.github.com/users/solomonxie/gists{/gist_id}', u'organizations_url': u'https://api.github.com/users/solomonxie/orgs', u'url': u'https://api.github.com/users/solomonxie', u'events_url': u'https://api.github.com/users/solomonxie/events{/privacy}', u'html_url': u'https://github.com/solomonxie', u'subscriptions_url': u'https://api.github.com/users/solomonxie/subscriptions', u'avatar_url': u'https://avatars2.githubusercontent.com/u/14041622?v=4', u'repos_url': u'https://api.github.com/users/solomonxie/repos', u'received_events_url': u'https://api.github.com/users/solomonxie/received_events', u'gravatar_id': u'', u'starred_url': u'https://api.github.com/users/solomonxie/starred{/owner}{/repo}', u'site_admin': False, u'login': u'solomonxie', u'type': u'User', u'id': 14041622, u'followers_url': u'https://api.github.com/users/solomonxie/followers'}, u'milestone': None, u'locked': False, u'url': u'https://api.github.com/repos/solomonxie/solomonxie.github.io/issues/10', u'created_at': u'2015-12-09T07:29:30Z', u'assignees': []}, {u'labels': [{u'color': u'd4c5f9', u'default': False, u'url': u'https://api.github.com/repos/solomonxie/solomonxie.github.io/labels/Python', u'id': 290633688, u'name': u'Python'}], u'updated_at': u'2015-12-08T10:18:33Z', u'assignee': None, u'repository_url': u'https://api.github.com/repos/solomonxie/solomonxie.github.io', u'closed_at': None, u'id': 120883295, u'title': u'\\u5bf9Python 2.x\\u7684\\u901a\\u5bb5\\u62b1\\u6028', u'comments': 1, u'state': u'open', u'body': u'# \\u603b\\u4e4b\\u5bf9\\u4e8e\\u8fd9\\u4e2a\\u6211\\u552f\\u4e00\\u8ba4\\u5b9a\\u7684\\u4e8b\\u5c31\\u662f\\uff1aPython\\u91cc\\u8981\\u662f\\u5f04\\u4e0d\\u660e\\u767d\\u7f16\\u7801\\uff0c\\u90a3\\u8fd9\\u4e2a\\u8bed\\u8a00\\u5c31\\u653e\\u5f03\\u5427\\uff01\\n\\n\\u4e0b\\u9762\\u662f\\u76ee\\u524d\\u6536\\u83b7\\u5230\\u7684\\u4e00\\u4e9b\\u5185\\u5bb9\\uff0c\\u6ca1\\u5199\\u5b8c\\uff0c\\u518d\\u8bae\\u5427\\u3002\\u3002\\u3002\\n\\n\\u9996\\u5148\\u8981\\u5728\\u6587\\u4ef6\\u7b2c\\u4e00\\u884c\\u5199\\u4e0a`\\u7f16\\u7801\\u58f0\\u660e`\\n\\n```\\n#coding:utf-8\\n```\\n\\n\\u7f16\\u7801\\u58f0\\u660e\\u7684\\u683c\\u5f0f\\u5176\\u5b9e\\u5f88\\u968f\\u610f\\u7684\\uff0ccoding=utf-8, -_\\\\- Coding:Utf-8 -_\\\\- \\u7b49\\u7b49\\u90fd\\u884c\\uff0c  \\nPython\\u53ea\\u8bc6\\u522b\\u5173\\u952e\\u7684\\u5b57\\u3002  \\n\\u5982\\u679c\\u4e0d\\u5199\\u7f16\\u7801\\u58f0\\u660e\\uff0c\\u90a3\\u4e48\\u6587\\u4ef6\\u4e2d\\u51fa\\u73b0\\u7684\\u4efb\\u4f55\\u4e2d\\u6587\\u90fd\\u4f1a\\u62a5\\u9519\\uff1a  \\n`SyntaxError: Non-ASCII character \\'\\\\xe5\\' in file xx.py on line 2, \\n    but no encoding declared; see http://python.org/dev/peps/pep-0263/ for details`\\n\\nPython 2.x \\u7cfb\\u5217\\u5bf9\\u4e2d\\u6587\\u771f\\u662f\\u5f31\\u7206\\u4e86\\uff0c\\u67e5\\u4e86\\u5de8\\u591a\\u7684\\u6587\\u732e\\uff0c\\u8fd8\\u662f\\u4e0d\\u90a3\\u4e48\\u660e\\u4e86\\u3002  \\n\\u672c\\u6765\\u60f3\\u8981\\u7ec3\\u4e60\\u5f00\\u53d1\\u4e2a\\u4ec0\\u4e48\\u5c0f\\u7a0b\\u5e8f\\uff0c\\u7ed3\\u679c\\u5168\\u90fd\\u88ab\\u627c\\u6740\\u5728\\u7f16\\u7801\\u7684\\u5751\\u91cc\\u4e86\\u3002  \\n\\u968f\\u4fbf\\u641c\\u4e00\\u641c\"Python \\u7f16\\u7801\"\\u5c31\\u77e5\\u9053\\uff0c\\u6240\\u6709\\u4f5c\\u8005\\u4eec\\u90fd\\u9047\\u5230\\u4e86\\u4e00\\u6bdb\\u4e00\\u6837\\u7684\\u95ee\\u9898\\u3002\\u3002\\u3002  \\n\\u636e\\u8bf4\\uff0c\\n\\n```\\n\\u9664\\u975e\\u628a\\u6574\\u4e2a\\u7f16\\u7801\\u7cfb\\u7edf\\u4ece\\u53e4\\u81f3\\u4eca\\u7684\\u5386\\u53f2\\u719f\\u900f\\uff0c\\u5404\\u7f16\\u7801\\u7684\\u539f\\u7406\\u901a\\u900f\\uff0c\\n\\u76f8\\u4e92\\u4e4b\\u95f4\\u7684\\u8f6c\\u6362\\u4e86\\u719f\\u4e8e\\u80f8\\uff0cPython\\u7684\\u8fd9\\u4e2a\\u5751\\u662f\\u8de8\\u4e0d\\u8fc7\\u53bb\\u7684\\u3002\\u5c0f\\u770b\\u4e86\\u8fd9\\u5c0f\\u73a9\\u610f\\u513f\\uff01  \\n```\\n\\n\\u4e0b\\u9762\\u5f00\\u59cb\\u6b63\\u5f0f\\u7814\\u7a76\\u4e0b\\u5427\\uff0c\\u4e89\\u53d6\\u80fd\\u505a\\u5230practical\\u3002\\n\\n\\u8fd9\\u662f\\u539f\\u59cb\\u6c49\\u5b57\\u6570\\u636e\\uff1a\\n\\n```\\nchinese = \\'\\u4f60\\u597d\\' # \\u666e\\u901a\\u4e2d\\u6587\\u5b57\\u7b26\\u4e32\\nuni = u\\'\\u4f60\\u597d\\' # \\u5b57\\u7b26\\u4e32\\u524d\\u52a0u\\u4ee3\\u8868\\u8f6c\\u6362\\u4e3aunicode\\u53d8\\u91cf\\u7c7b\\u578b\\n```\\n# \\u7814\\u7a76\\u4e00\\u4e2a\\u539f\\u59cb\\u7684\\u4e2d\\u6587\\u5b57\\u7b26\\u4e32\\n\\n\\u5728IDLE\\u547d\\u4ee4\\u884c\\u4e2d\\u6267\\u884c\\u4e00\\u4e0b\\u8bd5\\u8bd5\\n\\n```\\n>>> chinese\\n\\'\\\\xc4\\\\xe3\\\\xba\\\\xc3\\'\\n>>> print chinese\\n\\u4f60\\u597d\\n>>> type(chinese)\\n<type \\'str\\'>\\n```\\n\\n\\u8fd9\\u662f\\u4ec0\\u4e48\\u9b3c\\uff01\\u4e3a\\u4ec0\\u4e48\\u76f4\\u63a5\\u8f93\\u53d8\\u91cf\\u540d\\u548c\\u6253\\u5370\\u53d8\\u91cf\\u540d\\u4f1a\\u4e0d\\u4e00\\u6837\\u5462\\uff1f\\uff01\\n\\u9759\\u6084\\u6084\\u7684\\u7406\\u89e3\\u4e00\\u4e0b\\uff0c\\u5e94\\u8be5\\u662f\\uff1a\\nchinese\\u53d8\\u91cf\\u5728\\u5185\\u5b58\\u4e2d\\u5b58\\u50a8\\u7684\\u5c31\\u662f`\\\\xc4`\\u8fd9\\u79cd\\u7f16\\u7801\\uff0c\\u662f\\u7ed9\\u673a\\u5668\\u770b\\u7684\\n\\u800cprint\\u6253\\u5370\\u51fa\\u6765\\u7684\\u662f\\u7ed9\\u4eba\\u770b\\u7684\\uff0c\\u6240\\u4ee5python\\u8981\\u5904\\u7406\\u4e00\\u4e0b\\u8ba9\\u4eba\\u80fd\\u770b\\u61c2\\u3002\\n\\u518d\\u6765\\u8bf4\\uff0c`\\\\xc4`\\u8fd9\\u662f\\u4e2a\\u4ec0\\u4e48\\u7801\\uff1f\\u800c\\u4e14`\\u4f60\\u597d`\\u662f\\u4e24\\u4e2a\\u5b57\\uff0c\\u4e3a\\u4ec0\\u4e48\\u7f16\\u7801\\u91cc\\u67094\\u4e2a`\\\\x$$`\\u8fd9\\u79cd\\uff1f\\n\\u6240\\u4ee5\\u63a8\\u7406\\u5230\\uff0cpython\\u5bf9\\u6bcf\\u4e2a\\u6c49\\u5b57\\u662f\\u75282\\u4e2a\\u7f16\\u7801\\u6765\\u5b58\\u50a8\\u7684\\u3002\\n\\u9996\\u5148\\u80fd\\u786e\\u5b9a\\u7684\\u662f\\uff0c`\\\\x$$`\\u8fd9\\u79cd\\u683c\\u5f0f\\u662fASCII\\u7f16\\u7801\\uff0c\\u56e0\\u4e3a\\u767e\\u79d1\\u5230\\u5982\\u4e0b\\uff1a\\n\\n> ASCII(American Standard Code forInformation Interchange)\\uff0c\\u662f\\u4e00\\u79cd\\u5355\\u5b57\\u8282\\u7684\\u7f16\\u7801\\u3002\\u8ba1\\u7b97\\u673a\\u4e16\\u754c\\u91cc\\u4e00\\u5f00\\u59cb\\u53ea\\u6709\\u82f1\\u6587\\uff0c\\u800c\\u5355\\u5b57\\u8282\\u53ef\\u4ee5\\u8868\\u793a256\\u4e2a\\u4e0d\\u540c\\u7684\\u5b57\\u7b26\\uff0c\\u53ef\\u4ee5\\u8868\\u793a\\u6240\\u6709\\u7684\\u82f1\\u6587\\u5b57\\u7b26\\u548c\\u8bb8\\u591a\\u7684\\u63a7\\u5236\\u7b26\\u53f7\\u3002\\u4e0d\\u8fc7ASCII\\u53ea\\u7528\\u5230\\u4e86\\u5176\\u4e2d\\u7684\\u4e00\\u534a\\uff08\\\\x80\\u4ee5\\u4e0b\\uff09\\n\\n\\u4e5f\\u5c31\\u662f\\u8bf4\\uff0c\\u82f1\\u6587\\u5b57\\u6bcd\\u7528`\\\\x01`\\u5230`\\\\x80`\\u4e4b\\u95f4\\u7684\\u6570\\u8868\\u793a\\uff0c\\u6570\\u5b57\\u4e0d\\u7528\\u7f16\\u7801\\uff0c\\n\\u90a3\\u4e48\\u6c49\\u5b57\\u8fd9\\u79cd\\u56fd\\u5916\\u5b57\\u5c31\\u5168\\u90e8\\u90fd\\u662f\\u4ece`\\\\x80`\\u5f80\\u540e\\u6392\\u4e86\\u3002\\u56e0\\u4e3a\\u5b57\\u592a\\u591a\\uff0c\\u80af\\u5b9a\\u4e0d\\u591f\\u7528\\uff0c\\u6240\\u4ee5:\\n1. \\u683c\\u5f0f\\u53d8\\u6210\\u4e86\\'\\\\x\\u5b57\\u6bcd\\u6570\\u5b57\\'\\u8fd9\\u79cd\\u4e1c\\u897f\\n2. \\u800c\\u4e14\\u8fd8\\u7528\\u4e24\\u4e2a\\u5b57\\u8282\\u7801\\u6765\\u8868\\u793a\\u4e00\\u4e2a\\u4e2d\\u56fd\\u6c49\\u5b57\\u3002\\n## \\u7528chardet\\u68c0\\u6d4b\\u5b57\\u7b26\\u4e32\\u7f16\\u7801\\n\\n\\u90a3\\u4e48\\u6765\\u68c0\\u9a8c\\u4e00\\u4e0b\\u6211\\u7684\\u63a8\\u7406\\u5427\\uff1f\\u7528\\u4e2a\\u7b2c\\u4e09\\u65b9\\u6a21\\u5757`chardet`  \\n\\n``` python\\nimport chardet\\nprint chardet.detect(\\'\\u4f60\\u597d\\')\\n# [\\u7ed3\\u679c]: {\\'confidence\\': 0.3598212120361634, \\'encoding\\': \\'TIS-620\\'}\\n```\\n\\n\\u8fd9\\u4ec0\\u4e48\\u9b3c\\uff01\\uff01\\u4e3a\\u4ec0\\u4e48\\u68c0\\u6d4b\\u51fa\\u6765\\u670935%\\u7684`TIS-620\\u7f16\\u7801`\\uff1f\\n\\u4e0d\\u80fd\\u653e\\u5f03\\uff0c\\u6211\\u518d\\u6765\\u8bd5\\u4e00\\u8bd5\\uff1a\\n\\n``` python\\nimport chardet\\nprint chardet.detect(str(\\'\\u4f60\\u597d\\'))\\n# [\\u7ed3\\u679c]: {\\'confidence\\': 0.3598212120361634, \\'encoding\\': \\'TIS-620\\'}\\nprint chardet.detect(repr(\\'\\u4f60\\u597d\\'))\\n# [\\u7ed3\\u679c]: {\\'confidence\\': 1.0, \\'encoding\\': \\'ascii\\'}\\n```\\n\\n\\u771f\\u662f\\u53d7\\u591f\\u4e86\\u3002\\u3002\\u3002\\n\\u4e3a\\u4ec0\\u4e48\\u68c0\\u6d4b`str()`\\u51fa\\u6765\\u7684\\u5c31\\u662f`TIS-620`\\uff0c\\u800c\\u68c0\\u6d4b`repr()`\\u51fa\\u6765\\u7684\\u5c31\\u662f`ASCII`\\u5462\\uff1f\\nPython\\u4e16\\u754c\\u4e2d\\uff0cstr\\u548crepr\\u5230\\u5e95\\u8c01\\u624d\\u66f4\\u63a5\\u8fd1\\u672c\\u6e90\\u3001\\u8c01\\u624d\\u662f\\u51fa\\u6765\\u6363\\u4e71\\u7684\\u5462\\uff1f\\n\\u5509\\u7b97\\u4e86\\u5427\\uff0c\\u4e0d\\u7528\\u8fd9\\u4e2a\\u4e86\\u3002\\n## str \\u548c repr \\u5728\\u5b58\\u50a8\\u548cprint\\u6253\\u5370\\u4e0a\\u7684\\u5bf9\\u6bd4\\n\\n\\u6211\\u53c8\\u60f3\\u8d77\\u4e86\\u4e00\\u4e2a\\u5b9e\\u9a8c\\uff0c\\u6211\\u4eec\\u518d\\u6765\\u4e00\\u4e0b\\uff1a\\n\\n```\\n>>> repr(\\'\\u4f60\\u597d\\')\\n\"\\'\\\\\\\\xc4\\\\\\\\xe3\\\\\\\\xba\\\\\\\\xc3\\'\"\\n>>> print repr(\\'\\u4f60\\u597d\\')\\n\\'\\\\xc4\\\\xe3\\\\xba\\\\xc3\\'\\n>>> str(\\'\\u4f60\\u597d\\')\\n\\'\\\\xc4\\\\xe3\\\\xba\\\\xc3\\'\\n>>> print str(\\'\\u4f60\\u597d\\')\\n\\u4f60\\u597d\\n```\\n\\n\\u4ec0\\u4e48\\u6bdb\\u75c5\\uff01\\u636e\\u8bf4`repr()`\\u548c`str()`\\u662f\\u4e00\\u6837\\u7684\\u554a\\uff01\\u600e\\u4e48\\u4f1a\\u8fd9\\u6837\\u5462\\uff1f\\n\\u5b9e\\u9a8c\\u91cc\\uff0c`repr()`\\u548c`str()`\\u7684\\u5185\\u5b58\\u6570\\u636e\\u7684\\u786e\\u662f\\u4e00\\u6837\\u7684\\uff0c\\u4f46\\u662f\\u4e00print\\u5c31\\u4e0d\\u4e00\\u6837\\u4e86\\uff1a\\n\\u53ea\\u6709print `str()`\\u624d\\u4f1a\\u663e\\u793a\\u51fa\\u4e2d\\u6587\\uff01\\n\\u90a3\\u53ef\\u80fd\\u662fprint\\u7684\\u95ee\\u9898\\u4e86\\u3002\\u90a3\\u662f\\u4e0d\\u662f\\u8bf4\\u5982\\u679c\\u6211\\u4e0dprint\\uff0c\\u800c\\u662f\\u522b\\u7684\\u64cd\\u4f5c\\u5982\\u5b58\\u5230\\u6587\\u4ef6\\u4e2d\\uff0c\\u90a3\\u4e48\\u5c31\\u4e0d\\u4f1a\\u6709\\u4e2d\\u6587\\u51fa\\u73b0\\u4e86\\uff1f\\u8bd5\\u8bd5\\u5427\\uff1a\\n\\n``` python\\nf = open(\\'test.txt\\', \\'w\\')\\nf.write(str(\\'\\u4f60\\u597d\\'))\\nf.write(repr(\\'\\u4f60\\u597d\\'))\\n# [\\u7ed3\\u679c]\\uff1a\\u4f60\\u597d \\'\\\\xe4\\\\xbd\\\\xa0\\\\xe5\\\\xa5\\\\xbd\\'\\n```\\n\\n\\u4e5f\\u5c31\\u662f\\u8bf4\\u4e0d\\u662fprint\\u7684\\u95ee\\u9898\\u4e86\\uff0c`str()`\\u548c`repr()`\\u5728\\u672c\\u8d28\\u4e0a\\u5c31\\u662f\\u6709\\u533a\\u522b\\u7684\\u3002\\n\\u53ea\\u6709`str()`\\u4f1a\\u628a\\u4e2d\\u6587\\u663e\\u793a\\u51fa\\u6765\\uff0c\\u800c`repr()`\\u4e0d\\u4f46\\u4f1a\\u628a\\u4e2d\\u6587\\u663e\\u793a\\u6210`ASCII\\u7801`\\uff0c\\n\\u8fd8\\u4f1a\\u5f02\\u5e38\\u641e\\u7b11\\u7684\\u628a\\u5728print\\u91cc\\u663e\\u793a4\\u4f4d\\u5b57\\u8282\\u7801\\u53d8\\u62106\\u4f4d\\u5b57\\u8282\\u7801\\uff01\\uff01\\uff01\\u8fd9\\u662f\\u4ec0\\u4e48\\u6bdb\\u75c5\\uff1f\\uff01\\n\\u597d\\u5427\\uff0c\\u8fd9\\u4e2a\\u5148\\u7559\\u7740\\uff0c\\u6765\\u770b\\u770b\\u8f6c\\u6210\\u4e86unicode\\u7684\\u4e2d\\u6587\\u5427\\u3002\\n# \\u7814\\u7a76\\u5df2\\u53d8\\u6210unicode\\u7c7b\\u578b\\u7684\\u4e2d\\u6587\\u5b57\\u7b26\\u4e32\\n\\n\\u597d\\u5427\\uff0c\\u518d\\u6765\\u8bd5\\u4e00\\u8bd5uni\\uff1a\\n\\n```\\n>>> uni\\nu\\'\\\\u4f60\\\\u597d\\'\\n>>> print uni\\n\\u4f60\\u597d\\n>>> type(uni)\\n<type \\'unicode\\'>\\n```\\n\\n\\u8fd9\\u53c8\\u662f\\u4ec0\\u4e48\\u9b3c\\uff01\\u6211\\u539f\\u5148\\u7684\\u60f3\\u8c61\\u662f\\uff0c\\nprint\\u4e00\\u4e2aunicode\\u5bf9\\u8c61\\uff0c\\u80af\\u5b9a\\u51fa\\u6765\\u7684\\u662funicode\\u7801\\uff0c\\u4f46\\u4e24\\u79cd\\u65b9\\u6cd5\\u7684\\u7ed3\\u679c\\u5b8c\\u5168\\u53cd\\u4e86\\u3002\\u3002\\u3002\\n\\u518d\\u9759\\u6084\\u6084\\u7684\\u7406\\u89e3\\u4e0b\\uff0cuni\\u80af\\u5b9a\\u4e5f\\u662f\\u5728\\u5185\\u5b58\\u4e2d\\u5b58\\u50a8\\u7684\\u662funicode\\u7f16\\u7801\\u3002\\n\\u5728python\\u4e2dunicode\\u7684\\u683c\\u5f0f\\u662f\\uff1au\\'\\\\u$$$$\\'\\uff0c\\u5176\\u4e2d$$$$\\u4ee3\\u88684\\u4f4d\\u7684\\u5b57\\u7b26\\u7f16\\u7801\\u3002\\n\\u7136\\u540e\\u53c8\\u8bd5\\u4e86\\u4e00\\u4e0b\\u8fd9\\u4e2a\\uff1a\\n## str(unicode\\u7c7b\\u578b) \\u548c repr(unicode\\u7c7b\\u578b) \\u7ed3\\u679c\\u7684\\u5bf9\\u6bd4\\n\\n```\\n>>> str(uni)\\n.......\\nUnicodeEncodeError: \\'ascii\\' codec can\\'t encode characters in position 0-1 ......\\n>>> repr(uni)\\n\"u\\'\\\\\\\\u4f60\\\\\\\\u597d\\'\"\\n```\\n## str()\\u548crepr()\\u7684\\u5bf9\\u6bd4\\n\\n\\u8fd9\\u4e2a\\u597d\\u7406\\u89e3\\uff0c\\u7528`help(str)`\\u547d\\u4ee4\\u53ef\\u4ee5\\u770b\\u5230\\uff1a\\nstr(`basestring`)\\u662f\\u5c06\\u67d0\\u4e2aobject\\u53d8\\u6210\\u4e00\\u4e2a\\u6f02\\u4eae\\u7684\\u6613\\u89c2\\u770b\\u7684\\u5b57\\u7b26\\u4e32\\u3002\\n\\u5e76\\u4e14\\uff0c\\u5b83\\u9700\\u8981\\u7684\\u662fbasestring\\u7c7b\\u578b\\u53d8\\u91cf\\u4f5c\\u4e3a\\u53c2\\u6570\\u3002\\n\\u800c`help(repr)`\\u53ea\\u662f\\u7b80\\u5355\\u8bf4\\uff0crepr(`object`)\\u4f1a\\u8fd4\\u56de\\u8fd9\\u4e2aobject\\u7684\\u89c4\\u8303\\u5316\\u5b57\\u7b26\\u4e32\\u3002\\n\\u5b83\\u5bf9\\u53c2\\u6570\\u5e76\\u6ca1\\u6709\\u4ec0\\u4e48\\u8981\\u6c42\\u3002\\n\\u8fd9\\u6837\\u5bf9\\u6bd4\\u6765\\u770b\\u7684\\u8bdd\\uff0cstr\\u548crepr\\u5728**in**\\u548c**out**\\u4e0a\\u90fd\\u4e0d\\u4e00\\u6837\\u3002\\nstr \\u5bf9\\u8c01\\u8fdb\\u6765\\u6709\\u9650\\u5b9a\\uff0c\\u51fa\\u53bb\\u8981\\u6f02\\u4eae\\u8981\\u597d\\u770b\\uff1b\\nrepr\\u5bf9\\u8c01\\u8fdb\\u6765\\u65e0\\u6240\\u8c13\\uff0c\\u51fa\\u53bb\\u4e5f\\u591f\\u6807\\u51c6\\u5c31\\u884c\\u3002\\n# \\u539f\\u59cb\\u4e2d\\u6587\\u5b57\\u7b26\\u4e32\\u548cunicode\\u683c\\u5f0f\\u7684\\u4e2d\\u6587\\u5b57\\u7b26\\u4e32\\u5bf9\\u6bd4\\n\\n\\u6682\\u65f6\\u5199\\u4e0d\\u4e0b\\u53bb\\u4e86\\uff0c\\u518d\\u8bae\\u5427\\u3002\\u3002\\u3002\\u3002\\u3002\\u3002\\u3002\\u3002\\n', u'author_association': u'OWNER', u'labels_url': u'https://api.github.com/repos/solomonxie/solomonxie.github.io/issues/9/labels{/name}', u'events_url': u'https://api.github.com/repos/solomonxie/solomonxie.github.io/issues/9/events', u'comments_url': u'https://api.github.com/repos/solomonxie/solomonxie.github.io/issues/9/comments', u'html_url': u'https://github.com/solomonxie/solomonxie.github.io/issues/9', u'number': 9, u'user': {u'following_url': u'https://api.github.com/users/solomonxie/following{/other_user}', u'gists_url': u'https://api.github.com/users/solomonxie/gists{/gist_id}', u'organizations_url': u'https://api.github.com/users/solomonxie/orgs', u'url': u'https://api.github.com/users/solomonxie', u'events_url': u'https://api.github.com/users/solomonxie/events{/privacy}', u'html_url': u'https://github.com/solomonxie', u'subscriptions_url': u'https://api.github.com/users/solomonxie/subscriptions', u'avatar_url': u'https://avatars2.githubusercontent.com/u/14041622?v=4', u'repos_url': u'https://api.github.com/users/solomonxie/repos', u'received_events_url': u'https://api.github.com/users/solomonxie/received_events', u'gravatar_id': u'', u'starred_url': u'https://api.github.com/users/solomonxie/starred{/owner}{/repo}', u'site_admin': False, u'login': u'solomonxie', u'type': u'User', u'id': 14041622, u'followers_url': u'https://api.github.com/users/solomonxie/followers'}, u'milestone': None, u'locked': False, u'url': u'https://api.github.com/repos/solomonxie/solomonxie.github.io/issues/9', u'created_at': u'2015-12-07T22:28:09Z', u'assignees': []}]\n"
     ]
    }
   ],
   "source": [
    "import json\n",
    "\n",
    "with open('./test/issues-new.json', 'r') as f:\n",
    "    issues = json.loads(f.read())\n",
    "\n",
    "print str(issues)"
   ]
  },
  {
   "cell_type": "code",
   "execution_count": null,
   "metadata": {
    "collapsed": true
   },
   "outputs": [],
   "source": []
  },
  {
   "cell_type": "code",
   "execution_count": null,
   "metadata": {
    "collapsed": true
   },
   "outputs": [],
   "source": []
  },
  {
   "cell_type": "markdown",
   "metadata": {
    "collapsed": true
   },
   "source": [
    "# 测试不同类型的字符串list列表join()后出来是什么格式的字符串"
   ]
  },
  {
   "cell_type": "code",
   "execution_count": 55,
   "metadata": {},
   "outputs": [
    {
     "data": {
      "text/plain": [
       "('\\xe4\\xbd\\xa0\\xe5\\xa5\\xbd\\n\\xe4\\xb8\\x96\\xe7\\x95\\x8c', str)"
      ]
     },
     "execution_count": 55,
     "metadata": {},
     "output_type": "execute_result"
    }
   ],
   "source": [
    "s1 = '\\n'.join( ['你好','世界'] )\n",
    "s1, type(s1)"
   ]
  },
  {
   "cell_type": "code",
   "execution_count": 54,
   "metadata": {},
   "outputs": [
    {
     "data": {
      "text/plain": [
       "(u'\\u4f60\\u597d\\n\\u4e16\\u754c', unicode)"
      ]
     },
     "execution_count": 54,
     "metadata": {},
     "output_type": "execute_result"
    }
   ],
   "source": [
    "s2 = '\\n'.join( [u'你好',u'世界'] )\n",
    "s2, type(s2)"
   ]
  },
  {
   "cell_type": "code",
   "execution_count": 56,
   "metadata": {},
   "outputs": [
    {
     "ename": "UnicodeDecodeError",
     "evalue": "'ascii' codec can't decode byte 0xe4 in position 0: ordinal not in range(128)",
     "output_type": "error",
     "traceback": [
      "\u001b[0;31m---------------------------------------------------------------------------\u001b[0m",
      "\u001b[0;31mUnicodeDecodeError\u001b[0m                        Traceback (most recent call last)",
      "\u001b[0;32m<ipython-input-56-9d1b546cb410>\u001b[0m in \u001b[0;36m<module>\u001b[0;34m()\u001b[0m\n\u001b[0;32m----> 1\u001b[0;31m \u001b[0ms3\u001b[0m \u001b[0;34m=\u001b[0m \u001b[0;34m'\\n'\u001b[0m\u001b[0;34m.\u001b[0m\u001b[0mjoin\u001b[0m\u001b[0;34m(\u001b[0m \u001b[0;34m[\u001b[0m\u001b[0;34mu'你好'\u001b[0m\u001b[0;34m,\u001b[0m\u001b[0;34m'世界'\u001b[0m\u001b[0;34m]\u001b[0m \u001b[0;34m)\u001b[0m\u001b[0;34m\u001b[0m\u001b[0m\n\u001b[0m\u001b[1;32m      2\u001b[0m \u001b[0ms3\u001b[0m\u001b[0;34m,\u001b[0m \u001b[0mtype\u001b[0m\u001b[0;34m(\u001b[0m\u001b[0ms3\u001b[0m\u001b[0;34m)\u001b[0m\u001b[0;34m\u001b[0m\u001b[0m\n",
      "\u001b[0;31mUnicodeDecodeError\u001b[0m: 'ascii' codec can't decode byte 0xe4 in position 0: ordinal not in range(128)"
     ]
    }
   ],
   "source": [
    "s3 = '\\n'.join( [u'你好','世界'] )\n",
    "s3, type(s3)"
   ]
  },
  {
   "cell_type": "code",
   "execution_count": null,
   "metadata": {
    "collapsed": true
   },
   "outputs": [],
   "source": []
  },
  {
   "cell_type": "code",
   "execution_count": null,
   "metadata": {
    "collapsed": true
   },
   "outputs": [],
   "source": []
  },
  {
   "cell_type": "code",
   "execution_count": null,
   "metadata": {
    "collapsed": true
   },
   "outputs": [],
   "source": []
  },
  {
   "cell_type": "markdown",
   "metadata": {
    "collapsed": true
   },
   "source": [
    "# 测试os.mkdir能不能覆盖已有文件夹"
   ]
  },
  {
   "cell_type": "code",
   "execution_count": 69,
   "metadata": {},
   "outputs": [
    {
     "ename": "OSError",
     "evalue": "[Errno 17] File exists: './test/doc/src'",
     "output_type": "error",
     "traceback": [
      "\u001b[0;31m---------------------------------------------------------------------------\u001b[0m",
      "\u001b[0;31mOSError\u001b[0m                                   Traceback (most recent call last)",
      "\u001b[0;32m<ipython-input-69-44d698a1458c>\u001b[0m in \u001b[0;36m<module>\u001b[0;34m()\u001b[0m\n\u001b[1;32m      2\u001b[0m \u001b[0mfolder\u001b[0m \u001b[0;34m=\u001b[0m \u001b[0;34m'./test/doc/src'\u001b[0m\u001b[0;34m\u001b[0m\u001b[0m\n\u001b[1;32m      3\u001b[0m \u001b[0;34m\u001b[0m\u001b[0m\n\u001b[0;32m----> 4\u001b[0;31m \u001b[0mos\u001b[0m\u001b[0;34m.\u001b[0m\u001b[0mmkdir\u001b[0m\u001b[0;34m(\u001b[0m\u001b[0mfolder\u001b[0m\u001b[0;34m)\u001b[0m\u001b[0;34m\u001b[0m\u001b[0m\n\u001b[0m\u001b[1;32m      5\u001b[0m \u001b[0;34m\u001b[0m\u001b[0m\n\u001b[1;32m      6\u001b[0m \u001b[0;32mwith\u001b[0m \u001b[0mopen\u001b[0m\u001b[0;34m(\u001b[0m\u001b[0;34m'%s/test.txt'\u001b[0m\u001b[0;34m%\u001b[0m\u001b[0mfolder\u001b[0m\u001b[0;34m,\u001b[0m \u001b[0;34m'w'\u001b[0m\u001b[0;34m)\u001b[0m \u001b[0;32mas\u001b[0m \u001b[0mf\u001b[0m\u001b[0;34m:\u001b[0m\u001b[0;34m\u001b[0m\u001b[0m\n",
      "\u001b[0;31mOSError\u001b[0m: [Errno 17] File exists: './test/doc/src'"
     ]
    }
   ],
   "source": [
    "import os\n",
    "folder = './test/doc/src'\n",
    "\n",
    "os.mkdir(folder)\n",
    "\n",
    "with open('%s/test.txt'%folder, 'w') as f:\n",
    "    f.write('你好')"
   ]
  },
  {
   "cell_type": "code",
   "execution_count": null,
   "metadata": {
    "collapsed": true
   },
   "outputs": [],
   "source": []
  },
  {
   "cell_type": "code",
   "execution_count": null,
   "metadata": {
    "collapsed": true
   },
   "outputs": [],
   "source": []
  },
  {
   "cell_type": "code",
   "execution_count": null,
   "metadata": {
    "collapsed": true
   },
   "outputs": [],
   "source": []
  },
  {
   "cell_type": "code",
   "execution_count": null,
   "metadata": {
    "collapsed": true
   },
   "outputs": [],
   "source": []
  },
  {
   "cell_type": "markdown",
   "metadata": {
    "collapsed": true
   },
   "source": [
    "# 测试shutil打包的路径设置问题"
   ]
  },
  {
   "cell_type": "code",
   "execution_count": 137,
   "metadata": {},
   "outputs": [
    {
     "data": {
      "text/plain": [
       "'/Volumes/SD/Downloads/output.zip'"
      ]
     },
     "execution_count": 137,
     "metadata": {},
     "output_type": "execute_result"
    }
   ],
   "source": [
    "import shutil\n",
    "shutil.make_archive(\n",
    "        base_name= '/Volumes/SD/Downloads/gitissues2018',\n",
    "        format   = 'zip',\n",
    "        root_dir = '/Volumes/SD/Workspace/autobackup/solomonxie',\n",
    "        base_dir = 'gitissues')"
   ]
  },
  {
   "cell_type": "code",
   "execution_count": null,
   "metadata": {
    "collapsed": true
   },
   "outputs": [],
   "source": []
  },
  {
   "cell_type": "code",
   "execution_count": null,
   "metadata": {
    "collapsed": true
   },
   "outputs": [],
   "source": []
  },
  {
   "cell_type": "code",
   "execution_count": null,
   "metadata": {
    "collapsed": true
   },
   "outputs": [],
   "source": []
  },
  {
   "cell_type": "markdown",
   "metadata": {
    "collapsed": true
   },
   "source": [
    "# 测试date和time的使用"
   ]
  },
  {
   "cell_type": "code",
   "execution_count": 124,
   "metadata": {},
   "outputs": [
    {
     "ename": "ValueError",
     "evalue": "unsupported format character 'H' (0x48) at index 1",
     "output_type": "error",
     "traceback": [
      "\u001b[0;31m---------------------------------------------------------------------------\u001b[0m",
      "\u001b[0;31mValueError\u001b[0m                                Traceback (most recent call last)",
      "\u001b[0;32m<ipython-input-124-b37c81cdcf00>\u001b[0m in \u001b[0;36m<module>\u001b[0;34m()\u001b[0m\n\u001b[1;32m      1\u001b[0m \u001b[0;32mfrom\u001b[0m \u001b[0mdatetime\u001b[0m \u001b[0;32mimport\u001b[0m \u001b[0mdate\u001b[0m\u001b[0;34m\u001b[0m\u001b[0m\n\u001b[1;32m      2\u001b[0m \u001b[0;31m# str( date.today() )\u001b[0m\u001b[0;34m\u001b[0m\u001b[0;34m\u001b[0m\u001b[0m\n\u001b[0;32m----> 3\u001b[0;31m \u001b[0;34m'%H'\u001b[0m\u001b[0;34m%\u001b[0m\u001b[0;34m(\u001b[0m\u001b[0mdate\u001b[0m\u001b[0;34m.\u001b[0m\u001b[0mtoday\u001b[0m\u001b[0;34m(\u001b[0m\u001b[0;34m)\u001b[0m\u001b[0;34m)\u001b[0m\u001b[0;34m\u001b[0m\u001b[0m\n\u001b[0m",
      "\u001b[0;31mValueError\u001b[0m: unsupported format character 'H' (0x48) at index 1"
     ]
    }
   ],
   "source": [
    "from datetime import date\n",
    "# str( date.today() )\n",
    "'%H'%(date.today())"
   ]
  },
  {
   "cell_type": "code",
   "execution_count": 96,
   "metadata": {},
   "outputs": [
    {
     "data": {
      "text/plain": [
       "'1518093158.81'"
      ]
     },
     "execution_count": 96,
     "metadata": {},
     "output_type": "execute_result"
    }
   ],
   "source": [
    "import time\n",
    "str( time.time() )"
   ]
  },
  {
   "cell_type": "code",
   "execution_count": null,
   "metadata": {
    "collapsed": true
   },
   "outputs": [],
   "source": []
  },
  {
   "cell_type": "code",
   "execution_count": null,
   "metadata": {
    "collapsed": true
   },
   "outputs": [],
   "source": []
  },
  {
   "cell_type": "markdown",
   "metadata": {
    "collapsed": true
   },
   "source": [
    "## 导入json文件转化为Object对象"
   ]
  },
  {
   "cell_type": "code",
   "execution_count": 6,
   "metadata": {},
   "outputs": [
    {
     "data": {
      "text/plain": [
       "u'solomonxie'"
      ]
     },
     "execution_count": 6,
     "metadata": {},
     "output_type": "execute_result"
    }
   ],
   "source": [
    "import json\n",
    "with open('config.json', 'r') as f:\n",
    "    config = json.loads( f.read() )\n",
    "    \n",
    "config['username']"
   ]
  },
  {
   "cell_type": "code",
   "execution_count": null,
   "metadata": {
    "collapsed": true
   },
   "outputs": [],
   "source": []
  },
  {
   "cell_type": "code",
   "execution_count": null,
   "metadata": {
    "collapsed": true
   },
   "outputs": [],
   "source": []
  },
  {
   "cell_type": "markdown",
   "metadata": {},
   "source": [
    "# 证明即使是从外部文件获取的字符串，%s的格式化也能使用"
   ]
  },
  {
   "cell_type": "code",
   "execution_count": 9,
   "metadata": {},
   "outputs": [
    {
     "name": "stdout",
     "output_type": "stream",
     "text": [
      "https://api.github.com/repos/solomonxie/gitissues/issues\n",
      "https://api.github.com/repos/solomonxie/gitissues/issues\n"
     ]
    }
   ],
   "source": [
    "url = 'https://api.github.com/repos/%s/%s/issues'\n",
    "\n",
    "print url%('solomonxie', 'gitissues')\n",
    "print url%(config['username'], config['repos'][0])"
   ]
  },
  {
   "cell_type": "code",
   "execution_count": null,
   "metadata": {
    "collapsed": true
   },
   "outputs": [],
   "source": []
  },
  {
   "cell_type": "code",
   "execution_count": null,
   "metadata": {
    "collapsed": true
   },
   "outputs": [],
   "source": []
  },
  {
   "cell_type": "code",
   "execution_count": null,
   "metadata": {
    "collapsed": true
   },
   "outputs": [],
   "source": []
  },
  {
   "cell_type": "markdown",
   "metadata": {
    "collapsed": true
   },
   "source": [
    "# Python 操作Git"
   ]
  },
  {
   "cell_type": "code",
   "execution_count": 2,
   "metadata": {},
   "outputs": [
    {
     "ename": "ImportError",
     "evalue": "No module named git",
     "output_type": "error",
     "traceback": [
      "\u001b[0;31m---------------------------------------------------------------------------\u001b[0m",
      "\u001b[0;31mImportError\u001b[0m                               Traceback (most recent call last)",
      "\u001b[0;32m<ipython-input-2-68a8bc045a4f>\u001b[0m in \u001b[0;36m<module>\u001b[0;34m()\u001b[0m\n\u001b[1;32m      1\u001b[0m \u001b[0;31m# 结论 ipython经常性无法导入外来包 即使已经安装好了且在别的地方可以正确导入\u001b[0m\u001b[0;34m\u001b[0m\u001b[0;34m\u001b[0m\u001b[0m\n\u001b[0;32m----> 2\u001b[0;31m \u001b[0;32mimport\u001b[0m \u001b[0mgit\u001b[0m\u001b[0;34m\u001b[0m\u001b[0m\n\u001b[0m",
      "\u001b[0;31mImportError\u001b[0m: No module named git"
     ]
    }
   ],
   "source": [
    "# 结论 ipython经常性无法导入外来包 即使已经安装好了且在别的地方可以正确导入\n",
    "import git"
   ]
  },
  {
   "cell_type": "code",
   "execution_count": 32,
   "metadata": {},
   "outputs": [
    {
     "data": {
      "text/plain": [
       "256"
      ]
     },
     "execution_count": 32,
     "metadata": {},
     "output_type": "execute_result"
    }
   ],
   "source": [
    "# 直接用系统命令行执行\n",
    "import os\n",
    "\n",
    "cwd = os.getcwd() # get a path to a git repo, such as: here.\n",
    "\n",
    "# 在别的目录执行git命令，需要加参数`-C <路径>`\n",
    "os.system('git -C %s <> status'%cwd)"
   ]
  },
  {
   "cell_type": "code",
   "execution_count": null,
   "metadata": {
    "collapsed": true
   },
   "outputs": [],
   "source": []
  },
  {
   "cell_type": "code",
   "execution_count": null,
   "metadata": {
    "collapsed": true
   },
   "outputs": [],
   "source": []
  },
  {
   "cell_type": "code",
   "execution_count": null,
   "metadata": {
    "collapsed": true
   },
   "outputs": [],
   "source": []
  },
  {
   "cell_type": "code",
   "execution_count": null,
   "metadata": {
    "collapsed": true
   },
   "outputs": [],
   "source": []
  },
  {
   "cell_type": "markdown",
   "metadata": {
    "collapsed": true
   },
   "source": [
    "# Python `requests`检查访问状态"
   ]
  },
  {
   "cell_type": "code",
   "execution_count": 3,
   "metadata": {},
   "outputs": [
    {
     "data": {
      "text/plain": [
       "200"
      ]
     },
     "execution_count": 3,
     "metadata": {},
     "output_type": "execute_result"
    }
   ],
   "source": [
    "import requests\n",
    "\n",
    "r = requests.get('http://www.baidu.com')\n",
    "\n",
    "r.status_code"
   ]
  },
  {
   "cell_type": "code",
   "execution_count": null,
   "metadata": {
    "collapsed": true
   },
   "outputs": [],
   "source": []
  },
  {
   "cell_type": "code",
   "execution_count": null,
   "metadata": {
    "collapsed": true
   },
   "outputs": [],
   "source": []
  },
  {
   "cell_type": "markdown",
   "metadata": {},
   "source": [
    "# Python `requests` 自带返回json数据的中文编码测试"
   ]
  },
  {
   "cell_type": "code",
   "execution_count": 9,
   "metadata": {},
   "outputs": [
    {
     "name": "stdout",
     "output_type": "stream",
     "text": [
      "<type 'unicode'>\n",
      "<type 'unicode'>\n"
     ]
    }
   ],
   "source": [
    "import requests, json\n",
    "\n",
    "r = requests.get('https://api.github.com/repos/solomonxie/starter-practice/issues')\n",
    "\n",
    "print type(r.json()[0]['title'])\n",
    "print type(json.loads(r.content)[0]['title'])\n",
    "\n",
    "# 事实证明结果是一样的，所以还是用requests自带的划算"
   ]
  },
  {
   "cell_type": "code",
   "execution_count": null,
   "metadata": {
    "collapsed": true
   },
   "outputs": [],
   "source": []
  },
  {
   "cell_type": "code",
   "execution_count": null,
   "metadata": {
    "collapsed": true
   },
   "outputs": [],
   "source": []
  },
  {
   "cell_type": "markdown",
   "metadata": {},
   "source": [
    "# Jupyter Notebook 无法加载新安装module的问题"
   ]
  },
  {
   "cell_type": "code",
   "execution_count": 5,
   "metadata": {},
   "outputs": [
    {
     "data": {
      "text/plain": [
       "'/Users/solomonxie/anaconda2/bin/python'"
      ]
     },
     "execution_count": 5,
     "metadata": {},
     "output_type": "execute_result"
    }
   ],
   "source": [
    "import sys\n",
    "\n",
    "sys.executable"
   ]
  },
  {
   "cell_type": "code",
   "execution_count": 4,
   "metadata": {},
   "outputs": [
    {
     "data": {
      "text/plain": [
       "'/Users/solomonxie/Library/Jupyter'"
      ]
     },
     "execution_count": 4,
     "metadata": {},
     "output_type": "execute_result"
    }
   ],
   "source": [
    "from jupyter_core.paths import jupyter_data_dir\n",
    "\n",
    "jupyter_data_dir()"
   ]
  },
  {
   "cell_type": "code",
   "execution_count": 15,
   "metadata": {},
   "outputs": [
    {
     "name": "stdout",
     "output_type": "stream",
     "text": [
      "Available kernels:\r\n",
      "  python2    /Users/solomonxie/anaconda2/share/jupyter/kernels/python2\r\n"
     ]
    }
   ],
   "source": [
    "!jupyter kernelspec list"
   ]
  },
  {
   "cell_type": "code",
   "execution_count": 17,
   "metadata": {
    "collapsed": true
   },
   "outputs": [
    {
     "name": "stdout",
     "output_type": "stream",
     "text": [
      "Fetching package metadata ...........\n",
      "Solving package specifications: .\n",
      "\n",
      "Package plan for installation in environment /Users/solomonxie/anaconda2:\n",
      "\n",
      "The following NEW packages will be INSTALLED:\n",
      "\n",
      "    git:      2.16.1-h74bb3f6_0    \n",
      "    libcurl:  7.58.0-hf30b1f0_0    \n",
      "    perl:     5.26.0-h5b8ca18_0    \n",
      "\n",
      "The following packages will be UPDATED:\n",
      "\n",
      "    anaconda: 5.0.1-py27he797f56_1  --> custom-py27h2cfa9e9_0\n",
      "    conda:    4.3.30-py27h407ed3a_0 --> 4.4.9-py27_0         \n",
      "    expat:    2.2.4-h8f26bf8_1      --> 2.2.5-hb8e80ba_0     \n",
      "    openssl:  1.0.2l-h57f3a61_2     --> 1.0.2n-hdbc3d79_0    \n",
      "    pycosat:  0.6.2-py27h085d4cc_0  --> 0.6.3-py27h6c51c7e_0 \n",
      "\n",
      "perl-5.26.0-h5 100% |################################| Time: 0:00:59 262.35 kB/s       | ETA:  0:00:28 263.15 kB/s\n",
      "openssl-1.0.2n 100% |################################| Time: 0:00:11 307.90 kB/s       | Time: 0:00:02 281.87 kB/s.2n  46% |##############                  | Time: 0:00:04 360.76 kB/sme: 0:00:07 341.81 kB/s############################   | Time: 0:00:10 312.07 kB/s\n",
      "expat-2.2.5-hb 100% |################################| Time: 0:00:00 199.87 kB/s\n",
      "libcurl-7.58.0 100% |################################| Time: 0:00:01 263.43 kB/s\n",
      "git-2.16.1-h74 100% |################################| Time: 0:00:49 251.25 kB/s       | Time: 0:00:03 263.97 kB/sh74  13% |####                            | Time: 0:00:06 245.27 kB/sme: 0:00:10 244.71 kB/s#######                        | Time: 0:00:13 245.37 kB/s 255.04 kB/s                    | Time: 0:00:20 244.09 kB/ss         | Time: 0:00:26 247.07 kB/s1-h74  59% |###################             | Time: 0:00:29 248.97 kB/sTime: 0:00:33 247.80 kB/s|#######################         | Time: 0:00:36 246.27 kB/s.56 kB/s40 246.18 kB/s#################     | Time: 0:00:43 245.71 kB/st-2.16.1-h74  88% |############################    | Time: 0:00:44 245.94 kB/sB/s########## | Time: 0:00:49 250.90 kB/s\n",
      "anaconda-custo 100% |################################| Time: 0:00:00   1.50 MB/s\n",
      "pycosat-0.6.3- 100% |################################| Time: 0:00:00 419.81 kB/s\n",
      "conda-4.4.9-py 100% |################################| Time: 0:00:02 330.64 kB/s##     | Time: 0:00:02 336.46 kB/s\n"
     ]
    }
   ],
   "source": [
    "!conda install --yes git"
   ]
  },
  {
   "cell_type": "code",
   "execution_count": 1,
   "metadata": {},
   "outputs": [
    {
     "ename": "ImportError",
     "evalue": "No module named git",
     "output_type": "error",
     "traceback": [
      "\u001b[0;31m---------------------------------------------------------------------------\u001b[0m",
      "\u001b[0;31mImportError\u001b[0m                               Traceback (most recent call last)",
      "\u001b[0;32m<ipython-input-1-6e2aff111637>\u001b[0m in \u001b[0;36m<module>\u001b[0;34m()\u001b[0m\n\u001b[0;32m----> 1\u001b[0;31m \u001b[0;32mimport\u001b[0m \u001b[0mgit\u001b[0m\u001b[0;34m\u001b[0m\u001b[0m\n\u001b[0m",
      "\u001b[0;31mImportError\u001b[0m: No module named git"
     ]
    }
   ],
   "source": [
    "import git"
   ]
  },
  {
   "cell_type": "code",
   "execution_count": null,
   "metadata": {
    "collapsed": true
   },
   "outputs": [],
   "source": []
  },
  {
   "cell_type": "code",
   "execution_count": null,
   "metadata": {
    "collapsed": true
   },
   "outputs": [],
   "source": []
  },
  {
   "cell_type": "code",
   "execution_count": null,
   "metadata": {
    "collapsed": true
   },
   "outputs": [],
   "source": []
  },
  {
   "cell_type": "markdown",
   "metadata": {},
   "source": [
    "# 通过对比每条issue的更新日期来比对是否有变化"
   ]
  },
  {
   "cell_type": "code",
   "execution_count": 9,
   "metadata": {
    "collapsed": true
   },
   "outputs": [],
   "source": [
    "import json\n",
    "\n",
    "with open('./test/issues-new.json', 'r') as f:\n",
    "    issues1 = json.loads(f.read())\n",
    "with open('./test/issues-new.json', 'r') as f:\n",
    "    issues2 = json.loads(f.read())\n",
    "with open('./test/issues-old.json', 'r') as f:\n",
    "    issues3 = json.loads(f.read())\n",
    "\n",
    "updates1 = [iss['updated_at'] for iss in issues1]\n",
    "updates2 = [iss['updated_at'] for iss in issues2]\n",
    "updates3 = [iss['updated_at'] for iss in issues1]"
   ]
  },
  {
   "cell_type": "code",
   "execution_count": 37,
   "metadata": {},
   "outputs": [
    {
     "name": "stdout",
     "output_type": "stream",
     "text": [
      "False\n",
      "False\n"
     ]
    }
   ],
   "source": [
    "# new vs. old one with same content\n",
    "st = set(updates1+updates2)\n",
    "\n",
    "for u in updates1:\n",
    "    if u not in updates2:\n",
    "        print 'Failure: [%s]'%u\n",
    "        \n",
    "print updates1 is updates2\n",
    "print issues1 is issues2"
   ]
  },
  {
   "cell_type": "code",
   "execution_count": 39,
   "metadata": {},
   "outputs": [
    {
     "name": "stdout",
     "output_type": "stream",
     "text": [
      "Failure: [2018-02-12T12:44:26Z]\n",
      "False\n",
      "False\n"
     ]
    }
   ],
   "source": [
    "# new vs. old one with different content\n",
    "st2 = set(updates1+updates3)\n",
    "\n",
    "for u in updates1:\n",
    "    if u not in updates3:\n",
    "        print 'Failure: [%s]'%u\n",
    "        \n",
    "print updates1 is updates3\n",
    "print issues1 is issues3"
   ]
  },
  {
   "cell_type": "code",
   "execution_count": 42,
   "metadata": {},
   "outputs": [
    {
     "name": "stdout",
     "output_type": "stream",
     "text": [
      "set([])\n",
      "set([u'2018-02-12T12:44:26Z'])\n"
     ]
    }
   ],
   "source": [
    "# operation between sets of strings\n",
    "ud1 = set(updates1)\n",
    "ud2 = set(updates2)\n",
    "ud3 = set(updates3)\n",
    "\n",
    "print ud1 - ud2\n",
    "print ud1 - ud3"
   ]
  },
  {
   "cell_type": "code",
   "execution_count": 46,
   "metadata": {},
   "outputs": [
    {
     "ename": "TypeError",
     "evalue": "unhashable type: 'dict'",
     "output_type": "error",
     "traceback": [
      "\u001b[0;31m---------------------------------------------------------------------------\u001b[0m",
      "\u001b[0;31mTypeError\u001b[0m                                 Traceback (most recent call last)",
      "\u001b[0;32m<ipython-input-46-a160eae6cd93>\u001b[0m in \u001b[0;36m<module>\u001b[0;34m()\u001b[0m\n\u001b[0;32m----> 1\u001b[0;31m \u001b[0miss1\u001b[0m \u001b[0;34m=\u001b[0m \u001b[0mset\u001b[0m\u001b[0;34m(\u001b[0m\u001b[0missues1\u001b[0m\u001b[0;34m+\u001b[0m\u001b[0missues2\u001b[0m\u001b[0;34m)\u001b[0m\u001b[0;34m\u001b[0m\u001b[0m\n\u001b[0m",
      "\u001b[0;31mTypeError\u001b[0m: unhashable type: 'dict'"
     ]
    }
   ],
   "source": [
    "# can't combine two whole json object lists\n",
    "iss1 = set(issues1+issues2)"
   ]
  },
  {
   "cell_type": "code",
   "execution_count": 19,
   "metadata": {
    "collapsed": true
   },
   "outputs": [],
   "source": [
    "import json\n",
    "\n",
    "with open('./test/issues-new.json', 'r') as f:\n",
    "    new = json.loads(f.read())\n",
    "with open('./test/issues-old.json', 'r') as f:\n",
    "    old = json.loads(f.read())"
   ]
  },
  {
   "cell_type": "code",
   "execution_count": 22,
   "metadata": {},
   "outputs": [
    {
     "name": "stdout",
     "output_type": "stream",
     "text": [
      "[42, 38]\n",
      "[40]\n"
     ]
    }
   ],
   "source": [
    "# filter out updated items from deleted items\n",
    "\n",
    "updates = [n['number'] for n in new if n not in old]\n",
    "deletes = [o['number'] for o in old if o not in new and o['number'] not in updates]\n",
    "\n",
    "print updates\n",
    "print deletes"
   ]
  },
  {
   "cell_type": "code",
   "execution_count": null,
   "metadata": {
    "collapsed": true
   },
   "outputs": [],
   "source": []
  },
  {
   "cell_type": "code",
   "execution_count": null,
   "metadata": {
    "collapsed": true
   },
   "outputs": [],
   "source": []
  },
  {
   "cell_type": "markdown",
   "metadata": {},
   "source": [
    "# Set集的对比和运算"
   ]
  },
  {
   "cell_type": "code",
   "execution_count": 75,
   "metadata": {},
   "outputs": [
    {
     "name": "stdout",
     "output_type": "stream",
     "text": [
      "set([3.1, 6, 7])\n",
      "set([3, 4])\n",
      "These need to be retrieved from internet: set([3.1, 6, 7])\n",
      "These need to be deleted from local: set([3, 4])\n"
     ]
    }
   ],
   "source": [
    "# I want to get all changes in the NEW, which should be [3.1, 4, 6, 7]\n",
    "old = [1,2,3,4,5]           # 5 articles in total\n",
    "new = [1,2,3.1,5,6,7,3.1]   # updated no.3, deleted no.4, anded no.6 and no.7\n",
    "\n",
    "olds = set(old)\n",
    "news = set(new)\n",
    "\n",
    "print news - olds   # `only` get all added items\n",
    "print olds - news   # `only` get all deleted items\n",
    "\n",
    "print 'These need to be retrieved from internet: %s'%str(news-olds)\n",
    "print 'These need to be deleted from local: %s'%str(olds-news)"
   ]
  },
  {
   "cell_type": "code",
   "execution_count": null,
   "metadata": {
    "collapsed": true
   },
   "outputs": [],
   "source": []
  },
  {
   "cell_type": "code",
   "execution_count": null,
   "metadata": {
    "collapsed": true
   },
   "outputs": [],
   "source": []
  },
  {
   "cell_type": "code",
   "execution_count": null,
   "metadata": {
    "collapsed": true
   },
   "outputs": [],
   "source": []
  },
  {
   "cell_type": "markdown",
   "metadata": {},
   "source": [
    "## JSON对象的对比和运算"
   ]
  },
  {
   "cell_type": "code",
   "execution_count": 55,
   "metadata": {},
   "outputs": [
    {
     "data": {
      "text/plain": [
       "[{'d': '5', 'e': '6', 'f': '7', 'g': '8'}]"
      ]
     },
     "execution_count": 55,
     "metadata": {},
     "output_type": "execute_result"
    }
   ],
   "source": [
    "j1 = {\"a\":\"1\",\"b\":\"2\",\"c\":\"3\",\"d\":\"4\"}\n",
    "j2 = {\"d\":\"5\",\"e\":\"6\",\"f\":\"7\",\"g\":\"8\"}\n",
    "arr = [j1,j2]\n",
    "\n",
    "arr.remove(j1)\n",
    "arr"
   ]
  },
  {
   "cell_type": "code",
   "execution_count": null,
   "metadata": {
    "collapsed": true
   },
   "outputs": [],
   "source": []
  },
  {
   "cell_type": "code",
   "execution_count": null,
   "metadata": {
    "collapsed": true
   },
   "outputs": [],
   "source": []
  },
  {
   "cell_type": "code",
   "execution_count": null,
   "metadata": {
    "collapsed": true
   },
   "outputs": [],
   "source": []
  },
  {
   "cell_type": "code",
   "execution_count": null,
   "metadata": {
    "collapsed": true
   },
   "outputs": [],
   "source": []
  },
  {
   "cell_type": "markdown",
   "metadata": {
    "collapsed": true
   },
   "source": [
    "# try...catch.. 异常捕获"
   ]
  },
  {
   "cell_type": "code",
   "execution_count": 26,
   "metadata": {},
   "outputs": [
    {
     "ename": "NameError",
     "evalue": "name 'hello' is not defined",
     "output_type": "error",
     "traceback": [
      "\u001b[0;31m---------------------------------------------------------------------------\u001b[0m",
      "\u001b[0;31mNameError\u001b[0m                                 Traceback (most recent call last)",
      "\u001b[0;32m<ipython-input-26-002abb0b550d>\u001b[0m in \u001b[0;36m<module>\u001b[0;34m()\u001b[0m\n\u001b[0;32m----> 1\u001b[0;31m \u001b[0mhello\u001b[0m\u001b[0;34m(\u001b[0m\u001b[0;34m'hi'\u001b[0m\u001b[0;34m)\u001b[0m\u001b[0;34m\u001b[0m\u001b[0m\n\u001b[0m",
      "\u001b[0;31mNameError\u001b[0m: name 'hello' is not defined"
     ]
    }
   ],
   "source": [
    "hello('hi')"
   ]
  },
  {
   "cell_type": "code",
   "execution_count": 47,
   "metadata": {
    "scrolled": true
   },
   "outputs": [
    {
     "name": "stdout",
     "output_type": "stream",
     "text": [
      "something wrong.\n"
     ]
    }
   ],
   "source": [
    "try:\n",
    "    hello('hi')    # there's no such thing as hello()\n",
    "except:\n",
    "    print 'something wrong.'"
   ]
  },
  {
   "cell_type": "code",
   "execution_count": 45,
   "metadata": {},
   "outputs": [
    {
     "name": "stdout",
     "output_type": "stream",
     "text": [
      "name 'hello' is not defined \n",
      "\n",
      "e.message:\n",
      "name 'hello' is not defined\n"
     ]
    },
    {
     "name": "stderr",
     "output_type": "stream",
     "text": [
      "/Users/solomonxie/anaconda2/lib/python2.7/site-packages/ipykernel_launcher.py:6: DeprecationWarning: BaseException.message has been deprecated as of Python 2.6\n",
      "  \n"
     ]
    }
   ],
   "source": [
    "try:\n",
    "    hello('hi')\n",
    "except Exception as e:     # try to catch the error and print\n",
    "    print str(e), '\\n'\n",
    "    \n",
    "    print 'e.message:\\n' + e.message"
   ]
  },
  {
   "cell_type": "code",
   "execution_count": 20,
   "metadata": {},
   "outputs": [
    {
     "name": "stdout",
     "output_type": "stream",
     "text": [
      "something wrong.\n"
     ]
    }
   ],
   "source": [
    "try:\n",
    "    hello('hi')\n",
    "except:\n",
    "    pass          # does anything run after \"pass\"? yes\n",
    "    print 'something wrong.'"
   ]
  },
  {
   "cell_type": "code",
   "execution_count": 18,
   "metadata": {},
   "outputs": [
    {
     "name": "stdout",
     "output_type": "stream",
     "text": [
      "10 0\n"
     ]
    }
   ],
   "source": [
    "i=0\n",
    "j=0\n",
    "while i < 10: \n",
    "    try:\n",
    "        i+=1\n",
    "        hello('hi')\n",
    "        j+=1\n",
    "    except:\n",
    "        continue    # continue loop works\n",
    "\n",
    "print i, j"
   ]
  },
  {
   "cell_type": "code",
   "execution_count": null,
   "metadata": {
    "collapsed": true
   },
   "outputs": [],
   "source": []
  },
  {
   "cell_type": "code",
   "execution_count": null,
   "metadata": {
    "collapsed": true
   },
   "outputs": [],
   "source": []
  },
  {
   "cell_type": "markdown",
   "metadata": {},
   "source": [
    "# Python 获取系统参数"
   ]
  },
  {
   "cell_type": "code",
   "execution_count": 51,
   "metadata": {},
   "outputs": [
    {
     "name": "stdout",
     "output_type": "stream",
     "text": [
      "['/Users/solomonxie/anaconda2/lib/python2.7/site-packages/ipykernel_launcher.py', '-f', '/Users/solomonxie/Library/Jupyter/runtime/kernel-ec07c562-af40-4ece-9638-9648f58f6279.json']\n",
      "-f\n"
     ]
    }
   ],
   "source": [
    "import sys\n",
    "\n",
    "# 输出文件名\n",
    "print sys.argv\n",
    "\n",
    "# 输出第一个参数: 文件路径\n",
    "print sys.argv[1]"
   ]
  },
  {
   "cell_type": "code",
   "execution_count": null,
   "metadata": {
    "collapsed": true
   },
   "outputs": [],
   "source": []
  },
  {
   "cell_type": "code",
   "execution_count": null,
   "metadata": {
    "collapsed": true
   },
   "outputs": [],
   "source": []
  },
  {
   "cell_type": "markdown",
   "metadata": {},
   "source": [
    "# Python Logging 日志记录"
   ]
  },
  {
   "cell_type": "code",
   "execution_count": 58,
   "metadata": {},
   "outputs": [
    {
     "name": "stderr",
     "output_type": "stream",
     "text": [
      "ERROR:root:出现了错误\n",
      "WARNING:root:警告信息\n"
     ]
    }
   ],
   "source": [
    "# 最简单的日志记录\n",
    "import logging\n",
    "\n",
    "logging.info(\"打印信息\")\n",
    "logging.error(\"出现了错误\")\n",
    "logging.warning(\"警告信息\")\n",
    "\n",
    "# 低于warning等级的info被忽略了"
   ]
  },
  {
   "cell_type": "code",
   "execution_count": 81,
   "metadata": {},
   "outputs": [
    {
     "name": "stderr",
     "output_type": "stream",
     "text": [
      "ERROR:root:出现了错误\n",
      "WARNING:root:警告信息\n"
     ]
    }
   ],
   "source": [
    "# 设置日志的等级（控制哪种信息会被记录）\n",
    "import logging\n",
    " \n",
    "logging.basicConfig(level=logging.INFO)\n",
    "logging.info(\"打印信息\")\n",
    "logging.error(\"出现了错误\")\n",
    "logging.warning(\"警告信息\")\n",
    "\n",
    "# 不低于Info等级的信息都被记录了(Jupyter的问题没有显示出来)"
   ]
  },
  {
   "cell_type": "code",
   "execution_count": 69,
   "metadata": {},
   "outputs": [
    {
     "name": "stderr",
     "output_type": "stream",
     "text": [
      "ERROR:root:出现了错误\n",
      "WARNING:root:警告信息\n"
     ]
    },
    {
     "name": "stdout",
     "output_type": "stream",
     "text": [
      "cat: test.log: No such file or directory\r\n"
     ]
    }
   ],
   "source": [
    "# 保持到文件的日志记录\n",
    "import logging\n",
    " \n",
    "logging.basicConfig(level=logging.INFO,filename='test.log')\n",
    "logging.error(\"出现了错误\")\n",
    "logging.info(\"打印信息\")\n",
    "logging.warning(\"警告信息\")\n",
    "\n",
    "# 文件被保存到了test.log文件 (Jupyter的问题没有显示出来)\n",
    "!cat test.log"
   ]
  },
  {
   "cell_type": "code",
   "execution_count": 10,
   "metadata": {
    "collapsed": true
   },
   "outputs": [],
   "source": [
    "import logging\n",
    "\n",
    "logging.basicConfig(level=logging.INFO)\n",
    "\n",
    "logger = logging.getLogger('example')\n",
    "\n",
    "logger.error(\"出现了错误\")\n",
    "logger.info(\"打印信息\")\n",
    "logger.warning(\"警告信息\")"
   ]
  },
  {
   "cell_type": "code",
   "execution_count": null,
   "metadata": {
    "collapsed": true
   },
   "outputs": [],
   "source": []
  },
  {
   "cell_type": "code",
   "execution_count": null,
   "metadata": {
    "collapsed": true
   },
   "outputs": [],
   "source": []
  },
  {
   "cell_type": "markdown",
   "metadata": {
    "collapsed": true
   },
   "source": [
    "# 两个数组对比 (配对消除法)"
   ]
  },
  {
   "cell_type": "code",
   "execution_count": 37,
   "metadata": {},
   "outputs": [
    {
     "name": "stdout",
     "output_type": "stream",
     "text": [
      "[5] [3]\n"
     ]
    }
   ],
   "source": [
    "new = [1,2,  4, 5]\n",
    "old = [1,2,3,4]\n",
    "\n",
    "updates = []  # should have 5 updated\n",
    "deletes = []  # should have 3 deleted\n",
    "\n",
    "# pick item not exists in old list (means added)\n",
    "for n in new:\n",
    "    if n not in old:\n",
    "        updates.append(n)\n",
    "\n",
    "# pick item not exists in new list (means deleted)\n",
    "for o in old:\n",
    "    if o not in new:\n",
    "        deletes.append(o)\n",
    "\n",
    "print updates, deletes"
   ]
  },
  {
   "cell_type": "code",
   "execution_count": 38,
   "metadata": {},
   "outputs": [
    {
     "name": "stdout",
     "output_type": "stream",
     "text": [
      "[5] [3]\n"
     ]
    }
   ],
   "source": [
    "# same results with more pythonic way\n",
    "new = [1,2,  4, 5]\n",
    "old = [1,2,3,4]\n",
    "\n",
    "updates = [n for n in new if n not in old]  # should have 5 added\n",
    "deletes = [o for o in old if o not in new]  # should have 3 deleted\n",
    "\n",
    "print updates, deletes"
   ]
  },
  {
   "cell_type": "code",
   "execution_count": 40,
   "metadata": {},
   "outputs": [
    {
     "name": "stdout",
     "output_type": "stream",
     "text": [
      "[{'updated': '4', 'title': '4th article'}]\n",
      "[{'updated': '2', 'title': '2nd article'}]\n"
     ]
    }
   ],
   "source": [
    "# deal with list within objects\n",
    "new = [{'title':'1st article', 'updated':'1'},{'title':'3rd article', 'updated':'3'},{'title':'4th article', 'updated':'4'}]\n",
    "old = [{'title':'1st article', 'updated':'1'},{'title':'2nd article', 'updated':'2'},{'title':'3rd article', 'updated':'3'}]\n",
    "\n",
    "updates = [n for n in new if n not in old]   # should have 4th article added\n",
    "deletes = [o for o in old if o not in new]   # should have 2nd article deleted\n",
    "\n",
    "print updates\n",
    "print deletes"
   ]
  },
  {
   "cell_type": "code",
   "execution_count": 55,
   "metadata": {},
   "outputs": [
    {
     "name": "stdout",
     "output_type": "stream",
     "text": [
      "updated [API 数据操作实践] at 2019-02-09T05:47:24Z.\n",
      "deleted [API 数据操作实践] at 2018-02-09T05:47:24Z\n",
      "deleted [Linear Algebra from the ground up] at 2018-02-09T05:47:44Z\n"
     ]
    }
   ],
   "source": [
    "# deal with json files\n",
    "import json\n",
    "\n",
    "with open('./test/issues-new.json', 'r') as f:\n",
    "    new = json.loads(f.read())\n",
    "with open('./test/issues-old-different.json', 'r') as f:\n",
    "    old = json.loads(f.read())\n",
    "\n",
    "updates = [n for n in new if n not in old]\n",
    "deletes = [o for o in old if o not in new]\n",
    "\n",
    "for up in updates:\n",
    "    print 'updated [%s] at %s.'%(up['title'], up['updated_at'])\n",
    "\n",
    "for d in deletes:\n",
    "    print 'deleted [%s] at %s'%(d['title'], d['updated_at'])"
   ]
  },
  {
   "cell_type": "code",
   "execution_count": 43,
   "metadata": {},
   "outputs": [
    {
     "name": "stdout",
     "output_type": "stream",
     "text": [
      "[2, 3, 4]\n"
     ]
    }
   ],
   "source": [
    "new = [1,2,3,4]\n",
    "\n",
    "del new[0]\n",
    "\n",
    "print new"
   ]
  },
  {
   "cell_type": "code",
   "execution_count": null,
   "metadata": {
    "collapsed": true
   },
   "outputs": [],
   "source": []
  },
  {
   "cell_type": "code",
   "execution_count": null,
   "metadata": {
    "collapsed": true
   },
   "outputs": [],
   "source": []
  },
  {
   "cell_type": "markdown",
   "metadata": {
    "collapsed": true
   },
   "source": [
    "# Linux `date` command"
   ]
  },
  {
   "cell_type": "code",
   "execution_count": 19,
   "metadata": {},
   "outputs": [
    {
     "name": "stdout",
     "output_type": "stream",
     "text": [
      "Fri 16 Feb 2018 02:00:43 CST\n",
      "Fri 16 Feb 02:00:43 2018\n",
      "2018-02-15T18:00:43Z\n",
      "2018-02-15\n",
      "18.00.43\n",
      "2018-02-15.18.00.43\n"
     ]
    }
   ],
   "source": [
    "!date\n",
    "!date +\"%c\"\n",
    "!date -u +\"%Y-%m-%dT%H:%M:%SZ\"\n",
    "!date -u +\"%Y-%m-%d\"\n",
    "!date -u +\"%H.%M.%S\"\n",
    "!date -u +\"%F.%H.%M.%S\""
   ]
  },
  {
   "cell_type": "code",
   "execution_count": null,
   "metadata": {
    "collapsed": true
   },
   "outputs": [],
   "source": []
  },
  {
   "cell_type": "code",
   "execution_count": null,
   "metadata": {
    "collapsed": true
   },
   "outputs": [],
   "source": []
  },
  {
   "cell_type": "markdown",
   "metadata": {},
   "source": [
    "# 返回当前目录"
   ]
  },
  {
   "cell_type": "code",
   "execution_count": 12,
   "metadata": {},
   "outputs": [
    {
     "name": "stdout",
     "output_type": "stream",
     "text": [
      "/Volumes/SD/Workspace/repos/gitissues\n",
      "/Users/solomonxie/anaconda2/lib/python2.7/site-packages/ipykernel_launcher.py\n",
      "/Users/solomonxie/anaconda2/lib/python2.7/site-packages\n"
     ]
    }
   ],
   "source": [
    "import os\n",
    "import sys\n",
    "\n",
    "print os.getcwd()                     # 返回执行当前文件的命令行工作区\n",
    "\n",
    "print sys.argv[0]                     # 返回当前脚本完整路径，比`__file__`可靠\n",
    "\n",
    "print os.path.dirname(sys.argv[0])    # 返回当前脚本所在目录\n"
   ]
  },
  {
   "cell_type": "code",
   "execution_count": 11,
   "metadata": {},
   "outputs": [
    {
     "ename": "NameError",
     "evalue": "name '__file__' is not defined",
     "output_type": "error",
     "traceback": [
      "\u001b[0;31m---------------------------------------------------------------------------\u001b[0m",
      "\u001b[0;31mNameError\u001b[0m                                 Traceback (most recent call last)",
      "\u001b[0;32m<ipython-input-11-4693195ff75d>\u001b[0m in \u001b[0;36m<module>\u001b[0;34m()\u001b[0m\n\u001b[0;32m----> 1\u001b[0;31m \u001b[0m__file__\u001b[0m     \u001b[0;31m# ipython里不同于直接运行，__file__是没有被定义的\u001b[0m\u001b[0;34m\u001b[0m\u001b[0m\n\u001b[0m",
      "\u001b[0;31mNameError\u001b[0m: name '__file__' is not defined"
     ]
    }
   ],
   "source": [
    "__file__     # ipython里不同于直接运行，__file__是没有被定义的"
   ]
  },
  {
   "cell_type": "code",
   "execution_count": null,
   "metadata": {
    "collapsed": true
   },
   "outputs": [],
   "source": []
  },
  {
   "cell_type": "code",
   "execution_count": null,
   "metadata": {
    "collapsed": true
   },
   "outputs": [],
   "source": []
  },
  {
   "cell_type": "markdown",
   "metadata": {
    "collapsed": true
   },
   "source": [
    "# python执行命令行获取输出内容"
   ]
  },
  {
   "cell_type": "code",
   "execution_count": 14,
   "metadata": {},
   "outputs": [
    {
     "name": "stdout",
     "output_type": "stream",
     "text": [
      "\n",
      "fatal: could not read Username for 'https://github.com': Device not configured\n",
      "\n"
     ]
    }
   ],
   "source": [
    "# 方法一：subprocess\n",
    "import subprocess\n",
    "\n",
    "p = subprocess.Popen(['git', 'push'], stdout=subprocess.PIPE,\n",
    "                                      stderr=subprocess.PIPE)\n",
    "out, err = p.communicate()\n",
    "\n",
    "print out\n",
    "print err\n",
    "# 结论：完全可以捕捉stdout和stderr"
   ]
  },
  {
   "cell_type": "code",
   "execution_count": 22,
   "metadata": {},
   "outputs": [
    {
     "name": "stdout",
     "output_type": "stream",
     "text": [
      "On branch master\n",
      "Your branch is up to date with 'origin/master'.\n",
      "\n",
      "Changes not staged for commit:\n",
      "  (use \"git add <file>...\" to update what will be committed)\n",
      "  (use \"git checkout -- <file>...\" to discard changes in working directory)\n",
      "\n",
      "\tmodified:   main.py\n",
      "\tmodified:   notes-gitissues.ipynb\n",
      "\n",
      "no changes added to commit (use \"git add\" and/or \"git commit -a\")\n",
      "\n"
     ]
    }
   ],
   "source": [
    "# 方法二：os.popen()\n",
    "import os\n",
    "\n",
    "with os.popen('git status') as p:\n",
    "    print p.read()\n",
    "\n",
    "# 结论：只能捕捉到stdout"
   ]
  },
  {
   "cell_type": "code",
   "execution_count": 24,
   "metadata": {},
   "outputs": [
    {
     "name": "stdout",
     "output_type": "stream",
     "text": [
      "fatal: could not read Username for 'https://github.com': Device not configured\n",
      "\n"
     ]
    }
   ],
   "source": [
    "# 方法二：os.popen()取巧\n",
    "import os\n",
    "\n",
    "with os.popen('git push 2>&1') as p:\n",
    "    print p.read()\n",
    "\n",
    "# 结论：由于2>&1合流，就可以同时捕捉到stdout和stderr了"
   ]
  },
  {
   "cell_type": "code",
   "execution_count": null,
   "metadata": {
    "collapsed": true
   },
   "outputs": [],
   "source": []
  },
  {
   "cell_type": "code",
   "execution_count": null,
   "metadata": {
    "collapsed": true
   },
   "outputs": [],
   "source": []
  },
  {
   "cell_type": "code",
   "execution_count": null,
   "metadata": {
    "collapsed": true
   },
   "outputs": [],
   "source": []
  },
  {
   "cell_type": "code",
   "execution_count": null,
   "metadata": {
    "collapsed": true
   },
   "outputs": [],
   "source": []
  },
  {
   "cell_type": "code",
   "execution_count": null,
   "metadata": {
    "collapsed": true
   },
   "outputs": [],
   "source": []
  },
  {
   "cell_type": "code",
   "execution_count": null,
   "metadata": {
    "collapsed": true
   },
   "outputs": [],
   "source": []
  }
 ],
 "metadata": {
  "kernelspec": {
   "display_name": "Python 2",
   "language": "python",
   "name": "python2"
  },
  "language_info": {
   "codemirror_mode": {
    "name": "ipython",
    "version": 2
   },
   "file_extension": ".py",
   "mimetype": "text/x-python",
   "name": "python",
   "nbconvert_exporter": "python",
   "pygments_lexer": "ipython2",
   "version": "2.7.14"
  }
 },
 "nbformat": 4,
 "nbformat_minor": 2
}
